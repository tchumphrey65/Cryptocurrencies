{
 "cells": [
  {
   "cell_type": "markdown",
   "metadata": {},
   "source": [
    "# Clustering Crypto"
   ]
  },
  {
   "cell_type": "code",
   "execution_count": 79,
   "metadata": {},
   "outputs": [],
   "source": [
    "# Initial imports\n",
    "import pandas as pd\n",
    "import hvplot.pandas\n",
    "from path import Path\n",
    "import plotly.express as px\n",
    "from sklearn.preprocessing import StandardScaler, MinMaxScaler\n",
    "from sklearn.decomposition import PCA\n",
    "from sklearn.cluster import KMeans\n"
   ]
  },
  {
   "cell_type": "markdown",
   "metadata": {},
   "source": [
    "### Deliverable 1: Preprocessing the Data for PCA"
   ]
  },
  {
   "cell_type": "code",
   "execution_count": 133,
   "metadata": {},
   "outputs": [
    {
     "data": {
      "text/html": [
       "<div>\n",
       "<style scoped>\n",
       "    .dataframe tbody tr th:only-of-type {\n",
       "        vertical-align: middle;\n",
       "    }\n",
       "\n",
       "    .dataframe tbody tr th {\n",
       "        vertical-align: top;\n",
       "    }\n",
       "\n",
       "    .dataframe thead th {\n",
       "        text-align: right;\n",
       "    }\n",
       "</style>\n",
       "<table border=\"1\" class=\"dataframe\">\n",
       "  <thead>\n",
       "    <tr style=\"text-align: right;\">\n",
       "      <th></th>\n",
       "      <th>Unnamed: 0</th>\n",
       "      <th>CoinName</th>\n",
       "      <th>Algorithm</th>\n",
       "      <th>IsTrading</th>\n",
       "      <th>ProofType</th>\n",
       "      <th>TotalCoinsMined</th>\n",
       "      <th>TotalCoinSupply</th>\n",
       "    </tr>\n",
       "  </thead>\n",
       "  <tbody>\n",
       "    <tr>\n",
       "      <th>37</th>\n",
       "      <td>ARG</td>\n",
       "      <td>Argentum</td>\n",
       "      <td>Scrypt</td>\n",
       "      <td>True</td>\n",
       "      <td>PoW</td>\n",
       "      <td>1.220580e+07</td>\n",
       "      <td>64000000</td>\n",
       "    </tr>\n",
       "    <tr>\n",
       "      <th>1013</th>\n",
       "      <td>XT3</td>\n",
       "      <td>Xt3ch</td>\n",
       "      <td>Scrypt</td>\n",
       "      <td>True</td>\n",
       "      <td>PoS</td>\n",
       "      <td>7.630000e+06</td>\n",
       "      <td>44000000</td>\n",
       "    </tr>\n",
       "    <tr>\n",
       "      <th>896</th>\n",
       "      <td>VAL</td>\n",
       "      <td>Valorbit</td>\n",
       "      <td>Scrypt</td>\n",
       "      <td>True</td>\n",
       "      <td>PoW/PoS</td>\n",
       "      <td>0.000000e+00</td>\n",
       "      <td>92233720000000000</td>\n",
       "    </tr>\n",
       "    <tr>\n",
       "      <th>95</th>\n",
       "      <td>FRK</td>\n",
       "      <td>Franko</td>\n",
       "      <td>Scrypt</td>\n",
       "      <td>True</td>\n",
       "      <td>PoW</td>\n",
       "      <td>1.142732e+06</td>\n",
       "      <td>11235813</td>\n",
       "    </tr>\n",
       "    <tr>\n",
       "      <th>615</th>\n",
       "      <td>PTA</td>\n",
       "      <td>PentaCoin</td>\n",
       "      <td>SHA-256</td>\n",
       "      <td>True</td>\n",
       "      <td>PoW/PoS</td>\n",
       "      <td>NaN</td>\n",
       "      <td>1311955</td>\n",
       "    </tr>\n",
       "    <tr>\n",
       "      <th>172</th>\n",
       "      <td>SRC</td>\n",
       "      <td>SecureCoin</td>\n",
       "      <td>Scrypt</td>\n",
       "      <td>True</td>\n",
       "      <td>PoW</td>\n",
       "      <td>0.000000e+00</td>\n",
       "      <td>21000000</td>\n",
       "    </tr>\n",
       "    <tr>\n",
       "      <th>468</th>\n",
       "      <td>UBIQ</td>\n",
       "      <td>Ubiqoin</td>\n",
       "      <td>Progressive-n</td>\n",
       "      <td>True</td>\n",
       "      <td>PoS</td>\n",
       "      <td>NaN</td>\n",
       "      <td>500000000</td>\n",
       "    </tr>\n",
       "    <tr>\n",
       "      <th>592</th>\n",
       "      <td>XNG</td>\n",
       "      <td>Enigma</td>\n",
       "      <td>X11</td>\n",
       "      <td>True</td>\n",
       "      <td>PoW/PoS</td>\n",
       "      <td>8.146710e+05</td>\n",
       "      <td>5000000</td>\n",
       "    </tr>\n",
       "    <tr>\n",
       "      <th>530</th>\n",
       "      <td>DKC</td>\n",
       "      <td>DarkKnightCoin</td>\n",
       "      <td>Scrypt</td>\n",
       "      <td>True</td>\n",
       "      <td>PoW/PoS</td>\n",
       "      <td>NaN</td>\n",
       "      <td>24000000</td>\n",
       "    </tr>\n",
       "    <tr>\n",
       "      <th>1000</th>\n",
       "      <td>AMX</td>\n",
       "      <td>Amero</td>\n",
       "      <td>NeoScrypt</td>\n",
       "      <td>True</td>\n",
       "      <td>PoW/PoS</td>\n",
       "      <td>NaN</td>\n",
       "      <td>15000000</td>\n",
       "    </tr>\n",
       "    <tr>\n",
       "      <th>385</th>\n",
       "      <td>BOLI</td>\n",
       "      <td>BolivarCoin</td>\n",
       "      <td>X11</td>\n",
       "      <td>True</td>\n",
       "      <td>PoW</td>\n",
       "      <td>1.365408e+07</td>\n",
       "      <td>25000000</td>\n",
       "    </tr>\n",
       "    <tr>\n",
       "      <th>338</th>\n",
       "      <td>HTC</td>\n",
       "      <td>Hitcoin</td>\n",
       "      <td>X11</td>\n",
       "      <td>True</td>\n",
       "      <td>PoW/PoS</td>\n",
       "      <td>1.099632e+10</td>\n",
       "      <td>26550000000</td>\n",
       "    </tr>\n",
       "    <tr>\n",
       "      <th>782</th>\n",
       "      <td>STCN</td>\n",
       "      <td>Stakecoin</td>\n",
       "      <td>PoS</td>\n",
       "      <td>True</td>\n",
       "      <td>PoS</td>\n",
       "      <td>4.000000e+06</td>\n",
       "      <td>61599965</td>\n",
       "    </tr>\n",
       "    <tr>\n",
       "      <th>588</th>\n",
       "      <td>CRSP</td>\n",
       "      <td>CryptoSpots</td>\n",
       "      <td>DPoS</td>\n",
       "      <td>True</td>\n",
       "      <td>DPoS</td>\n",
       "      <td>NaN</td>\n",
       "      <td>0</td>\n",
       "    </tr>\n",
       "    <tr>\n",
       "      <th>623</th>\n",
       "      <td>BIC</td>\n",
       "      <td>Bikercoins</td>\n",
       "      <td>CryptoNight</td>\n",
       "      <td>True</td>\n",
       "      <td>PoW</td>\n",
       "      <td>9.357088e+06</td>\n",
       "      <td>25000000</td>\n",
       "    </tr>\n",
       "    <tr>\n",
       "      <th>436</th>\n",
       "      <td>MUDRA</td>\n",
       "      <td>MudraCoin</td>\n",
       "      <td>X13</td>\n",
       "      <td>True</td>\n",
       "      <td>PoS</td>\n",
       "      <td>5.000000e+06</td>\n",
       "      <td>200000000</td>\n",
       "    </tr>\n",
       "    <tr>\n",
       "      <th>1184</th>\n",
       "      <td>HNC</td>\n",
       "      <td>Hellenic Coin</td>\n",
       "      <td>Scrypt</td>\n",
       "      <td>True</td>\n",
       "      <td>PoW</td>\n",
       "      <td>NaN</td>\n",
       "      <td>100000000</td>\n",
       "    </tr>\n",
       "    <tr>\n",
       "      <th>694</th>\n",
       "      <td>RNS</td>\n",
       "      <td>RenosCoin</td>\n",
       "      <td>Scrypt</td>\n",
       "      <td>True</td>\n",
       "      <td>PoS</td>\n",
       "      <td>3.605036e+07</td>\n",
       "      <td>34426423</td>\n",
       "    </tr>\n",
       "    <tr>\n",
       "      <th>428</th>\n",
       "      <td>IBANK</td>\n",
       "      <td>iBankCoin</td>\n",
       "      <td>Scrypt</td>\n",
       "      <td>True</td>\n",
       "      <td>PoW/PoS</td>\n",
       "      <td>4.526324e+06</td>\n",
       "      <td>44333333</td>\n",
       "    </tr>\n",
       "    <tr>\n",
       "      <th>268</th>\n",
       "      <td>EGG</td>\n",
       "      <td>EggCoin</td>\n",
       "      <td>Scrypt</td>\n",
       "      <td>True</td>\n",
       "      <td>PoW/PoS</td>\n",
       "      <td>NaN</td>\n",
       "      <td>3891</td>\n",
       "    </tr>\n",
       "  </tbody>\n",
       "</table>\n",
       "</div>"
      ],
      "text/plain": [
       "     Unnamed: 0        CoinName      Algorithm  IsTrading ProofType  \\\n",
       "37          ARG        Argentum         Scrypt       True       PoW   \n",
       "1013        XT3           Xt3ch         Scrypt       True       PoS   \n",
       "896         VAL        Valorbit         Scrypt       True   PoW/PoS   \n",
       "95          FRK          Franko         Scrypt       True       PoW   \n",
       "615         PTA       PentaCoin        SHA-256       True   PoW/PoS   \n",
       "172         SRC      SecureCoin         Scrypt       True       PoW   \n",
       "468        UBIQ         Ubiqoin  Progressive-n       True       PoS   \n",
       "592         XNG          Enigma            X11       True   PoW/PoS   \n",
       "530         DKC  DarkKnightCoin         Scrypt       True   PoW/PoS   \n",
       "1000        AMX           Amero      NeoScrypt       True   PoW/PoS   \n",
       "385        BOLI     BolivarCoin            X11       True       PoW   \n",
       "338         HTC         Hitcoin            X11       True   PoW/PoS   \n",
       "782        STCN       Stakecoin            PoS       True       PoS   \n",
       "588        CRSP     CryptoSpots           DPoS       True      DPoS   \n",
       "623         BIC      Bikercoins    CryptoNight       True       PoW   \n",
       "436       MUDRA       MudraCoin            X13       True       PoS   \n",
       "1184        HNC   Hellenic Coin         Scrypt       True       PoW   \n",
       "694         RNS       RenosCoin         Scrypt       True       PoS   \n",
       "428       IBANK       iBankCoin         Scrypt       True   PoW/PoS   \n",
       "268         EGG         EggCoin         Scrypt       True   PoW/PoS   \n",
       "\n",
       "      TotalCoinsMined    TotalCoinSupply  \n",
       "37       1.220580e+07           64000000  \n",
       "1013     7.630000e+06           44000000  \n",
       "896      0.000000e+00  92233720000000000  \n",
       "95       1.142732e+06           11235813  \n",
       "615               NaN           1311955   \n",
       "172      0.000000e+00           21000000  \n",
       "468               NaN          500000000  \n",
       "592      8.146710e+05            5000000  \n",
       "530               NaN           24000000  \n",
       "1000              NaN           15000000  \n",
       "385      1.365408e+07           25000000  \n",
       "338      1.099632e+10        26550000000  \n",
       "782      4.000000e+06           61599965  \n",
       "588               NaN                  0  \n",
       "623      9.357088e+06           25000000  \n",
       "436      5.000000e+06          200000000  \n",
       "1184              NaN          100000000  \n",
       "694      3.605036e+07           34426423  \n",
       "428      4.526324e+06           44333333  \n",
       "268               NaN               3891  "
      ]
     },
     "execution_count": 133,
     "metadata": {},
     "output_type": "execute_result"
    }
   ],
   "source": [
    "# Load the crypto_data.csv dataset.\n",
    "data = Path('./Resources/crypto_data.csv')\n",
    "df = pd.read_csv(data)\n",
    "df.sample(20)"
   ]
  },
  {
   "cell_type": "code",
   "execution_count": 132,
   "metadata": {},
   "outputs": [
    {
     "data": {
      "text/html": [
       "<div>\n",
       "<style scoped>\n",
       "    .dataframe tbody tr th:only-of-type {\n",
       "        vertical-align: middle;\n",
       "    }\n",
       "\n",
       "    .dataframe tbody tr th {\n",
       "        vertical-align: top;\n",
       "    }\n",
       "\n",
       "    .dataframe thead th {\n",
       "        text-align: right;\n",
       "    }\n",
       "</style>\n",
       "<table border=\"1\" class=\"dataframe\">\n",
       "  <thead>\n",
       "    <tr style=\"text-align: right;\">\n",
       "      <th></th>\n",
       "      <th>Unnamed: 0</th>\n",
       "      <th>CoinName</th>\n",
       "      <th>Algorithm</th>\n",
       "      <th>IsTrading</th>\n",
       "      <th>ProofType</th>\n",
       "      <th>TotalCoinsMined</th>\n",
       "      <th>TotalCoinSupply</th>\n",
       "    </tr>\n",
       "  </thead>\n",
       "  <tbody>\n",
       "    <tr>\n",
       "      <th>0</th>\n",
       "      <td>42</td>\n",
       "      <td>42 Coin</td>\n",
       "      <td>Scrypt</td>\n",
       "      <td>True</td>\n",
       "      <td>PoW/PoS</td>\n",
       "      <td>4.199995e+01</td>\n",
       "      <td>42</td>\n",
       "    </tr>\n",
       "    <tr>\n",
       "      <th>1</th>\n",
       "      <td>365</td>\n",
       "      <td>365Coin</td>\n",
       "      <td>X11</td>\n",
       "      <td>True</td>\n",
       "      <td>PoW/PoS</td>\n",
       "      <td>NaN</td>\n",
       "      <td>2300000000</td>\n",
       "    </tr>\n",
       "    <tr>\n",
       "      <th>2</th>\n",
       "      <td>404</td>\n",
       "      <td>404Coin</td>\n",
       "      <td>Scrypt</td>\n",
       "      <td>True</td>\n",
       "      <td>PoW/PoS</td>\n",
       "      <td>1.055185e+09</td>\n",
       "      <td>532000000</td>\n",
       "    </tr>\n",
       "    <tr>\n",
       "      <th>3</th>\n",
       "      <td>611</td>\n",
       "      <td>SixEleven</td>\n",
       "      <td>SHA-256</td>\n",
       "      <td>True</td>\n",
       "      <td>PoW</td>\n",
       "      <td>NaN</td>\n",
       "      <td>611000</td>\n",
       "    </tr>\n",
       "    <tr>\n",
       "      <th>4</th>\n",
       "      <td>808</td>\n",
       "      <td>808</td>\n",
       "      <td>SHA-256</td>\n",
       "      <td>True</td>\n",
       "      <td>PoW/PoS</td>\n",
       "      <td>0.000000e+00</td>\n",
       "      <td>0</td>\n",
       "    </tr>\n",
       "    <tr>\n",
       "      <th>5</th>\n",
       "      <td>1337</td>\n",
       "      <td>EliteCoin</td>\n",
       "      <td>X13</td>\n",
       "      <td>True</td>\n",
       "      <td>PoW/PoS</td>\n",
       "      <td>2.927942e+10</td>\n",
       "      <td>314159265359</td>\n",
       "    </tr>\n",
       "    <tr>\n",
       "      <th>6</th>\n",
       "      <td>2015</td>\n",
       "      <td>2015 coin</td>\n",
       "      <td>X11</td>\n",
       "      <td>True</td>\n",
       "      <td>PoW/PoS</td>\n",
       "      <td>NaN</td>\n",
       "      <td>0</td>\n",
       "    </tr>\n",
       "    <tr>\n",
       "      <th>7</th>\n",
       "      <td>BTC</td>\n",
       "      <td>Bitcoin</td>\n",
       "      <td>SHA-256</td>\n",
       "      <td>True</td>\n",
       "      <td>PoW</td>\n",
       "      <td>1.792718e+07</td>\n",
       "      <td>21000000</td>\n",
       "    </tr>\n",
       "    <tr>\n",
       "      <th>8</th>\n",
       "      <td>ETH</td>\n",
       "      <td>Ethereum</td>\n",
       "      <td>Ethash</td>\n",
       "      <td>True</td>\n",
       "      <td>PoW</td>\n",
       "      <td>1.076842e+08</td>\n",
       "      <td>0</td>\n",
       "    </tr>\n",
       "    <tr>\n",
       "      <th>9</th>\n",
       "      <td>LTC</td>\n",
       "      <td>Litecoin</td>\n",
       "      <td>Scrypt</td>\n",
       "      <td>True</td>\n",
       "      <td>PoW</td>\n",
       "      <td>6.303924e+07</td>\n",
       "      <td>84000000</td>\n",
       "    </tr>\n",
       "    <tr>\n",
       "      <th>10</th>\n",
       "      <td>DASH</td>\n",
       "      <td>Dash</td>\n",
       "      <td>X11</td>\n",
       "      <td>True</td>\n",
       "      <td>PoW/PoS</td>\n",
       "      <td>9.031294e+06</td>\n",
       "      <td>22000000</td>\n",
       "    </tr>\n",
       "    <tr>\n",
       "      <th>11</th>\n",
       "      <td>XMR</td>\n",
       "      <td>Monero</td>\n",
       "      <td>CryptoNight-V7</td>\n",
       "      <td>True</td>\n",
       "      <td>PoW</td>\n",
       "      <td>1.720114e+07</td>\n",
       "      <td>0</td>\n",
       "    </tr>\n",
       "    <tr>\n",
       "      <th>12</th>\n",
       "      <td>ETC</td>\n",
       "      <td>Ethereum Classic</td>\n",
       "      <td>Ethash</td>\n",
       "      <td>True</td>\n",
       "      <td>PoW</td>\n",
       "      <td>1.133597e+08</td>\n",
       "      <td>210000000</td>\n",
       "    </tr>\n",
       "    <tr>\n",
       "      <th>13</th>\n",
       "      <td>ZEC</td>\n",
       "      <td>ZCash</td>\n",
       "      <td>Equihash</td>\n",
       "      <td>True</td>\n",
       "      <td>PoW</td>\n",
       "      <td>7.383056e+06</td>\n",
       "      <td>21000000</td>\n",
       "    </tr>\n",
       "    <tr>\n",
       "      <th>14</th>\n",
       "      <td>BTS</td>\n",
       "      <td>Bitshares</td>\n",
       "      <td>SHA-512</td>\n",
       "      <td>True</td>\n",
       "      <td>PoS</td>\n",
       "      <td>2.741570e+09</td>\n",
       "      <td>3600570502</td>\n",
       "    </tr>\n",
       "    <tr>\n",
       "      <th>15</th>\n",
       "      <td>DGB</td>\n",
       "      <td>DigiByte</td>\n",
       "      <td>Multiple</td>\n",
       "      <td>True</td>\n",
       "      <td>PoW</td>\n",
       "      <td>1.140622e+10</td>\n",
       "      <td>21000000000</td>\n",
       "    </tr>\n",
       "    <tr>\n",
       "      <th>16</th>\n",
       "      <td>BTCD</td>\n",
       "      <td>BitcoinDark</td>\n",
       "      <td>SHA-256</td>\n",
       "      <td>True</td>\n",
       "      <td>PoW/PoS</td>\n",
       "      <td>1.288862e+06</td>\n",
       "      <td>22000000</td>\n",
       "    </tr>\n",
       "    <tr>\n",
       "      <th>17</th>\n",
       "      <td>CRAIG</td>\n",
       "      <td>CraigsCoin</td>\n",
       "      <td>X11</td>\n",
       "      <td>True</td>\n",
       "      <td>PoS</td>\n",
       "      <td>NaN</td>\n",
       "      <td>30000000</td>\n",
       "    </tr>\n",
       "    <tr>\n",
       "      <th>18</th>\n",
       "      <td>XBS</td>\n",
       "      <td>Bitstake</td>\n",
       "      <td>X11</td>\n",
       "      <td>True</td>\n",
       "      <td>PoW/PoS</td>\n",
       "      <td>0.000000e+00</td>\n",
       "      <td>1300000</td>\n",
       "    </tr>\n",
       "    <tr>\n",
       "      <th>19</th>\n",
       "      <td>XPY</td>\n",
       "      <td>PayCoin</td>\n",
       "      <td>SHA-256</td>\n",
       "      <td>True</td>\n",
       "      <td>PoS</td>\n",
       "      <td>1.199533e+07</td>\n",
       "      <td>12500000</td>\n",
       "    </tr>\n",
       "  </tbody>\n",
       "</table>\n",
       "</div>"
      ],
      "text/plain": [
       "   Unnamed: 0          CoinName       Algorithm  IsTrading ProofType  \\\n",
       "0          42           42 Coin          Scrypt       True   PoW/PoS   \n",
       "1         365           365Coin             X11       True   PoW/PoS   \n",
       "2         404           404Coin          Scrypt       True   PoW/PoS   \n",
       "3         611         SixEleven         SHA-256       True       PoW   \n",
       "4         808               808         SHA-256       True   PoW/PoS   \n",
       "5        1337         EliteCoin             X13       True   PoW/PoS   \n",
       "6        2015         2015 coin             X11       True   PoW/PoS   \n",
       "7         BTC           Bitcoin         SHA-256       True       PoW   \n",
       "8         ETH          Ethereum          Ethash       True       PoW   \n",
       "9         LTC          Litecoin          Scrypt       True       PoW   \n",
       "10       DASH              Dash             X11       True   PoW/PoS   \n",
       "11        XMR            Monero  CryptoNight-V7       True       PoW   \n",
       "12        ETC  Ethereum Classic          Ethash       True       PoW   \n",
       "13        ZEC             ZCash        Equihash       True       PoW   \n",
       "14        BTS         Bitshares         SHA-512       True       PoS   \n",
       "15        DGB          DigiByte        Multiple       True       PoW   \n",
       "16       BTCD       BitcoinDark         SHA-256       True   PoW/PoS   \n",
       "17      CRAIG        CraigsCoin             X11       True       PoS   \n",
       "18        XBS          Bitstake             X11       True   PoW/PoS   \n",
       "19        XPY           PayCoin         SHA-256       True       PoS   \n",
       "\n",
       "    TotalCoinsMined TotalCoinSupply  \n",
       "0      4.199995e+01              42  \n",
       "1               NaN      2300000000  \n",
       "2      1.055185e+09       532000000  \n",
       "3               NaN          611000  \n",
       "4      0.000000e+00               0  \n",
       "5      2.927942e+10    314159265359  \n",
       "6               NaN               0  \n",
       "7      1.792718e+07        21000000  \n",
       "8      1.076842e+08               0  \n",
       "9      6.303924e+07        84000000  \n",
       "10     9.031294e+06        22000000  \n",
       "11     1.720114e+07               0  \n",
       "12     1.133597e+08       210000000  \n",
       "13     7.383056e+06        21000000  \n",
       "14     2.741570e+09      3600570502  \n",
       "15     1.140622e+10     21000000000  \n",
       "16     1.288862e+06        22000000  \n",
       "17              NaN        30000000  \n",
       "18     0.000000e+00         1300000  \n",
       "19     1.199533e+07        12500000  "
      ]
     },
     "execution_count": 132,
     "metadata": {},
     "output_type": "execute_result"
    }
   ],
   "source": [
    "# Load the crypto_data.csv dataset.\n",
    "#data = Path('C:/Users/Tim/Documents/OSU_Bootcamp/Challenge_18/Cryptocurrencies/Resources/crypto_data.csv')\n",
    "#df = pd.read_csv(data)\n",
    "df.head(20)\n"
   ]
  },
  {
   "cell_type": "code",
   "execution_count": 134,
   "metadata": {},
   "outputs": [
    {
     "name": "stdout",
     "output_type": "stream",
     "text": [
      "<class 'pandas.core.frame.DataFrame'>\n",
      "Int64Index: 1144 entries, 0 to 1247\n",
      "Data columns (total 7 columns):\n",
      " #   Column           Non-Null Count  Dtype  \n",
      "---  ------           --------------  -----  \n",
      " 0   Unnamed: 0       1144 non-null   object \n",
      " 1   CoinName         1144 non-null   object \n",
      " 2   Algorithm        1144 non-null   object \n",
      " 3   IsTrading        1144 non-null   bool   \n",
      " 4   ProofType        1144 non-null   object \n",
      " 5   TotalCoinsMined  685 non-null    float64\n",
      " 6   TotalCoinSupply  1144 non-null   object \n",
      "dtypes: bool(1), float64(1), object(5)\n",
      "memory usage: 63.7+ KB\n"
     ]
    },
    {
     "data": {
      "text/html": [
       "<div>\n",
       "<style scoped>\n",
       "    .dataframe tbody tr th:only-of-type {\n",
       "        vertical-align: middle;\n",
       "    }\n",
       "\n",
       "    .dataframe tbody tr th {\n",
       "        vertical-align: top;\n",
       "    }\n",
       "\n",
       "    .dataframe thead th {\n",
       "        text-align: right;\n",
       "    }\n",
       "</style>\n",
       "<table border=\"1\" class=\"dataframe\">\n",
       "  <thead>\n",
       "    <tr style=\"text-align: right;\">\n",
       "      <th></th>\n",
       "      <th>Unnamed: 0</th>\n",
       "      <th>CoinName</th>\n",
       "      <th>Algorithm</th>\n",
       "      <th>IsTrading</th>\n",
       "      <th>ProofType</th>\n",
       "      <th>TotalCoinsMined</th>\n",
       "      <th>TotalCoinSupply</th>\n",
       "    </tr>\n",
       "  </thead>\n",
       "  <tbody>\n",
       "    <tr>\n",
       "      <th>0</th>\n",
       "      <td>42</td>\n",
       "      <td>42 Coin</td>\n",
       "      <td>Scrypt</td>\n",
       "      <td>True</td>\n",
       "      <td>PoW/PoS</td>\n",
       "      <td>4.199995e+01</td>\n",
       "      <td>42</td>\n",
       "    </tr>\n",
       "    <tr>\n",
       "      <th>1</th>\n",
       "      <td>365</td>\n",
       "      <td>365Coin</td>\n",
       "      <td>X11</td>\n",
       "      <td>True</td>\n",
       "      <td>PoW/PoS</td>\n",
       "      <td>NaN</td>\n",
       "      <td>2300000000</td>\n",
       "    </tr>\n",
       "    <tr>\n",
       "      <th>2</th>\n",
       "      <td>404</td>\n",
       "      <td>404Coin</td>\n",
       "      <td>Scrypt</td>\n",
       "      <td>True</td>\n",
       "      <td>PoW/PoS</td>\n",
       "      <td>1.055185e+09</td>\n",
       "      <td>532000000</td>\n",
       "    </tr>\n",
       "    <tr>\n",
       "      <th>3</th>\n",
       "      <td>611</td>\n",
       "      <td>SixEleven</td>\n",
       "      <td>SHA-256</td>\n",
       "      <td>True</td>\n",
       "      <td>PoW</td>\n",
       "      <td>NaN</td>\n",
       "      <td>611000</td>\n",
       "    </tr>\n",
       "    <tr>\n",
       "      <th>4</th>\n",
       "      <td>808</td>\n",
       "      <td>808</td>\n",
       "      <td>SHA-256</td>\n",
       "      <td>True</td>\n",
       "      <td>PoW/PoS</td>\n",
       "      <td>0.000000e+00</td>\n",
       "      <td>0</td>\n",
       "    </tr>\n",
       "    <tr>\n",
       "      <th>5</th>\n",
       "      <td>1337</td>\n",
       "      <td>EliteCoin</td>\n",
       "      <td>X13</td>\n",
       "      <td>True</td>\n",
       "      <td>PoW/PoS</td>\n",
       "      <td>2.927942e+10</td>\n",
       "      <td>314159265359</td>\n",
       "    </tr>\n",
       "    <tr>\n",
       "      <th>6</th>\n",
       "      <td>2015</td>\n",
       "      <td>2015 coin</td>\n",
       "      <td>X11</td>\n",
       "      <td>True</td>\n",
       "      <td>PoW/PoS</td>\n",
       "      <td>NaN</td>\n",
       "      <td>0</td>\n",
       "    </tr>\n",
       "    <tr>\n",
       "      <th>7</th>\n",
       "      <td>BTC</td>\n",
       "      <td>Bitcoin</td>\n",
       "      <td>SHA-256</td>\n",
       "      <td>True</td>\n",
       "      <td>PoW</td>\n",
       "      <td>1.792718e+07</td>\n",
       "      <td>21000000</td>\n",
       "    </tr>\n",
       "    <tr>\n",
       "      <th>8</th>\n",
       "      <td>ETH</td>\n",
       "      <td>Ethereum</td>\n",
       "      <td>Ethash</td>\n",
       "      <td>True</td>\n",
       "      <td>PoW</td>\n",
       "      <td>1.076842e+08</td>\n",
       "      <td>0</td>\n",
       "    </tr>\n",
       "    <tr>\n",
       "      <th>9</th>\n",
       "      <td>LTC</td>\n",
       "      <td>Litecoin</td>\n",
       "      <td>Scrypt</td>\n",
       "      <td>True</td>\n",
       "      <td>PoW</td>\n",
       "      <td>6.303924e+07</td>\n",
       "      <td>84000000</td>\n",
       "    </tr>\n",
       "  </tbody>\n",
       "</table>\n",
       "</div>"
      ],
      "text/plain": [
       "  Unnamed: 0   CoinName Algorithm  IsTrading ProofType  TotalCoinsMined  \\\n",
       "0         42    42 Coin    Scrypt       True   PoW/PoS     4.199995e+01   \n",
       "1        365    365Coin       X11       True   PoW/PoS              NaN   \n",
       "2        404    404Coin    Scrypt       True   PoW/PoS     1.055185e+09   \n",
       "3        611  SixEleven   SHA-256       True       PoW              NaN   \n",
       "4        808        808   SHA-256       True   PoW/PoS     0.000000e+00   \n",
       "5       1337  EliteCoin       X13       True   PoW/PoS     2.927942e+10   \n",
       "6       2015  2015 coin       X11       True   PoW/PoS              NaN   \n",
       "7        BTC    Bitcoin   SHA-256       True       PoW     1.792718e+07   \n",
       "8        ETH   Ethereum    Ethash       True       PoW     1.076842e+08   \n",
       "9        LTC   Litecoin    Scrypt       True       PoW     6.303924e+07   \n",
       "\n",
       "  TotalCoinSupply  \n",
       "0              42  \n",
       "1      2300000000  \n",
       "2       532000000  \n",
       "3          611000  \n",
       "4               0  \n",
       "5    314159265359  \n",
       "6               0  \n",
       "7        21000000  \n",
       "8               0  \n",
       "9        84000000  "
      ]
     },
     "execution_count": 134,
     "metadata": {},
     "output_type": "execute_result"
    }
   ],
   "source": [
    "# Keep all the cryptocurrencies that are being traded.\n",
    "df_step1 = df.loc[df['IsTrading'] == True]\n",
    "df_step1.info()\n",
    "df_step1.head(10)\n"
   ]
  },
  {
   "cell_type": "code",
   "execution_count": 83,
   "metadata": {},
   "outputs": [
    {
     "name": "stdout",
     "output_type": "stream",
     "text": [
      "<class 'pandas.core.frame.DataFrame'>\n",
      "Int64Index: 1144 entries, 305 to 336\n",
      "Data columns (total 7 columns):\n",
      " #   Column           Non-Null Count  Dtype  \n",
      "---  ------           --------------  -----  \n",
      " 0   Unnamed: 0       1144 non-null   object \n",
      " 1   CoinName         1144 non-null   object \n",
      " 2   Algorithm        1144 non-null   object \n",
      " 3   IsTrading        1144 non-null   bool   \n",
      " 4   ProofType        1144 non-null   object \n",
      " 5   TotalCoinsMined  685 non-null    float64\n",
      " 6   TotalCoinSupply  1144 non-null   object \n",
      "dtypes: bool(1), float64(1), object(5)\n",
      "memory usage: 63.7+ KB\n",
      "None\n",
      "<class 'pandas.core.frame.DataFrame'>\n",
      "Int64Index: 1144 entries, 305 to 336\n",
      "Data columns (total 7 columns):\n",
      " #   Column           Non-Null Count  Dtype  \n",
      "---  ------           --------------  -----  \n",
      " 0   Unnamed: 0       1144 non-null   object \n",
      " 1   CoinName         1144 non-null   object \n",
      " 2   Algorithm        1144 non-null   object \n",
      " 3   IsTrading        1144 non-null   bool   \n",
      " 4   ProofType        1144 non-null   object \n",
      " 5   TotalCoinsMined  685 non-null    float64\n",
      " 6   TotalCoinSupply  1144 non-null   object \n",
      "dtypes: bool(1), float64(1), object(5)\n",
      "memory usage: 63.7+ KB\n"
     ]
    }
   ],
   "source": [
    "# Keep all the cryptocurrencies that have a working algorithm.\n",
    "df_step2 = df_step1.sort_values(by='Algorithm', ascending=False)\n",
    "print(df_step2.info())\n",
    "df_step2 = df_step2.dropna(axis=0, subset=['Algorithm'])\n",
    "df_step2.info()\n",
    "\n"
   ]
  },
  {
   "cell_type": "code",
   "execution_count": 84,
   "metadata": {},
   "outputs": [
    {
     "data": {
      "text/html": [
       "<div>\n",
       "<style scoped>\n",
       "    .dataframe tbody tr th:only-of-type {\n",
       "        vertical-align: middle;\n",
       "    }\n",
       "\n",
       "    .dataframe tbody tr th {\n",
       "        vertical-align: top;\n",
       "    }\n",
       "\n",
       "    .dataframe thead th {\n",
       "        text-align: right;\n",
       "    }\n",
       "</style>\n",
       "<table border=\"1\" class=\"dataframe\">\n",
       "  <thead>\n",
       "    <tr style=\"text-align: right;\">\n",
       "      <th></th>\n",
       "      <th>Unnamed: 0</th>\n",
       "      <th>CoinName</th>\n",
       "      <th>Algorithm</th>\n",
       "      <th>ProofType</th>\n",
       "      <th>TotalCoinsMined</th>\n",
       "      <th>TotalCoinSupply</th>\n",
       "    </tr>\n",
       "  </thead>\n",
       "  <tbody>\n",
       "    <tr>\n",
       "      <th>305</th>\n",
       "      <td>CIRC</td>\n",
       "      <td>CryptoCircuits</td>\n",
       "      <td>vDPOS</td>\n",
       "      <td>PoS</td>\n",
       "      <td>0.000000e+00</td>\n",
       "      <td>0</td>\n",
       "    </tr>\n",
       "    <tr>\n",
       "      <th>1038</th>\n",
       "      <td>SAFE</td>\n",
       "      <td>SafeCoin</td>\n",
       "      <td>Zhash</td>\n",
       "      <td>PoW/PoS</td>\n",
       "      <td>0.000000e+00</td>\n",
       "      <td>36000000</td>\n",
       "    </tr>\n",
       "    <tr>\n",
       "      <th>945</th>\n",
       "      <td>ELIC</td>\n",
       "      <td>Elicoin</td>\n",
       "      <td>YescryptR16</td>\n",
       "      <td>PoW</td>\n",
       "      <td>NaN</td>\n",
       "      <td>10000000</td>\n",
       "    </tr>\n",
       "    <tr>\n",
       "      <th>257</th>\n",
       "      <td>XG</td>\n",
       "      <td>XG Sports</td>\n",
       "      <td>XG Hash</td>\n",
       "      <td>PoW/PoS</td>\n",
       "      <td>NaN</td>\n",
       "      <td>0</td>\n",
       "    </tr>\n",
       "    <tr>\n",
       "      <th>992</th>\n",
       "      <td>XBI</td>\n",
       "      <td>Bitcoin Incognito</td>\n",
       "      <td>XEVAN</td>\n",
       "      <td>PoS/PoW</td>\n",
       "      <td>1.090496e+07</td>\n",
       "      <td>21000000</td>\n",
       "    </tr>\n",
       "  </tbody>\n",
       "</table>\n",
       "</div>"
      ],
      "text/plain": [
       "     Unnamed: 0           CoinName    Algorithm ProofType  TotalCoinsMined  \\\n",
       "305        CIRC     CryptoCircuits        vDPOS       PoS     0.000000e+00   \n",
       "1038       SAFE           SafeCoin        Zhash   PoW/PoS     0.000000e+00   \n",
       "945        ELIC            Elicoin  YescryptR16       PoW              NaN   \n",
       "257          XG          XG Sports      XG Hash   PoW/PoS              NaN   \n",
       "992         XBI  Bitcoin Incognito        XEVAN   PoS/PoW     1.090496e+07   \n",
       "\n",
       "     TotalCoinSupply  \n",
       "305                0  \n",
       "1038        36000000  \n",
       "945         10000000  \n",
       "257                0  \n",
       "992         21000000  "
      ]
     },
     "execution_count": 84,
     "metadata": {},
     "output_type": "execute_result"
    }
   ],
   "source": [
    "# Remove the \"IsTrading\" column. \n",
    "df_step3 = df_step2.drop(['IsTrading'], axis=1)\n",
    "df_step3.head()"
   ]
  },
  {
   "cell_type": "code",
   "execution_count": 85,
   "metadata": {},
   "outputs": [
    {
     "name": "stdout",
     "output_type": "stream",
     "text": [
      "<class 'pandas.core.frame.DataFrame'>\n",
      "Int64Index: 1144 entries, 305 to 336\n",
      "Data columns (total 6 columns):\n",
      " #   Column           Non-Null Count  Dtype  \n",
      "---  ------           --------------  -----  \n",
      " 0   Unnamed: 0       1144 non-null   object \n",
      " 1   CoinName         1144 non-null   object \n",
      " 2   Algorithm        1144 non-null   object \n",
      " 3   ProofType        1144 non-null   object \n",
      " 4   TotalCoinsMined  685 non-null    float64\n",
      " 5   TotalCoinSupply  1144 non-null   object \n",
      "dtypes: float64(1), object(5)\n",
      "memory usage: 62.6+ KB\n",
      "<class 'pandas.core.frame.DataFrame'>\n",
      "Int64Index: 685 entries, 305 to 336\n",
      "Data columns (total 6 columns):\n",
      " #   Column           Non-Null Count  Dtype  \n",
      "---  ------           --------------  -----  \n",
      " 0   Unnamed: 0       685 non-null    object \n",
      " 1   CoinName         685 non-null    object \n",
      " 2   Algorithm        685 non-null    object \n",
      " 3   ProofType        685 non-null    object \n",
      " 4   TotalCoinsMined  685 non-null    float64\n",
      " 5   TotalCoinSupply  685 non-null    object \n",
      "dtypes: float64(1), object(5)\n",
      "memory usage: 37.5+ KB\n"
     ]
    },
    {
     "data": {
      "text/html": [
       "<div>\n",
       "<style scoped>\n",
       "    .dataframe tbody tr th:only-of-type {\n",
       "        vertical-align: middle;\n",
       "    }\n",
       "\n",
       "    .dataframe tbody tr th {\n",
       "        vertical-align: top;\n",
       "    }\n",
       "\n",
       "    .dataframe thead th {\n",
       "        text-align: right;\n",
       "    }\n",
       "</style>\n",
       "<table border=\"1\" class=\"dataframe\">\n",
       "  <thead>\n",
       "    <tr style=\"text-align: right;\">\n",
       "      <th></th>\n",
       "      <th>Unnamed: 0</th>\n",
       "      <th>CoinName</th>\n",
       "      <th>Algorithm</th>\n",
       "      <th>ProofType</th>\n",
       "      <th>TotalCoinsMined</th>\n",
       "      <th>TotalCoinSupply</th>\n",
       "    </tr>\n",
       "  </thead>\n",
       "  <tbody>\n",
       "    <tr>\n",
       "      <th>305</th>\n",
       "      <td>CIRC</td>\n",
       "      <td>CryptoCircuits</td>\n",
       "      <td>vDPOS</td>\n",
       "      <td>PoS</td>\n",
       "      <td>0.000000e+00</td>\n",
       "      <td>0</td>\n",
       "    </tr>\n",
       "    <tr>\n",
       "      <th>1038</th>\n",
       "      <td>SAFE</td>\n",
       "      <td>SafeCoin</td>\n",
       "      <td>Zhash</td>\n",
       "      <td>PoW/PoS</td>\n",
       "      <td>0.000000e+00</td>\n",
       "      <td>36000000</td>\n",
       "    </tr>\n",
       "    <tr>\n",
       "      <th>992</th>\n",
       "      <td>XBI</td>\n",
       "      <td>Bitcoin Incognito</td>\n",
       "      <td>XEVAN</td>\n",
       "      <td>PoS/PoW</td>\n",
       "      <td>1.090496e+07</td>\n",
       "      <td>21000000</td>\n",
       "    </tr>\n",
       "    <tr>\n",
       "      <th>1051</th>\n",
       "      <td>URALS</td>\n",
       "      <td>Urals Coin</td>\n",
       "      <td>XEVAN</td>\n",
       "      <td>PoW</td>\n",
       "      <td>1.474615e+07</td>\n",
       "      <td>210000000</td>\n",
       "    </tr>\n",
       "    <tr>\n",
       "      <th>1101</th>\n",
       "      <td>BITM</td>\n",
       "      <td>BitMoney</td>\n",
       "      <td>XEVAN</td>\n",
       "      <td>Pos</td>\n",
       "      <td>2.085159e+08</td>\n",
       "      <td>70000000000</td>\n",
       "    </tr>\n",
       "  </tbody>\n",
       "</table>\n",
       "</div>"
      ],
      "text/plain": [
       "     Unnamed: 0           CoinName Algorithm ProofType  TotalCoinsMined  \\\n",
       "305        CIRC     CryptoCircuits     vDPOS       PoS     0.000000e+00   \n",
       "1038       SAFE           SafeCoin     Zhash   PoW/PoS     0.000000e+00   \n",
       "992         XBI  Bitcoin Incognito     XEVAN   PoS/PoW     1.090496e+07   \n",
       "1051      URALS         Urals Coin     XEVAN       PoW     1.474615e+07   \n",
       "1101       BITM           BitMoney     XEVAN       Pos     2.085159e+08   \n",
       "\n",
       "     TotalCoinSupply  \n",
       "305                0  \n",
       "1038        36000000  \n",
       "992         21000000  \n",
       "1051       210000000  \n",
       "1101     70000000000  "
      ]
     },
     "execution_count": 85,
     "metadata": {},
     "output_type": "execute_result"
    }
   ],
   "source": [
    "# Remove rows that have at least 1 null value.\n",
    "df_step3.info()\n",
    "df_step4 = df_step3.dropna()\n",
    "df_step4.info()\n",
    "df_step4.head()\n"
   ]
  },
  {
   "cell_type": "code",
   "execution_count": 136,
   "metadata": {
    "scrolled": true
   },
   "outputs": [
    {
     "data": {
      "text/html": [
       "<div>\n",
       "<style scoped>\n",
       "    .dataframe tbody tr th:only-of-type {\n",
       "        vertical-align: middle;\n",
       "    }\n",
       "\n",
       "    .dataframe tbody tr th {\n",
       "        vertical-align: top;\n",
       "    }\n",
       "\n",
       "    .dataframe thead th {\n",
       "        text-align: right;\n",
       "    }\n",
       "</style>\n",
       "<table border=\"1\" class=\"dataframe\">\n",
       "  <thead>\n",
       "    <tr style=\"text-align: right;\">\n",
       "      <th></th>\n",
       "      <th>Unnamed: 0</th>\n",
       "      <th>CoinName</th>\n",
       "      <th>Algorithm</th>\n",
       "      <th>ProofType</th>\n",
       "      <th>TotalCoinsMined</th>\n",
       "      <th>TotalCoinSupply</th>\n",
       "    </tr>\n",
       "  </thead>\n",
       "  <tbody>\n",
       "    <tr>\n",
       "      <th>992</th>\n",
       "      <td>XBI</td>\n",
       "      <td>Bitcoin Incognito</td>\n",
       "      <td>XEVAN</td>\n",
       "      <td>PoS/PoW</td>\n",
       "      <td>1.090496e+07</td>\n",
       "      <td>21000000</td>\n",
       "    </tr>\n",
       "    <tr>\n",
       "      <th>1051</th>\n",
       "      <td>URALS</td>\n",
       "      <td>Urals Coin</td>\n",
       "      <td>XEVAN</td>\n",
       "      <td>PoW</td>\n",
       "      <td>1.474615e+07</td>\n",
       "      <td>210000000</td>\n",
       "    </tr>\n",
       "    <tr>\n",
       "      <th>1101</th>\n",
       "      <td>BITM</td>\n",
       "      <td>BitMoney</td>\n",
       "      <td>XEVAN</td>\n",
       "      <td>Pos</td>\n",
       "      <td>2.085159e+08</td>\n",
       "      <td>70000000000</td>\n",
       "    </tr>\n",
       "    <tr>\n",
       "      <th>1140</th>\n",
       "      <td>BEET</td>\n",
       "      <td>Beetle Coin</td>\n",
       "      <td>XEVAN</td>\n",
       "      <td>PoW/PoS</td>\n",
       "      <td>1.989381e+08</td>\n",
       "      <td>500000000</td>\n",
       "    </tr>\n",
       "    <tr>\n",
       "      <th>1087</th>\n",
       "      <td>BTXC</td>\n",
       "      <td>Bettex coin</td>\n",
       "      <td>XEVAN</td>\n",
       "      <td>PoS</td>\n",
       "      <td>6.787405e+06</td>\n",
       "      <td>50000000</td>\n",
       "    </tr>\n",
       "  </tbody>\n",
       "</table>\n",
       "</div>"
      ],
      "text/plain": [
       "     Unnamed: 0           CoinName Algorithm ProofType  TotalCoinsMined  \\\n",
       "992         XBI  Bitcoin Incognito     XEVAN   PoS/PoW     1.090496e+07   \n",
       "1051      URALS         Urals Coin     XEVAN       PoW     1.474615e+07   \n",
       "1101       BITM           BitMoney     XEVAN       Pos     2.085159e+08   \n",
       "1140       BEET        Beetle Coin     XEVAN   PoW/PoS     1.989381e+08   \n",
       "1087       BTXC        Bettex coin     XEVAN       PoS     6.787405e+06   \n",
       "\n",
       "     TotalCoinSupply  \n",
       "992         21000000  \n",
       "1051       210000000  \n",
       "1101     70000000000  \n",
       "1140       500000000  \n",
       "1087        50000000  "
      ]
     },
     "execution_count": 136,
     "metadata": {},
     "output_type": "execute_result"
    }
   ],
   "source": [
    "# Keep the rows where coins are mined.\n",
    "df_step5 = df_step4.loc[df_step4['TotalCoinsMined'] > 0]\n",
    "#df_step5.info()\n",
    "df_step5.head()"
   ]
  },
  {
   "cell_type": "code",
   "execution_count": 87,
   "metadata": {},
   "outputs": [
    {
     "data": {
      "text/html": [
       "<div>\n",
       "<style scoped>\n",
       "    .dataframe tbody tr th:only-of-type {\n",
       "        vertical-align: middle;\n",
       "    }\n",
       "\n",
       "    .dataframe tbody tr th {\n",
       "        vertical-align: top;\n",
       "    }\n",
       "\n",
       "    .dataframe thead th {\n",
       "        text-align: right;\n",
       "    }\n",
       "</style>\n",
       "<table border=\"1\" class=\"dataframe\">\n",
       "  <thead>\n",
       "    <tr style=\"text-align: right;\">\n",
       "      <th></th>\n",
       "      <th>CoinName</th>\n",
       "    </tr>\n",
       "  </thead>\n",
       "  <tbody>\n",
       "    <tr>\n",
       "      <th>992</th>\n",
       "      <td>Bitcoin Incognito</td>\n",
       "    </tr>\n",
       "    <tr>\n",
       "      <th>1051</th>\n",
       "      <td>Urals Coin</td>\n",
       "    </tr>\n",
       "    <tr>\n",
       "      <th>1101</th>\n",
       "      <td>BitMoney</td>\n",
       "    </tr>\n",
       "    <tr>\n",
       "      <th>1140</th>\n",
       "      <td>Beetle Coin</td>\n",
       "    </tr>\n",
       "    <tr>\n",
       "      <th>1087</th>\n",
       "      <td>Bettex coin</td>\n",
       "    </tr>\n",
       "  </tbody>\n",
       "</table>\n",
       "</div>"
      ],
      "text/plain": [
       "               CoinName\n",
       "992   Bitcoin Incognito\n",
       "1051         Urals Coin\n",
       "1101           BitMoney\n",
       "1140        Beetle Coin\n",
       "1087        Bettex coin"
      ]
     },
     "execution_count": 87,
     "metadata": {},
     "output_type": "execute_result"
    }
   ],
   "source": [
    "# Create a new DataFrame that holds only the cryptocurrencies names.\n",
    "cryptocurrency_names_df = df_step5[[\"CoinName\"]]\n",
    "cryptocurrency_names_df.head()"
   ]
  },
  {
   "cell_type": "code",
   "execution_count": 88,
   "metadata": {},
   "outputs": [
    {
     "data": {
      "text/html": [
       "<div>\n",
       "<style scoped>\n",
       "    .dataframe tbody tr th:only-of-type {\n",
       "        vertical-align: middle;\n",
       "    }\n",
       "\n",
       "    .dataframe tbody tr th {\n",
       "        vertical-align: top;\n",
       "    }\n",
       "\n",
       "    .dataframe thead th {\n",
       "        text-align: right;\n",
       "    }\n",
       "</style>\n",
       "<table border=\"1\" class=\"dataframe\">\n",
       "  <thead>\n",
       "    <tr style=\"text-align: right;\">\n",
       "      <th></th>\n",
       "      <th>Algorithm</th>\n",
       "      <th>ProofType</th>\n",
       "      <th>TotalCoinsMined</th>\n",
       "      <th>TotalCoinSupply</th>\n",
       "    </tr>\n",
       "  </thead>\n",
       "  <tbody>\n",
       "    <tr>\n",
       "      <th>992</th>\n",
       "      <td>XEVAN</td>\n",
       "      <td>PoS/PoW</td>\n",
       "      <td>1.090496e+07</td>\n",
       "      <td>21000000</td>\n",
       "    </tr>\n",
       "    <tr>\n",
       "      <th>1051</th>\n",
       "      <td>XEVAN</td>\n",
       "      <td>PoW</td>\n",
       "      <td>1.474615e+07</td>\n",
       "      <td>210000000</td>\n",
       "    </tr>\n",
       "    <tr>\n",
       "      <th>1101</th>\n",
       "      <td>XEVAN</td>\n",
       "      <td>Pos</td>\n",
       "      <td>2.085159e+08</td>\n",
       "      <td>70000000000</td>\n",
       "    </tr>\n",
       "    <tr>\n",
       "      <th>1140</th>\n",
       "      <td>XEVAN</td>\n",
       "      <td>PoW/PoS</td>\n",
       "      <td>1.989381e+08</td>\n",
       "      <td>500000000</td>\n",
       "    </tr>\n",
       "    <tr>\n",
       "      <th>1087</th>\n",
       "      <td>XEVAN</td>\n",
       "      <td>PoS</td>\n",
       "      <td>6.787405e+06</td>\n",
       "      <td>50000000</td>\n",
       "    </tr>\n",
       "  </tbody>\n",
       "</table>\n",
       "</div>"
      ],
      "text/plain": [
       "     Algorithm ProofType  TotalCoinsMined TotalCoinSupply\n",
       "992      XEVAN   PoS/PoW     1.090496e+07        21000000\n",
       "1051     XEVAN       PoW     1.474615e+07       210000000\n",
       "1101     XEVAN       Pos     2.085159e+08     70000000000\n",
       "1140     XEVAN   PoW/PoS     1.989381e+08       500000000\n",
       "1087     XEVAN       PoS     6.787405e+06        50000000"
      ]
     },
     "execution_count": 88,
     "metadata": {},
     "output_type": "execute_result"
    }
   ],
   "source": [
    "# Drop the 'CoinName' column since it's not going to be used on the clustering algorithm.\n",
    "crypto_df = df_step5.drop(['CoinName','Unnamed: 0'], axis=1)\n",
    "crypto_df.head()"
   ]
  },
  {
   "cell_type": "code",
   "execution_count": 89,
   "metadata": {},
   "outputs": [
    {
     "data": {
      "text/html": [
       "<div>\n",
       "<style scoped>\n",
       "    .dataframe tbody tr th:only-of-type {\n",
       "        vertical-align: middle;\n",
       "    }\n",
       "\n",
       "    .dataframe tbody tr th {\n",
       "        vertical-align: top;\n",
       "    }\n",
       "\n",
       "    .dataframe thead th {\n",
       "        text-align: right;\n",
       "    }\n",
       "</style>\n",
       "<table border=\"1\" class=\"dataframe\">\n",
       "  <thead>\n",
       "    <tr style=\"text-align: right;\">\n",
       "      <th></th>\n",
       "      <th>TotalCoinsMined</th>\n",
       "      <th>TotalCoinSupply</th>\n",
       "      <th>Algorithm_1GB AES Pattern Search</th>\n",
       "      <th>Algorithm_536</th>\n",
       "      <th>Algorithm_Argon2d</th>\n",
       "      <th>Algorithm_BLAKE256</th>\n",
       "      <th>Algorithm_Blake</th>\n",
       "      <th>Algorithm_Blake2S</th>\n",
       "      <th>Algorithm_Blake2b</th>\n",
       "      <th>Algorithm_C11</th>\n",
       "      <th>...</th>\n",
       "      <th>ProofType_PoW/PoS</th>\n",
       "      <th>ProofType_PoW/PoS</th>\n",
       "      <th>ProofType_PoW/PoW</th>\n",
       "      <th>ProofType_PoW/nPoS</th>\n",
       "      <th>ProofType_Pos</th>\n",
       "      <th>ProofType_Proof of Authority</th>\n",
       "      <th>ProofType_Proof of Trust</th>\n",
       "      <th>ProofType_TPoS</th>\n",
       "      <th>ProofType_Zero-Knowledge Proof</th>\n",
       "      <th>ProofType_dPoW/PoW</th>\n",
       "    </tr>\n",
       "  </thead>\n",
       "  <tbody>\n",
       "    <tr>\n",
       "      <th>992</th>\n",
       "      <td>1.090496e+07</td>\n",
       "      <td>21000000</td>\n",
       "      <td>0</td>\n",
       "      <td>0</td>\n",
       "      <td>0</td>\n",
       "      <td>0</td>\n",
       "      <td>0</td>\n",
       "      <td>0</td>\n",
       "      <td>0</td>\n",
       "      <td>0</td>\n",
       "      <td>...</td>\n",
       "      <td>0</td>\n",
       "      <td>0</td>\n",
       "      <td>0</td>\n",
       "      <td>0</td>\n",
       "      <td>0</td>\n",
       "      <td>0</td>\n",
       "      <td>0</td>\n",
       "      <td>0</td>\n",
       "      <td>0</td>\n",
       "      <td>0</td>\n",
       "    </tr>\n",
       "    <tr>\n",
       "      <th>1051</th>\n",
       "      <td>1.474615e+07</td>\n",
       "      <td>210000000</td>\n",
       "      <td>0</td>\n",
       "      <td>0</td>\n",
       "      <td>0</td>\n",
       "      <td>0</td>\n",
       "      <td>0</td>\n",
       "      <td>0</td>\n",
       "      <td>0</td>\n",
       "      <td>0</td>\n",
       "      <td>...</td>\n",
       "      <td>0</td>\n",
       "      <td>0</td>\n",
       "      <td>0</td>\n",
       "      <td>0</td>\n",
       "      <td>0</td>\n",
       "      <td>0</td>\n",
       "      <td>0</td>\n",
       "      <td>0</td>\n",
       "      <td>0</td>\n",
       "      <td>0</td>\n",
       "    </tr>\n",
       "    <tr>\n",
       "      <th>1101</th>\n",
       "      <td>2.085159e+08</td>\n",
       "      <td>70000000000</td>\n",
       "      <td>0</td>\n",
       "      <td>0</td>\n",
       "      <td>0</td>\n",
       "      <td>0</td>\n",
       "      <td>0</td>\n",
       "      <td>0</td>\n",
       "      <td>0</td>\n",
       "      <td>0</td>\n",
       "      <td>...</td>\n",
       "      <td>0</td>\n",
       "      <td>0</td>\n",
       "      <td>0</td>\n",
       "      <td>0</td>\n",
       "      <td>1</td>\n",
       "      <td>0</td>\n",
       "      <td>0</td>\n",
       "      <td>0</td>\n",
       "      <td>0</td>\n",
       "      <td>0</td>\n",
       "    </tr>\n",
       "    <tr>\n",
       "      <th>1140</th>\n",
       "      <td>1.989381e+08</td>\n",
       "      <td>500000000</td>\n",
       "      <td>0</td>\n",
       "      <td>0</td>\n",
       "      <td>0</td>\n",
       "      <td>0</td>\n",
       "      <td>0</td>\n",
       "      <td>0</td>\n",
       "      <td>0</td>\n",
       "      <td>0</td>\n",
       "      <td>...</td>\n",
       "      <td>1</td>\n",
       "      <td>0</td>\n",
       "      <td>0</td>\n",
       "      <td>0</td>\n",
       "      <td>0</td>\n",
       "      <td>0</td>\n",
       "      <td>0</td>\n",
       "      <td>0</td>\n",
       "      <td>0</td>\n",
       "      <td>0</td>\n",
       "    </tr>\n",
       "    <tr>\n",
       "      <th>1087</th>\n",
       "      <td>6.787405e+06</td>\n",
       "      <td>50000000</td>\n",
       "      <td>0</td>\n",
       "      <td>0</td>\n",
       "      <td>0</td>\n",
       "      <td>0</td>\n",
       "      <td>0</td>\n",
       "      <td>0</td>\n",
       "      <td>0</td>\n",
       "      <td>0</td>\n",
       "      <td>...</td>\n",
       "      <td>0</td>\n",
       "      <td>0</td>\n",
       "      <td>0</td>\n",
       "      <td>0</td>\n",
       "      <td>0</td>\n",
       "      <td>0</td>\n",
       "      <td>0</td>\n",
       "      <td>0</td>\n",
       "      <td>0</td>\n",
       "      <td>0</td>\n",
       "    </tr>\n",
       "  </tbody>\n",
       "</table>\n",
       "<p>5 rows × 98 columns</p>\n",
       "</div>"
      ],
      "text/plain": [
       "      TotalCoinsMined TotalCoinSupply  Algorithm_1GB AES Pattern Search  \\\n",
       "992      1.090496e+07        21000000                                 0   \n",
       "1051     1.474615e+07       210000000                                 0   \n",
       "1101     2.085159e+08     70000000000                                 0   \n",
       "1140     1.989381e+08       500000000                                 0   \n",
       "1087     6.787405e+06        50000000                                 0   \n",
       "\n",
       "      Algorithm_536  Algorithm_Argon2d  Algorithm_BLAKE256  Algorithm_Blake  \\\n",
       "992               0                  0                   0                0   \n",
       "1051              0                  0                   0                0   \n",
       "1101              0                  0                   0                0   \n",
       "1140              0                  0                   0                0   \n",
       "1087              0                  0                   0                0   \n",
       "\n",
       "      Algorithm_Blake2S  Algorithm_Blake2b  Algorithm_C11  ...  \\\n",
       "992                   0                  0              0  ...   \n",
       "1051                  0                  0              0  ...   \n",
       "1101                  0                  0              0  ...   \n",
       "1140                  0                  0              0  ...   \n",
       "1087                  0                  0              0  ...   \n",
       "\n",
       "      ProofType_PoW/PoS  ProofType_PoW/PoS   ProofType_PoW/PoW  \\\n",
       "992                   0                   0                  0   \n",
       "1051                  0                   0                  0   \n",
       "1101                  0                   0                  0   \n",
       "1140                  1                   0                  0   \n",
       "1087                  0                   0                  0   \n",
       "\n",
       "      ProofType_PoW/nPoS  ProofType_Pos  ProofType_Proof of Authority  \\\n",
       "992                    0              0                             0   \n",
       "1051                   0              0                             0   \n",
       "1101                   0              1                             0   \n",
       "1140                   0              0                             0   \n",
       "1087                   0              0                             0   \n",
       "\n",
       "      ProofType_Proof of Trust  ProofType_TPoS  \\\n",
       "992                          0               0   \n",
       "1051                         0               0   \n",
       "1101                         0               0   \n",
       "1140                         0               0   \n",
       "1087                         0               0   \n",
       "\n",
       "      ProofType_Zero-Knowledge Proof  ProofType_dPoW/PoW  \n",
       "992                                0                   0  \n",
       "1051                               0                   0  \n",
       "1101                               0                   0  \n",
       "1140                               0                   0  \n",
       "1087                               0                   0  \n",
       "\n",
       "[5 rows x 98 columns]"
      ]
     },
     "execution_count": 89,
     "metadata": {},
     "output_type": "execute_result"
    }
   ],
   "source": [
    "# Use get_dummies() to create variables for text features.\n",
    "X = pd.get_dummies(crypto_df, columns=['Algorithm', 'ProofType'])\n",
    "X.head()"
   ]
  },
  {
   "cell_type": "code",
   "execution_count": 90,
   "metadata": {},
   "outputs": [
    {
     "name": "stdout",
     "output_type": "stream",
     "text": [
      "[[-0.11686904 -0.15255998 -0.0433963  -0.0433963  -0.0433963  -0.06142951\n",
      "  -0.07530656 -0.0433963  -0.06142951 -0.06142951 -0.0433963  -0.0433963\n",
      "  -0.19245009 -0.06142951 -0.09740465 -0.0433963  -0.11547005 -0.07530656\n",
      "  -0.0433963  -0.0433963  -0.15191091 -0.0433963  -0.13118084 -0.0433963\n",
      "  -0.0433963  -0.08703883 -0.0433963  -0.0433963  -0.0433963  -0.0433963\n",
      "  -0.06142951 -0.0433963  -0.08703883 -0.08703883 -0.08703883 -0.0433963\n",
      "  -0.13118084 -0.13840913 -0.13840913 -0.0433963  -0.06142951 -0.0433963\n",
      "  -0.07530656 -0.18168574 -0.0433963  -0.0433963  -0.0433963  -0.07530656\n",
      "  -0.15826614 -0.31491833 -0.0433963  -0.08703883 -0.07530656 -0.06142951\n",
      "  -0.72111026 -0.0433963  -0.0433963  -0.06142951 -0.0433963  -0.0433963\n",
      "  -0.0433963  -0.0433963  -0.0433963  -0.0433963  -0.0433963  -0.0433963\n",
      "  -0.39879994 -0.0433963  -0.18168574 -0.0433963  -0.08703883 -0.08703883\n",
      "   9.36304794 -0.0433963  -0.13118084 -0.0433963  -0.0433963  -0.0433963\n",
      "  -0.0433963  -0.07530656 -0.43911856 -0.0433963  16.2788206  -0.0433963\n",
      "  -0.0433963  -0.89632016 -0.0433963  -0.0433963  -0.70312305 -0.0433963\n",
      "  -0.0433963  -0.0433963  -0.0433963  -0.0433963  -0.0433963  -0.0433963\n",
      "  -0.0433963  -0.0433963 ]\n",
      " [-0.11678481 -0.14976715 -0.0433963  -0.0433963  -0.0433963  -0.06142951\n",
      "  -0.07530656 -0.0433963  -0.06142951 -0.06142951 -0.0433963  -0.0433963\n",
      "  -0.19245009 -0.06142951 -0.09740465 -0.0433963  -0.11547005 -0.07530656\n",
      "  -0.0433963  -0.0433963  -0.15191091 -0.0433963  -0.13118084 -0.0433963\n",
      "  -0.0433963  -0.08703883 -0.0433963  -0.0433963  -0.0433963  -0.0433963\n",
      "  -0.06142951 -0.0433963  -0.08703883 -0.08703883 -0.08703883 -0.0433963\n",
      "  -0.13118084 -0.13840913 -0.13840913 -0.0433963  -0.06142951 -0.0433963\n",
      "  -0.07530656 -0.18168574 -0.0433963  -0.0433963  -0.0433963  -0.07530656\n",
      "  -0.15826614 -0.31491833 -0.0433963  -0.08703883 -0.07530656 -0.06142951\n",
      "  -0.72111026 -0.0433963  -0.0433963  -0.06142951 -0.0433963  -0.0433963\n",
      "  -0.0433963  -0.0433963  -0.0433963  -0.0433963  -0.0433963  -0.0433963\n",
      "  -0.39879994 -0.0433963  -0.18168574 -0.0433963  -0.08703883 -0.08703883\n",
      "   9.36304794 -0.0433963  -0.13118084 -0.0433963  -0.0433963  -0.0433963\n",
      "  -0.0433963  -0.07530656 -0.43911856 -0.0433963  -0.06142951 -0.0433963\n",
      "  -0.0433963   1.11567277 -0.0433963  -0.0433963  -0.70312305 -0.0433963\n",
      "  -0.0433963  -0.0433963  -0.0433963  -0.0433963  -0.0433963  -0.0433963\n",
      "  -0.0433963  -0.0433963 ]\n",
      " [-0.11253573  0.88151146 -0.0433963  -0.0433963  -0.0433963  -0.06142951\n",
      "  -0.07530656 -0.0433963  -0.06142951 -0.06142951 -0.0433963  -0.0433963\n",
      "  -0.19245009 -0.06142951 -0.09740465 -0.0433963  -0.11547005 -0.07530656\n",
      "  -0.0433963  -0.0433963  -0.15191091 -0.0433963  -0.13118084 -0.0433963\n",
      "  -0.0433963  -0.08703883 -0.0433963  -0.0433963  -0.0433963  -0.0433963\n",
      "  -0.06142951 -0.0433963  -0.08703883 -0.08703883 -0.08703883 -0.0433963\n",
      "  -0.13118084 -0.13840913 -0.13840913 -0.0433963  -0.06142951 -0.0433963\n",
      "  -0.07530656 -0.18168574 -0.0433963  -0.0433963  -0.0433963  -0.07530656\n",
      "  -0.15826614 -0.31491833 -0.0433963  -0.08703883 -0.07530656 -0.06142951\n",
      "  -0.72111026 -0.0433963  -0.0433963  -0.06142951 -0.0433963  -0.0433963\n",
      "  -0.0433963  -0.0433963  -0.0433963  -0.0433963  -0.0433963  -0.0433963\n",
      "  -0.39879994 -0.0433963  -0.18168574 -0.0433963  -0.08703883 -0.08703883\n",
      "   9.36304794 -0.0433963  -0.13118084 -0.0433963  -0.0433963  -0.0433963\n",
      "  -0.0433963  -0.07530656 -0.43911856 -0.0433963  -0.06142951 -0.0433963\n",
      "  -0.0433963  -0.89632016 -0.0433963  -0.0433963  -0.70312305 -0.0433963\n",
      "  -0.0433963  -0.0433963  23.04343724 -0.0433963  -0.0433963  -0.0433963\n",
      "  -0.0433963  -0.0433963 ]\n",
      " [-0.11274576 -0.14548186 -0.0433963  -0.0433963  -0.0433963  -0.06142951\n",
      "  -0.07530656 -0.0433963  -0.06142951 -0.06142951 -0.0433963  -0.0433963\n",
      "  -0.19245009 -0.06142951 -0.09740465 -0.0433963  -0.11547005 -0.07530656\n",
      "  -0.0433963  -0.0433963  -0.15191091 -0.0433963  -0.13118084 -0.0433963\n",
      "  -0.0433963  -0.08703883 -0.0433963  -0.0433963  -0.0433963  -0.0433963\n",
      "  -0.06142951 -0.0433963  -0.08703883 -0.08703883 -0.08703883 -0.0433963\n",
      "  -0.13118084 -0.13840913 -0.13840913 -0.0433963  -0.06142951 -0.0433963\n",
      "  -0.07530656 -0.18168574 -0.0433963  -0.0433963  -0.0433963  -0.07530656\n",
      "  -0.15826614 -0.31491833 -0.0433963  -0.08703883 -0.07530656 -0.06142951\n",
      "  -0.72111026 -0.0433963  -0.0433963  -0.06142951 -0.0433963  -0.0433963\n",
      "  -0.0433963  -0.0433963  -0.0433963  -0.0433963  -0.0433963  -0.0433963\n",
      "  -0.39879994 -0.0433963  -0.18168574 -0.0433963  -0.08703883 -0.08703883\n",
      "   9.36304794 -0.0433963  -0.13118084 -0.0433963  -0.0433963  -0.0433963\n",
      "  -0.0433963  -0.07530656 -0.43911856 -0.0433963  -0.06142951 -0.0433963\n",
      "  -0.0433963  -0.89632016 -0.0433963  -0.0433963   1.42222617 -0.0433963\n",
      "  -0.0433963  -0.0433963  -0.0433963  -0.0433963  -0.0433963  -0.0433963\n",
      "  -0.0433963  -0.0433963 ]\n",
      " [-0.11695933 -0.15213145 -0.0433963  -0.0433963  -0.0433963  -0.06142951\n",
      "  -0.07530656 -0.0433963  -0.06142951 -0.06142951 -0.0433963  -0.0433963\n",
      "  -0.19245009 -0.06142951 -0.09740465 -0.0433963  -0.11547005 -0.07530656\n",
      "  -0.0433963  -0.0433963  -0.15191091 -0.0433963  -0.13118084 -0.0433963\n",
      "  -0.0433963  -0.08703883 -0.0433963  -0.0433963  -0.0433963  -0.0433963\n",
      "  -0.06142951 -0.0433963  -0.08703883 -0.08703883 -0.08703883 -0.0433963\n",
      "  -0.13118084 -0.13840913 -0.13840913 -0.0433963  -0.06142951 -0.0433963\n",
      "  -0.07530656 -0.18168574 -0.0433963  -0.0433963  -0.0433963  -0.07530656\n",
      "  -0.15826614 -0.31491833 -0.0433963  -0.08703883 -0.07530656 -0.06142951\n",
      "  -0.72111026 -0.0433963  -0.0433963  -0.06142951 -0.0433963  -0.0433963\n",
      "  -0.0433963  -0.0433963  -0.0433963  -0.0433963  -0.0433963  -0.0433963\n",
      "  -0.39879994 -0.0433963  -0.18168574 -0.0433963  -0.08703883 -0.08703883\n",
      "   9.36304794 -0.0433963  -0.13118084 -0.0433963  -0.0433963  -0.0433963\n",
      "  -0.0433963  -0.07530656  2.27728929 -0.0433963  -0.06142951 -0.0433963\n",
      "  -0.0433963  -0.89632016 -0.0433963  -0.0433963  -0.70312305 -0.0433963\n",
      "  -0.0433963  -0.0433963  -0.0433963  -0.0433963  -0.0433963  -0.0433963\n",
      "  -0.0433963  -0.0433963 ]]\n"
     ]
    }
   ],
   "source": [
    "# Standardize the data with StandardScaler().\n",
    "X_scaled = StandardScaler().fit_transform(X)\n",
    "print(X_scaled[0:5])"
   ]
  },
  {
   "cell_type": "markdown",
   "metadata": {},
   "source": [
    "### Deliverable 2: Reducing Data Dimensions Using PCA"
   ]
  },
  {
   "cell_type": "code",
   "execution_count": 91,
   "metadata": {},
   "outputs": [
    {
     "data": {
      "text/plain": [
       "PCA(n_components=3)"
      ]
     },
     "execution_count": 91,
     "metadata": {},
     "output_type": "execute_result"
    }
   ],
   "source": [
    "# Using PCA to reduce dimension to three principal components.\n",
    "pca = PCA(n_components=3)\n",
    "pca"
   ]
  },
  {
   "cell_type": "code",
   "execution_count": 92,
   "metadata": {},
   "outputs": [
    {
     "data": {
      "text/plain": [
       "array([[-0.34813391,  0.50898887, -0.01538689],\n",
       "       [-0.16802863, -0.89364795,  0.13882953],\n",
       "       [ 0.43658446,  0.33548185,  0.03781884],\n",
       "       ...,\n",
       "       [-0.13482724, -2.04387708,  0.41023843],\n",
       "       [ 0.59420546,  2.0950417 , -0.66913062],\n",
       "       [-0.14829382, -2.10788229,  0.36675927]])"
      ]
     },
     "execution_count": 92,
     "metadata": {},
     "output_type": "execute_result"
    }
   ],
   "source": [
    "# Create a DataFrame with the three principal components.\n",
    "X_pca = pca.fit_transform(X_scaled)\n",
    "X_pca"
   ]
  },
  {
   "cell_type": "code",
   "execution_count": 93,
   "metadata": {},
   "outputs": [
    {
     "data": {
      "text/plain": [
       "[992,\n",
       " 1051,\n",
       " 1101,\n",
       " 1140,\n",
       " 1087,\n",
       " 940,\n",
       " 1075,\n",
       " 1034,\n",
       " 987,\n",
       " 1030,\n",
       " 737,\n",
       " 24,\n",
       " 330,\n",
       " 1021,\n",
       " 522,\n",
       " 148,\n",
       " 1147,\n",
       " 436,\n",
       " 205,\n",
       " 140,\n",
       " 758,\n",
       " 228,\n",
       " 767,\n",
       " 560,\n",
       " 838,\n",
       " 235,\n",
       " 324,\n",
       " 516,\n",
       " 1202,\n",
       " 923,\n",
       " 675,\n",
       " 5,\n",
       " 362,\n",
       " 867,\n",
       " 188,\n",
       " 592,\n",
       " 200,\n",
       " 863,\n",
       " 413,\n",
       " 856,\n",
       " 835,\n",
       " 822,\n",
       " 799,\n",
       " 795,\n",
       " 174,\n",
       " 722,\n",
       " 303,\n",
       " 642,\n",
       " 307,\n",
       " 715,\n",
       " 712,\n",
       " 699,\n",
       " 696,\n",
       " 331,\n",
       " 363,\n",
       " 653,\n",
       " 338,\n",
       " 679,\n",
       " 355,\n",
       " 289,\n",
       " 391,\n",
       " 777,\n",
       " 772,\n",
       " 246,\n",
       " 764,\n",
       " 761,\n",
       " 182,\n",
       " 754,\n",
       " 385,\n",
       " 281,\n",
       " 1066,\n",
       " 491,\n",
       " 543,\n",
       " 1068,\n",
       " 1056,\n",
       " 1054,\n",
       " 1192,\n",
       " 113,\n",
       " 456,\n",
       " 1032,\n",
       " 555,\n",
       " 110,\n",
       " 27,\n",
       " 1158,\n",
       " 1176,\n",
       " 1149,\n",
       " 1142,\n",
       " 1137,\n",
       " 1104,\n",
       " 73,\n",
       " 1187,\n",
       " 1167,\n",
       " 10,\n",
       " 175,\n",
       " 438,\n",
       " 437,\n",
       " 938,\n",
       " 935,\n",
       " 571,\n",
       " 573,\n",
       " 580,\n",
       " 887,\n",
       " 441,\n",
       " 563,\n",
       " 981,\n",
       " 882,\n",
       " 780,\n",
       " 942,\n",
       " 993,\n",
       " 768,\n",
       " 1234,\n",
       " 244,\n",
       " 771,\n",
       " 905,\n",
       " 756,\n",
       " 774,\n",
       " 214,\n",
       " 978,\n",
       " 654,\n",
       " 652,\n",
       " 567,\n",
       " 606,\n",
       " 605,\n",
       " 600,\n",
       " 570,\n",
       " 599,\n",
       " 578,\n",
       " 581,\n",
       " 639,\n",
       " 548,\n",
       " 585,\n",
       " 622,\n",
       " 0,\n",
       " 769,\n",
       " 995,\n",
       " 1009,\n",
       " 1013,\n",
       " 1017,\n",
       " 1022,\n",
       " 1037,\n",
       " 1044,\n",
       " 1046,\n",
       " 1057,\n",
       " 989,\n",
       " 918,\n",
       " 926,\n",
       " 927,\n",
       " 941,\n",
       " 948,\n",
       " 963,\n",
       " 964,\n",
       " 968,\n",
       " 974,\n",
       " 1071,\n",
       " 901,\n",
       " 1195,\n",
       " 1181,\n",
       " 1185,\n",
       " 1188,\n",
       " 1190,\n",
       " 1191,\n",
       " 1196,\n",
       " 1172,\n",
       " 1242,\n",
       " 1178,\n",
       " 1170,\n",
       " 1121,\n",
       " 1123,\n",
       " 1166,\n",
       " 1131,\n",
       " 1138,\n",
       " 1155,\n",
       " 1157,\n",
       " 1161,\n",
       " 1164,\n",
       " 906,\n",
       " 663,\n",
       " 717,\n",
       " 718,\n",
       " 719,\n",
       " 723,\n",
       " 725,\n",
       " 732,\n",
       " 742,\n",
       " 757,\n",
       " 683,\n",
       " 664,\n",
       " 674,\n",
       " 682,\n",
       " 694,\n",
       " 703,\n",
       " 759,\n",
       " 860,\n",
       " 844,\n",
       " 859,\n",
       " 862,\n",
       " 813,\n",
       " 878,\n",
       " 879,\n",
       " 880,\n",
       " 815,\n",
       " 811,\n",
       " 765,\n",
       " 786,\n",
       " 779,\n",
       " 781,\n",
       " 783,\n",
       " 785,\n",
       " 787,\n",
       " 788,\n",
       " 789,\n",
       " 791,\n",
       " 800,\n",
       " 805,\n",
       " 1247,\n",
       " 130,\n",
       " 347,\n",
       " 112,\n",
       " 120,\n",
       " 122,\n",
       " 124,\n",
       " 339,\n",
       " 133,\n",
       " 151,\n",
       " 335,\n",
       " 135,\n",
       " 139,\n",
       " 144,\n",
       " 321,\n",
       " 147,\n",
       " 320,\n",
       " 107,\n",
       " 82,\n",
       " 84,\n",
       " 85,\n",
       " 375,\n",
       " 372,\n",
       " 94,\n",
       " 369,\n",
       " 99,\n",
       " 100,\n",
       " 101,\n",
       " 359,\n",
       " 352,\n",
       " 153,\n",
       " 208,\n",
       " 193,\n",
       " 195,\n",
       " 267,\n",
       " 197,\n",
       " 256,\n",
       " 254,\n",
       " 251,\n",
       " 218,\n",
       " 239,\n",
       " 234,\n",
       " 232,\n",
       " 231,\n",
       " 229,\n",
       " 227,\n",
       " 226,\n",
       " 190,\n",
       " 189,\n",
       " 315,\n",
       " 155,\n",
       " 157,\n",
       " 162,\n",
       " 168,\n",
       " 276,\n",
       " 81,\n",
       " 95,\n",
       " 225,\n",
       " 420,\n",
       " 45,\n",
       " 446,\n",
       " 47,\n",
       " 48,\n",
       " 49,\n",
       " 52,\n",
       " 54,\n",
       " 428,\n",
       " 426,\n",
       " 42,\n",
       " 483,\n",
       " 478,\n",
       " 20,\n",
       " 472,\n",
       " 476,\n",
       " 39,\n",
       " 463,\n",
       " 37,\n",
       " 462,\n",
       " 458,\n",
       " 9,\n",
       " 431,\n",
       " 61,\n",
       " 62,\n",
       " 63,\n",
       " 2,\n",
       " 74,\n",
       " 129,\n",
       " 286,\n",
       " 793,\n",
       " 1074,\n",
       " 14,\n",
       " 525,\n",
       " 479,\n",
       " 1141,\n",
       " 1015,\n",
       " 925,\n",
       " 220,\n",
       " 1193,\n",
       " 187,\n",
       " 7,\n",
       " 19,\n",
       " 819,\n",
       " 203,\n",
       " 1238,\n",
       " 1226,\n",
       " 16,\n",
       " 806,\n",
       " 80,\n",
       " 186,\n",
       " 1148,\n",
       " 114,\n",
       " 1144,\n",
       " 1026,\n",
       " 1097,\n",
       " 1063,\n",
       " 137,\n",
       " 146,\n",
       " 888,\n",
       " 183,\n",
       " 180,\n",
       " 176,\n",
       " 46,\n",
       " 1177,\n",
       " 1175,\n",
       " 1165,\n",
       " 721,\n",
       " 726,\n",
       " 371,\n",
       " 739,\n",
       " 273,\n",
       " 640,\n",
       " 327,\n",
       " 397,\n",
       " 403,\n",
       " 301,\n",
       " 337,\n",
       " 341,\n",
       " 343,\n",
       " 475,\n",
       " 332,\n",
       " 576,\n",
       " 775,\n",
       " 455,\n",
       " 454,\n",
       " 608,\n",
       " 1023,\n",
       " 982,\n",
       " 1125,\n",
       " 1111,\n",
       " 1040,\n",
       " 812,\n",
       " 1035,\n",
       " 875,\n",
       " 50,\n",
       " 1036,\n",
       " 855,\n",
       " 1130,\n",
       " 609,\n",
       " 248,\n",
       " 1136,\n",
       " 302,\n",
       " 924,\n",
       " 937,\n",
       " 983,\n",
       " 565,\n",
       " 973,\n",
       " 523,\n",
       " 86,\n",
       " 1059,\n",
       " 572,\n",
       " 373,\n",
       " 1189,\n",
       " 482,\n",
       " 728,\n",
       " 509,\n",
       " 711,\n",
       " 714,\n",
       " 1231,\n",
       " 1237,\n",
       " 782,\n",
       " 897,\n",
       " 745,\n",
       " 422,\n",
       " 814,\n",
       " 181,\n",
       " 809,\n",
       " 794,\n",
       " 830,\n",
       " 1198,\n",
       " 98,\n",
       " 873,\n",
       " 876,\n",
       " 801,\n",
       " 823,\n",
       " 149,\n",
       " 798,\n",
       " 1159,\n",
       " 713,\n",
       " 345,\n",
       " 958,\n",
       " 753,\n",
       " 755,\n",
       " 808,\n",
       " 852,\n",
       " 837,\n",
       " 404,\n",
       " 990,\n",
       " 179,\n",
       " 44,\n",
       " 77,\n",
       " 1201,\n",
       " 15,\n",
       " 247,\n",
       " 202,\n",
       " 840,\n",
       " 459,\n",
       " 263,\n",
       " 504,\n",
       " 1091,\n",
       " 970,\n",
       " 996,\n",
       " 803,\n",
       " 196,\n",
       " 1039,\n",
       " 921,\n",
       " 684,\n",
       " 626,\n",
       " 294,\n",
       " 991,\n",
       " 1230,\n",
       " 1065,\n",
       " 770,\n",
       " 1014,\n",
       " 952,\n",
       " 131,\n",
       " 1031,\n",
       " 76,\n",
       " 51,\n",
       " 1186,\n",
       " 224,\n",
       " 972,\n",
       " 1120,\n",
       " 1213,\n",
       " 827,\n",
       " 12,\n",
       " 943,\n",
       " 526,\n",
       " 322,\n",
       " 8,\n",
       " 851,\n",
       " 899,\n",
       " 1204,\n",
       " 804,\n",
       " 1127,\n",
       " 1086,\n",
       " 966,\n",
       " 534,\n",
       " 681,\n",
       " 440,\n",
       " 796,\n",
       " 1119,\n",
       " 1246,\n",
       " 13,\n",
       " 1124,\n",
       " 1076,\n",
       " 695,\n",
       " 920,\n",
       " 810,\n",
       " 358,\n",
       " 1151,\n",
       " 1211,\n",
       " 1029,\n",
       " 1214,\n",
       " 1194,\n",
       " 836,\n",
       " 539,\n",
       " 1049,\n",
       " 11,\n",
       " 662,\n",
       " 747,\n",
       " 1048,\n",
       " 858,\n",
       " 1005,\n",
       " 1052,\n",
       " 452,\n",
       " 909,\n",
       " 903,\n",
       " 752,\n",
       " 850,\n",
       " 845,\n",
       " 766,\n",
       " 210,\n",
       " 212,\n",
       " 1245,\n",
       " 792,\n",
       " 984,\n",
       " 946,\n",
       " 623,\n",
       " 1016,\n",
       " 1105,\n",
       " 1006,\n",
       " 1001,\n",
       " 593,\n",
       " 215,\n",
       " 751,\n",
       " 936,\n",
       " 889,\n",
       " 750,\n",
       " 325,\n",
       " 698,\n",
       " 1115,\n",
       " 1163,\n",
       " 1114,\n",
       " 866,\n",
       " 333,\n",
       " 749,\n",
       " 748,\n",
       " 336]"
      ]
     },
     "execution_count": 93,
     "metadata": {},
     "output_type": "execute_result"
    }
   ],
   "source": [
    "index_values = (X.index.tolist())\n",
    "index_values"
   ]
  },
  {
   "cell_type": "code",
   "execution_count": 94,
   "metadata": {},
   "outputs": [
    {
     "data": {
      "text/html": [
       "<div>\n",
       "<style scoped>\n",
       "    .dataframe tbody tr th:only-of-type {\n",
       "        vertical-align: middle;\n",
       "    }\n",
       "\n",
       "    .dataframe tbody tr th {\n",
       "        vertical-align: top;\n",
       "    }\n",
       "\n",
       "    .dataframe thead th {\n",
       "        text-align: right;\n",
       "    }\n",
       "</style>\n",
       "<table border=\"1\" class=\"dataframe\">\n",
       "  <thead>\n",
       "    <tr style=\"text-align: right;\">\n",
       "      <th></th>\n",
       "      <th>PC 1</th>\n",
       "      <th>PC 2</th>\n",
       "      <th>PC 3</th>\n",
       "    </tr>\n",
       "  </thead>\n",
       "  <tbody>\n",
       "    <tr>\n",
       "      <th>992</th>\n",
       "      <td>-0.348134</td>\n",
       "      <td>0.508989</td>\n",
       "      <td>-0.015387</td>\n",
       "    </tr>\n",
       "    <tr>\n",
       "      <th>1051</th>\n",
       "      <td>-0.168029</td>\n",
       "      <td>-0.893648</td>\n",
       "      <td>0.138830</td>\n",
       "    </tr>\n",
       "    <tr>\n",
       "      <th>1101</th>\n",
       "      <td>0.436584</td>\n",
       "      <td>0.335482</td>\n",
       "      <td>0.037819</td>\n",
       "    </tr>\n",
       "    <tr>\n",
       "      <th>1140</th>\n",
       "      <td>-0.335785</td>\n",
       "      <td>1.264859</td>\n",
       "      <td>-0.400882</td>\n",
       "    </tr>\n",
       "    <tr>\n",
       "      <th>1087</th>\n",
       "      <td>-0.325705</td>\n",
       "      <td>0.713369</td>\n",
       "      <td>-0.107329</td>\n",
       "    </tr>\n",
       "  </tbody>\n",
       "</table>\n",
       "</div>"
      ],
      "text/plain": [
       "          PC 1      PC 2      PC 3\n",
       "992  -0.348134  0.508989 -0.015387\n",
       "1051 -0.168029 -0.893648  0.138830\n",
       "1101  0.436584  0.335482  0.037819\n",
       "1140 -0.335785  1.264859 -0.400882\n",
       "1087 -0.325705  0.713369 -0.107329"
      ]
     },
     "execution_count": 94,
     "metadata": {},
     "output_type": "execute_result"
    }
   ],
   "source": [
    "pcs_df = pd.DataFrame(data = X_pca, columns=[\"PC 1\", \"PC 2\", \"PC 3\"], index = index_values)\n",
    "pcs_df.head()"
   ]
  },
  {
   "cell_type": "markdown",
   "metadata": {},
   "source": [
    "### Deliverable 3: Clustering Crytocurrencies Using K-Means\n",
    "\n",
    "#### Finding the Best Value for `k` Using the Elbow Curve"
   ]
  },
  {
   "cell_type": "code",
   "execution_count": 95,
   "metadata": {},
   "outputs": [],
   "source": [
    "# Create an elbow curve to find the best value for K.\n",
    "inertia = []\n",
    "k = list(range(1, 11))"
   ]
  },
  {
   "cell_type": "code",
   "execution_count": 96,
   "metadata": {},
   "outputs": [
    {
     "name": "stderr",
     "output_type": "stream",
     "text": [
      "C:\\Users\\Tim\\anaconda3\\envs\\PythonData\\lib\\site-packages\\sklearn\\cluster\\_kmeans.py:1040: UserWarning:\n",
      "\n",
      "KMeans is known to have a memory leak on Windows with MKL, when there are less chunks than available threads. You can avoid it by setting the environment variable OMP_NUM_THREADS=3.\n",
      "\n"
     ]
    }
   ],
   "source": [
    "for i in k:\n",
    "    km = KMeans(n_clusters=i, random_state=0)\n",
    "    km.fit(pcs_df)\n",
    "    inertia.append(km.inertia_)"
   ]
  },
  {
   "cell_type": "code",
   "execution_count": 97,
   "metadata": {},
   "outputs": [
    {
     "data": {},
     "metadata": {},
     "output_type": "display_data"
    },
    {
     "data": {
      "application/vnd.holoviews_exec.v0+json": "",
      "text/html": [
       "<div id='1238'>\n",
       "\n",
       "\n",
       "\n",
       "\n",
       "\n",
       "  <div class=\"bk-root\" id=\"2d713724-94e5-4035-bb52-d423c50460ad\" data-root-id=\"1238\"></div>\n",
       "</div>\n",
       "<script type=\"application/javascript\">(function(root) {\n",
       "  function embed_document(root) {\n",
       "    var docs_json = {\"2152d937-6806-40e3-8841-30736930f358\":{\"defs\":[{\"extends\":null,\"module\":null,\"name\":\"ReactiveHTML1\",\"overrides\":[],\"properties\":[]},{\"extends\":null,\"module\":null,\"name\":\"FlexBox1\",\"overrides\":[],\"properties\":[{\"default\":\"flex-start\",\"kind\":null,\"name\":\"align_content\"},{\"default\":\"flex-start\",\"kind\":null,\"name\":\"align_items\"},{\"default\":\"row\",\"kind\":null,\"name\":\"flex_direction\"},{\"default\":\"wrap\",\"kind\":null,\"name\":\"flex_wrap\"},{\"default\":\"flex-start\",\"kind\":null,\"name\":\"justify_content\"}]},{\"extends\":null,\"module\":null,\"name\":\"TemplateActions1\",\"overrides\":[],\"properties\":[{\"default\":0,\"kind\":null,\"name\":\"open_modal\"},{\"default\":0,\"kind\":null,\"name\":\"close_modal\"}]},{\"extends\":null,\"module\":null,\"name\":\"MaterialTemplateActions1\",\"overrides\":[],\"properties\":[{\"default\":0,\"kind\":null,\"name\":\"open_modal\"},{\"default\":0,\"kind\":null,\"name\":\"close_modal\"}]}],\"roots\":{\"references\":[{\"attributes\":{},\"id\":\"1290\",\"type\":\"AllLabels\"},{\"attributes\":{\"axis\":{\"id\":\"1256\"},\"coordinates\":null,\"dimension\":1,\"grid_line_color\":null,\"group\":null,\"ticker\":null},\"id\":\"1259\",\"type\":\"Grid\"},{\"attributes\":{\"coordinates\":null,\"data_source\":{\"id\":\"1273\"},\"glyph\":{\"id\":\"1276\"},\"group\":null,\"hover_glyph\":null,\"muted_glyph\":{\"id\":\"1278\"},\"nonselection_glyph\":{\"id\":\"1277\"},\"selection_glyph\":{\"id\":\"1281\"},\"view\":{\"id\":\"1280\"}},\"id\":\"1279\",\"type\":\"GlyphRenderer\"},{\"attributes\":{},\"id\":\"1257\",\"type\":\"BasicTicker\"},{\"attributes\":{\"ticks\":[1,2,3,4,5,6,7,8,9,10]},\"id\":\"1282\",\"type\":\"FixedTicker\"},{\"attributes\":{\"line_alpha\":0.2,\"line_color\":\"#30a2da\",\"line_width\":2,\"x\":{\"field\":\"k\"},\"y\":{\"field\":\"inertia\"}},\"id\":\"1278\",\"type\":\"Line\"},{\"attributes\":{},\"id\":\"1289\",\"type\":\"BasicTickFormatter\"},{\"attributes\":{},\"id\":\"1297\",\"type\":\"UnionRenderers\"},{\"attributes\":{\"end\":10.0,\"reset_end\":10.0,\"reset_start\":1.0,\"start\":1.0,\"tags\":[[[\"k\",\"k\",null]]]},\"id\":\"1240\",\"type\":\"Range1d\"},{\"attributes\":{\"line_color\":\"#30a2da\",\"line_width\":2,\"x\":{\"field\":\"k\"},\"y\":{\"field\":\"inertia\"}},\"id\":\"1281\",\"type\":\"Line\"},{\"attributes\":{},\"id\":\"1284\",\"type\":\"BasicTickFormatter\"},{\"attributes\":{\"axis\":{\"id\":\"1252\"},\"coordinates\":null,\"grid_line_color\":null,\"group\":null,\"ticker\":null},\"id\":\"1255\",\"type\":\"Grid\"},{\"attributes\":{},\"id\":\"1260\",\"type\":\"SaveTool\"},{\"attributes\":{\"line_color\":\"#30a2da\",\"line_width\":2,\"x\":{\"field\":\"k\"},\"y\":{\"field\":\"inertia\"}},\"id\":\"1276\",\"type\":\"Line\"},{\"attributes\":{\"margin\":[5,5,5,5],\"name\":\"HSpacer01988\",\"sizing_mode\":\"stretch_width\"},\"id\":\"1309\",\"type\":\"Spacer\"},{\"attributes\":{\"callback\":null,\"renderers\":[{\"id\":\"1279\"}],\"tags\":[\"hv_created\"],\"tooltips\":[[\"k\",\"@{k}\"],[\"inertia\",\"@{inertia}\"]]},\"id\":\"1242\",\"type\":\"HoverTool\"},{\"attributes\":{},\"id\":\"1261\",\"type\":\"PanTool\"},{\"attributes\":{\"end\":3983.941405586782,\"reset_end\":3983.941405586782,\"reset_start\":-243.32721038413808,\"start\":-243.32721038413808,\"tags\":[[[\"inertia\",\"inertia\",null]]]},\"id\":\"1241\",\"type\":\"Range1d\"},{\"attributes\":{},\"id\":\"1264\",\"type\":\"ResetTool\"},{\"attributes\":{},\"id\":\"1262\",\"type\":\"WheelZoomTool\"},{\"attributes\":{\"source\":{\"id\":\"1273\"}},\"id\":\"1280\",\"type\":\"CDSView\"},{\"attributes\":{},\"id\":\"1274\",\"type\":\"Selection\"},{\"attributes\":{\"line_alpha\":0.1,\"line_color\":\"#30a2da\",\"line_width\":2,\"x\":{\"field\":\"k\"},\"y\":{\"field\":\"inertia\"}},\"id\":\"1277\",\"type\":\"Line\"},{\"attributes\":{\"overlay\":{\"id\":\"1265\"}},\"id\":\"1263\",\"type\":\"BoxZoomTool\"},{\"attributes\":{\"children\":[{\"id\":\"1239\"},{\"id\":\"1243\"},{\"id\":\"1309\"}],\"margin\":[0,0,0,0],\"name\":\"Row01983\",\"tags\":[\"embedded\"]},\"id\":\"1238\",\"type\":\"Row\"},{\"attributes\":{},\"id\":\"1248\",\"type\":\"LinearScale\"},{\"attributes\":{\"margin\":[5,5,5,5],\"name\":\"HSpacer01987\",\"sizing_mode\":\"stretch_width\"},\"id\":\"1239\",\"type\":\"Spacer\"},{\"attributes\":{\"coordinates\":null,\"group\":null,\"text\":\"Elbow Curve\",\"text_color\":\"black\",\"text_font_size\":\"12pt\"},\"id\":\"1244\",\"type\":\"Title\"},{\"attributes\":{\"tools\":[{\"id\":\"1242\"},{\"id\":\"1260\"},{\"id\":\"1261\"},{\"id\":\"1262\"},{\"id\":\"1263\"},{\"id\":\"1264\"}]},\"id\":\"1266\",\"type\":\"Toolbar\"},{\"attributes\":{\"below\":[{\"id\":\"1252\"}],\"center\":[{\"id\":\"1255\"},{\"id\":\"1259\"}],\"height\":300,\"left\":[{\"id\":\"1256\"}],\"margin\":[5,5,5,5],\"min_border_bottom\":10,\"min_border_left\":10,\"min_border_right\":10,\"min_border_top\":10,\"renderers\":[{\"id\":\"1279\"}],\"sizing_mode\":\"fixed\",\"title\":{\"id\":\"1244\"},\"toolbar\":{\"id\":\"1266\"},\"width\":700,\"x_range\":{\"id\":\"1240\"},\"x_scale\":{\"id\":\"1248\"},\"y_range\":{\"id\":\"1241\"},\"y_scale\":{\"id\":\"1250\"}},\"id\":\"1243\",\"subtype\":\"Figure\",\"type\":\"Plot\"},{\"attributes\":{},\"id\":\"1285\",\"type\":\"AllLabels\"},{\"attributes\":{\"bottom_units\":\"screen\",\"coordinates\":null,\"fill_alpha\":0.5,\"fill_color\":\"lightgrey\",\"group\":null,\"left_units\":\"screen\",\"level\":\"overlay\",\"line_alpha\":1.0,\"line_color\":\"black\",\"line_dash\":[4,4],\"line_width\":2,\"right_units\":\"screen\",\"syncable\":false,\"top_units\":\"screen\"},\"id\":\"1265\",\"type\":\"BoxAnnotation\"},{\"attributes\":{},\"id\":\"1250\",\"type\":\"LinearScale\"},{\"attributes\":{\"axis_label\":\"inertia\",\"coordinates\":null,\"formatter\":{\"id\":\"1289\"},\"group\":null,\"major_label_policy\":{\"id\":\"1290\"},\"ticker\":{\"id\":\"1257\"}},\"id\":\"1256\",\"type\":\"LinearAxis\"},{\"attributes\":{\"axis_label\":\"k\",\"coordinates\":null,\"formatter\":{\"id\":\"1284\"},\"group\":null,\"major_label_policy\":{\"id\":\"1285\"},\"ticker\":{\"id\":\"1282\"}},\"id\":\"1252\",\"type\":\"LinearAxis\"},{\"attributes\":{\"data\":{\"inertia\":{\"__ndarray__\":\"SQ3piVZfrED+WebwWEGjQMMTjqKBJZhAMLC/r6CagEAShWJqOe91QFVjQ/9L7HFAGpt+rfn6a0AtPGcT0TdkQIpyo0OrNWBApYRDvH08W0A=\",\"dtype\":\"float64\",\"order\":\"little\",\"shape\":[10]},\"k\":[1,2,3,4,5,6,7,8,9,10]},\"selected\":{\"id\":\"1274\"},\"selection_policy\":{\"id\":\"1297\"}},\"id\":\"1273\",\"type\":\"ColumnDataSource\"}],\"root_ids\":[\"1238\"]},\"title\":\"Bokeh Application\",\"version\":\"2.4.2\"}};\n",
       "    var render_items = [{\"docid\":\"2152d937-6806-40e3-8841-30736930f358\",\"root_ids\":[\"1238\"],\"roots\":{\"1238\":\"2d713724-94e5-4035-bb52-d423c50460ad\"}}];\n",
       "    root.Bokeh.embed.embed_items_notebook(docs_json, render_items);\n",
       "  }\n",
       "  if (root.Bokeh !== undefined && root.Bokeh.Panel !== undefined) {\n",
       "    embed_document(root);\n",
       "  } else {\n",
       "    var attempts = 0;\n",
       "    var timer = setInterval(function(root) {\n",
       "      if (root.Bokeh !== undefined && root.Bokeh.Panel !== undefined) {\n",
       "        clearInterval(timer);\n",
       "        embed_document(root);\n",
       "      } else if (document.readyState == \"complete\") {\n",
       "        attempts++;\n",
       "        if (attempts > 200) {\n",
       "          clearInterval(timer);\n",
       "          console.log(\"Bokeh: ERROR: Unable to run BokehJS code because BokehJS library is missing\");\n",
       "        }\n",
       "      }\n",
       "    }, 25, root)\n",
       "  }\n",
       "})(window);</script>"
      ],
      "text/plain": [
       ":Curve   [k]   (inertia)"
      ]
     },
     "execution_count": 97,
     "metadata": {
      "application/vnd.holoviews_exec.v0+json": {
       "id": "1238"
      }
     },
     "output_type": "execute_result"
    }
   ],
   "source": [
    "# Plot the elbow curve\n",
    "elbow_data = {\"k\": k, \"inertia\": inertia}\n",
    "df_elbow = pd.DataFrame(elbow_data)\n",
    "df_elbow.hvplot.line(x=\"k\", y=\"inertia\", title=\"Elbow Curve\", xticks=k)"
   ]
  },
  {
   "cell_type": "markdown",
   "metadata": {},
   "source": [
    "Running K-Means with `k=4`"
   ]
  },
  {
   "cell_type": "code",
   "execution_count": 98,
   "metadata": {},
   "outputs": [
    {
     "name": "stdout",
     "output_type": "stream",
     "text": [
      "[0 1 0 0 0 0 1 0 0 1 0 0 0 0 0 0 1 0 0 0 0 0 0 0 0 0 0 0 0 0 0 0 1 1 1 0 0\n",
      " 0 0 1 0 1 1 0 0 0 1 0 0 0 0 0 0 1 0 1 0 1 1 1 0 0 1 0 1 1 0 1 1 0 0 0 0 1\n",
      " 0 0 0 0 0 1 1 0 1 0 0 0 0 0 0 1 0 0 0 0 0 1 0 1 1 0 0 1 0 0 1 0 1 0 1 1 2\n",
      " 1 0 1 0 0 1 0 0 0 0 0 0 0 0 0 0 0 0 1 0 1 0 1 0 0 0 0 0 0 1 0 0 0 1 1 1 0\n",
      " 1 0 0 0 0 0 0 0 1 0 0 1 1 0 0 0 0 1 1 0 0 0 0 0 1 0 0 0 0 0 0 0 1 0 0 1 1\n",
      " 1 0 1 0 0 1 1 0 0 0 1 1 1 0 0 0 0 0 1 0 1 1 1 1 1 0 0 0 0 0 1 0 1 1 1 1 1\n",
      " 0 0 1 1 0 1 0 1 1 0 1 1 1 1 1 0 0 1 1 1 1 0 0 0 1 0 1 1 1 0 1 1 1 0 1 0 1\n",
      " 1 0 0 0 1 0 1 1 1 1 1 1 1 1 1 0 1 1 0 1 0 0 0 0 0 1 1 0 0 0 1 1 0 0 1 0 1\n",
      " 0 1 0 1 0 0 0 1 0 0 0 0 0 3 0 0 1 1 0 0 1 0 0 0 0 1 1 1 1 1 0 1 1 0 1 1 1\n",
      " 1 1 1 1 0 0 0 1 0 0 1 0 0 0 0 1 0 0 1 1 1 0 1 1 0 0 0 0 0 0 0 0 0 0 1 0 0\n",
      " 0 0 1 1 0 3 3 0 0 0 0 0 0 0 0 0 0 0 0 0 0 0 0 0 0 0 0 0 0 0 0 1 0 1 1 1 1\n",
      " 1 0 0 1 1 0 0 0 0 0 0 0 0 1 1 1 1 1 1 1 1 1 1 1 1 1 1 1 0 1 0 1 1 1 1 1 3\n",
      " 0 1 1 1 1 1 0 1 1 0 0 1 1 1 1 1 1 1 1 1 1 1 1 1 1 1 1 1 1 1 1 1 1 1 3 1 1\n",
      " 1 1 0 0 0 0 0 0 0 1 1 1 1 1 1 1 1 1 1 1 1 1 1 1 1 1 1 1 1 1 1 1 1 1 1 1 0\n",
      " 1 0 1 1 1 0 1 1 1 1 0 1 0 1]\n"
     ]
    }
   ],
   "source": [
    "# Initialize the K-Means model.\n",
    "model = KMeans(n_clusters=4, random_state=0)\n",
    "\n",
    "# Fit the model\n",
    "model.fit(pcs_df)\n",
    "\n",
    "# Predict clusters\n",
    "predictions = model.predict(pcs_df)\n",
    "print(predictions)\n",
    "pcs_df[\"Class\"] = model.labels_"
   ]
  },
  {
   "cell_type": "code",
   "execution_count": 99,
   "metadata": {},
   "outputs": [
    {
     "data": {
      "text/html": [
       "<div>\n",
       "<style scoped>\n",
       "    .dataframe tbody tr th:only-of-type {\n",
       "        vertical-align: middle;\n",
       "    }\n",
       "\n",
       "    .dataframe tbody tr th {\n",
       "        vertical-align: top;\n",
       "    }\n",
       "\n",
       "    .dataframe thead th {\n",
       "        text-align: right;\n",
       "    }\n",
       "</style>\n",
       "<table border=\"1\" class=\"dataframe\">\n",
       "  <thead>\n",
       "    <tr style=\"text-align: right;\">\n",
       "      <th></th>\n",
       "      <th>Algorithm</th>\n",
       "      <th>ProofType</th>\n",
       "      <th>TotalCoinsMined</th>\n",
       "      <th>TotalCoinSupply</th>\n",
       "      <th>PC 1</th>\n",
       "      <th>PC 2</th>\n",
       "      <th>PC 3</th>\n",
       "      <th>Class</th>\n",
       "    </tr>\n",
       "  </thead>\n",
       "  <tbody>\n",
       "    <tr>\n",
       "      <th>992</th>\n",
       "      <td>XEVAN</td>\n",
       "      <td>PoS/PoW</td>\n",
       "      <td>1.090496e+07</td>\n",
       "      <td>21000000</td>\n",
       "      <td>-0.348134</td>\n",
       "      <td>0.508989</td>\n",
       "      <td>-0.015387</td>\n",
       "      <td>0</td>\n",
       "    </tr>\n",
       "    <tr>\n",
       "      <th>1051</th>\n",
       "      <td>XEVAN</td>\n",
       "      <td>PoW</td>\n",
       "      <td>1.474615e+07</td>\n",
       "      <td>210000000</td>\n",
       "      <td>-0.168029</td>\n",
       "      <td>-0.893648</td>\n",
       "      <td>0.138830</td>\n",
       "      <td>1</td>\n",
       "    </tr>\n",
       "    <tr>\n",
       "      <th>1101</th>\n",
       "      <td>XEVAN</td>\n",
       "      <td>Pos</td>\n",
       "      <td>2.085159e+08</td>\n",
       "      <td>70000000000</td>\n",
       "      <td>0.436584</td>\n",
       "      <td>0.335482</td>\n",
       "      <td>0.037819</td>\n",
       "      <td>0</td>\n",
       "    </tr>\n",
       "    <tr>\n",
       "      <th>1140</th>\n",
       "      <td>XEVAN</td>\n",
       "      <td>PoW/PoS</td>\n",
       "      <td>1.989381e+08</td>\n",
       "      <td>500000000</td>\n",
       "      <td>-0.335785</td>\n",
       "      <td>1.264859</td>\n",
       "      <td>-0.400882</td>\n",
       "      <td>0</td>\n",
       "    </tr>\n",
       "    <tr>\n",
       "      <th>1087</th>\n",
       "      <td>XEVAN</td>\n",
       "      <td>PoS</td>\n",
       "      <td>6.787405e+06</td>\n",
       "      <td>50000000</td>\n",
       "      <td>-0.325705</td>\n",
       "      <td>0.713369</td>\n",
       "      <td>-0.107329</td>\n",
       "      <td>0</td>\n",
       "    </tr>\n",
       "  </tbody>\n",
       "</table>\n",
       "</div>"
      ],
      "text/plain": [
       "     Algorithm ProofType  TotalCoinsMined TotalCoinSupply      PC 1      PC 2  \\\n",
       "992      XEVAN   PoS/PoW     1.090496e+07        21000000 -0.348134  0.508989   \n",
       "1051     XEVAN       PoW     1.474615e+07       210000000 -0.168029 -0.893648   \n",
       "1101     XEVAN       Pos     2.085159e+08     70000000000  0.436584  0.335482   \n",
       "1140     XEVAN   PoW/PoS     1.989381e+08       500000000 -0.335785  1.264859   \n",
       "1087     XEVAN       PoS     6.787405e+06        50000000 -0.325705  0.713369   \n",
       "\n",
       "          PC 3  Class  \n",
       "992  -0.015387      0  \n",
       "1051  0.138830      1  \n",
       "1101  0.037819      0  \n",
       "1140 -0.400882      0  \n",
       "1087 -0.107329      0  "
      ]
     },
     "execution_count": 99,
     "metadata": {},
     "output_type": "execute_result"
    }
   ],
   "source": [
    "# Create a new DataFrame including predicted clusters and cryptocurrencies features.\n",
    "# Concatentate the crypto_df and pcs_df DataFrames on the same columns.\n",
    "clustered_df = crypto_df.join(pcs_df, how='inner')\n",
    "clustered_df.head()\n",
    "\n"
   ]
  },
  {
   "cell_type": "code",
   "execution_count": 100,
   "metadata": {},
   "outputs": [
    {
     "name": "stdout",
     "output_type": "stream",
     "text": [
      "(532, 9)\n"
     ]
    },
    {
     "data": {
      "text/html": [
       "<div>\n",
       "<style scoped>\n",
       "    .dataframe tbody tr th:only-of-type {\n",
       "        vertical-align: middle;\n",
       "    }\n",
       "\n",
       "    .dataframe tbody tr th {\n",
       "        vertical-align: top;\n",
       "    }\n",
       "\n",
       "    .dataframe thead th {\n",
       "        text-align: right;\n",
       "    }\n",
       "</style>\n",
       "<table border=\"1\" class=\"dataframe\">\n",
       "  <thead>\n",
       "    <tr style=\"text-align: right;\">\n",
       "      <th></th>\n",
       "      <th>Algorithm</th>\n",
       "      <th>ProofType</th>\n",
       "      <th>TotalCoinsMined</th>\n",
       "      <th>TotalCoinSupply</th>\n",
       "      <th>PC 1</th>\n",
       "      <th>PC 2</th>\n",
       "      <th>PC 3</th>\n",
       "      <th>Class</th>\n",
       "      <th>CoinName</th>\n",
       "    </tr>\n",
       "  </thead>\n",
       "  <tbody>\n",
       "    <tr>\n",
       "      <th>992</th>\n",
       "      <td>XEVAN</td>\n",
       "      <td>PoS/PoW</td>\n",
       "      <td>1.090496e+07</td>\n",
       "      <td>21000000</td>\n",
       "      <td>-0.348134</td>\n",
       "      <td>0.508989</td>\n",
       "      <td>-0.015387</td>\n",
       "      <td>0</td>\n",
       "      <td>Bitcoin Incognito</td>\n",
       "    </tr>\n",
       "    <tr>\n",
       "      <th>1051</th>\n",
       "      <td>XEVAN</td>\n",
       "      <td>PoW</td>\n",
       "      <td>1.474615e+07</td>\n",
       "      <td>210000000</td>\n",
       "      <td>-0.168029</td>\n",
       "      <td>-0.893648</td>\n",
       "      <td>0.138830</td>\n",
       "      <td>1</td>\n",
       "      <td>Urals Coin</td>\n",
       "    </tr>\n",
       "    <tr>\n",
       "      <th>1101</th>\n",
       "      <td>XEVAN</td>\n",
       "      <td>Pos</td>\n",
       "      <td>2.085159e+08</td>\n",
       "      <td>70000000000</td>\n",
       "      <td>0.436584</td>\n",
       "      <td>0.335482</td>\n",
       "      <td>0.037819</td>\n",
       "      <td>0</td>\n",
       "      <td>BitMoney</td>\n",
       "    </tr>\n",
       "    <tr>\n",
       "      <th>1140</th>\n",
       "      <td>XEVAN</td>\n",
       "      <td>PoW/PoS</td>\n",
       "      <td>1.989381e+08</td>\n",
       "      <td>500000000</td>\n",
       "      <td>-0.335785</td>\n",
       "      <td>1.264859</td>\n",
       "      <td>-0.400882</td>\n",
       "      <td>0</td>\n",
       "      <td>Beetle Coin</td>\n",
       "    </tr>\n",
       "    <tr>\n",
       "      <th>1087</th>\n",
       "      <td>XEVAN</td>\n",
       "      <td>PoS</td>\n",
       "      <td>6.787405e+06</td>\n",
       "      <td>50000000</td>\n",
       "      <td>-0.325705</td>\n",
       "      <td>0.713369</td>\n",
       "      <td>-0.107329</td>\n",
       "      <td>0</td>\n",
       "      <td>Bettex coin</td>\n",
       "    </tr>\n",
       "    <tr>\n",
       "      <th>940</th>\n",
       "      <td>XEVAN</td>\n",
       "      <td>PoW/PoS</td>\n",
       "      <td>4.192754e+05</td>\n",
       "      <td>60000000</td>\n",
       "      <td>-0.341326</td>\n",
       "      <td>1.264967</td>\n",
       "      <td>-0.400799</td>\n",
       "      <td>0</td>\n",
       "      <td>Ellerium</td>\n",
       "    </tr>\n",
       "    <tr>\n",
       "      <th>1075</th>\n",
       "      <td>X16R</td>\n",
       "      <td>PoW</td>\n",
       "      <td>9.753754e+06</td>\n",
       "      <td>100000000</td>\n",
       "      <td>-0.177913</td>\n",
       "      <td>-1.201498</td>\n",
       "      <td>0.201999</td>\n",
       "      <td>1</td>\n",
       "      <td>Xchange</td>\n",
       "    </tr>\n",
       "    <tr>\n",
       "      <th>1034</th>\n",
       "      <td>X16R</td>\n",
       "      <td>PoW/PoS</td>\n",
       "      <td>3.692312e+07</td>\n",
       "      <td>82546564</td>\n",
       "      <td>-0.349764</td>\n",
       "      <td>0.957077</td>\n",
       "      <td>-0.337650</td>\n",
       "      <td>0</td>\n",
       "      <td>Trivechain</td>\n",
       "    </tr>\n",
       "    <tr>\n",
       "      <th>987</th>\n",
       "      <td>X16R</td>\n",
       "      <td>PoS</td>\n",
       "      <td>4.403800e+06</td>\n",
       "      <td>45000000</td>\n",
       "      <td>-0.334814</td>\n",
       "      <td>0.405473</td>\n",
       "      <td>-0.044167</td>\n",
       "      <td>0</td>\n",
       "      <td>Proton</td>\n",
       "    </tr>\n",
       "    <tr>\n",
       "      <th>1030</th>\n",
       "      <td>X16R</td>\n",
       "      <td>PoW</td>\n",
       "      <td>8.125865e+06</td>\n",
       "      <td>22075700</td>\n",
       "      <td>-0.178485</td>\n",
       "      <td>-1.201463</td>\n",
       "      <td>0.202004</td>\n",
       "      <td>1</td>\n",
       "      <td>Motion</td>\n",
       "    </tr>\n",
       "  </tbody>\n",
       "</table>\n",
       "</div>"
      ],
      "text/plain": [
       "     Algorithm ProofType  TotalCoinsMined TotalCoinSupply      PC 1      PC 2  \\\n",
       "992      XEVAN   PoS/PoW     1.090496e+07        21000000 -0.348134  0.508989   \n",
       "1051     XEVAN       PoW     1.474615e+07       210000000 -0.168029 -0.893648   \n",
       "1101     XEVAN       Pos     2.085159e+08     70000000000  0.436584  0.335482   \n",
       "1140     XEVAN   PoW/PoS     1.989381e+08       500000000 -0.335785  1.264859   \n",
       "1087     XEVAN       PoS     6.787405e+06        50000000 -0.325705  0.713369   \n",
       "940      XEVAN   PoW/PoS     4.192754e+05        60000000 -0.341326  1.264967   \n",
       "1075      X16R       PoW     9.753754e+06       100000000 -0.177913 -1.201498   \n",
       "1034      X16R   PoW/PoS     3.692312e+07        82546564 -0.349764  0.957077   \n",
       "987       X16R       PoS     4.403800e+06        45000000 -0.334814  0.405473   \n",
       "1030      X16R       PoW     8.125865e+06        22075700 -0.178485 -1.201463   \n",
       "\n",
       "          PC 3  Class           CoinName  \n",
       "992  -0.015387      0  Bitcoin Incognito  \n",
       "1051  0.138830      1         Urals Coin  \n",
       "1101  0.037819      0           BitMoney  \n",
       "1140 -0.400882      0        Beetle Coin  \n",
       "1087 -0.107329      0        Bettex coin  \n",
       "940  -0.400799      0           Ellerium  \n",
       "1075  0.201999      1            Xchange  \n",
       "1034 -0.337650      0         Trivechain  \n",
       "987  -0.044167      0             Proton  \n",
       "1030  0.202004      1             Motion  "
      ]
     },
     "execution_count": 100,
     "metadata": {},
     "output_type": "execute_result"
    }
   ],
   "source": [
    "#  Add a new column, \"CoinName\" to the clustered_df DataFrame that holds the names of the cryptocurrencies. \n",
    "# YOUR CODE HERE\n",
    "clustered_df = clustered_df.join(cryptocurrency_names_df, how='inner')\n",
    "\n",
    "#  Add a new column, \"Class\" to the clustered_df DataFrame that holds the predictions.\n",
    "# YOUR CODE HERE\n",
    "\n",
    "# Print the shape of the clustered_df\n",
    "print(clustered_df.shape)\n",
    "clustered_df.head(10)"
   ]
  },
  {
   "cell_type": "markdown",
   "metadata": {},
   "source": [
    "### Deliverable 4: Visualizing Cryptocurrencies Results\n",
    "\n",
    "#### 3D-Scatter with Clusters"
   ]
  },
  {
   "cell_type": "code",
   "execution_count": 101,
   "metadata": {},
   "outputs": [
    {
     "data": {
      "application/vnd.plotly.v1+json": {
       "config": {
        "plotlyServerURL": "https://plot.ly"
       },
       "data": [
        {
         "customdata": [
          [
           "XEVAN",
           10904963.0923455,
           "21000000"
          ],
          [
           "XEVAN",
           208515864.367343,
           "70000000000"
          ],
          [
           "XEVAN",
           198938144.363399,
           "500000000"
          ],
          [
           "XEVAN",
           6787405.18013774,
           "50000000"
          ],
          [
           "XEVAN",
           419275.38,
           "60000000"
          ],
          [
           "X16R",
           36923120.6205934,
           "82546564"
          ],
          [
           "X16R",
           4403800,
           "45000000"
          ],
          [
           "X15",
           40659020000,
           "90000000000"
          ],
          [
           "X15",
           25542535.5881841,
           "350000000"
          ],
          [
           "X15",
           13530556.4180753,
           "26298000"
          ],
          [
           "X15",
           30284196.369129,
           "90000000"
          ],
          [
           "X14",
           100000000,
           "100000000"
          ],
          [
           "X13",
           15156364.3306548,
           "0"
          ],
          [
           "X13",
           5000000,
           "200000000"
          ],
          [
           "X13",
           33093725.4123502,
           "0"
          ],
          [
           "X13",
           66087096.2077108,
           "0"
          ],
          [
           "X13",
           21268092,
           "30000000"
          ],
          [
           "X13",
           2022464.886973,
           "12000000"
          ],
          [
           "X13",
           21917018.0492836,
           "18898187.6216583"
          ],
          [
           "X13",
           92192822723,
           "850000000"
          ],
          [
           "X13",
           183534024.889807,
           "210000000"
          ],
          [
           "X13",
           7096834,
           "10000000"
          ],
          [
           "X13",
           23042604,
           "50000000"
          ],
          [
           "X13",
           2500124,
           "2500124"
          ],
          [
           "X13",
           140777.753365,
           "120000"
          ],
          [
           "X13",
           230298925,
           "800000000"
          ],
          [
           "X13",
           14524851.4827,
           "14524851.4827"
          ],
          [
           "X13",
           29279424622.5027,
           "314159265359"
          ],
          [
           "X11",
           814671,
           "5000000"
          ],
          [
           "X11",
           6950831.0970606,
           "5500000"
          ],
          [
           "X11",
           45174214.1078625,
           "50000000"
          ],
          [
           "X11",
           24387724.5010828,
           "139000000"
          ],
          [
           "X11",
           38198594.8342105,
           "144000000"
          ],
          [
           "X11",
           7262402.04264803,
           "27000000"
          ],
          [
           "X11",
           50707661.7493518,
           "0"
          ],
          [
           "X11",
           17171382,
           "40000000"
          ],
          [
           "X11",
           5659096.95728771,
           "9354000"
          ],
          [
           "X11",
           329200.01639,
           "0"
          ],
          [
           "X11",
           121665451.643876,
           "500000000"
          ],
          [
           "X11",
           21521322.0099142,
           "100000000"
          ],
          [
           "X11",
           110630387.850471,
           "110000000"
          ],
          [
           "X11",
           13162749.0858027,
           "100000000"
          ],
          [
           "X11",
           10407269.7881868,
           "384000000"
          ],
          [
           "X11",
           10996318099,
           "26550000000"
          ],
          [
           "X11",
           134554941.15119,
           "75000000"
          ],
          [
           "X11",
           12569262.5359307,
           "9507271"
          ],
          [
           "X11",
           2689812,
           "20000000"
          ],
          [
           "X11",
           1431851.00002479,
           "10000000"
          ],
          [
           "X11",
           1513704,
           "0"
          ],
          [
           "X11",
           4504639,
           "100000000"
          ],
          [
           "X11",
           264678458.288619,
           "1500000000"
          ],
          [
           "X11",
           18342813,
           "30000000"
          ],
          [
           "X11",
           30771125.9760867,
           "50000000"
          ],
          [
           "X11",
           19269509.94,
           "55000000"
          ],
          [
           "X11",
           16901016.6609755,
           "16504333"
          ],
          [
           "X11",
           17650913.9743456,
           "22000000"
          ],
          [
           "X11",
           657636.34549789,
           "3000000"
          ],
          [
           "X11",
           1678520090.7713,
           "0"
          ],
          [
           "X11",
           242574105.22384,
           "0"
          ],
          [
           "X11",
           494240666.028571,
           "1000000000"
          ],
          [
           "X11",
           23775960.3207514,
           "30000000"
          ],
          [
           "X11",
           15420234.5389336,
           "420000000"
          ],
          [
           "X11",
           715659.44237941,
           "19700000"
          ],
          [
           "X11",
           17209923728.3266,
           "0"
          ],
          [
           "X11",
           201364327.427503,
           "208000000"
          ],
          [
           "X11",
           436353624.490312,
           "500000000"
          ],
          [
           "X11",
           9031294.37563393,
           "22000000"
          ],
          [
           "X11",
           1177,
           "1000"
          ],
          [
           "X11",
           657000000,
           "657000000"
          ],
          [
           "X11",
           2167827.1,
           "25000000"
          ],
          [
           "X11",
           6069482.07721352,
           "60000000"
          ],
          [
           "X11",
           75590369,
           "76500000"
          ],
          [
           "X11",
           15563873,
           "50000000"
          ],
          [
           "X11",
           3853326.77707314,
           "3853326.77707314"
          ],
          [
           "X11",
           4407252,
           "21000000"
          ],
          [
           "VBFT",
           650848625,
           "1000000000"
          ],
          [
           "SkunkHash v2 Raptor",
           107972766,
           "137500000"
          ],
          [
           "Skein",
           6804362,
           "100000000"
          ],
          [
           "Skein",
           47331802.4774238,
           "100000000"
          ],
          [
           "Semux BFT consensus",
           1231147,
           "100000000"
          ],
          [
           "Scrypt",
           308179,
           "21933333"
          ],
          [
           "Scrypt",
           11821728,
           "20000000"
          ],
          [
           "Scrypt",
           17089600,
           "38540000 "
          ],
          [
           "Scrypt",
           3315789,
           "3315789"
          ],
          [
           "Scrypt",
           3472983,
           "13000000"
          ],
          [
           "Scrypt",
           33813143821.8337,
           "32514916898"
          ],
          [
           "Scrypt",
           2449577.41533168,
           "42000000"
          ],
          [
           "Scrypt",
           8377873,
           "144000000"
          ],
          [
           "Scrypt",
           20244023.640728,
           "33000000"
          ],
          [
           "Scrypt",
           11080722.3769581,
           "28000000"
          ],
          [
           "Scrypt",
           23965372,
           "500000000"
          ],
          [
           "Scrypt",
           10914418,
           "650659833"
          ],
          [
           "Scrypt",
           41.99995383,
           "42"
          ],
          [
           "Scrypt",
           38706809.466535,
           "26000000"
          ],
          [
           "Scrypt",
           10200000000,
           "10200000000"
          ],
          [
           "Scrypt",
           7630000.0154,
           "44000000"
          ],
          [
           "Scrypt",
           21599339.6728,
           "84000000"
          ],
          [
           "Scrypt",
           77872059787.8998,
           "92000000000"
          ],
          [
           "Scrypt",
           1042012.45227735,
           "16880000000"
          ],
          [
           "Scrypt",
           5403802.49590733,
           "1000000000"
          ],
          [
           "Scrypt",
           107763867.917675,
           "260000000"
          ],
          [
           "Scrypt",
           1404157529.46026,
           "5121951220"
          ],
          [
           "Scrypt",
           25570013.1348022,
           "124000000"
          ],
          [
           "Scrypt",
           845637.81347436,
           "3000000"
          ],
          [
           "Scrypt",
           1182153.5,
           "5000000"
          ],
          [
           "Scrypt",
           267297676.3125,
           "500000000"
          ],
          [
           "Scrypt",
           9880502.37178894,
           "30000000"
          ],
          [
           "Scrypt",
           1059954080.43439,
           "18000000000"
          ],
          [
           "Scrypt",
           9399342.52839847,
           "30000000"
          ],
          [
           "Scrypt",
           10000244677.7002,
           "10008835635"
          ],
          [
           "Scrypt",
           404316475.545465,
           "400000000"
          ],
          [
           "Scrypt",
           103621876.167052,
           "160000000"
          ],
          [
           "Scrypt",
           252005564.19257,
           "300000000"
          ],
          [
           "Scrypt",
           980732528.97974,
           "10500000000"
          ],
          [
           "Scrypt",
           14931046.1546605,
           "250000000"
          ],
          [
           "Scrypt",
           60000000,
           "15000000"
          ],
          [
           "Scrypt",
           14777549.3940764,
           "21000000"
          ],
          [
           "Scrypt",
           9631199.99309942,
           "0"
          ],
          [
           "Scrypt",
           30825710000.0296,
           "74800000000"
          ],
          [
           "Scrypt",
           20546528.2059957,
           "84000000"
          ],
          [
           "Scrypt",
           15318887081.0146,
           "35000000000"
          ],
          [
           "Scrypt",
           3537150,
           "200000000"
          ],
          [
           "Scrypt",
           20576532,
           "54256119"
          ],
          [
           "Scrypt",
           234846265.782157,
           "232000000"
          ],
          [
           "Scrypt",
           2922613.96424908,
           "55000000"
          ],
          [
           "Scrypt",
           5368934,
           "21212121"
          ],
          [
           "Scrypt",
           1148324,
           "28600000"
          ],
          [
           "Scrypt",
           500000,
           "1000000000"
          ],
          [
           "Scrypt",
           295135466.361878,
           "2000000000"
          ],
          [
           "Scrypt",
           21358764,
           "105000000"
          ],
          [
           "Scrypt",
           110000000,
           "110000000"
          ],
          [
           "Scrypt",
           1000000000,
           "1000000000"
          ],
          [
           "Scrypt",
           36050365,
           "34426423"
          ],
          [
           "Scrypt",
           8419402.321,
           "150000000"
          ],
          [
           "Scrypt",
           110976977.29338,
           "210000000"
          ],
          [
           "Scrypt",
           4911500269.41,
           "50000000000"
          ],
          [
           "Scrypt",
           591022748,
           "900000000"
          ],
          [
           "Scrypt",
           2504486.227718,
           "4000000"
          ],
          [
           "Scrypt",
           16362544.992,
           "14788275.991"
          ],
          [
           "Scrypt",
           2149688,
           "21000000"
          ],
          [
           "Scrypt",
           9044930943.24243,
           "50000000000"
          ],
          [
           "Scrypt",
           18663297.3489799,
           "17405891.19707116"
          ],
          [
           "Scrypt",
           19539588,
           "48252000"
          ],
          [
           "Scrypt",
           4200000,
           "4200000"
          ],
          [
           "Scrypt",
           1140734.91680375,
           "15733333"
          ],
          [
           "Scrypt",
           48459472454,
           "25000000000"
          ],
          [
           "Scrypt",
           128326.99633965,
           "1000000"
          ],
          [
           "Scrypt",
           8998743.2411911,
           "42000000"
          ],
          [
           "Scrypt",
           21293925445.4969,
           "0"
          ],
          [
           "Scrypt",
           222677226.014206,
           "420000000"
          ],
          [
           "Scrypt",
           16180000,
           "16180000"
          ],
          [
           "Scrypt",
           100000000,
           "100000000"
          ],
          [
           "Scrypt",
           89266933.684704,
           "120000000"
          ],
          [
           "Scrypt",
           461829905.32893,
           "0"
          ],
          [
           "Scrypt",
           36971236046.8073,
           " 99000000000"
          ],
          [
           "Scrypt",
           40477042,
           "221052632"
          ],
          [
           "Scrypt",
           73959274.625,
           "98000000"
          ],
          [
           "Scrypt",
           147990237.978331,
           "1000000000"
          ],
          [
           "Scrypt",
           32021108.4136696,
           "0"
          ],
          [
           "Scrypt",
           11604722,
           "20000000"
          ],
          [
           "Scrypt",
           1467841,
           "0"
          ],
          [
           "Scrypt",
           174646113.934655,
           "500000000"
          ],
          [
           "Scrypt",
           27184490.3918338,
           "0"
          ],
          [
           "Scrypt",
           50235211.141939,
           "100000000"
          ],
          [
           "Scrypt",
           1098952592.6,
           "1600000000"
          ],
          [
           "Scrypt",
           29315567169.0888,
           "0"
          ],
          [
           "Scrypt",
           43165500,
           "90000000"
          ],
          [
           "Scrypt",
           123062801.128773,
           "0"
          ],
          [
           "Scrypt",
           42579.476901,
           "500000"
          ],
          [
           "Scrypt",
           4526324,
           "44333333"
          ],
          [
           "Scrypt",
           813092338.575672,
           "2000000000"
          ],
          [
           "Scrypt",
           635423900,
           "0"
          ],
          [
           "Scrypt",
           33522957,
           "0"
          ],
          [
           "Scrypt",
           169598616,
           "0"
          ],
          [
           "Scrypt",
           665200057,
           "3100000000"
          ],
          [
           "Scrypt",
           18135099.992959,
           "16768584"
          ],
          [
           "Scrypt",
           1939889,
           "0"
          ],
          [
           "Scrypt",
           2581970,
           "21000000"
          ],
          [
           "Scrypt",
           100000000,
           "100000000"
          ],
          [
           "Scrypt",
           1039116.65144562,
           "1000000"
          ],
          [
           "Scrypt",
           1055184902.04,
           "532000000"
          ],
          [
           "SHA3",
           61445805,
           "100000000"
          ],
          [
           "SHA3",
           63657220,
           "78000000"
          ],
          [
           "SHA-512",
           25000000,
           "91388946"
          ],
          [
           "SHA-512",
           2741570000,
           "3600570502"
          ],
          [
           "SHA-256D",
           1082162635.53683,
           "7506000000"
          ],
          [
           "SHA-256D",
           19577787259,
           "20000000000"
          ],
          [
           "SHA-256D",
           896361168,
           "5000000000"
          ],
          [
           "SHA-256D",
           33238183.7225834,
           "100000000"
          ],
          [
           "SHA-256",
           39121694,
           "68000000"
          ],
          [
           "SHA-256",
           74676064.9488608,
           "105000000"
          ],
          [
           "SHA-256",
           11995334.8847328,
           "12500000"
          ],
          [
           "SHA-256",
           8999999990,
           "9000000000"
          ],
          [
           "SHA-256",
           1999999995.3056,
           "2000000000"
          ],
          [
           "SHA-256",
           1000000000,
           "1000000000"
          ],
          [
           "SHA-256",
           1288862,
           "22000000"
          ],
          [
           "SHA-256",
           92050800,
           "100000000"
          ],
          [
           "SHA-256",
           57811001.000889,
           "100262205"
          ],
          [
           "SHA-256",
           1613836099.99999,
           "2419200000"
          ],
          [
           "SHA-256",
           17939725045.334,
           "190000000"
          ],
          [
           "SHA-256",
           4392258.24647793,
           "21000000"
          ],
          [
           "SHA-256",
           100545745,
           "75000000000"
          ],
          [
           "SHA-256",
           4377081.60953993,
           "40000000"
          ],
          [
           "SHA-256",
           10343113,
           "200084200"
          ],
          [
           "SHA-256",
           2526078.47525448,
           "21000000"
          ],
          [
           "SHA-256",
           43059794.804778,
           "1000000000"
          ],
          [
           "SHA-256",
           1195525,
           "222725000"
          ],
          [
           "SHA-256",
           16662820,
           "525000000"
          ],
          [
           "SHA-256",
           3669691.84494672,
           "22000000"
          ],
          [
           "SHA-256",
           5129014,
           "10500000"
          ],
          [
           "SHA-256",
           12416554,
           "20000000"
          ],
          [
           "SHA-256",
           595429,
           "21000000"
          ],
          [
           "Quark",
           10517772.7391666,
           "15000000"
          ],
          [
           "Quark",
           2716264.95302831,
           "650000000 "
          ],
          [
           "Quark",
           139739596.506702,
           "200000000"
          ],
          [
           "Quark",
           18265011.2486006,
           "19035999"
          ],
          [
           "Quark",
           35312185.7437239,
           "54000000"
          ],
          [
           "Quark",
           66053877.6256106,
           "100000000"
          ],
          [
           "Quark",
           30711550.5294042,
           "200000000"
          ],
          [
           "Quark",
           7082392.24744494,
           "21000000"
          ],
          [
           "Quark",
           27299680,
           "120000000"
          ],
          [
           "Quark",
           5919489.76813523,
           "5151000"
          ],
          [
           "Quark",
           16955764.902064,
           "20000000"
          ],
          [
           "Quark",
           1934701.67524713,
           "13370000"
          ],
          [
           "QuBit",
           30227750,
           "78835200"
          ],
          [
           "QUAIT",
           8568038.35935056,
           "5060000"
          ],
          [
           "PoS",
           11075254.0929996,
           "80000000"
          ],
          [
           "PoS",
           50000000,
           "50000000"
          ],
          [
           "PoS",
           21876586.8530324,
           "88000000"
          ],
          [
           "PoS",
           17818682.1654,
           "301000000"
          ],
          [
           "PoS",
           5679705,
           "0"
          ],
          [
           "PoS",
           9327131.59708692,
           "210000000"
          ],
          [
           "PoS",
           20000000,
           "20000000"
          ],
          [
           "PoS",
           20000000,
           "20000000"
          ],
          [
           "PoS",
           3821245.74150193,
           "9000000"
          ],
          [
           "PoS",
           74033806.7949683,
           "74000000"
          ],
          [
           "PoS",
           11390225.9742772,
           "30000000"
          ],
          [
           "PoS",
           148716816,
           "39999898"
          ],
          [
           "PoS",
           111135836.889,
           "110290030"
          ],
          [
           "PoS",
           401421401,
           "400000000"
          ],
          [
           "PoS",
           9283137.5558676,
           "8634140"
          ],
          [
           "PoS",
           1000000000,
           "1000000000"
          ],
          [
           "PoS",
           4000000,
           "61599965"
          ],
          [
           "POS 3.0",
           20445861.5344251,
           "25000000"
          ],
          [
           "POS 3.0",
           100000000,
           "100000000"
          ],
          [
           "POS 3.0",
           38589808.6658096,
           "33500000"
          ],
          [
           "POS 2.0",
           12330806.30517,
           "21000000"
          ],
          [
           "PHI1612",
           1622326490.46336,
           "2300000000"
          ],
          [
           "PHI1612",
           8305775.31777569,
           "60000000"
          ],
          [
           "Ouroboros",
           25927070538,
           "45000000000"
          ],
          [
           "NeoScrypt",
           1120385.00502,
           "60168145"
          ],
          [
           "NeoScrypt",
           3220616.279225,
           "3770000"
          ],
          [
           "NeoScrypt",
           182638400,
           "400000000"
          ],
          [
           "NIST5",
           10069449031.9252,
           "0"
          ],
          [
           "NIST5",
           13787854.6277781,
           "50000000"
          ],
          [
           "NIST5",
           4171382,
           "10000000"
          ],
          [
           "NIST5",
           62942075,
           "120000000"
          ],
          [
           "NIST5",
           560563220,
           "1200000000"
          ],
          [
           "NIST5",
           13247178.8807286,
           "27716121"
          ],
          [
           "NIST5",
           28399150208,
           "30000000000"
          ],
          [
           "NIST5",
           83450403,
           "90000000"
          ],
          [
           "Lyra2REv2",
           24000000,
           "24000000"
          ],
          [
           "Lyra2REv2",
           13332617.9413708,
           "52500000"
          ],
          [
           "Keccak",
           4672513.84432375,
           "366000000"
          ],
          [
           "Groestl",
           3304487.74735637,
           "4380000"
          ],
          [
           "Groestl",
           53193831,
           "0"
          ],
          [
           "Green Protocol",
           9803691.3618195,
           "21000000"
          ],
          [
           "DPoS",
           1000000000,
           "1000000000"
          ],
          [
           "DPoS",
           1020544523.0722,
           "0"
          ],
          [
           "DPoS",
           18194936,
           "18081806 "
          ],
          [
           "DPoS",
           1122382283.37,
           "0"
          ],
          [
           "DPoS",
           120012140,
           "159918400"
          ],
          [
           "DPoS",
           288090567.493887,
           "500000000"
          ],
          [
           "DPoS",
           108202084,
           "125000000"
          ],
          [
           "Counterparty",
           51173144,
           "500000000"
          ],
          [
           "C11",
           11251342.1879021,
           "19340594"
          ],
          [
           "Blake2S",
           12184195.9258495,
           "36900000"
          ],
          [
           "BLAKE256",
           10365046.9281661,
           "21000000"
          ],
          [
           "536",
           22801882871,
           "50000000000"
          ]
         ],
         "hovertemplate": "<b>%{hovertext}</b><br><br>Class=%{marker.color}<br>PC 1=%{x}<br>PC 2=%{y}<br>PC 3=%{z}<br>Algorithm=%{customdata[0]}<br>TotalCoinsMined=%{customdata[1]}<br>TotalCoinSupply=%{customdata[2]}<extra></extra>",
         "hovertext": [
          "Bitcoin Incognito",
          "BitMoney",
          "Beetle Coin",
          "Bettex coin",
          "Ellerium",
          "Trivechain",
          "Proton",
          "HTML5 Coin",
          "KoboCoin",
          "EverGreenCoin",
          "Dekado",
          "GanjaCoin V2",
          "OpalCoin",
          "MudraCoin",
          "StealthCoin",
          "NavCoin",
          "BritCoin",
          "Kore",
          "DeepOnion",
          "EmberCoin",
          "Bitcoin Diamond",
          "Sativa Coin",
          "Paycon",
          "RoyalCoin",
          "Triangles Coin",
          "Tokyo Coin",
          "FindCoin",
          "EliteCoin",
          "Enigma",
          "X11 Coin",
          "PhantomX",
          "BitSend",
          "Magnet",
          "Regalcoin",
          "SuperCoin",
          "GoldReserve",
          "KushCoin",
          "Squall Coin",
          "Condensate",
          "HappyCoin",
          "Impact",
          "VirtacoinPlus",
          "EuropeCoin",
          "Hitcoin",
          "Ratecoin",
          "Monoeci",
          "Ucoin",
          "TorCoin",
          "IslaCoin",
          "PAXEX",
          "Halloween Coin",
          "InsaneCoin",
          "EUNO",
          "ARENON",
          "Creditbit ",
          "IOCoin",
          "MustangCoin",
          "HyperStake",
          "TruckCoin",
          "Piggy Coin",
          "Insane Coin",
          "Award",
          "Dash Platinum",
          "Junson Ming Chan Coin",
          "CapriCoin",
          "PinkCoin",
          "Dash",
          "SyncCoin",
          "Lutetium Coin",
          "Pushi",
          "Eternity",
          "Stakenet",
          "GoldBlocks",
          "XenixCoin",
          "Monkey Project",
          "Ontology",
          "Signatum",
          "Bitcoin Planet",
          "Cream",
          "Semux",
          "Impeach",
          "Printerium",
          "PLNCoin",
          "GAKHcoin",
          "GameUnits",
          "PandaCoin",
          "AquariusCoin",
          "Russiacoin",
          "BitcoinFast",
          "BitConnect Coin",
          "Klingon Empire Darsek",
          "MoneyCoin",
          "42 Coin",
          "HollyWoodCoin",
          "Swisscoin",
          "Xt3ch",
          "EmaratCoin",
          "Lynx",
          "Peony Coin",
          "TPCash",
          "MMOCoin",
          "iDealCash",
          "Velox",
          "Briacoin",
          "Ignition",
          "MedicCoin",
          "Abjcoin",
          "ThunderStake",
          "My Big Coin",
          "HiCoin",
          "XiaoMiCoin",
          " ClubCoin",
          "WhiteCoin",
          "AudioCoin",
          "Gapcoin",
          "Genstake",
          "Oduwa",
          "HyperCoin",
          "Credit",
          "Nasdacoin",
          "LiteDoge",
          "OrangeCoin",
          "BitstarCoin",
          "Unified Society USDEX",
          "Zilbercoin",
          "Independent Money System",
          "ArgusCoin",
          "LomoCoin",
          "GrowthCoin",
          "Degas Coin",
          "FirstCoin",
          "OpenChat",
          "RenosCoin",
          "LiteCoin Ultra",
          "Cash & Back Coin",
          "GermanCoin",
          "Trollcoin",
          "Litecoin Plus",
          "BlackholeCoin",
          "Xios",
          "Linda",
          "Draftcoin",
          "CoinonatX",
          "Ethereum Dark",
          "TerraNovaCoin",
          "WomenCoin",
          "BitcoinPlus",
          "BillaryCoin",
          "MintCoin",
          "PotCoin",
          "Nautilus Coin",
          "Diggits",
          "HoboNickels",
          "FlutterCoin",
          "ZeitCoin",
          "GPU Coin",
          "PhoenixCoin",
          "ZCC Coin",
          "VeriCoin",
          "Vtorrent",
          "8BIT Coin",
          "Dnotes",
          "RubyCoin",
          "UltraCoin",
          "UnitaryStatus Dollar",
          "Reddcoin",
          "CarterCoin",
          "EnergyCoin",
          "BitBar",
          "iBankCoin",
          "PutinCoin",
          "BlueCoin",
          "PesoBit",
          "BitCurrency",
          "Swiscoin",
          "Aurora Coin",
          "RootCoin",
          "ZoneCoin",
          "Frankywillcoin",
          "CryptoBullion",
          "404Coin",
          "MaxCoin",
          "Nexus",
          "Obsidian",
          "Bitshares",
          "LanaCoin",
          "BuzzCoin",
          "Titan Coin",
          "TheVig",
          "Neutron",
          "OKCash",
          "PayCoin",
          "Infinity Economics",
          "ZEPHYR",
          "TigerCash",
          "BitcoinDark",
          "Theresa May Coin",
          "BitcoinWSpectrum",
          "MazaCoin",
          "IncaKoin",
          "NeosCoin",
          "ProCurrency",
          "SwingCoin",
          "Ultimate Secure Cash",
          "Internet of People",
          "Emercoin",
          "Revenu",
          "Clockcoin",
          "EDRCoin",
          "DubaiCoin",
          "Eurocoin",
          "BitTokens",
          "Allsafe",
          "Poseidon Quark",
          "Carebit",
          "Galilel",
          "HerbCoin",
          "Vitae",
          "Bitcloud 2.0",
          "Dystem",
          "Digiwage",
          "Giant",
          "Kalkulus",
          "Crypto Sports",
          "LiteCreed",
          "Droidz",
          "Zealium",
          "FreeCoin",
          "Deviant Coin",
          "TeamUP",
          "Exclusive Coin",
          "Ketan",
          "Creatio",
          "Nebuchadnezzar",
          "Radium",
          "Opair",
          "Phreak",
          "CoffeeCoin",
          "Atmos",
          "MacronCoin",
          "Particl",
          "Nxt",
          "Stakecoin",
          "TokenPay",
          "QTUM",
          "Let it Ride",
          "KekCoin",
          "TittieCoin",
          "LUXCoin",
          "Cardano",
          "FriendshipCoin",
          "Orbitcoin",
          "TrezarCoin",
          "PWR Coin",
          "Bitspace",
          "Denarius",
          "Virta Unique Coin",
          "NamoCoin",
          "Bulwark",
          "Electra",
          "VIP Tokens",
          "Rupee",
          "Absolute Coin",
          "XDNA",
          "Diamond",
          "FairCoin",
          "Bitcoin Green",
          "ALAX",
          "EOS",
          "Muse",
          "Oxycoin",
          "Lisk",
          "Lamden Tau",
          "ARK",
          "StorjCoin",
          "Stipend",
          "TajCoin",
          "Decred",
          "Espers"
         ],
         "legendgroup": "0",
         "marker": {
          "color": [
           0,
           0,
           0,
           0,
           0,
           0,
           0,
           0,
           0,
           0,
           0,
           0,
           0,
           0,
           0,
           0,
           0,
           0,
           0,
           0,
           0,
           0,
           0,
           0,
           0,
           0,
           0,
           0,
           0,
           0,
           0,
           0,
           0,
           0,
           0,
           0,
           0,
           0,
           0,
           0,
           0,
           0,
           0,
           0,
           0,
           0,
           0,
           0,
           0,
           0,
           0,
           0,
           0,
           0,
           0,
           0,
           0,
           0,
           0,
           0,
           0,
           0,
           0,
           0,
           0,
           0,
           0,
           0,
           0,
           0,
           0,
           0,
           0,
           0,
           0,
           0,
           0,
           0,
           0,
           0,
           0,
           0,
           0,
           0,
           0,
           0,
           0,
           0,
           0,
           0,
           0,
           0,
           0,
           0,
           0,
           0,
           0,
           0,
           0,
           0,
           0,
           0,
           0,
           0,
           0,
           0,
           0,
           0,
           0,
           0,
           0,
           0,
           0,
           0,
           0,
           0,
           0,
           0,
           0,
           0,
           0,
           0,
           0,
           0,
           0,
           0,
           0,
           0,
           0,
           0,
           0,
           0,
           0,
           0,
           0,
           0,
           0,
           0,
           0,
           0,
           0,
           0,
           0,
           0,
           0,
           0,
           0,
           0,
           0,
           0,
           0,
           0,
           0,
           0,
           0,
           0,
           0,
           0,
           0,
           0,
           0,
           0,
           0,
           0,
           0,
           0,
           0,
           0,
           0,
           0,
           0,
           0,
           0,
           0,
           0,
           0,
           0,
           0,
           0,
           0,
           0,
           0,
           0,
           0,
           0,
           0,
           0,
           0,
           0,
           0,
           0,
           0,
           0,
           0,
           0,
           0,
           0,
           0,
           0,
           0,
           0,
           0,
           0,
           0,
           0,
           0,
           0,
           0,
           0,
           0,
           0,
           0,
           0,
           0,
           0,
           0,
           0,
           0,
           0,
           0,
           0,
           0,
           0,
           0,
           0,
           0,
           0,
           0,
           0,
           0,
           0,
           0,
           0,
           0,
           0,
           0,
           0,
           0,
           0,
           0,
           0,
           0,
           0,
           0,
           0,
           0,
           0,
           0,
           0,
           0,
           0,
           0,
           0,
           0,
           0,
           0,
           0,
           0,
           0,
           0,
           0,
           0,
           0,
           0,
           0,
           0,
           0,
           0,
           0,
           0,
           0,
           0,
           0,
           0,
           0,
           0,
           0,
           0,
           0
          ],
          "coloraxis": "coloraxis",
          "symbol": "circle"
         },
         "mode": "markers",
         "name": "0",
         "scene": "scene",
         "showlegend": true,
         "type": "scatter3d",
         "x": [
          -0.3481339074740862,
          0.4365844623908321,
          -0.33578484551625515,
          -0.3257047250400539,
          -0.34132557875677927,
          -0.3497644066002326,
          -0.33481352197104886,
          0.9089844295762036,
          -0.22220212379335683,
          -0.22464167718892197,
          -0.20837195455891402,
          -0.3926924935945705,
          -0.2738100470821817,
          -0.25690347930823465,
          -0.27359101674625874,
          -0.27318813980936557,
          -0.27352291885237107,
          -0.2738854235443502,
          -0.27359363233667744,
          0.8577779508501797,
          -0.270266521473408,
          -0.2738376278009949,
          -0.27335958464768895,
          -0.25833295492600605,
          -0.27399255008701673,
          -0.24990241164497282,
          -0.25810094814222856,
          2.308814365372816,
          -0.3855342117240429,
          -0.38545574237634445,
          -0.384673795912956,
          -0.38429720319974825,
          -0.3840931443243365,
          -0.3852996469745986,
          -0.3693464661980866,
          -0.3850865671123043,
          -0.38544421652014077,
          -0.39223567550639854,
          -0.38055229020921394,
          -0.3846084529279879,
          -0.3834495229798414,
          -0.38471051816640656,
          -0.382732508922548,
          -0.06324373968825692,
          -0.383405299316698,
          -0.38535875189550545,
          -0.3697911388050351,
          -0.38549125895630004,
          -0.38556109241885195,
          -0.3692023145790517,
          -0.37172268486697835,
          -0.3851430959067798,
          -0.3848496697896908,
          -0.369340771334335,
          -0.3619914579507198,
          -0.3852082109440175,
          -0.3855502958412385,
          -0.34946950093411316,
          -0.3826175412232607,
          -0.37246118417220375,
          -0.3850767525869701,
          -0.3824162977423224,
          -0.36981736986463326,
          -0.1598179384442474,
          -0.381647421930092,
          -0.3767096817064579,
          -0.3853134637829181,
          -0.38557955456831544,
          -0.35728939916460667,
          -0.38537602263094656,
          -0.3850804647778001,
          -0.37261869670223985,
          -0.38503536319869597,
          -0.3855052293948248,
          -0.3697630841157095,
          -0.4012389926878962,
          -0.39565283168126675,
          -0.4210609460783235,
          -0.4205660717843045,
          3.9323102067002154,
          -0.332514471113981,
          -0.3323875753210094,
          -0.3321919258505287,
          -0.33260961922351906,
          -0.33253910362196326,
          0.3261401607148612,
          -0.33234618469407434,
          -0.3315512990357163,
          -0.3321926491304731,
          -0.33233995726034016,
          -0.3288393092376787,
          -0.32793150426915363,
          -0.3326735937126209,
          -0.31640285955660524,
          -0.13587335951273793,
          -0.3166548343376605,
          -0.33181485149655354,
          2.235589119556447,
          -0.1974809130841964,
          -0.3255243138435211,
          -0.3139021233292961,
          -0.2792473495974708,
          -0.3158691079633361,
          -0.33264201868365145,
          -0.332623742951393,
          -0.3102540897579837,
          -0.3323404463694226,
          -0.19223133721146776,
          -0.2959907394774443,
          -0.12405268808582574,
          -0.3249032304342202,
          -0.33027495654466704,
          -0.3274714049334192,
          -0.24632341693277626,
          -0.3307204499114663,
          -0.3318346943875514,
          -0.3323443989484265,
          -0.33255598943267023,
          0.5735648895996319,
          -0.33182770721419186,
          0.1022983102008042,
          -0.3312137437956234,
          -0.3320380255464487,
          -0.3281625985732238,
          -0.3166343992465659,
          -0.33245778357692773,
          -0.3324569902600138,
          -0.32558419341572165,
          -0.29928922329135066,
          -0.33166903991942587,
          -0.29052347489415126,
          -0.3133794538356962,
          -0.31637561014257004,
          -0.3315082921535059,
          -0.3298309797605981,
          0.08146475823423303,
          -0.31908174123790256,
          -0.33261467944709755,
          -0.33236904429071823,
          -0.33249859580662267,
          0.1319374395210899,
          -0.31670848239017696,
          -0.33209321645911233,
          -0.33259255913208785,
          -0.3325482213359707,
          0.43613990463581387,
          -0.3170510178186003,
          -0.33226621384527905,
          -0.057042844985026736,
          -0.3269795332429266,
          -0.3167474888990267,
          -0.3151302540266191,
          -0.3307335743497294,
          -0.2904246517157728,
          0.8356366376144381,
          -0.3149996280549756,
          -0.3310763263069234,
          -0.32378321298038243,
          -0.2759603265517473,
          -0.33239022514763983,
          -0.332655670944035,
          -0.31138544362542153,
          -0.3167277224966995,
          -0.3313518505775759,
          -0.3079211816540086,
          0.02529425233992663,
          -0.3315090106813901,
          -0.331170893732814,
          -0.33266953294373913,
          -0.33230429817584956,
          -0.3085784586343818,
          -0.32491453176917334,
          -0.332264250891021,
          -0.31498872568272773,
          -0.26343171247542857,
          -0.33233337278916847,
          -0.33264990683907314,
          -0.33249331727812337,
          -0.3307441804542464,
          -0.3326538227349192,
          -0.3160205819308699,
          -0.3882861929678211,
          -0.3652499011067756,
          -0.4477216365940436,
          -0.38969345081290535,
          -0.25517016160527706,
          0.05917574018203134,
          -0.2751896935125985,
          -0.3204373033470105,
          -0.3079165596215045,
          -0.3072203287683496,
          -0.29302699187102027,
          -0.11961474017871626,
          2.479281257742275,
          -0.27396786555483243,
          -0.30870436207056173,
          -0.30704358505010415,
          -0.2918458982254275,
          -0.27203372127260494,
          -0.08847090457311702,
          -0.29305962384807194,
          0.2392129186221092,
          -0.3085391529772501,
          -0.291718452541977,
          -0.30869633790763246,
          -0.3012668405047845,
          -0.30728370726788,
          -0.3049537353229183,
          -0.30867529012634753,
          -0.3087389284700781,
          -0.30858265013968333,
          -0.308719912769129,
          -0.38864095107574903,
          -0.3842383213182946,
          -0.4013665601407286,
          -0.4041316890004401,
          -0.40367586823754403,
          -0.3873607281737328,
          -0.4026978847110856,
          -0.38864040020034984,
          -0.3876922837604413,
          -0.40438078980321285,
          -0.3885269212728967,
          -0.3887573033981225,
          -0.3364415104470029,
          -0.4037755497204134,
          -0.4081601818636867,
          -0.4078973766951961,
          -0.40797162209805543,
          -0.4065124305623791,
          -0.40879272973214525,
          -0.40726069947751214,
          -0.40847620091581466,
          -0.40847620091581466,
          -0.4087516734289312,
          -0.4074339045091681,
          -0.4085105005751018,
          -0.40676279463522097,
          -0.4067238043575127,
          -0.4011270709473515,
          -0.40868757060912475,
          -0.4243454618602546,
          -0.40837690958328465,
          -0.39826794539520943,
          -0.3967652749647405,
          -0.3979861844557338,
          -0.39983931492496405,
          -0.3380838729546578,
          -0.3892729384996381,
          0.5937635573061288,
          -0.3320935269445814,
          -0.33246736608312916,
          -0.32746990908624884,
          -0.22068003239258877,
          -0.3431139876422541,
          -0.343514744726373,
          -0.3420179423781362,
          -0.32829160836702975,
          -0.3276645066263308,
          0.21563997815363506,
          -0.34198001723420984,
          -0.3306107458665416,
          -0.34615305611605407,
          -0.3499240793258268,
          -0.3597203654802043,
          -0.35914219927756763,
          -0.3826785827442263,
          3.7550439946702516,
          3.748211564972385,
          1.0021451256375615,
          3.7494550900787864,
          3.7383480529355673,
          3.742809331091706,
          3.7379565048202426,
          -0.4094508522037421,
          -0.36147486119141425,
          -0.40121112459675295,
          -0.07552685183081256,
          0.5942054640075327
         ],
         "y": [
          0.5089888713415507,
          0.3354818479051683,
          1.2648593870546547,
          0.7133692551371935,
          1.2649672235929914,
          0.9570765483384523,
          0.4054729963936947,
          2.000818000571747,
          2.0227033315686027,
          2.0228451502893754,
          1.471218458424807,
          2.165972181268136,
          1.8749254027110311,
          1.3232240938784747,
          1.8749337647651059,
          1.8749491456424512,
          1.8749145894564925,
          1.8749138149687892,
          1.8749199478959742,
          1.917509762698407,
          1.8749082601762517,
          1.874917091370776,
          1.874906308416733,
          1.3233128727248589,
          1.8749183480825529,
          1.3230558754231339,
          1.323313002191231,
          1.7454952650816906,
          1.3327087253011551,
          1.3327113581543482,
          1.3327089112329424,
          1.3326586891092471,
          1.3326628504015805,
          1.3327017119982536,
          0.7811287702308246,
          1.3327004109907472,
          1.3327090008064573,
          0.5767097744241894,
          1.33253963360913,
          1.332675113999672,
          1.3327121007972995,
          1.332671217393116,
          1.3325405952192266,
          1.3257456493852098,
          1.332739193461376,
          1.3327121523914738,
          0.7810972769459891,
          1.3327067359478326,
          1.332711328247761,
          0.7810616898505423,
          1.3321508893700484,
          1.3327055112310644,
          1.332702196789204,
          0.7810890665878205,
          0.8208567759395398,
          1.3327088319942968,
          1.332709562922933,
          0.7818876251979985,
          1.332823705988339,
          1.3324856139545151,
          1.3327080440602517,
          1.3325265372574895,
          0.7810964932581381,
          0.7891280680078748,
          1.3327097686336062,
          1.332686335206204,
          1.3327048136927833,
          1.3327106226812382,
          0.7811122049980144,
          1.3327002478333476,
          1.3326861272144488,
          0.7078269784068616,
          1.3326951074592224,
          1.3327106640754864,
          0.7810976221694497,
          0.8297698941763045,
          0.9334541049291927,
          2.0177394793330583,
          2.0177583724493444,
          2.1720486046201293,
          1.1376247641200814,
          1.1376310119832664,
          1.137625024385688,
          1.1376346449034545,
          1.1376303078574403,
          0.5869844040726301,
          1.1376166237546432,
          1.1375729351678596,
          1.1376290179120152,
          1.1376270232273398,
          1.1374180743192983,
          1.1373433775928743,
          1.1376346092038738,
          0.5860353215106457,
          1.1377444293212564,
          0.5860126366425497,
          1.1376064236120804,
          0.40505065422057074,
          0.57834221260416,
          1.1371817141898188,
          0.5859609476741388,
          1.1359565914146905,
          0.58598456679993,
          1.1376336371810796,
          1.1376328832299203,
          0.5859260198800357,
          1.1376255528794426,
          1.129931284557774,
          0.34447436417183447,
          0.5861328748788196,
          1.1376409281329085,
          1.137610049470753,
          1.1376154651204382,
          1.133309959209249,
          1.137527716230376,
          1.1376557488414405,
          1.1376319345164072,
          1.1376390990843337,
          1.1179399852390515,
          1.137605932811545,
          1.1288364851684352,
          1.1375451753224242,
          1.1376194925834033,
          1.137638433947344,
          0.5860054325935706,
          1.1376274517972627,
          1.1376221196850136,
          1.1371794281310472,
          0.5852558760802212,
          1.137596747762892,
          0.37588820020028807,
          1.1376453758816405,
          0.5860302456147547,
          1.1375702220430568,
          1.137590707569842,
          1.1171535483899313,
          1.137500259938627,
          1.1376339550902665,
          1.137635502318077,
          1.1376260476493623,
          1.1190804745777303,
          0.5860298914881754,
          1.137621743540805,
          1.1376346544234701,
          1.137627975809508,
          1.1488401327572393,
          0.5860287223153127,
          1.1376196768502758,
          0.59595593797855,
          1.1375471431115451,
          0.5860292921107421,
          0.5860301945737105,
          1.1376215740381062,
          0.4354289451429297,
          0.558178397702851,
          0.5859473170280342,
          1.1376244570123129,
          1.137248185254229,
          0.43661045072018007,
          1.137630910819227,
          1.1376352934827727,
          0.585882827496765,
          0.5860417907944819,
          1.13761248648012,
          1.1374182571868021,
          1.1513009649610964,
          1.1376137448578623,
          1.1376919787235489,
          1.137634401346076,
          1.1376165292612181,
          1.1371028289480514,
          1.1379308316515233,
          1.1376502369637087,
          0.5861081815313302,
          0.3611479988581496,
          1.1376354267889437,
          1.1376355135425065,
          1.1376262491709488,
          1.137635685871243,
          1.137634638205533,
          1.137884235853872,
          2.4578646426667397,
          3.061442236883921,
          0.4066472034139403,
          0.4063154853207943,
          2.144412965700177,
          2.14734532699226,
          2.145467616507742,
          2.147296774506726,
          0.8822691683560507,
          0.8822688927985776,
          0.33067630675564674,
          0.33077330753668727,
          0.9366879412061668,
          0.3306871741155961,
          0.8822724804660992,
          0.8822792696379901,
          0.33065769699029346,
          0.8819325002626331,
          0.8905585261531644,
          0.3306688913266017,
          0.2965672177277592,
          0.8822657226799838,
          0.3305901080200626,
          0.8822735126468793,
          0.8818465582234714,
          0.882181023946351,
          0.8820505741868838,
          0.8822735903633588,
          0.8822795079342601,
          0.88227857881124,
          0.8822726126150826,
          1.1191388025484807,
          1.1188459776416453,
          1.6707202829643788,
          1.6707460674090724,
          1.6707380913739716,
          1.1191259822127262,
          1.6706694561782103,
          1.1191344685549376,
          1.1190988074650283,
          1.67074663558868,
          1.1191395267462685,
          1.1191355436102797,
          0.7180366810801954,
          2.058913915846687,
          0.9100797799948195,
          0.9101115883904869,
          0.9100811720559074,
          0.9099822771218119,
          0.9101136978262292,
          0.9100197612124409,
          0.9101112653901401,
          0.9101112653901401,
          0.910108732720664,
          0.910111862550844,
          0.9101026975368155,
          0.9101621624668716,
          0.9101126318128061,
          0.9101160193577769,
          0.9101114455678091,
          0.830308369982332,
          0.9100848612834511,
          0.963583795182075,
          0.9635867257350418,
          0.9635883825222247,
          1.0042141245407967,
          1.2672875659004876,
          1.8191607593882801,
          0.8672908701376658,
          0.6506646959846721,
          0.6506913595862419,
          0.6505945519658258,
          1.648769688127796,
          1.6440591608350763,
          1.6440728943862908,
          1.6440501965994736,
          1.6437903307475377,
          1.0924635658789679,
          1.6436522187537526,
          1.644073419613952,
          0.41740318841815904,
          0.9689907274829126,
          1.0354209021496887,
          1.0342521547499752,
          1.0342774069200036,
          1.0614956145902261,
          2.151848330773056,
          2.152313322398894,
          1.5458478111003218,
          2.1523607972116374,
          2.151820682350943,
          2.1517441593164817,
          2.151831079063004,
          0.7803618505556954,
          1.0407493014860407,
          2.109712582430027,
          1.044278969333338,
          2.095041704526272
         ],
         "z": [
          -0.015386887270906542,
          0.03781883673558125,
          -0.40088209178286516,
          -0.10732947277719689,
          -0.40079917044752517,
          -0.3376495574023714,
          -0.04416733808605636,
          -0.6157868966953524,
          -0.5988403501901154,
          -0.598816479747122,
          -0.3053543365486123,
          -0.6638687025384048,
          -0.6134097399565182,
          -0.31994879119895125,
          -0.6134147093788905,
          -0.6134238499650811,
          -0.6134133370128805,
          -0.6134068628378343,
          -0.6134128122559683,
          -0.6390008699502675,
          -0.6134697147380179,
          -0.6134081417339026,
          -0.6134150978587419,
          -0.3199355649917722,
          -0.6134055876070301,
          -0.3200492856006605,
          -0.31993965946668124,
          -0.6414542148146603,
          -0.48294173291082837,
          -0.48294346462246845,
          -0.4829568781832353,
          -0.4829567675008352,
          -0.48296091101474353,
          -0.48294491536279904,
          -0.18948441081090198,
          -0.4829484855766589,
          -0.48294335133695027,
          -0.0975285679404476,
          -0.4830066272183263,
          -0.4829534983861778,
          -0.4829788200540384,
          -0.4829511827011054,
          -0.48296844237387687,
          -0.48767254631636214,
          -0.48298322703510965,
          -0.48294527547754507,
          -0.1894723770258057,
          -0.48294222120368013,
          -0.48294160926572477,
          -0.18947795672925238,
          -0.48310970946358284,
          -0.48294817549878594,
          -0.4829528879068466,
          -0.18947919146863265,
          -0.007244833987610335,
          -0.4829474761211127,
          -0.4829415624825056,
          -0.18993538503541268,
          -0.4830083933899667,
          -0.4831415773542259,
          -0.48294968071483907,
          -0.48297211579439797,
          -0.18947181106199046,
          -0.1942382534655413,
          -0.4830101764919146,
          -0.48309380940970287,
          -0.4829450881148566,
          -0.48294119029399596,
          -0.1896940741184332,
          -0.4829433770229387,
          -0.48294667910126277,
          -0.20623524158300013,
          -0.48294867484212506,
          -0.4829425019799114,
          -0.18947291629220794,
          -0.029561786858053943,
          0.032155458896243515,
          -0.8393146678158383,
          -0.8393258956641549,
          0.1495750449659289,
          -0.5545050445787336,
          -0.5545081116360362,
          -0.5545107476394746,
          -0.554504696319542,
          -0.5545053544433864,
          -0.27246388327396204,
          -0.554506911298736,
          -0.554515026762813,
          -0.5545112699742432,
          -0.5545084140373431,
          -0.5545419374577248,
          -0.5545478828762441,
          -0.5545035672924675,
          -0.26104511342951503,
          -0.5579767141027037,
          -0.2610376461200259,
          -0.5545148819905208,
          -0.365243849973502,
          -0.26210425838244006,
          -0.554568525840976,
          -0.2610790951975492,
          -0.5552176260399981,
          -0.26104769319525084,
          -0.554503991940729,
          -0.5545042120930358,
          -0.2611385236950006,
          -0.5545082084476082,
          -0.5559395268351103,
          -0.32162992923151473,
          -0.26443841439121824,
          -0.5546409649642494,
          -0.5545424288416747,
          -0.5545924221274028,
          -0.5554416179757518,
          -0.5545235691908246,
          -0.5545211417871605,
          -0.5545089939874761,
          -0.5545062355358048,
          -0.5677905364160786,
          -0.5545145903163534,
          -0.5609687111385242,
          -0.5545172395165248,
          -0.5545127110380919,
          -0.5545833528815306,
          -0.26103704004737704,
          -0.5545064008568799,
          -0.554505700411652,
          -0.5545671672762617,
          -0.2612414281778535,
          -0.5545161480316942,
          -0.3162728159683128,
          -0.554844071868807,
          -0.261044912233113,
          -0.5545154190370847,
          -0.5545476395956221,
          -0.5590373384346489,
          -0.5547244213896622,
          -0.5545045149747362,
          -0.5545090388944152,
          -0.5545054955254312,
          -0.5601824769404536,
          -0.2610390151176662,
          -0.5545120427296397,
          -0.5545049973974471,
          -0.5545048817714627,
          -0.569515467348044,
          -0.26103283898968066,
          -0.5545087257000313,
          -0.2669320753929768,
          -0.554591912290447,
          -0.2610382493403701,
          -0.26106679043515757,
          -0.5545359134446451,
          -0.15980148715590137,
          -0.27755805252003696,
          -0.26105798218827825,
          -0.5545302764106256,
          -0.5546080284310908,
          -0.20217094119993978,
          -0.5545080515160179,
          -0.5545039739334077,
          -0.26111285521763306,
          -0.26104027125196677,
          -0.5545238307451523,
          -0.5549095628891325,
          -0.5626252432983665,
          -0.5545212375155963,
          -0.5545376609798209,
          -0.554503610805255,
          -0.5545076347238345,
          -0.5548557518647751,
          -0.554679607094197,
          -0.5545128545825673,
          -0.26107972610481756,
          -0.3455143876201976,
          -0.5545096556418426,
          -0.5545041047110557,
          -0.5545056152861828,
          -0.5545376177372304,
          -0.5545039186197556,
          -0.5548296604948997,
          -0.3692716674837205,
          0.15514935071233193,
          -0.27041295290881706,
          -0.2713882577642803,
          -0.7376501036364943,
          -0.7435670767673198,
          -0.7374395941591171,
          -0.7368895106446608,
          -0.43869858706293163,
          -0.4387107852312112,
          -0.14521672247790743,
          -0.1482771472975178,
          -0.06167157455962078,
          -0.14555311057516054,
          -0.43868518650941823,
          -0.4387152814745337,
          -0.14523498491183653,
          -0.43928406146942933,
          -0.44366556825983344,
          -0.1452151555204293,
          -0.15000007223122103,
          -0.43868718438597354,
          -0.14522816911151862,
          -0.4386854658102468,
          -0.43875882418277623,
          -0.43869789895592326,
          -0.4387213668813176,
          -0.4386858461019326,
          -0.43868552059010674,
          -0.43868814243690957,
          -0.43868493093710387,
          -0.2051702571004774,
          -0.20520839378406777,
          -0.49868862479217657,
          -0.4986434868520885,
          -0.4986504285215264,
          -0.2051910372214262,
          -0.4986584193227944,
          -0.20516968612082728,
          -0.20518156986736208,
          -0.4986391854478341,
          -0.2051723580092575,
          -0.20516777577753456,
          -0.332446058020193,
          -0.7564768136089817,
          -0.142794558891984,
          -0.14280343888050956,
          -0.1427980590186606,
          -0.14281045209861232,
          -0.14278798717413796,
          -0.14280232457863407,
          -0.1427932237427907,
          -0.1427932237427907,
          -0.14278804345408652,
          -0.1428116203566249,
          -0.14279147307894788,
          -0.14283015307339,
          -0.14282420223746897,
          -0.14292300927659338,
          -0.1427895334155878,
          -0.12980652041294757,
          -0.14279143104816774,
          -0.1021020699138245,
          -0.10212886945082453,
          -0.10210763599199024,
          -0.06946178810327587,
          -0.24934475041326834,
          -0.5422262706827448,
          -0.06871214871345654,
          -0.34262199943398125,
          -0.3426190021790379,
          -0.3426938539814143,
          -0.5340696632867944,
          -0.5312869846737052,
          -0.5312817820371197,
          -0.5313050448153459,
          -0.5315114457216615,
          -0.23781459341327535,
          -0.5410516250773382,
          -0.5313088226621038,
          -0.038783538727599556,
          -0.3322532193570088,
          -0.43140865513716364,
          -0.5188682011341033,
          -0.5188817446718512,
          0.023617641873192086,
          0.036708135748869296,
          0.03676590550675862,
          -0.04717958854520751,
          0.036737692056511936,
          0.037005243144725225,
          0.03693709609327905,
          0.03701073101263964,
          -0.29416976508924086,
          -0.397808721982883,
          -0.7489859332127176,
          -0.40464094895752406,
          -0.6691306192043631
         ]
        },
        {
         "customdata": [
          [
           "XEVAN",
           14746153.0962884,
           "210000000"
          ],
          [
           "X16R",
           9753753.61515394,
           "100000000"
          ],
          [
           "X16R",
           8125865.02097646,
           "22075700"
          ],
          [
           "X13",
           1170292.5,
           "2100000"
          ],
          [
           "X11GOST",
           17263355,
           "24000000"
          ],
          [
           "X11",
           4229040.50393462,
           "19800000"
          ],
          [
           "X11",
           1207310,
           "0"
          ],
          [
           "X11",
           80316207,
           "550000000"
          ],
          [
           "X11",
           175215859,
           "350000000"
          ],
          [
           "X11",
           2702855668.85288,
           "1800000000"
          ],
          [
           "X11",
           15863837.5,
           "21000000"
          ],
          [
           "X11",
           15867695,
           "16000000"
          ],
          [
           "X11",
           536982074,
           "100000000000"
          ],
          [
           "X11",
           30385540,
           "1000000000"
          ],
          [
           "X11",
           45110324,
           "84000000"
          ],
          [
           "X11",
           32221574.820996,
           "33000000"
          ],
          [
           "X11",
           122475638.389743,
           "1100000000"
          ],
          [
           "X11",
           2622886,
           "18900000"
          ],
          [
           "X11",
           26042364.3735553,
           "60000000"
          ],
          [
           "X11",
           35138975,
           "100000000"
          ],
          [
           "X11",
           13654082.4987998,
           "25000000"
          ],
          [
           "X11",
           5015881.37315389,
           "25000000"
          ],
          [
           "X11",
           4993030.69736615,
           "21000000"
          ],
          [
           "X11",
           824000000,
           "500000000"
          ],
          [
           "X11",
           11149733.9976203,
           "20000000"
          ],
          [
           "X11",
           4996986.20575291,
           "18000000"
          ],
          [
           "X11",
           1377917,
           "25000000"
          ],
          [
           "X11",
           211297638.500483,
           "500000000"
          ],
          [
           "X11",
           61364813,
           "228000000"
          ],
          [
           "X11",
           8478104.33969947,
           "23000000"
          ],
          [
           "X11",
           31801461.1867843,
           "100000000"
          ],
          [
           "VeChainThor Authority",
           55454734800,
           "86712634466"
          ],
          [
           "Tribus",
           795447,
           "18000000"
          ],
          [
           "Time Travel",
           17801865.1605478,
           "21000000"
          ],
          [
           "Stanford Folding",
           719416990,
           "1000000000"
          ],
          [
           "SkunkHash",
           4818338.98949984,
           "16600000"
          ],
          [
           "Shabal256",
           1813033920,
           "2158812800"
          ],
          [
           "Scrypt",
           196297971,
           "10000000000"
          ],
          [
           "Scrypt",
           894026,
           "2714286"
          ],
          [
           "Scrypt",
           163055097500,
           "200000000000"
          ],
          [
           "Scrypt",
           1416663.06600024,
           "22105263"
          ],
          [
           "Scrypt",
           10000000000,
           "10000000000"
          ],
          [
           "Scrypt",
           12446100.00278,
           "40000000"
          ],
          [
           "Scrypt",
           14491014421,
           "18406979840"
          ],
          [
           "Scrypt",
           4070212.1493016,
           "21000000"
          ],
          [
           "Scrypt",
           29583989322.9213,
           "50000000000"
          ],
          [
           "Scrypt",
           5052555.91981545,
           "5000000"
          ],
          [
           "Scrypt",
           69684455.4387001,
           "182000000"
          ],
          [
           "Scrypt",
           780210700,
           "1000000000"
          ],
          [
           "Scrypt",
           35284717.173946,
           "120000000"
          ],
          [
           "Scrypt",
           55565076.3863525,
           "98100000000"
          ],
          [
           "Scrypt",
           20276099.146524,
           "35520400"
          ],
          [
           "Scrypt",
           13673406.4325268,
           "72000000"
          ],
          [
           "Scrypt",
           18133195,
           "19276800"
          ],
          [
           "Scrypt",
           99843408.3158479,
           "100000000 "
          ],
          [
           "Scrypt",
           3115258,
           "3360000"
          ],
          [
           "Scrypt",
           64096052,
           "4000000000"
          ],
          [
           "Scrypt",
           5167775,
           " 75000000"
          ],
          [
           "Scrypt",
           3964201248.87125,
           "4999999999"
          ],
          [
           "Scrypt",
           99990001.493466,
           "100000000"
          ],
          [
           "Scrypt",
           45483049.3398182,
           "64000000"
          ],
          [
           "Scrypt",
           17453749.4042601,
           "84000000"
          ],
          [
           "Scrypt",
           485214,
           "10500000000"
          ],
          [
           "Scrypt",
           143006669741.687,
           "0"
          ],
          [
           "Scrypt",
           9704042,
           "20000000"
          ],
          [
           "Scrypt",
           32646731.063036,
           "100000000"
          ],
          [
           "Scrypt",
           33716526,
           "100000000"
          ],
          [
           "Scrypt",
           38151999.9930997,
           "42000000"
          ],
          [
           "Scrypt",
           90595753018.6314,
           "90600000000"
          ],
          [
           "Scrypt",
           151447649.8,
           "265420800"
          ],
          [
           "Scrypt",
           19326319.14375,
           "20000000"
          ],
          [
           "Scrypt",
           1104344.22938102,
           "1350000"
          ],
          [
           "Scrypt",
           69836100,
           "84000000"
          ],
          [
           "Scrypt",
           210000000,
           "210000000"
          ],
          [
           "Scrypt",
           5804204.88794916,
           "10000000"
          ],
          [
           "Scrypt",
           2366066305.76482,
           "15000000000"
          ],
          [
           "Scrypt",
           334709223.483138,
           "337000000"
          ],
          [
           "Scrypt",
           75614500,
           "250000000"
          ],
          [
           "Scrypt",
           20910478.8062499,
           "21000000 "
          ],
          [
           "Scrypt",
           218871896.499999,
           "299792458"
          ],
          [
           "Scrypt",
           19496786.31025,
           "32000000"
          ],
          [
           "Scrypt",
           6570807.65677618,
           "20000000"
          ],
          [
           "Scrypt",
           2147483647,
           "2147483647"
          ],
          [
           "Scrypt",
           884125802,
           "1420609614"
          ],
          [
           "Scrypt",
           65672720.4708748,
           "70000000"
          ],
          [
           "Scrypt",
           41658647.9999715,
           "72245700"
          ],
          [
           "Scrypt",
           636462.55983338,
           "168351300"
          ],
          [
           "Scrypt",
           23150892.1679687,
           "23000000"
          ],
          [
           "Scrypt",
           619478,
           "619478"
          ],
          [
           "Scrypt",
           119606941,
           "265420800"
          ],
          [
           "Scrypt",
           4610340640.89,
           "10000000000"
          ],
          [
           "Scrypt",
           10140044.4430293,
           "3371337"
          ],
          [
           "Scrypt",
           68194674.8711679,
           "105120000"
          ],
          [
           "Scrypt",
           792537250,
           "1000000000"
          ],
          [
           "Scrypt",
           152270664.860648,
           "160000000"
          ],
          [
           "Scrypt",
           181919.2435974,
           "2628000"
          ],
          [
           "Scrypt",
           137517654.41397,
           "166386000"
          ],
          [
           "Scrypt",
           32565300,
           "210240000"
          ],
          [
           "Scrypt",
           1104157.42169891,
           "21000000"
          ],
          [
           "Scrypt",
           24215181.725,
           "250000000"
          ],
          [
           "Scrypt",
           25593737.1355044,
           "51200000"
          ],
          [
           "Scrypt",
           88213,
           "92000000000"
          ],
          [
           "Scrypt",
           12539015186.822,
           "13500000000"
          ],
          [
           "Scrypt",
           1142732.14912776,
           "11235813"
          ],
          [
           "Scrypt",
           415032420,
           "1680000000"
          ],
          [
           "Scrypt",
           616448,
           "616448"
          ],
          [
           "Scrypt",
           88,
           "384000000000"
          ],
          [
           "Scrypt",
           128940951.183046,
           "250000000"
          ],
          [
           "Scrypt",
           7357794.7925,
           "100000000"
          ],
          [
           "Scrypt",
           33442988.3440364,
           "48166000"
          ],
          [
           "Scrypt",
           11119200,
           "30000000"
          ],
          [
           "Scrypt",
           5768310,
           "21000000"
          ],
          [
           "Scrypt",
           116845228,
           "200000000"
          ],
          [
           "Scrypt",
           12205795.4449549,
           "64000000"
          ],
          [
           "Scrypt",
           63039243.3000049,
           "84000000"
          ],
          [
           "Scrypt",
           7219956.64626131,
           "21000000 "
          ],
          [
           "Scrypt",
           4703879.51824446,
           "13140000"
          ],
          [
           "Scrypt",
           39999997299.8568,
           "40000000000"
          ],
          [
           "SHA-512",
           1000000000,
           "1000000000"
          ],
          [
           "SHA-256",
           200911.79151896,
           "250000"
          ],
          [
           "SHA-256",
           17927175,
           "21000000"
          ],
          [
           "SHA-256",
           39195739.362088,
           "45000000"
          ],
          [
           "SHA-256",
           18773857500,
           "21000000000"
          ],
          [
           "SHA-256",
           2278150,
           "80000000"
          ],
          [
           "SHA-256",
           84613099.9999955,
           "168000000"
          ],
          [
           "SHA-256",
           21089348.999,
           "21000000"
          ],
          [
           "SHA-256",
           52293836.6277958,
           "64000000"
          ],
          [
           "SHA-256",
           17992514.6469233,
           "21000000"
          ],
          [
           "SHA-256",
           2100000000,
           "2100000000"
          ],
          [
           "SHA-256",
           14736400,
           "21000000"
          ],
          [
           "SHA-256",
           20166000,
           "20166000"
          ],
          [
           "SHA-256",
           22935396,
           "42000000"
          ],
          [
           "SHA-256",
           43536800,
           "47011968"
          ],
          [
           "SHA-256",
           563336541.299966,
           "888000000"
          ],
          [
           "SHA-256",
           170204389.754849,
           "169795588"
          ],
          [
           "SHA-256",
           22986929.0854247,
           "42000000"
          ],
          [
           "SHA-256",
           1317747500,
           "2500000000"
          ],
          [
           "SHA-256",
           12462620,
           "21000000"
          ],
          [
           "SHA-256",
           14747200.0002,
           "53760000"
          ],
          [
           "SHA-256",
           21739971929,
           "21626280000 "
          ],
          [
           "SHA-256",
           9106714,
           "10638298"
          ],
          [
           "SHA-256",
           20997476.8650231,
           "21000000"
          ],
          [
           "SHA-256",
           17995589.6469082,
           "21000000"
          ],
          [
           "SHA-256",
           6243840,
           "9736000"
          ],
          [
           "Quark",
           259557164.91477,
           "247000000"
          ],
          [
           "QuBit",
           6365285,
           "0"
          ],
          [
           "QuBit",
           12925790.4226959,
           "100000000"
          ],
          [
           "NeoScrypt",
           5832306.875,
           "31800000"
          ],
          [
           "NeoScrypt",
           208669093.00773,
           "336000000"
          ],
          [
           "NeoScrypt",
           7847417.33355824,
           "21000000"
          ],
          [
           "NeoScrypt",
           299797953,
           "500000000"
          ],
          [
           "NeoScrypt",
           4165967.57499639,
           "27000000"
          ],
          [
           "NeoScrypt",
           6375259.04,
           "45000000"
          ],
          [
           "NeoScrypt",
           3824685012,
           "4000000000"
          ],
          [
           "NIST5",
           10123200,
           "48252000"
          ],
          [
           "NIST5",
           21069346.2522598,
           "21000000"
          ],
          [
           "Multiple",
           80260463.7331396,
           "100000000"
          ],
          [
           "Multiple",
           1688254250,
           "2000000000"
          ],
          [
           "Multiple",
           15929530669.1206,
           "16555000000"
          ],
          [
           "Multiple",
           3332922.5,
           "2800000"
          ],
          [
           "Multiple",
           11406219141,
           "21000000000"
          ],
          [
           "Multiple",
           65113302,
           "0"
          ],
          [
           "Multiple",
           100000000,
           "0"
          ],
          [
           "Multiple",
           481730566.566176,
           "660000000"
          ],
          [
           "Multiple",
           1000000000,
           "1200000000"
          ],
          [
           "M7 POW",
           708506520,
           "1840000000"
          ],
          [
           "Lyra2Z",
           7568281.24956067,
           "21400000"
          ],
          [
           "Lyra2Z",
           13634850,
           "84000000"
          ],
          [
           "Lyra2Z",
           27340501.6514783,
           "300000000"
          ],
          [
           "Lyra2Z",
           6986399.70430446,
           "10500000"
          ],
          [
           "Lyra2REv2",
           51173723.8166347,
           "84000000"
          ],
          [
           "Lyra2REv2",
           643795911.540095,
           "1100000000"
          ],
          [
           "Lyra2RE",
           18545757.5,
           "21000000"
          ],
          [
           "Lyra2RE",
           1876146.443596,
           "9999999"
          ],
          [
           "Lyra2RE",
           13742738,
           "65789100"
          ],
          [
           "Lyra2RE",
           5097689.71077377,
           "26280000"
          ],
          [
           "Keccak",
           2241009149.22257,
           "5000000000"
          ],
          [
           "Jump Consistent Hash",
           135862416.039898,
           "168000000"
          ],
          [
           "IMesh",
           25000000,
           "25000000"
          ],
          [
           "HybridScryptHash256",
           40431856.9,
           "200000000"
          ],
          [
           "HMQ1725",
           8645406.16776286,
           "21000000"
          ],
          [
           "Groestl",
           49548585.1412917,
           "84000000"
          ],
          [
           "Groestl",
           73298203.8873662,
           "105000000"
          ],
          [
           "Exosis",
           406091.925,
           "21000000"
          ],
          [
           "Ethash",
           24487944.0958204,
           "24487944"
          ],
          [
           "Ethash",
           12756367,
           "280000000"
          ],
          [
           "Ethash",
           113359703,
           "210000000"
          ],
          [
           "Ethash",
           247612453,
           "6500000000"
          ],
          [
           "Ethash",
           26205539,
           "26205539"
          ],
          [
           "Ethash",
           10495278,
           "16906397"
          ],
          [
           "Ethash",
           107684222.6865,
           "0"
          ],
          [
           "Ethash",
           520891780,
           "10000000000"
          ],
          [
           "Ethash",
           1618033,
           "1618033"
          ],
          [
           "Equihash+Scrypt",
           100000000,
           "2100000000"
          ],
          [
           "Equihash",
           17202361.088994,
           "21000000"
          ],
          [
           "Equihash",
           25150787.5,
           "30886000"
          ],
          [
           "Equihash",
           4235111504,
           "7600000000"
          ],
          [
           "Equihash",
           71355477,
           "70000000"
          ],
          [
           "Equihash",
           5613550,
           "21000000"
          ],
          [
           "Equihash",
           6921653.89980891,
           "17000000"
          ],
          [
           "Equihash",
           115898131,
           "200000000"
          ],
          [
           "Equihash",
           5211553258.01514,
           "21000000000"
          ],
          [
           "Equihash",
           13475920,
           "105000000"
          ],
          [
           "Equihash",
           7296537.5,
           "21000000"
          ],
          [
           "Equihash",
           7383056.25,
           "21000000"
          ],
          [
           "Equihash",
           35687520,
           "262800000"
          ],
          [
           "Dagger-Hashimoto",
           2232901,
           "2232901"
          ],
          [
           "Dagger",
           107325266.027783,
           "100000000"
          ],
          [
           "Dagger",
           33986980,
           "156306732.71"
          ],
          [
           "Dagger",
           5702048,
           "30000000"
          ],
          [
           "Cryptonight-GPU",
           4890897,
           "88188888"
          ],
          [
           "CryptoNight-V7",
           17201143.1449131,
           "0"
          ],
          [
           "CryptoNight-V7",
           10969318.522954,
           "185000000"
          ],
          [
           "CryptoNight-V7",
           69036016.8340164,
           "105000000"
          ],
          [
           "CryptoNight-V7",
           15580199.3087496,
           "1750000000"
          ],
          [
           "CryptoNight-V7",
           441250233.377,
           "999481516"
          ],
          [
           "CryptoNight Heavy",
           19153632,
           "150000000"
          ],
          [
           "CryptoNight Heavy",
           99553110528.8022,
           "184470000000"
          ],
          [
           "CryptoNight",
           7822432.72439746,
           "10000000"
          ],
          [
           "CryptoNight",
           133932467.774108,
           "336000000"
          ],
          [
           "CryptoNight",
           53139835213.77,
           "1000000000000"
          ],
          [
           "CryptoNight",
           1809467143,
           "2000000000"
          ],
          [
           "CryptoNight",
           4500000,
           "12500000"
          ],
          [
           "CryptoNight",
           19281821413.4924,
           "85000000000"
          ],
          [
           "CryptoNight",
           14161803,
           "54000000"
          ],
          [
           "CryptoNight",
           184066828814,
           "184467440735"
          ],
          [
           "CryptoNight",
           6906587610.38292,
           "10000000000"
          ],
          [
           "CryptoNight",
           980222595,
           "1400222610"
          ],
          [
           "CryptoNight",
           8946653,
           "88888888"
          ],
          [
           "CryptoNight",
           16016864,
           "18400000"
          ],
          [
           "CryptoNight",
           80049082.9057215,
           "1000000000"
          ],
          [
           "CryptoNight",
           9357088,
           "25000000"
          ],
          [
           "CryptoNight",
           560085952.404637,
           "1000000000"
          ],
          [
           "CryptoNight",
           1867054873.28397,
           "8080000000"
          ],
          [
           "CryptoNight",
           41294520017,
           "184000000000"
          ],
          [
           "CryptoNight",
           84300,
           "600000518"
          ],
          [
           "CryptoNight",
           978145,
           "21000000"
          ],
          [
           "Cloverhash",
           18407259.0885883,
           "30000000"
          ],
          [
           "C11",
           11916588.09471,
           "23000000"
          ],
          [
           "Blake2b",
           133248297,
           "340282367"
          ],
          [
           "Blake2b",
           33098296530,
           "0"
          ],
          [
           "Blake",
           15846721.2482747,
           "25228800"
          ],
          [
           "Blake",
           23356790.1494191,
           "7000000000"
          ],
          [
           "Blake",
           1578281.31341127,
           "105120001.44"
          ],
          [
           "BLAKE256",
           30089671530.5228,
           " 90000000000"
          ],
          [
           "Argon2d",
           19784224.6512734,
           "0"
          ],
          [
           "1GB AES Pattern Search",
           11448949,
           "81962100"
          ]
         ],
         "hovertemplate": "<b>%{hovertext}</b><br><br>Class=%{marker.color}<br>PC 1=%{x}<br>PC 2=%{y}<br>PC 3=%{z}<br>Algorithm=%{customdata[0]}<br>TotalCoinsMined=%{customdata[1]}<br>TotalCoinSupply=%{customdata[2]}<extra></extra>",
         "hovertext": [
          "Urals Coin",
          "Xchange",
          "Motion",
          "Bitcoin Rhodium",
          "SibCoin",
          "Sucre",
          "UroCoin",
          "AC3",
          "Pura",
          "Elements",
          "BowsCoin",
          "MindCoin",
          "PacCoin",
          "VaultCoin",
          "Adzcoin",
          "MarsCoin ",
          "Onix",
          "DAS",
          "ArcticCoin",
          "DigitalPrice",
          "BolivarCoin",
          "Azart",
          "Axe",
          "ArtexCoin",
          "Spreadcoin",
          "CryptCoin",
          "PizzaCoin",
          "Crypto Improvement Fund",
          "Kurrent",
          "Pioneer Coin",
          "FuturoCoin",
          "Vechain",
          "KEYCO",
          "Bitcore",
          "Folding Coin",
          "MUNcoin",
          "BurstCoin",
          "KiloCoin",
          "OsmiumCoin",
          "gCn Coin",
          "HexCoin",
          "ShareChain",
          "BitFlip",
          "LottoCoin",
          "Poseidon",
          "SmileyCoin",
          "Bata",
          "Pakcoin",
          "Crypto Escudo",
          "Block-Logic",
          "SolarCoin",
          "BenjiRolls",
          "EquiTrader",
          "Unify",
          "Canada eCoin",
          "BeaverCoin",
          "EB3coin",
          "SocialCoin",
          "PopularCoin",
          "eBoost",
          "IrishCoin",
          "Kronecoin",
          "Sojourn Coin",
          "NewYorkCoin",
          "FrazCoin",
          "AdCoin",
          "Linx",
          "MegaCoin",
          "Infinite Coin",
          "KrugerCoin",
          "LuckyCoin",
          "Litebar ",
          "Gamecredits",
          "Revolution VR",
          "MinCoin",
          "NobleCoin",
          "NyanCoin",
          "BitZeny",
          "E-Gulden",
          "Einsteinium",
          "Emerald",
          "Francs",
          "SafeExchangeCoin",
          "GrandCoin",
          "GlobalCoin",
          "GoldCoin",
          "YoCoin",
          "ViaCoin",
          "MasterCoin",
          "WorldCoin",
          "GreenCoin",
          "OmniCron",
          "MonaCoin",
          "ArtByte",
          "Flo",
          "Wild Beast Coin",
          "PesetaCoin",
          "Song Coin",
          "RonPaulCoin",
          "StableCoin",
          "SmartCoin",
          "1Credit",
          "EarthCoin",
          "Franko",
          "Gulden",
          "Omni",
          "MoonCoin",
          "SexCoin",
          "Quatloo",
          "Digitalcoin ",
          "Shilling",
          "ProsperCoin",
          "DopeCoin",
          "Argentum",
          "Litecoin",
          "Catcoin",
          "CannaCoin",
          "CasinoCoin",
          "Kcash",
          "Unobtanium",
          "Bitcoin",
          "JouleCoin",
          "DevCoin",
          "UnbreakableCoin",
          "GlobalToken",
          "IXcoin",
          "BLAST",
          "Bitcoin SV",
          "Project Pai",
          "Namecoin",
          "UnitedBitcoin",
          "TerraCoin",
          "TigerCoin",
          "SysCoin",
          "ZetaCoin",
          "Crown Coin",
          "ILCoin",
          "SoonCoin",
          "Anarchists Prime",
          "CarpeDiemCoin",
          "DollarCoin",
          "I0coin",
          "Bitcoin Cash",
          "ZayedCoin",
          "QuarkCoin",
          "CypherPunkCoin",
          "SLICE",
          "GoByte",
          "FeatherCoin",
          "SparksPay",
          "GunCoin",
          "VIVO Coin",
          "Innova",
          "UFO Coin",
          "Coinonat",
          "Jumpcoin",
          "TeslaCoin",
          "MyriadCoin",
          "Verge",
          "JoinCoin",
          "DigiByte",
          "Unitus",
          "Crypti",
          "SHIELD",
          "Circuits of Value",
          "Cryptonite",
          "ZCoin",
          "Actinium",
          "Alpenschillling",
          "GINcoin",
          "Vertcoin",
          "KREDS",
          "Zoin",
          "HexxCoin",
          "Crypto",
          "Infinex",
          "SmartCash",
          "MassGrid",
          "Aidos Kuneen",
          "MediterraneanCoin",
          "PlusOneCoin",
          "Riecoin",
          "Groestlcoin",
          "Exosis",
          "Reality Clash",
          "Ellaism",
          "Ethereum Classic",
          "Callisto Network",
          "Elementrem",
          "Expanse",
          "Ethereum",
          "DaxxCoin",
          "1717 Masonic Commemorative Token",
          "Vollar",
          "Bitcoin Gold",
          "Bithereum",
          "CrypticCoin",
          "Bitrolium",
          "ZClassic",
          "Zero",
          "Komodo",
          "BitcoinZ",
          "PirateCash",
          "Horizen",
          "ZCash",
          "Beam",
          "DubaiCoin",
          "Travelflex",
          "Pirl",
          "SoilCoin",
          "Ryo",
          "Monero",
          "Citadel",
          "Quantum Resistant Ledger",
          "Webchain",
          "Lethean",
          "Loki",
          "Qwertycoin",
          "Karbo",
          "Niobio Cash",
          "TurtleCoin",
          "Dinastycoin",
          "BitCoal",
          "UltraNote",
          "LeviarCoin",
          "ByteCoin",
          "DigitalNote ",
          "Beldex",
          "Sumokoin",
          "Monero Classic",
          "BitTube",
          "Bikercoins",
          "PluraCoin",
          "FREDEnergy",
          "Newton Coin",
          "PlatinCoin",
          "Cannabis Industry Coin",
          "ChanCoin",
          "Interzone",
          "Nano",
          "Siacoin",
          "Lithium",
          "BlakeCoin",
          "Universal Molecule",
          "Photon",
          "Dynamic",
          "HOdlcoin"
         ],
         "legendgroup": "1",
         "marker": {
          "color": [
           1,
           1,
           1,
           1,
           1,
           1,
           1,
           1,
           1,
           1,
           1,
           1,
           1,
           1,
           1,
           1,
           1,
           1,
           1,
           1,
           1,
           1,
           1,
           1,
           1,
           1,
           1,
           1,
           1,
           1,
           1,
           1,
           1,
           1,
           1,
           1,
           1,
           1,
           1,
           1,
           1,
           1,
           1,
           1,
           1,
           1,
           1,
           1,
           1,
           1,
           1,
           1,
           1,
           1,
           1,
           1,
           1,
           1,
           1,
           1,
           1,
           1,
           1,
           1,
           1,
           1,
           1,
           1,
           1,
           1,
           1,
           1,
           1,
           1,
           1,
           1,
           1,
           1,
           1,
           1,
           1,
           1,
           1,
           1,
           1,
           1,
           1,
           1,
           1,
           1,
           1,
           1,
           1,
           1,
           1,
           1,
           1,
           1,
           1,
           1,
           1,
           1,
           1,
           1,
           1,
           1,
           1,
           1,
           1,
           1,
           1,
           1,
           1,
           1,
           1,
           1,
           1,
           1,
           1,
           1,
           1,
           1,
           1,
           1,
           1,
           1,
           1,
           1,
           1,
           1,
           1,
           1,
           1,
           1,
           1,
           1,
           1,
           1,
           1,
           1,
           1,
           1,
           1,
           1,
           1,
           1,
           1,
           1,
           1,
           1,
           1,
           1,
           1,
           1,
           1,
           1,
           1,
           1,
           1,
           1,
           1,
           1,
           1,
           1,
           1,
           1,
           1,
           1,
           1,
           1,
           1,
           1,
           1,
           1,
           1,
           1,
           1,
           1,
           1,
           1,
           1,
           1,
           1,
           1,
           1,
           1,
           1,
           1,
           1,
           1,
           1,
           1,
           1,
           1,
           1,
           1,
           1,
           1,
           1,
           1,
           1,
           1,
           1,
           1,
           1,
           1,
           1,
           1,
           1,
           1,
           1,
           1,
           1,
           1,
           1,
           1,
           1,
           1,
           1,
           1,
           1,
           1,
           1,
           1,
           1,
           1,
           1,
           1,
           1,
           1,
           1,
           1,
           1,
           1,
           1,
           1,
           1,
           1,
           1,
           1,
           1,
           1,
           1,
           1,
           1,
           1,
           1
          ],
          "coloraxis": "coloraxis",
          "symbol": "diamond"
         },
         "mode": "markers",
         "name": "1",
         "scene": "scene",
         "showlegend": true,
         "type": "scatter3d",
         "x": [
          -0.1680286277294329,
          -0.17791302629017794,
          -0.17848486504340988,
          -0.10190644052509007,
          -0.13651711681578935,
          -0.21332817321964267,
          -0.2135053203570238,
          -0.2086435212508226,
          -0.20890137544640716,
          -0.1677659787631882,
          -0.21317760256206617,
          -0.21321297193715535,
          0.501366510717593,
          -0.2060657338282942,
          -0.21237423062040686,
          -0.21289286121883055,
          -0.20423290634211444,
          -0.21335416068945662,
          -0.2127770656163539,
          -0.212382656486556,
          -0.21317625235514048,
          -0.21328173209018636,
          -0.2133103442989856,
          -0.19991667850784622,
          -0.21324224904494432,
          -0.21333154588594003,
          -0.21332615470927158,
          -0.20739829207679883,
          -0.21115575499602837,
          -0.21325362201354717,
          -0.21242341035042298,
          4.201649766535671,
          -0.1283795245807541,
          -0.12258899786603127,
          -0.09605570032993313,
          -0.14169101135259476,
          -0.2120212538193847,
          -0.0873841601857963,
          -0.16058393822827727,
          3.2470855782631567,
          -0.16044020436436454,
          0.03232732574127845,
          -0.16017877190609248,
          0.14671553076268598,
          -0.1604156311924401,
          0.5547962112846654,
          -0.16051696867587525,
          -0.15847401523243027,
          -0.14400375351973818,
          -0.1593332294369632,
          0.5349357220779248,
          -0.16011489133152773,
          -0.1599371199955962,
          -0.16025611622370112,
          -0.1586865791795586,
          -0.1605522413254208,
          -0.13149823143625064,
          -0.16001973105561315,
          -0.07679135570603915,
          -0.1586847891529882,
          -0.15960536374194753,
          -0.159805959265295,
          -0.0862335515686649,
          1.5856181974117491,
          -0.16035392066504747,
          -0.15950710739017743,
          -0.15949404429001768,
          -0.15985071455429078,
          1.5873832059046717,
          -0.15688472334651438,
          -0.16023642453027379,
          -0.16059103370611372,
          -0.15916632650130239,
          -0.1565623115871741,
          -0.16047237392840538,
          -0.025472976934835415,
          -0.15413992803687254,
          -0.15791994027087103,
          -0.1602099973064909,
          -0.15581795170385948,
          -0.16014934343390852,
          -0.16039218010396913,
          -0.15046156035910627,
          -0.13975556005198325,
          -0.15931633102300571,
          -0.15959365618270818,
          -0.15941382734902215,
          -0.16016847337481993,
          -0.16060212883581787,
          -0.1572735253064418,
          -0.0334849693092307,
          -0.16046638244366598,
          -0.15903677048427184,
          -0.1438532359282723,
          -0.15762140033489722,
          -0.1605932448427564,
          -0.15775631313253943,
          -0.15872723921597953,
          -0.16045184922698794,
          -0.1585475693795626,
          -0.1599388952352461,
          0.49105019902090397,
          0.08812238154325326,
          -0.16052054082061246,
          -0.14364624782947635,
          -0.1606021872970641,
          2.55937146288762,
          -0.15726877924094002,
          -0.1598159066712556,
          -0.15986453996446037,
          -0.1602658074332078,
          -0.1603948959827861,
          -0.15777064302615926,
          -0.16001170713136748,
          -0.1592493218649704,
          -0.16037717015059022,
          -0.16046356828249697,
          0.57987018255214,
          -0.5529222496684948,
          -0.1368121951515994,
          -0.13644876411362797,
          -0.1360190578743422,
          0.2411774541335368,
          -0.13622193748694333,
          -0.13459322815394448,
          -0.13641015129705525,
          -0.1357245364207924,
          -0.1364479662613269,
          -0.09629872383498198,
          -0.1364877261725909,
          -0.13642733363716633,
          -0.13623886029387883,
          -0.13595179849149383,
          -0.1236476375201333,
          -0.13353536750044956,
          -0.13623823103136026,
          -0.10301736959142033,
          -0.1365154909477408,
          -0.13625554552882993,
          0.28183234410725966,
          -0.13662986439481312,
          -0.13641127313344328,
          -0.1364479287129787,
          -0.1366712137490186,
          -0.22751105809566277,
          -0.16523179094899068,
          -0.1644433520656608,
          -0.1601774169645541,
          -0.15554586986097532,
          -0.160229310356477,
          -0.15327144898405348,
          -0.1602317641947548,
          -0.1600772875567847,
          -0.08543806455856268,
          -0.1711116043812867,
          -0.17117097666002623,
          -0.2749809639796041,
          -0.08544215232560108,
          0.1915532353579754,
          -0.12016322363874066,
          0.16780502870867334,
          -0.11942866622838619,
          -0.27544825713030274,
          -0.10966644223345608,
          -0.09951295484248254,
          -0.12207962705112142,
          -0.13773102097063136,
          -0.13721352873005715,
          -0.13551617927417603,
          -0.13781533415895417,
          -0.17340834703194563,
          -0.15897530093688872,
          -0.12733287409968488,
          -0.12761434039616254,
          -0.1270742685875895,
          -0.1274596865698271,
          -0.1177330137031411,
          -0.1390803182577971,
          -0.12825573747577595,
          -0.12511324247488886,
          -0.14180934512556778,
          -0.1865322005807535,
          -0.1860934484579963,
          -0.11918334834016082,
          -0.13643852532608453,
          -0.13477191035197,
          -0.13403928930726955,
          -0.08784601992876978,
          -0.13640538580768075,
          -0.13666308994210144,
          -0.13559608381149033,
          -0.05971751352774785,
          -0.2933253675714386,
          -0.09640970266466814,
          -0.11305129430992261,
          -0.11288421184586446,
          -0.007862761536365104,
          -0.11204295751657672,
          -0.11319280348589385,
          -0.11320516361466525,
          -0.1445007548464867,
          0.09897657955157872,
          -0.268947387430797,
          -0.1131722527863902,
          -0.11317119631934415,
          -0.11111283400304042,
          -0.12729895842455752,
          -0.13658684963546255,
          -0.1370835348420716,
          -0.13832358569739042,
          -0.13499801349719634,
          -0.1279954917165729,
          -0.1267611778594356,
          -0.12661879806133097,
          -0.11561951736219897,
          -0.11573787089301484,
          0.5911666962943635,
          3.112153477062772,
          0.3155730597332111,
          0.3194221242176954,
          8.04758468426945,
          0.35166842245266405,
          0.31555019826139413,
          1.1529341741132533,
          0.3159621338111893,
          3.869655651952551,
          0.47057493591709476,
          0.3372942452094471,
          0.31614558073269045,
          0.31573262034715327,
          0.3234674708915311,
          0.31569804860618506,
          0.3293291267004804,
          0.3954380550644978,
          2.122974097638415,
          0.3196577187170551,
          0.31556740144918816,
          -0.1299633869711838,
          -0.1893813039305572,
          -0.015610951072838438,
          0.38450982277937046,
          -0.12563720764338882,
          -0.07614113661298978,
          -0.12524554434945182,
          1.1011742732335807,
          -0.13482723732071308,
          -0.14829381876108969
         ],
         "y": [
          -0.8936479497614783,
          -1.20149760618781,
          -1.2014628772484373,
          -0.28363561384339747,
          -2.0704127861256003,
          -0.825849963260766,
          -0.82584235473321,
          -0.826055953470612,
          -0.825920630238472,
          -0.8254026435221872,
          -0.8258450858383125,
          -0.8258428069692059,
          -0.8711340030825776,
          -0.8262841665642037,
          -0.8258601427788954,
          -0.8258429251445246,
          -0.8262867773409669,
          -0.8258503021464768,
          -0.8258581019564435,
          -0.825872077857363,
          -0.8258479376404086,
          -0.8258519646042742,
          -0.8258501536001703,
          -0.8256864916264036,
          -0.8258468280488851,
          -0.8258487855136998,
          -0.8258536605535653,
          -0.8259721217285783,
          -0.8259181448869856,
          -0.8258494397539344,
          -0.8258736337423593,
          -3.3368905968749067,
          -2.0747506882512967,
          -2.047579867194591,
          -1.9961547189425333,
          -2.064275394586015,
          -1.0223614827182415,
          -1.0253815622172717,
          -1.020919750289031,
          -1.0359886010173265,
          -1.0209283375712002,
          -1.0208112641603457,
          -1.0209313453756825,
          -1.022546296966023,
          -1.020926597185033,
          -1.0298981500591633,
          -1.020918852608583,
          -1.0209693307621241,
          -1.021010625825038,
          -1.0209571315829453,
          -1.06556915693863,
          -1.0209256551068127,
          -1.0209453464821485,
          -1.0209192565221752,
          -1.0209179272747586,
          -1.0209190088605298,
          -1.022710707242288,
          -1.0209506778870512,
          -1.021347967083908,
          -1.0209178589358274,
          -1.020926874122763,
          -1.0209490491286357,
          -1.0257005534544084,
          -0.954251961371811,
          -1.0209235153873328,
          -1.0209492530782733,
          -1.0209487543603704,
          -1.0209202726059312,
          -1.0199454497572313,
          -1.020969205341204,
          -1.020919029666081,
          -1.0209190309275353,
          -1.0209246294803809,
          -1.0209166699401115,
          -1.0209207792750494,
          -1.0266471286041383,
          -1.0209163704881006,
          -1.020997534452033,
          -1.02091874657536,
          -1.0209534267890248,
          -1.0209244151675074,
          -1.0209249760411536,
          -0.19489998080444726,
          -1.0211537341706163,
          -1.0209201945698723,
          -1.0209324121939582,
          -1.0209953038022308,
          -1.0209186129659005,
          -1.020918924272817,
          -1.020984048869611,
          -1.0233238200931523,
          -1.0209157392027084,
          -1.020935013028446,
          -1.0210048794235922,
          -1.020920811541978,
          -1.020920042963691,
          -1.020930597387639,
          -1.0209994958971813,
          -1.0209279799029203,
          -1.021021495829454,
          -1.02093031683777,
          -1.0628169927964142,
          -1.0212215734949879,
          -1.0209235151710738,
          -1.0214905465734285,
          -1.02091892430544,
          -1.1957979694145737,
          -1.0209726746821721,
          -1.0209610422958526,
          -1.0209252759406702,
          -1.0209274098094137,
          -1.0209258055643489,
          -1.020955542768439,
          -1.0209423873409702,
          -1.0209277980447533,
          -1.0209251288344945,
          -1.0209227222261266,
          -0.1944924361998452,
          -0.4742877729174531,
          -1.2762716616033618,
          -1.276272847802949,
          -1.2762738627456347,
          -1.2770833261513126,
          -1.2763070125141898,
          -1.2763087059842795,
          -1.2762713736580147,
          -1.2762764095327288,
          -1.2762728173428577,
          -1.276249031386789,
          -1.2762743352811223,
          -1.276271424290216,
          -1.2762800767636904,
          -1.276272755305058,
          -1.2764134324850134,
          -1.276269622701044,
          -1.276280052739953,
          -1.2767958681802418,
          -1.276275395273795,
          -1.276289249614342,
          -1.2759857972141346,
          -1.2762722408670348,
          -1.2762714164870437,
          -1.2762728159093517,
          -1.2762731645647554,
          -0.487798804992423,
          -1.4404920806231587,
          -1.4405345636575024,
          -1.507873728298581,
          -1.5079177066633551,
          -1.5078678704197348,
          -1.5079499120574615,
          -1.5078723191260557,
          -1.5078794866516325,
          -1.5079006268136,
          -0.5144952916387018,
          -0.5144777778082716,
          -0.21770309458455916,
          -1.824766814446668,
          -1.8247563573679688,
          -1.8246427393222306,
          -1.8288893544939353,
          -1.8246126633333009,
          -0.21764835097466143,
          -1.8247190176939692,
          -1.8247233340615283,
          -2.2198855662754906,
          -2.0786871989079208,
          -2.07871287971639,
          -2.07880485986334,
          -2.078682506155575,
          -1.189559517410612,
          -1.189745949090135,
          -2.0718605274528175,
          -2.0718632889498734,
          -2.0718831641189657,
          -2.0718692012711495,
          -1.124200489933189,
          -2.0859679551032264,
          -2.1067676094993595,
          -2.0663494531303113,
          -2.1391496640356116,
          -1.1243160873594098,
          -1.1243145794395877,
          -2.0770623544355784,
          -1.9261830047620823,
          -1.9263048376076264,
          -1.9262260592684457,
          -1.9290280282925194,
          -1.9261829862693345,
          -1.926186075131051,
          -1.9261330680944446,
          -1.9304945802758071,
          -0.319235202146674,
          -2.1138994983574753,
          -1.8884808489361116,
          -1.8884816457564157,
          -1.889966124444369,
          -1.8884779190849694,
          -1.8884862514178111,
          -1.8884838199481844,
          -1.0794342583966259,
          -1.8956134757877272,
          -0.2815727920728013,
          -1.888485466841283,
          -1.888485426507899,
          -1.8885823506537482,
          -1.9547155545248855,
          -2.0905411381038537,
          -2.0906009698912493,
          -2.0905566339097055,
          -1.9972630691074034,
          -2.1046655784904265,
          -2.1047527352677857,
          -2.1046892325525093,
          -2.105463308928277,
          -2.1049230729667485,
          -2.0677182153827367,
          -2.1052593301334492,
          -2.1944836678341826,
          -2.194573342769054,
          -2.625124150083973,
          -2.1945500497719004,
          -2.1944863552240714,
          -2.224204148475533,
          -2.1945007507643792,
          -2.192683416386776,
          -2.1958171831680238,
          -2.194663480574763,
          -2.194519070861112,
          -2.194483673226287,
          -2.1949008571748245,
          -2.194489783619738,
          -2.194677073183284,
          -2.1972921215851544,
          -2.2590282522442204,
          -2.194755969795358,
          -2.1944918680657812,
          -2.0725191298252392,
          -1.1178055950803412,
          -2.137207169652036,
          -2.1216845263334436,
          -2.0479498625921173,
          -2.051122771128612,
          -2.0479928978500648,
          -1.1412298853730738,
          -2.043877081832733,
          -2.1078822938985815
         ],
         "z": [
          0.13882953012126723,
          0.20199905101594323,
          0.2020044472024078,
          -0.07376380952763263,
          0.2534508559850863,
          0.05669857088485121,
          0.05670066457171536,
          0.056643844184441176,
          0.05663024518463147,
          0.05583796083939984,
          0.056695271390687516,
          0.056695587629376334,
          0.05020608420877695,
          0.056629119467473496,
          0.05668317077996909,
          0.056689978054482046,
          0.05659726039218372,
          0.056699072974225474,
          0.05668997650232045,
          0.05668491788992319,
          0.056695629742188274,
          0.05669802289632833,
          0.05669828307285687,
          0.05644098478434786,
          0.056696640862078616,
          0.05669847236144022,
          0.05669903076930727,
          0.05661072975459548,
          0.05666952913309676,
          0.05669719063424915,
          0.05668584252514341,
          2.739677932564361,
          0.4413857091881041,
          0.3147280309463767,
          0.5130941446522418,
          0.2145606612395539,
          0.1732546638093502,
          -0.01555037609163799,
          -0.014861798261418237,
          -0.0727269656144581,
          -0.014863173634450612,
          -0.018266424231483485,
          -0.014867364890438559,
          -0.02004414820603269,
          -0.014863838640330022,
          -0.026230492681597422,
          -0.014863095408282791,
          -0.014892233912343187,
          -0.01514099180359646,
          -0.0148787690901846,
          -0.021102343095310234,
          -0.01486924985575448,
          -0.014869735674483178,
          -0.014867625336076266,
          -0.014895385401490227,
          -0.014862454616412587,
          -0.015132981601076106,
          -0.014867569632293198,
          -0.016276940366619162,
          -0.014895426014120541,
          -0.014878040625200269,
          -0.014871544530190859,
          -0.01552785825392705,
          -0.054480391447714605,
          -0.014865335992619686,
          -0.014876769024766623,
          -0.014877065404087439,
          -0.014874613455975906,
          -0.04570991764020057,
          -0.01492017984947004,
          -0.014868001778244364,
          -0.014861769949031572,
          -0.01488605669972398,
          -0.0149328842891085,
          -0.014863620954836305,
          -0.016468802850674903,
          -0.01497549372825987,
          -0.014898192170759902,
          -0.014868504120246926,
          -0.014941040548909561,
          -0.014868810542717433,
          -0.014864467951620042,
          -0.15804509990034407,
          -0.015196473274207633,
          -0.01488401480342232,
          -0.014877504385440594,
          -0.014872238474718705,
          -0.014869251734294759,
          -0.014861589260176684,
          -0.014911358600348833,
          -0.016773256218684907,
          -0.014864401504587428,
          -0.014886942260579102,
          -0.015144406789394601,
          -0.0149137177004995,
          -0.014861595501307943,
          -0.014910035745532055,
          -0.014883742458025113,
          -0.014863016915291731,
          -0.01488395234356224,
          -0.01487171812131027,
          -0.020699858605431568,
          -0.019191956073479018,
          -0.014862407952430172,
          -0.015082975479748928,
          -0.014861588228447799,
          -0.03923058534028542,
          -0.014912965896859693,
          -0.014869762899109854,
          -0.01487370016018853,
          -0.014866362667164313,
          -0.014864309086646653,
          -0.014906441786214631,
          -0.014868821391152533,
          -0.014884173677377628,
          -0.01486471125535408,
          -0.01486351538630576,
          -0.1709340547377966,
          -0.48045770285770667,
          0.10095868413990264,
          0.10095245637510365,
          0.10094504099036343,
          0.0944248967136754,
          0.1009530476026066,
          0.10092465266172364,
          0.10095158031657173,
          0.10094020648465389,
          0.10095243827320442,
          0.10024369602615404,
          0.100953340357346,
          0.1009518890509252,
          0.10094973619095444,
          0.10094371064694578,
          0.1007463333656444,
          0.10090082623360425,
          0.10094972191406798,
          0.100435029104153,
          0.10095397029243808,
          0.10095125836730894,
          0.09356341048195496,
          0.10095555759199537,
          0.10095160576911373,
          0.10095243742129686,
          0.10095640799268696,
          0.04091738683924268,
          0.20720774486270827,
          0.2071995811722021,
          0.1970206843979712,
          0.19694518488192347,
          0.19702081150944123,
          0.19690953057661428,
          0.19702145066088747,
          0.19701969628532237,
          0.1957108697210448,
          0.008356330477378448,
          0.008355027375091867,
          0.07035538522546916,
          0.3159606864650606,
          0.3110915571060957,
          0.31655422757759166,
          0.3120626231546869,
          0.31653728944099885,
          0.07035626267052467,
          0.3163799839221192,
          0.3162021317470058,
          0.28966459042868203,
          0.3051388622398731,
          0.305133208850343,
          0.30511570411499656,
          0.3051397151762425,
          0.20737648694175978,
          0.2071478281852235,
          0.39513231038819724,
          0.3951376266654606,
          0.3951307986492575,
          0.39513570100618006,
          0.10731989166800228,
          0.17479514798686557,
          0.39807957696371826,
          0.28614241992025735,
          0.4741724699969069,
          0.020756123407476058,
          0.020748211048132636,
          0.3126912955893304,
          0.37892145434657476,
          0.37890848932687937,
          0.3788850601687426,
          0.37844869368137785,
          0.3789208694976189,
          0.37892581205453146,
          0.3788999594315558,
          0.37815086835772077,
          0.13275788000526478,
          0.4129226210719009,
          0.49632588512133685,
          0.4963230556843749,
          0.49467636790669817,
          0.49630777276111643,
          0.4963290957216498,
          0.4963289871663784,
          1.0278029579121433,
          0.4935554676568085,
          0.25015022509113205,
          0.4963286294615519,
          0.49632860549212804,
          0.49630541895032093,
          0.3990997234524485,
          0.3452990689471222,
          0.34531581350586943,
          0.34533166526326714,
          0.385757301563032,
          0.4310761841626339,
          0.43106617027357386,
          0.43105516021277146,
          0.4309655756500195,
          0.43089527570936526,
          0.4288280377327008,
          0.3895556209994841,
          0.3841484429745775,
          0.38409281661639627,
          0.30596774277133276,
          0.38352302137522487,
          0.38414920477799464,
          0.37341512338472294,
          0.3841438943907273,
          0.3214502211205492,
          0.3816032074356774,
          0.3837908206259193,
          0.3841431251117767,
          0.3841456396874157,
          0.384065606216717,
          0.3841470658867531,
          0.38393261530750705,
          0.3831212213137382,
          0.36103397063648707,
          0.38411314446693406,
          0.3841496410611209,
          0.4143370684118679,
          0.14183305043710365,
          0.3692518398878524,
          0.36014069509029834,
          0.4313842173752076,
          0.4309395074834611,
          0.43138310033463473,
          0.12095777505984592,
          0.41023842861890936,
          0.3667592737107428
         ]
        },
        {
         "customdata": [
          [
           "TRC10",
           989988713439.649,
           "990000000000"
          ]
         ],
         "hovertemplate": "<b>%{hovertext}</b><br><br>Class=%{marker.color}<br>PC 1=%{x}<br>PC 2=%{y}<br>PC 3=%{z}<br>Algorithm=%{customdata[0]}<br>TotalCoinsMined=%{customdata[1]}<br>TotalCoinSupply=%{customdata[2]}<extra></extra>",
         "hovertext": [
          "BitTorrent"
         ],
         "legendgroup": "2",
         "marker": {
          "color": [
           2
          ],
          "coloraxis": "coloraxis",
          "symbol": "square"
         },
         "mode": "markers",
         "name": "2",
         "scene": "scene",
         "showlegend": true,
         "type": "scatter3d",
         "x": [
          34.055665466270106
         ],
         "y": [
          2.1457610876375974
         ],
         "z": [
          -0.6395833050551469
         ]
        },
        {
         "customdata": [
          [
           "SHA-256 + Hive",
           638382332.208514,
           "840000000"
          ],
          [
           "Proof-of-BibleHash",
           1772091549.88818,
           "5200000000"
          ],
          [
           "Proof-of-Authority",
           204479039,
           "252460800"
          ],
          [
           "Leased POS",
           100000000,
           "100000000"
          ],
          [
           "ECC 256K1",
           1000000000,
           "1000000000"
          ]
         ],
         "hovertemplate": "<b>%{hovertext}</b><br><br>Class=%{marker.color}<br>PC 1=%{x}<br>PC 2=%{y}<br>PC 3=%{z}<br>Algorithm=%{customdata[0]}<br>TotalCoinsMined=%{customdata[1]}<br>TotalCoinSupply=%{customdata[2]}<extra></extra>",
         "hovertext": [
          "LitecoinCash",
          "BiblePay",
          "Poa Network",
          "Waves",
          "Acute Angle Cloud"
         ],
         "legendgroup": "3",
         "marker": {
          "color": [
           3,
           3,
           3,
           3,
           3
          ],
          "coloraxis": "coloraxis",
          "symbol": "x"
         },
         "mode": "markers",
         "name": "3",
         "scene": "scene",
         "showlegend": true,
         "type": "scatter3d",
         "x": [
          -0.4636897678627381,
          -0.28211029318749153,
          -0.35228385703558324,
          -0.4597050762090011,
          -0.14720237001386108
         ],
         "y": [
          0.31547002950204084,
          0.5018131058490659,
          5.080555117659302,
          2.17190918819707,
          9.942415204853909
         ],
         "z": [
          16.322074669945163,
          15.960395720785128,
          12.25841614114061,
          13.366339337287606,
          11.859543775682473
         ]
        }
       ],
       "layout": {
        "coloraxis": {
         "colorbar": {
          "title": {
           "text": "Class"
          }
         },
         "colorscale": [
          [
           0,
           "#0d0887"
          ],
          [
           0.1111111111111111,
           "#46039f"
          ],
          [
           0.2222222222222222,
           "#7201a8"
          ],
          [
           0.3333333333333333,
           "#9c179e"
          ],
          [
           0.4444444444444444,
           "#bd3786"
          ],
          [
           0.5555555555555556,
           "#d8576b"
          ],
          [
           0.6666666666666666,
           "#ed7953"
          ],
          [
           0.7777777777777778,
           "#fb9f3a"
          ],
          [
           0.8888888888888888,
           "#fdca26"
          ],
          [
           1,
           "#f0f921"
          ]
         ]
        },
        "legend": {
         "title": {
          "text": "Class"
         },
         "tracegroupgap": 0,
         "x": 0,
         "y": 1
        },
        "margin": {
         "t": 60
        },
        "scene": {
         "domain": {
          "x": [
           0,
           1
          ],
          "y": [
           0,
           1
          ]
         },
         "xaxis": {
          "title": {
           "text": "PC 1"
          }
         },
         "yaxis": {
          "title": {
           "text": "PC 2"
          }
         },
         "zaxis": {
          "title": {
           "text": "PC 3"
          }
         }
        },
        "template": {
         "data": {
          "bar": [
           {
            "error_x": {
             "color": "#2a3f5f"
            },
            "error_y": {
             "color": "#2a3f5f"
            },
            "marker": {
             "line": {
              "color": "#E5ECF6",
              "width": 0.5
             },
             "pattern": {
              "fillmode": "overlay",
              "size": 10,
              "solidity": 0.2
             }
            },
            "type": "bar"
           }
          ],
          "barpolar": [
           {
            "marker": {
             "line": {
              "color": "#E5ECF6",
              "width": 0.5
             },
             "pattern": {
              "fillmode": "overlay",
              "size": 10,
              "solidity": 0.2
             }
            },
            "type": "barpolar"
           }
          ],
          "carpet": [
           {
            "aaxis": {
             "endlinecolor": "#2a3f5f",
             "gridcolor": "white",
             "linecolor": "white",
             "minorgridcolor": "white",
             "startlinecolor": "#2a3f5f"
            },
            "baxis": {
             "endlinecolor": "#2a3f5f",
             "gridcolor": "white",
             "linecolor": "white",
             "minorgridcolor": "white",
             "startlinecolor": "#2a3f5f"
            },
            "type": "carpet"
           }
          ],
          "choropleth": [
           {
            "colorbar": {
             "outlinewidth": 0,
             "ticks": ""
            },
            "type": "choropleth"
           }
          ],
          "contour": [
           {
            "colorbar": {
             "outlinewidth": 0,
             "ticks": ""
            },
            "colorscale": [
             [
              0,
              "#0d0887"
             ],
             [
              0.1111111111111111,
              "#46039f"
             ],
             [
              0.2222222222222222,
              "#7201a8"
             ],
             [
              0.3333333333333333,
              "#9c179e"
             ],
             [
              0.4444444444444444,
              "#bd3786"
             ],
             [
              0.5555555555555556,
              "#d8576b"
             ],
             [
              0.6666666666666666,
              "#ed7953"
             ],
             [
              0.7777777777777778,
              "#fb9f3a"
             ],
             [
              0.8888888888888888,
              "#fdca26"
             ],
             [
              1,
              "#f0f921"
             ]
            ],
            "type": "contour"
           }
          ],
          "contourcarpet": [
           {
            "colorbar": {
             "outlinewidth": 0,
             "ticks": ""
            },
            "type": "contourcarpet"
           }
          ],
          "heatmap": [
           {
            "colorbar": {
             "outlinewidth": 0,
             "ticks": ""
            },
            "colorscale": [
             [
              0,
              "#0d0887"
             ],
             [
              0.1111111111111111,
              "#46039f"
             ],
             [
              0.2222222222222222,
              "#7201a8"
             ],
             [
              0.3333333333333333,
              "#9c179e"
             ],
             [
              0.4444444444444444,
              "#bd3786"
             ],
             [
              0.5555555555555556,
              "#d8576b"
             ],
             [
              0.6666666666666666,
              "#ed7953"
             ],
             [
              0.7777777777777778,
              "#fb9f3a"
             ],
             [
              0.8888888888888888,
              "#fdca26"
             ],
             [
              1,
              "#f0f921"
             ]
            ],
            "type": "heatmap"
           }
          ],
          "heatmapgl": [
           {
            "colorbar": {
             "outlinewidth": 0,
             "ticks": ""
            },
            "colorscale": [
             [
              0,
              "#0d0887"
             ],
             [
              0.1111111111111111,
              "#46039f"
             ],
             [
              0.2222222222222222,
              "#7201a8"
             ],
             [
              0.3333333333333333,
              "#9c179e"
             ],
             [
              0.4444444444444444,
              "#bd3786"
             ],
             [
              0.5555555555555556,
              "#d8576b"
             ],
             [
              0.6666666666666666,
              "#ed7953"
             ],
             [
              0.7777777777777778,
              "#fb9f3a"
             ],
             [
              0.8888888888888888,
              "#fdca26"
             ],
             [
              1,
              "#f0f921"
             ]
            ],
            "type": "heatmapgl"
           }
          ],
          "histogram": [
           {
            "marker": {
             "pattern": {
              "fillmode": "overlay",
              "size": 10,
              "solidity": 0.2
             }
            },
            "type": "histogram"
           }
          ],
          "histogram2d": [
           {
            "colorbar": {
             "outlinewidth": 0,
             "ticks": ""
            },
            "colorscale": [
             [
              0,
              "#0d0887"
             ],
             [
              0.1111111111111111,
              "#46039f"
             ],
             [
              0.2222222222222222,
              "#7201a8"
             ],
             [
              0.3333333333333333,
              "#9c179e"
             ],
             [
              0.4444444444444444,
              "#bd3786"
             ],
             [
              0.5555555555555556,
              "#d8576b"
             ],
             [
              0.6666666666666666,
              "#ed7953"
             ],
             [
              0.7777777777777778,
              "#fb9f3a"
             ],
             [
              0.8888888888888888,
              "#fdca26"
             ],
             [
              1,
              "#f0f921"
             ]
            ],
            "type": "histogram2d"
           }
          ],
          "histogram2dcontour": [
           {
            "colorbar": {
             "outlinewidth": 0,
             "ticks": ""
            },
            "colorscale": [
             [
              0,
              "#0d0887"
             ],
             [
              0.1111111111111111,
              "#46039f"
             ],
             [
              0.2222222222222222,
              "#7201a8"
             ],
             [
              0.3333333333333333,
              "#9c179e"
             ],
             [
              0.4444444444444444,
              "#bd3786"
             ],
             [
              0.5555555555555556,
              "#d8576b"
             ],
             [
              0.6666666666666666,
              "#ed7953"
             ],
             [
              0.7777777777777778,
              "#fb9f3a"
             ],
             [
              0.8888888888888888,
              "#fdca26"
             ],
             [
              1,
              "#f0f921"
             ]
            ],
            "type": "histogram2dcontour"
           }
          ],
          "mesh3d": [
           {
            "colorbar": {
             "outlinewidth": 0,
             "ticks": ""
            },
            "type": "mesh3d"
           }
          ],
          "parcoords": [
           {
            "line": {
             "colorbar": {
              "outlinewidth": 0,
              "ticks": ""
             }
            },
            "type": "parcoords"
           }
          ],
          "pie": [
           {
            "automargin": true,
            "type": "pie"
           }
          ],
          "scatter": [
           {
            "marker": {
             "colorbar": {
              "outlinewidth": 0,
              "ticks": ""
             }
            },
            "type": "scatter"
           }
          ],
          "scatter3d": [
           {
            "line": {
             "colorbar": {
              "outlinewidth": 0,
              "ticks": ""
             }
            },
            "marker": {
             "colorbar": {
              "outlinewidth": 0,
              "ticks": ""
             }
            },
            "type": "scatter3d"
           }
          ],
          "scattercarpet": [
           {
            "marker": {
             "colorbar": {
              "outlinewidth": 0,
              "ticks": ""
             }
            },
            "type": "scattercarpet"
           }
          ],
          "scattergeo": [
           {
            "marker": {
             "colorbar": {
              "outlinewidth": 0,
              "ticks": ""
             }
            },
            "type": "scattergeo"
           }
          ],
          "scattergl": [
           {
            "marker": {
             "colorbar": {
              "outlinewidth": 0,
              "ticks": ""
             }
            },
            "type": "scattergl"
           }
          ],
          "scattermapbox": [
           {
            "marker": {
             "colorbar": {
              "outlinewidth": 0,
              "ticks": ""
             }
            },
            "type": "scattermapbox"
           }
          ],
          "scatterpolar": [
           {
            "marker": {
             "colorbar": {
              "outlinewidth": 0,
              "ticks": ""
             }
            },
            "type": "scatterpolar"
           }
          ],
          "scatterpolargl": [
           {
            "marker": {
             "colorbar": {
              "outlinewidth": 0,
              "ticks": ""
             }
            },
            "type": "scatterpolargl"
           }
          ],
          "scatterternary": [
           {
            "marker": {
             "colorbar": {
              "outlinewidth": 0,
              "ticks": ""
             }
            },
            "type": "scatterternary"
           }
          ],
          "surface": [
           {
            "colorbar": {
             "outlinewidth": 0,
             "ticks": ""
            },
            "colorscale": [
             [
              0,
              "#0d0887"
             ],
             [
              0.1111111111111111,
              "#46039f"
             ],
             [
              0.2222222222222222,
              "#7201a8"
             ],
             [
              0.3333333333333333,
              "#9c179e"
             ],
             [
              0.4444444444444444,
              "#bd3786"
             ],
             [
              0.5555555555555556,
              "#d8576b"
             ],
             [
              0.6666666666666666,
              "#ed7953"
             ],
             [
              0.7777777777777778,
              "#fb9f3a"
             ],
             [
              0.8888888888888888,
              "#fdca26"
             ],
             [
              1,
              "#f0f921"
             ]
            ],
            "type": "surface"
           }
          ],
          "table": [
           {
            "cells": {
             "fill": {
              "color": "#EBF0F8"
             },
             "line": {
              "color": "white"
             }
            },
            "header": {
             "fill": {
              "color": "#C8D4E3"
             },
             "line": {
              "color": "white"
             }
            },
            "type": "table"
           }
          ]
         },
         "layout": {
          "annotationdefaults": {
           "arrowcolor": "#2a3f5f",
           "arrowhead": 0,
           "arrowwidth": 1
          },
          "autotypenumbers": "strict",
          "coloraxis": {
           "colorbar": {
            "outlinewidth": 0,
            "ticks": ""
           }
          },
          "colorscale": {
           "diverging": [
            [
             0,
             "#8e0152"
            ],
            [
             0.1,
             "#c51b7d"
            ],
            [
             0.2,
             "#de77ae"
            ],
            [
             0.3,
             "#f1b6da"
            ],
            [
             0.4,
             "#fde0ef"
            ],
            [
             0.5,
             "#f7f7f7"
            ],
            [
             0.6,
             "#e6f5d0"
            ],
            [
             0.7,
             "#b8e186"
            ],
            [
             0.8,
             "#7fbc41"
            ],
            [
             0.9,
             "#4d9221"
            ],
            [
             1,
             "#276419"
            ]
           ],
           "sequential": [
            [
             0,
             "#0d0887"
            ],
            [
             0.1111111111111111,
             "#46039f"
            ],
            [
             0.2222222222222222,
             "#7201a8"
            ],
            [
             0.3333333333333333,
             "#9c179e"
            ],
            [
             0.4444444444444444,
             "#bd3786"
            ],
            [
             0.5555555555555556,
             "#d8576b"
            ],
            [
             0.6666666666666666,
             "#ed7953"
            ],
            [
             0.7777777777777778,
             "#fb9f3a"
            ],
            [
             0.8888888888888888,
             "#fdca26"
            ],
            [
             1,
             "#f0f921"
            ]
           ],
           "sequentialminus": [
            [
             0,
             "#0d0887"
            ],
            [
             0.1111111111111111,
             "#46039f"
            ],
            [
             0.2222222222222222,
             "#7201a8"
            ],
            [
             0.3333333333333333,
             "#9c179e"
            ],
            [
             0.4444444444444444,
             "#bd3786"
            ],
            [
             0.5555555555555556,
             "#d8576b"
            ],
            [
             0.6666666666666666,
             "#ed7953"
            ],
            [
             0.7777777777777778,
             "#fb9f3a"
            ],
            [
             0.8888888888888888,
             "#fdca26"
            ],
            [
             1,
             "#f0f921"
            ]
           ]
          },
          "colorway": [
           "#636efa",
           "#EF553B",
           "#00cc96",
           "#ab63fa",
           "#FFA15A",
           "#19d3f3",
           "#FF6692",
           "#B6E880",
           "#FF97FF",
           "#FECB52"
          ],
          "font": {
           "color": "#2a3f5f"
          },
          "geo": {
           "bgcolor": "white",
           "lakecolor": "white",
           "landcolor": "#E5ECF6",
           "showlakes": true,
           "showland": true,
           "subunitcolor": "white"
          },
          "hoverlabel": {
           "align": "left"
          },
          "hovermode": "closest",
          "mapbox": {
           "style": "light"
          },
          "paper_bgcolor": "white",
          "plot_bgcolor": "#E5ECF6",
          "polar": {
           "angularaxis": {
            "gridcolor": "white",
            "linecolor": "white",
            "ticks": ""
           },
           "bgcolor": "#E5ECF6",
           "radialaxis": {
            "gridcolor": "white",
            "linecolor": "white",
            "ticks": ""
           }
          },
          "scene": {
           "xaxis": {
            "backgroundcolor": "#E5ECF6",
            "gridcolor": "white",
            "gridwidth": 2,
            "linecolor": "white",
            "showbackground": true,
            "ticks": "",
            "zerolinecolor": "white"
           },
           "yaxis": {
            "backgroundcolor": "#E5ECF6",
            "gridcolor": "white",
            "gridwidth": 2,
            "linecolor": "white",
            "showbackground": true,
            "ticks": "",
            "zerolinecolor": "white"
           },
           "zaxis": {
            "backgroundcolor": "#E5ECF6",
            "gridcolor": "white",
            "gridwidth": 2,
            "linecolor": "white",
            "showbackground": true,
            "ticks": "",
            "zerolinecolor": "white"
           }
          },
          "shapedefaults": {
           "line": {
            "color": "#2a3f5f"
           }
          },
          "ternary": {
           "aaxis": {
            "gridcolor": "white",
            "linecolor": "white",
            "ticks": ""
           },
           "baxis": {
            "gridcolor": "white",
            "linecolor": "white",
            "ticks": ""
           },
           "bgcolor": "#E5ECF6",
           "caxis": {
            "gridcolor": "white",
            "linecolor": "white",
            "ticks": ""
           }
          },
          "title": {
           "x": 0.05
          },
          "xaxis": {
           "automargin": true,
           "gridcolor": "white",
           "linecolor": "white",
           "ticks": "",
           "title": {
            "standoff": 15
           },
           "zerolinecolor": "white",
           "zerolinewidth": 2
          },
          "yaxis": {
           "automargin": true,
           "gridcolor": "white",
           "linecolor": "white",
           "ticks": "",
           "title": {
            "standoff": 15
           },
           "zerolinecolor": "white",
           "zerolinewidth": 2
          }
         }
        }
       }
      },
      "text/html": [
       "<div>                            <div id=\"4bc97c0b-96c0-41f7-a693-3faae283fc24\" class=\"plotly-graph-div\" style=\"height:525px; width:100%;\"></div>            <script type=\"text/javascript\">                require([\"plotly\"], function(Plotly) {                    window.PLOTLYENV=window.PLOTLYENV || {};                                    if (document.getElementById(\"4bc97c0b-96c0-41f7-a693-3faae283fc24\")) {                    Plotly.newPlot(                        \"4bc97c0b-96c0-41f7-a693-3faae283fc24\",                        [{\"customdata\":[[\"XEVAN\",10904963.0923455,\"21000000\"],[\"XEVAN\",208515864.367343,\"70000000000\"],[\"XEVAN\",198938144.363399,\"500000000\"],[\"XEVAN\",6787405.18013774,\"50000000\"],[\"XEVAN\",419275.38,\"60000000\"],[\"X16R\",36923120.6205934,\"82546564\"],[\"X16R\",4403800.0,\"45000000\"],[\"X15\",40659020000.0,\"90000000000\"],[\"X15\",25542535.5881841,\"350000000\"],[\"X15\",13530556.4180753,\"26298000\"],[\"X15\",30284196.369129,\"90000000\"],[\"X14\",100000000.0,\"100000000\"],[\"X13\",15156364.3306548,\"0\"],[\"X13\",5000000.0,\"200000000\"],[\"X13\",33093725.4123502,\"0\"],[\"X13\",66087096.2077108,\"0\"],[\"X13\",21268092.0,\"30000000\"],[\"X13\",2022464.886973,\"12000000\"],[\"X13\",21917018.0492836,\"18898187.6216583\"],[\"X13\",92192822723.0,\"850000000\"],[\"X13\",183534024.889807,\"210000000\"],[\"X13\",7096834.0,\"10000000\"],[\"X13\",23042604.0,\"50000000\"],[\"X13\",2500124.0,\"2500124\"],[\"X13\",140777.753365,\"120000\"],[\"X13\",230298925.0,\"800000000\"],[\"X13\",14524851.4827,\"14524851.4827\"],[\"X13\",29279424622.5027,\"314159265359\"],[\"X11\",814671.0,\"5000000\"],[\"X11\",6950831.0970606,\"5500000\"],[\"X11\",45174214.1078625,\"50000000\"],[\"X11\",24387724.5010828,\"139000000\"],[\"X11\",38198594.8342105,\"144000000\"],[\"X11\",7262402.04264803,\"27000000\"],[\"X11\",50707661.7493518,\"0\"],[\"X11\",17171382.0,\"40000000\"],[\"X11\",5659096.95728771,\"9354000\"],[\"X11\",329200.01639,\"0\"],[\"X11\",121665451.643876,\"500000000\"],[\"X11\",21521322.0099142,\"100000000\"],[\"X11\",110630387.850471,\"110000000\"],[\"X11\",13162749.0858027,\"100000000\"],[\"X11\",10407269.7881868,\"384000000\"],[\"X11\",10996318099.0,\"26550000000\"],[\"X11\",134554941.15119,\"75000000\"],[\"X11\",12569262.5359307,\"9507271\"],[\"X11\",2689812.0,\"20000000\"],[\"X11\",1431851.00002479,\"10000000\"],[\"X11\",1513704.0,\"0\"],[\"X11\",4504639.0,\"100000000\"],[\"X11\",264678458.288619,\"1500000000\"],[\"X11\",18342813.0,\"30000000\"],[\"X11\",30771125.9760867,\"50000000\"],[\"X11\",19269509.94,\"55000000\"],[\"X11\",16901016.6609755,\"16504333\"],[\"X11\",17650913.9743456,\"22000000\"],[\"X11\",657636.34549789,\"3000000\"],[\"X11\",1678520090.7713,\"0\"],[\"X11\",242574105.22384,\"0\"],[\"X11\",494240666.028571,\"1000000000\"],[\"X11\",23775960.3207514,\"30000000\"],[\"X11\",15420234.5389336,\"420000000\"],[\"X11\",715659.44237941,\"19700000\"],[\"X11\",17209923728.3266,\"0\"],[\"X11\",201364327.427503,\"208000000\"],[\"X11\",436353624.490312,\"500000000\"],[\"X11\",9031294.37563393,\"22000000\"],[\"X11\",1177.0,\"1000\"],[\"X11\",657000000.0,\"657000000\"],[\"X11\",2167827.1,\"25000000\"],[\"X11\",6069482.07721352,\"60000000\"],[\"X11\",75590369.0,\"76500000\"],[\"X11\",15563873.0,\"50000000\"],[\"X11\",3853326.77707314,\"3853326.77707314\"],[\"X11\",4407252.0,\"21000000\"],[\"VBFT\",650848625.0,\"1000000000\"],[\"SkunkHash v2 Raptor\",107972766.0,\"137500000\"],[\"Skein\",6804362.0,\"100000000\"],[\"Skein\",47331802.4774238,\"100000000\"],[\"Semux BFT consensus\",1231147.0,\"100000000\"],[\"Scrypt\",308179.0,\"21933333\"],[\"Scrypt\",11821728.0,\"20000000\"],[\"Scrypt\",17089600.0,\"38540000 \"],[\"Scrypt\",3315789.0,\"3315789\"],[\"Scrypt\",3472983.0,\"13000000\"],[\"Scrypt\",33813143821.8337,\"32514916898\"],[\"Scrypt\",2449577.41533168,\"42000000\"],[\"Scrypt\",8377873.0,\"144000000\"],[\"Scrypt\",20244023.640728,\"33000000\"],[\"Scrypt\",11080722.3769581,\"28000000\"],[\"Scrypt\",23965372.0,\"500000000\"],[\"Scrypt\",10914418.0,\"650659833\"],[\"Scrypt\",41.99995383,\"42\"],[\"Scrypt\",38706809.466535,\"26000000\"],[\"Scrypt\",10200000000.0,\"10200000000\"],[\"Scrypt\",7630000.0154,\"44000000\"],[\"Scrypt\",21599339.6728,\"84000000\"],[\"Scrypt\",77872059787.8998,\"92000000000\"],[\"Scrypt\",1042012.45227735,\"16880000000\"],[\"Scrypt\",5403802.49590733,\"1000000000\"],[\"Scrypt\",107763867.917675,\"260000000\"],[\"Scrypt\",1404157529.46026,\"5121951220\"],[\"Scrypt\",25570013.1348022,\"124000000\"],[\"Scrypt\",845637.81347436,\"3000000\"],[\"Scrypt\",1182153.5,\"5000000\"],[\"Scrypt\",267297676.3125,\"500000000\"],[\"Scrypt\",9880502.37178894,\"30000000\"],[\"Scrypt\",1059954080.43439,\"18000000000\"],[\"Scrypt\",9399342.52839847,\"30000000\"],[\"Scrypt\",10000244677.7002,\"10008835635\"],[\"Scrypt\",404316475.545465,\"400000000\"],[\"Scrypt\",103621876.167052,\"160000000\"],[\"Scrypt\",252005564.19257,\"300000000\"],[\"Scrypt\",980732528.97974,\"10500000000\"],[\"Scrypt\",14931046.1546605,\"250000000\"],[\"Scrypt\",60000000.0,\"15000000\"],[\"Scrypt\",14777549.3940764,\"21000000\"],[\"Scrypt\",9631199.99309942,\"0\"],[\"Scrypt\",30825710000.0296,\"74800000000\"],[\"Scrypt\",20546528.2059957,\"84000000\"],[\"Scrypt\",15318887081.0146,\"35000000000\"],[\"Scrypt\",3537150.0,\"200000000\"],[\"Scrypt\",20576532.0,\"54256119\"],[\"Scrypt\",234846265.782157,\"232000000\"],[\"Scrypt\",2922613.96424908,\"55000000\"],[\"Scrypt\",5368934.0,\"21212121\"],[\"Scrypt\",1148324.0,\"28600000\"],[\"Scrypt\",500000.0,\"1000000000\"],[\"Scrypt\",295135466.361878,\"2000000000\"],[\"Scrypt\",21358764.0,\"105000000\"],[\"Scrypt\",110000000.0,\"110000000\"],[\"Scrypt\",1000000000.0,\"1000000000\"],[\"Scrypt\",36050365.0,\"34426423\"],[\"Scrypt\",8419402.321,\"150000000\"],[\"Scrypt\",110976977.29338,\"210000000\"],[\"Scrypt\",4911500269.41,\"50000000000\"],[\"Scrypt\",591022748.0,\"900000000\"],[\"Scrypt\",2504486.227718,\"4000000\"],[\"Scrypt\",16362544.992,\"14788275.991\"],[\"Scrypt\",2149688.0,\"21000000\"],[\"Scrypt\",9044930943.24243,\"50000000000\"],[\"Scrypt\",18663297.3489799,\"17405891.19707116\"],[\"Scrypt\",19539588.0,\"48252000\"],[\"Scrypt\",4200000.0,\"4200000\"],[\"Scrypt\",1140734.91680375,\"15733333\"],[\"Scrypt\",48459472454.0,\"25000000000\"],[\"Scrypt\",128326.99633965,\"1000000\"],[\"Scrypt\",8998743.2411911,\"42000000\"],[\"Scrypt\",21293925445.4969,\"0\"],[\"Scrypt\",222677226.014206,\"420000000\"],[\"Scrypt\",16180000.0,\"16180000\"],[\"Scrypt\",100000000.0,\"100000000\"],[\"Scrypt\",89266933.684704,\"120000000\"],[\"Scrypt\",461829905.32893,\"0\"],[\"Scrypt\",36971236046.8073,\" 99000000000\"],[\"Scrypt\",40477042.0,\"221052632\"],[\"Scrypt\",73959274.625,\"98000000\"],[\"Scrypt\",147990237.978331,\"1000000000\"],[\"Scrypt\",32021108.4136696,\"0\"],[\"Scrypt\",11604722.0,\"20000000\"],[\"Scrypt\",1467841.0,\"0\"],[\"Scrypt\",174646113.934655,\"500000000\"],[\"Scrypt\",27184490.3918338,\"0\"],[\"Scrypt\",50235211.141939,\"100000000\"],[\"Scrypt\",1098952592.6,\"1600000000\"],[\"Scrypt\",29315567169.0888,\"0\"],[\"Scrypt\",43165500.0,\"90000000\"],[\"Scrypt\",123062801.128773,\"0\"],[\"Scrypt\",42579.476901,\"500000\"],[\"Scrypt\",4526324.0,\"44333333\"],[\"Scrypt\",813092338.575672,\"2000000000\"],[\"Scrypt\",635423900.0,\"0\"],[\"Scrypt\",33522957.0,\"0\"],[\"Scrypt\",169598616.0,\"0\"],[\"Scrypt\",665200057.0,\"3100000000\"],[\"Scrypt\",18135099.992959,\"16768584\"],[\"Scrypt\",1939889.0,\"0\"],[\"Scrypt\",2581970.0,\"21000000\"],[\"Scrypt\",100000000.0,\"100000000\"],[\"Scrypt\",1039116.65144562,\"1000000\"],[\"Scrypt\",1055184902.04,\"532000000\"],[\"SHA3\",61445805.0,\"100000000\"],[\"SHA3\",63657220.0,\"78000000\"],[\"SHA-512\",25000000.0,\"91388946\"],[\"SHA-512\",2741570000.0,\"3600570502\"],[\"SHA-256D\",1082162635.53683,\"7506000000\"],[\"SHA-256D\",19577787259.0,\"20000000000\"],[\"SHA-256D\",896361168.0,\"5000000000\"],[\"SHA-256D\",33238183.7225834,\"100000000\"],[\"SHA-256\",39121694.0,\"68000000\"],[\"SHA-256\",74676064.9488608,\"105000000\"],[\"SHA-256\",11995334.8847328,\"12500000\"],[\"SHA-256\",8999999990.0,\"9000000000\"],[\"SHA-256\",1999999995.3056,\"2000000000\"],[\"SHA-256\",1000000000.0,\"1000000000\"],[\"SHA-256\",1288862.0,\"22000000\"],[\"SHA-256\",92050800.0,\"100000000\"],[\"SHA-256\",57811001.000889,\"100262205\"],[\"SHA-256\",1613836099.99999,\"2419200000\"],[\"SHA-256\",17939725045.334,\"190000000\"],[\"SHA-256\",4392258.24647793,\"21000000\"],[\"SHA-256\",100545745.0,\"75000000000\"],[\"SHA-256\",4377081.60953993,\"40000000\"],[\"SHA-256\",10343113.0,\"200084200\"],[\"SHA-256\",2526078.47525448,\"21000000\"],[\"SHA-256\",43059794.804778,\"1000000000\"],[\"SHA-256\",1195525.0,\"222725000\"],[\"SHA-256\",16662820.0,\"525000000\"],[\"SHA-256\",3669691.84494672,\"22000000\"],[\"SHA-256\",5129014.0,\"10500000\"],[\"SHA-256\",12416554.0,\"20000000\"],[\"SHA-256\",595429.0,\"21000000\"],[\"Quark\",10517772.7391666,\"15000000\"],[\"Quark\",2716264.95302831,\"650000000 \"],[\"Quark\",139739596.506702,\"200000000\"],[\"Quark\",18265011.2486006,\"19035999\"],[\"Quark\",35312185.7437239,\"54000000\"],[\"Quark\",66053877.6256106,\"100000000\"],[\"Quark\",30711550.5294042,\"200000000\"],[\"Quark\",7082392.24744494,\"21000000\"],[\"Quark\",27299680.0,\"120000000\"],[\"Quark\",5919489.76813523,\"5151000\"],[\"Quark\",16955764.902064,\"20000000\"],[\"Quark\",1934701.67524713,\"13370000\"],[\"QuBit\",30227750.0,\"78835200\"],[\"QUAIT\",8568038.35935056,\"5060000\"],[\"PoS\",11075254.0929996,\"80000000\"],[\"PoS\",50000000.0,\"50000000\"],[\"PoS\",21876586.8530324,\"88000000\"],[\"PoS\",17818682.1654,\"301000000\"],[\"PoS\",5679705.0,\"0\"],[\"PoS\",9327131.59708692,\"210000000\"],[\"PoS\",20000000.0,\"20000000\"],[\"PoS\",20000000.0,\"20000000\"],[\"PoS\",3821245.74150193,\"9000000\"],[\"PoS\",74033806.7949683,\"74000000\"],[\"PoS\",11390225.9742772,\"30000000\"],[\"PoS\",148716816.0,\"39999898\"],[\"PoS\",111135836.889,\"110290030\"],[\"PoS\",401421401.0,\"400000000\"],[\"PoS\",9283137.5558676,\"8634140\"],[\"PoS\",1000000000.0,\"1000000000\"],[\"PoS\",4000000.0,\"61599965\"],[\"POS 3.0\",20445861.5344251,\"25000000\"],[\"POS 3.0\",100000000.0,\"100000000\"],[\"POS 3.0\",38589808.6658096,\"33500000\"],[\"POS 2.0\",12330806.30517,\"21000000\"],[\"PHI1612\",1622326490.46336,\"2300000000\"],[\"PHI1612\",8305775.31777569,\"60000000\"],[\"Ouroboros\",25927070538.0,\"45000000000\"],[\"NeoScrypt\",1120385.00502,\"60168145\"],[\"NeoScrypt\",3220616.279225,\"3770000\"],[\"NeoScrypt\",182638400.0,\"400000000\"],[\"NIST5\",10069449031.9252,\"0\"],[\"NIST5\",13787854.6277781,\"50000000\"],[\"NIST5\",4171382.0,\"10000000\"],[\"NIST5\",62942075.0,\"120000000\"],[\"NIST5\",560563220.0,\"1200000000\"],[\"NIST5\",13247178.8807286,\"27716121\"],[\"NIST5\",28399150208.0,\"30000000000\"],[\"NIST5\",83450403.0,\"90000000\"],[\"Lyra2REv2\",24000000.0,\"24000000\"],[\"Lyra2REv2\",13332617.9413708,\"52500000\"],[\"Keccak\",4672513.84432375,\"366000000\"],[\"Groestl\",3304487.74735637,\"4380000\"],[\"Groestl\",53193831.0,\"0\"],[\"Green Protocol\",9803691.3618195,\"21000000\"],[\"DPoS\",1000000000.0,\"1000000000\"],[\"DPoS\",1020544523.0722,\"0\"],[\"DPoS\",18194936.0,\"18081806 \"],[\"DPoS\",1122382283.37,\"0\"],[\"DPoS\",120012140.0,\"159918400\"],[\"DPoS\",288090567.493887,\"500000000\"],[\"DPoS\",108202084.0,\"125000000\"],[\"Counterparty\",51173144.0,\"500000000\"],[\"C11\",11251342.1879021,\"19340594\"],[\"Blake2S\",12184195.9258495,\"36900000\"],[\"BLAKE256\",10365046.9281661,\"21000000\"],[\"536\",22801882871.0,\"50000000000\"]],\"hovertemplate\":\"<b>%{hovertext}</b><br><br>Class=%{marker.color}<br>PC 1=%{x}<br>PC 2=%{y}<br>PC 3=%{z}<br>Algorithm=%{customdata[0]}<br>TotalCoinsMined=%{customdata[1]}<br>TotalCoinSupply=%{customdata[2]}<extra></extra>\",\"hovertext\":[\"Bitcoin Incognito\",\"BitMoney\",\"Beetle Coin\",\"Bettex coin\",\"Ellerium\",\"Trivechain\",\"Proton\",\"HTML5 Coin\",\"KoboCoin\",\"EverGreenCoin\",\"Dekado\",\"GanjaCoin V2\",\"OpalCoin\",\"MudraCoin\",\"StealthCoin\",\"NavCoin\",\"BritCoin\",\"Kore\",\"DeepOnion\",\"EmberCoin\",\"Bitcoin Diamond\",\"Sativa Coin\",\"Paycon\",\"RoyalCoin\",\"Triangles Coin\",\"Tokyo Coin\",\"FindCoin\",\"EliteCoin\",\"Enigma\",\"X11 Coin\",\"PhantomX\",\"BitSend\",\"Magnet\",\"Regalcoin\",\"SuperCoin\",\"GoldReserve\",\"KushCoin\",\"Squall Coin\",\"Condensate\",\"HappyCoin\",\"Impact\",\"VirtacoinPlus\",\"EuropeCoin\",\"Hitcoin\",\"Ratecoin\",\"Monoeci\",\"Ucoin\",\"TorCoin\",\"IslaCoin\",\"PAXEX\",\"Halloween Coin\",\"InsaneCoin\",\"EUNO\",\"ARENON\",\"Creditbit \",\"IOCoin\",\"MustangCoin\",\"HyperStake\",\"TruckCoin\",\"Piggy Coin\",\"Insane Coin\",\"Award\",\"Dash Platinum\",\"Junson Ming Chan Coin\",\"CapriCoin\",\"PinkCoin\",\"Dash\",\"SyncCoin\",\"Lutetium Coin\",\"Pushi\",\"Eternity\",\"Stakenet\",\"GoldBlocks\",\"XenixCoin\",\"Monkey Project\",\"Ontology\",\"Signatum\",\"Bitcoin Planet\",\"Cream\",\"Semux\",\"Impeach\",\"Printerium\",\"PLNCoin\",\"GAKHcoin\",\"GameUnits\",\"PandaCoin\",\"AquariusCoin\",\"Russiacoin\",\"BitcoinFast\",\"BitConnect Coin\",\"Klingon Empire Darsek\",\"MoneyCoin\",\"42 Coin\",\"HollyWoodCoin\",\"Swisscoin\",\"Xt3ch\",\"EmaratCoin\",\"Lynx\",\"Peony Coin\",\"TPCash\",\"MMOCoin\",\"iDealCash\",\"Velox\",\"Briacoin\",\"Ignition\",\"MedicCoin\",\"Abjcoin\",\"ThunderStake\",\"My Big Coin\",\"HiCoin\",\"XiaoMiCoin\",\" ClubCoin\",\"WhiteCoin\",\"AudioCoin\",\"Gapcoin\",\"Genstake\",\"Oduwa\",\"HyperCoin\",\"Credit\",\"Nasdacoin\",\"LiteDoge\",\"OrangeCoin\",\"BitstarCoin\",\"Unified Society USDEX\",\"Zilbercoin\",\"Independent Money System\",\"ArgusCoin\",\"LomoCoin\",\"GrowthCoin\",\"Degas Coin\",\"FirstCoin\",\"OpenChat\",\"RenosCoin\",\"LiteCoin Ultra\",\"Cash & Back Coin\",\"GermanCoin\",\"Trollcoin\",\"Litecoin Plus\",\"BlackholeCoin\",\"Xios\",\"Linda\",\"Draftcoin\",\"CoinonatX\",\"Ethereum Dark\",\"TerraNovaCoin\",\"WomenCoin\",\"BitcoinPlus\",\"BillaryCoin\",\"MintCoin\",\"PotCoin\",\"Nautilus Coin\",\"Diggits\",\"HoboNickels\",\"FlutterCoin\",\"ZeitCoin\",\"GPU Coin\",\"PhoenixCoin\",\"ZCC Coin\",\"VeriCoin\",\"Vtorrent\",\"8BIT Coin\",\"Dnotes\",\"RubyCoin\",\"UltraCoin\",\"UnitaryStatus Dollar\",\"Reddcoin\",\"CarterCoin\",\"EnergyCoin\",\"BitBar\",\"iBankCoin\",\"PutinCoin\",\"BlueCoin\",\"PesoBit\",\"BitCurrency\",\"Swiscoin\",\"Aurora Coin\",\"RootCoin\",\"ZoneCoin\",\"Frankywillcoin\",\"CryptoBullion\",\"404Coin\",\"MaxCoin\",\"Nexus\",\"Obsidian\",\"Bitshares\",\"LanaCoin\",\"BuzzCoin\",\"Titan Coin\",\"TheVig\",\"Neutron\",\"OKCash\",\"PayCoin\",\"Infinity Economics\",\"ZEPHYR\",\"TigerCash\",\"BitcoinDark\",\"Theresa May Coin\",\"BitcoinWSpectrum\",\"MazaCoin\",\"IncaKoin\",\"NeosCoin\",\"ProCurrency\",\"SwingCoin\",\"Ultimate Secure Cash\",\"Internet of People\",\"Emercoin\",\"Revenu\",\"Clockcoin\",\"EDRCoin\",\"DubaiCoin\",\"Eurocoin\",\"BitTokens\",\"Allsafe\",\"Poseidon Quark\",\"Carebit\",\"Galilel\",\"HerbCoin\",\"Vitae\",\"Bitcloud 2.0\",\"Dystem\",\"Digiwage\",\"Giant\",\"Kalkulus\",\"Crypto Sports\",\"LiteCreed\",\"Droidz\",\"Zealium\",\"FreeCoin\",\"Deviant Coin\",\"TeamUP\",\"Exclusive Coin\",\"Ketan\",\"Creatio\",\"Nebuchadnezzar\",\"Radium\",\"Opair\",\"Phreak\",\"CoffeeCoin\",\"Atmos\",\"MacronCoin\",\"Particl\",\"Nxt\",\"Stakecoin\",\"TokenPay\",\"QTUM\",\"Let it Ride\",\"KekCoin\",\"TittieCoin\",\"LUXCoin\",\"Cardano\",\"FriendshipCoin\",\"Orbitcoin\",\"TrezarCoin\",\"PWR Coin\",\"Bitspace\",\"Denarius\",\"Virta Unique Coin\",\"NamoCoin\",\"Bulwark\",\"Electra\",\"VIP Tokens\",\"Rupee\",\"Absolute Coin\",\"XDNA\",\"Diamond\",\"FairCoin\",\"Bitcoin Green\",\"ALAX\",\"EOS\",\"Muse\",\"Oxycoin\",\"Lisk\",\"Lamden Tau\",\"ARK\",\"StorjCoin\",\"Stipend\",\"TajCoin\",\"Decred\",\"Espers\"],\"legendgroup\":\"0\",\"marker\":{\"color\":[0,0,0,0,0,0,0,0,0,0,0,0,0,0,0,0,0,0,0,0,0,0,0,0,0,0,0,0,0,0,0,0,0,0,0,0,0,0,0,0,0,0,0,0,0,0,0,0,0,0,0,0,0,0,0,0,0,0,0,0,0,0,0,0,0,0,0,0,0,0,0,0,0,0,0,0,0,0,0,0,0,0,0,0,0,0,0,0,0,0,0,0,0,0,0,0,0,0,0,0,0,0,0,0,0,0,0,0,0,0,0,0,0,0,0,0,0,0,0,0,0,0,0,0,0,0,0,0,0,0,0,0,0,0,0,0,0,0,0,0,0,0,0,0,0,0,0,0,0,0,0,0,0,0,0,0,0,0,0,0,0,0,0,0,0,0,0,0,0,0,0,0,0,0,0,0,0,0,0,0,0,0,0,0,0,0,0,0,0,0,0,0,0,0,0,0,0,0,0,0,0,0,0,0,0,0,0,0,0,0,0,0,0,0,0,0,0,0,0,0,0,0,0,0,0,0,0,0,0,0,0,0,0,0,0,0,0,0,0,0,0,0,0,0,0,0,0,0,0,0,0,0,0,0,0,0,0,0,0,0,0,0,0,0,0,0,0,0,0,0,0,0,0,0,0,0,0,0,0],\"coloraxis\":\"coloraxis\",\"symbol\":\"circle\"},\"mode\":\"markers\",\"name\":\"0\",\"scene\":\"scene\",\"showlegend\":true,\"x\":[-0.3481339074740862,0.4365844623908321,-0.33578484551625515,-0.3257047250400539,-0.34132557875677927,-0.3497644066002326,-0.33481352197104886,0.9089844295762036,-0.22220212379335683,-0.22464167718892197,-0.20837195455891402,-0.3926924935945705,-0.2738100470821817,-0.25690347930823465,-0.27359101674625874,-0.27318813980936557,-0.27352291885237107,-0.2738854235443502,-0.27359363233667744,0.8577779508501797,-0.270266521473408,-0.2738376278009949,-0.27335958464768895,-0.25833295492600605,-0.27399255008701673,-0.24990241164497282,-0.25810094814222856,2.308814365372816,-0.3855342117240429,-0.38545574237634445,-0.384673795912956,-0.38429720319974825,-0.3840931443243365,-0.3852996469745986,-0.3693464661980866,-0.3850865671123043,-0.38544421652014077,-0.39223567550639854,-0.38055229020921394,-0.3846084529279879,-0.3834495229798414,-0.38471051816640656,-0.382732508922548,-0.06324373968825692,-0.383405299316698,-0.38535875189550545,-0.3697911388050351,-0.38549125895630004,-0.38556109241885195,-0.3692023145790517,-0.37172268486697835,-0.3851430959067798,-0.3848496697896908,-0.369340771334335,-0.3619914579507198,-0.3852082109440175,-0.3855502958412385,-0.34946950093411316,-0.3826175412232607,-0.37246118417220375,-0.3850767525869701,-0.3824162977423224,-0.36981736986463326,-0.1598179384442474,-0.381647421930092,-0.3767096817064579,-0.3853134637829181,-0.38557955456831544,-0.35728939916460667,-0.38537602263094656,-0.3850804647778001,-0.37261869670223985,-0.38503536319869597,-0.3855052293948248,-0.3697630841157095,-0.4012389926878962,-0.39565283168126675,-0.4210609460783235,-0.4205660717843045,3.9323102067002154,-0.332514471113981,-0.3323875753210094,-0.3321919258505287,-0.33260961922351906,-0.33253910362196326,0.3261401607148612,-0.33234618469407434,-0.3315512990357163,-0.3321926491304731,-0.33233995726034016,-0.3288393092376787,-0.32793150426915363,-0.3326735937126209,-0.31640285955660524,-0.13587335951273793,-0.3166548343376605,-0.33181485149655354,2.235589119556447,-0.1974809130841964,-0.3255243138435211,-0.3139021233292961,-0.2792473495974708,-0.3158691079633361,-0.33264201868365145,-0.332623742951393,-0.3102540897579837,-0.3323404463694226,-0.19223133721146776,-0.2959907394774443,-0.12405268808582574,-0.3249032304342202,-0.33027495654466704,-0.3274714049334192,-0.24632341693277626,-0.3307204499114663,-0.3318346943875514,-0.3323443989484265,-0.33255598943267023,0.5735648895996319,-0.33182770721419186,0.1022983102008042,-0.3312137437956234,-0.3320380255464487,-0.3281625985732238,-0.3166343992465659,-0.33245778357692773,-0.3324569902600138,-0.32558419341572165,-0.29928922329135066,-0.33166903991942587,-0.29052347489415126,-0.3133794538356962,-0.31637561014257004,-0.3315082921535059,-0.3298309797605981,0.08146475823423303,-0.31908174123790256,-0.33261467944709755,-0.33236904429071823,-0.33249859580662267,0.1319374395210899,-0.31670848239017696,-0.33209321645911233,-0.33259255913208785,-0.3325482213359707,0.43613990463581387,-0.3170510178186003,-0.33226621384527905,-0.057042844985026736,-0.3269795332429266,-0.3167474888990267,-0.3151302540266191,-0.3307335743497294,-0.2904246517157728,0.8356366376144381,-0.3149996280549756,-0.3310763263069234,-0.32378321298038243,-0.2759603265517473,-0.33239022514763983,-0.332655670944035,-0.31138544362542153,-0.3167277224966995,-0.3313518505775759,-0.3079211816540086,0.02529425233992663,-0.3315090106813901,-0.331170893732814,-0.33266953294373913,-0.33230429817584956,-0.3085784586343818,-0.32491453176917334,-0.332264250891021,-0.31498872568272773,-0.26343171247542857,-0.33233337278916847,-0.33264990683907314,-0.33249331727812337,-0.3307441804542464,-0.3326538227349192,-0.3160205819308699,-0.3882861929678211,-0.3652499011067756,-0.4477216365940436,-0.38969345081290535,-0.25517016160527706,0.05917574018203134,-0.2751896935125985,-0.3204373033470105,-0.3079165596215045,-0.3072203287683496,-0.29302699187102027,-0.11961474017871626,2.479281257742275,-0.27396786555483243,-0.30870436207056173,-0.30704358505010415,-0.2918458982254275,-0.27203372127260494,-0.08847090457311702,-0.29305962384807194,0.2392129186221092,-0.3085391529772501,-0.291718452541977,-0.30869633790763246,-0.3012668405047845,-0.30728370726788,-0.3049537353229183,-0.30867529012634753,-0.3087389284700781,-0.30858265013968333,-0.308719912769129,-0.38864095107574903,-0.3842383213182946,-0.4013665601407286,-0.4041316890004401,-0.40367586823754403,-0.3873607281737328,-0.4026978847110856,-0.38864040020034984,-0.3876922837604413,-0.40438078980321285,-0.3885269212728967,-0.3887573033981225,-0.3364415104470029,-0.4037755497204134,-0.4081601818636867,-0.4078973766951961,-0.40797162209805543,-0.4065124305623791,-0.40879272973214525,-0.40726069947751214,-0.40847620091581466,-0.40847620091581466,-0.4087516734289312,-0.4074339045091681,-0.4085105005751018,-0.40676279463522097,-0.4067238043575127,-0.4011270709473515,-0.40868757060912475,-0.4243454618602546,-0.40837690958328465,-0.39826794539520943,-0.3967652749647405,-0.3979861844557338,-0.39983931492496405,-0.3380838729546578,-0.3892729384996381,0.5937635573061288,-0.3320935269445814,-0.33246736608312916,-0.32746990908624884,-0.22068003239258877,-0.3431139876422541,-0.343514744726373,-0.3420179423781362,-0.32829160836702975,-0.3276645066263308,0.21563997815363506,-0.34198001723420984,-0.3306107458665416,-0.34615305611605407,-0.3499240793258268,-0.3597203654802043,-0.35914219927756763,-0.3826785827442263,3.7550439946702516,3.748211564972385,1.0021451256375615,3.7494550900787864,3.7383480529355673,3.742809331091706,3.7379565048202426,-0.4094508522037421,-0.36147486119141425,-0.40121112459675295,-0.07552685183081256,0.5942054640075327],\"y\":[0.5089888713415507,0.3354818479051683,1.2648593870546547,0.7133692551371935,1.2649672235929914,0.9570765483384523,0.4054729963936947,2.000818000571747,2.0227033315686027,2.0228451502893754,1.471218458424807,2.165972181268136,1.8749254027110311,1.3232240938784747,1.8749337647651059,1.8749491456424512,1.8749145894564925,1.8749138149687892,1.8749199478959742,1.917509762698407,1.8749082601762517,1.874917091370776,1.874906308416733,1.3233128727248589,1.8749183480825529,1.3230558754231339,1.323313002191231,1.7454952650816906,1.3327087253011551,1.3327113581543482,1.3327089112329424,1.3326586891092471,1.3326628504015805,1.3327017119982536,0.7811287702308246,1.3327004109907472,1.3327090008064573,0.5767097744241894,1.33253963360913,1.332675113999672,1.3327121007972995,1.332671217393116,1.3325405952192266,1.3257456493852098,1.332739193461376,1.3327121523914738,0.7810972769459891,1.3327067359478326,1.332711328247761,0.7810616898505423,1.3321508893700484,1.3327055112310644,1.332702196789204,0.7810890665878205,0.8208567759395398,1.3327088319942968,1.332709562922933,0.7818876251979985,1.332823705988339,1.3324856139545151,1.3327080440602517,1.3325265372574895,0.7810964932581381,0.7891280680078748,1.3327097686336062,1.332686335206204,1.3327048136927833,1.3327106226812382,0.7811122049980144,1.3327002478333476,1.3326861272144488,0.7078269784068616,1.3326951074592224,1.3327106640754864,0.7810976221694497,0.8297698941763045,0.9334541049291927,2.0177394793330583,2.0177583724493444,2.1720486046201293,1.1376247641200814,1.1376310119832664,1.137625024385688,1.1376346449034545,1.1376303078574403,0.5869844040726301,1.1376166237546432,1.1375729351678596,1.1376290179120152,1.1376270232273398,1.1374180743192983,1.1373433775928743,1.1376346092038738,0.5860353215106457,1.1377444293212564,0.5860126366425497,1.1376064236120804,0.40505065422057074,0.57834221260416,1.1371817141898188,0.5859609476741388,1.1359565914146905,0.58598456679993,1.1376336371810796,1.1376328832299203,0.5859260198800357,1.1376255528794426,1.129931284557774,0.34447436417183447,0.5861328748788196,1.1376409281329085,1.137610049470753,1.1376154651204382,1.133309959209249,1.137527716230376,1.1376557488414405,1.1376319345164072,1.1376390990843337,1.1179399852390515,1.137605932811545,1.1288364851684352,1.1375451753224242,1.1376194925834033,1.137638433947344,0.5860054325935706,1.1376274517972627,1.1376221196850136,1.1371794281310472,0.5852558760802212,1.137596747762892,0.37588820020028807,1.1376453758816405,0.5860302456147547,1.1375702220430568,1.137590707569842,1.1171535483899313,1.137500259938627,1.1376339550902665,1.137635502318077,1.1376260476493623,1.1190804745777303,0.5860298914881754,1.137621743540805,1.1376346544234701,1.137627975809508,1.1488401327572393,0.5860287223153127,1.1376196768502758,0.59595593797855,1.1375471431115451,0.5860292921107421,0.5860301945737105,1.1376215740381062,0.4354289451429297,0.558178397702851,0.5859473170280342,1.1376244570123129,1.137248185254229,0.43661045072018007,1.137630910819227,1.1376352934827727,0.585882827496765,0.5860417907944819,1.13761248648012,1.1374182571868021,1.1513009649610964,1.1376137448578623,1.1376919787235489,1.137634401346076,1.1376165292612181,1.1371028289480514,1.1379308316515233,1.1376502369637087,0.5861081815313302,0.3611479988581496,1.1376354267889437,1.1376355135425065,1.1376262491709488,1.137635685871243,1.137634638205533,1.137884235853872,2.4578646426667397,3.061442236883921,0.4066472034139403,0.4063154853207943,2.144412965700177,2.14734532699226,2.145467616507742,2.147296774506726,0.8822691683560507,0.8822688927985776,0.33067630675564674,0.33077330753668727,0.9366879412061668,0.3306871741155961,0.8822724804660992,0.8822792696379901,0.33065769699029346,0.8819325002626331,0.8905585261531644,0.3306688913266017,0.2965672177277592,0.8822657226799838,0.3305901080200626,0.8822735126468793,0.8818465582234714,0.882181023946351,0.8820505741868838,0.8822735903633588,0.8822795079342601,0.88227857881124,0.8822726126150826,1.1191388025484807,1.1188459776416453,1.6707202829643788,1.6707460674090724,1.6707380913739716,1.1191259822127262,1.6706694561782103,1.1191344685549376,1.1190988074650283,1.67074663558868,1.1191395267462685,1.1191355436102797,0.7180366810801954,2.058913915846687,0.9100797799948195,0.9101115883904869,0.9100811720559074,0.9099822771218119,0.9101136978262292,0.9100197612124409,0.9101112653901401,0.9101112653901401,0.910108732720664,0.910111862550844,0.9101026975368155,0.9101621624668716,0.9101126318128061,0.9101160193577769,0.9101114455678091,0.830308369982332,0.9100848612834511,0.963583795182075,0.9635867257350418,0.9635883825222247,1.0042141245407967,1.2672875659004876,1.8191607593882801,0.8672908701376658,0.6506646959846721,0.6506913595862419,0.6505945519658258,1.648769688127796,1.6440591608350763,1.6440728943862908,1.6440501965994736,1.6437903307475377,1.0924635658789679,1.6436522187537526,1.644073419613952,0.41740318841815904,0.9689907274829126,1.0354209021496887,1.0342521547499752,1.0342774069200036,1.0614956145902261,2.151848330773056,2.152313322398894,1.5458478111003218,2.1523607972116374,2.151820682350943,2.1517441593164817,2.151831079063004,0.7803618505556954,1.0407493014860407,2.109712582430027,1.044278969333338,2.095041704526272],\"z\":[-0.015386887270906542,0.03781883673558125,-0.40088209178286516,-0.10732947277719689,-0.40079917044752517,-0.3376495574023714,-0.04416733808605636,-0.6157868966953524,-0.5988403501901154,-0.598816479747122,-0.3053543365486123,-0.6638687025384048,-0.6134097399565182,-0.31994879119895125,-0.6134147093788905,-0.6134238499650811,-0.6134133370128805,-0.6134068628378343,-0.6134128122559683,-0.6390008699502675,-0.6134697147380179,-0.6134081417339026,-0.6134150978587419,-0.3199355649917722,-0.6134055876070301,-0.3200492856006605,-0.31993965946668124,-0.6414542148146603,-0.48294173291082837,-0.48294346462246845,-0.4829568781832353,-0.4829567675008352,-0.48296091101474353,-0.48294491536279904,-0.18948441081090198,-0.4829484855766589,-0.48294335133695027,-0.0975285679404476,-0.4830066272183263,-0.4829534983861778,-0.4829788200540384,-0.4829511827011054,-0.48296844237387687,-0.48767254631636214,-0.48298322703510965,-0.48294527547754507,-0.1894723770258057,-0.48294222120368013,-0.48294160926572477,-0.18947795672925238,-0.48310970946358284,-0.48294817549878594,-0.4829528879068466,-0.18947919146863265,-0.007244833987610335,-0.4829474761211127,-0.4829415624825056,-0.18993538503541268,-0.4830083933899667,-0.4831415773542259,-0.48294968071483907,-0.48297211579439797,-0.18947181106199046,-0.1942382534655413,-0.4830101764919146,-0.48309380940970287,-0.4829450881148566,-0.48294119029399596,-0.1896940741184332,-0.4829433770229387,-0.48294667910126277,-0.20623524158300013,-0.48294867484212506,-0.4829425019799114,-0.18947291629220794,-0.029561786858053943,0.032155458896243515,-0.8393146678158383,-0.8393258956641549,0.1495750449659289,-0.5545050445787336,-0.5545081116360362,-0.5545107476394746,-0.554504696319542,-0.5545053544433864,-0.27246388327396204,-0.554506911298736,-0.554515026762813,-0.5545112699742432,-0.5545084140373431,-0.5545419374577248,-0.5545478828762441,-0.5545035672924675,-0.26104511342951503,-0.5579767141027037,-0.2610376461200259,-0.5545148819905208,-0.365243849973502,-0.26210425838244006,-0.554568525840976,-0.2610790951975492,-0.5552176260399981,-0.26104769319525084,-0.554503991940729,-0.5545042120930358,-0.2611385236950006,-0.5545082084476082,-0.5559395268351103,-0.32162992923151473,-0.26443841439121824,-0.5546409649642494,-0.5545424288416747,-0.5545924221274028,-0.5554416179757518,-0.5545235691908246,-0.5545211417871605,-0.5545089939874761,-0.5545062355358048,-0.5677905364160786,-0.5545145903163534,-0.5609687111385242,-0.5545172395165248,-0.5545127110380919,-0.5545833528815306,-0.26103704004737704,-0.5545064008568799,-0.554505700411652,-0.5545671672762617,-0.2612414281778535,-0.5545161480316942,-0.3162728159683128,-0.554844071868807,-0.261044912233113,-0.5545154190370847,-0.5545476395956221,-0.5590373384346489,-0.5547244213896622,-0.5545045149747362,-0.5545090388944152,-0.5545054955254312,-0.5601824769404536,-0.2610390151176662,-0.5545120427296397,-0.5545049973974471,-0.5545048817714627,-0.569515467348044,-0.26103283898968066,-0.5545087257000313,-0.2669320753929768,-0.554591912290447,-0.2610382493403701,-0.26106679043515757,-0.5545359134446451,-0.15980148715590137,-0.27755805252003696,-0.26105798218827825,-0.5545302764106256,-0.5546080284310908,-0.20217094119993978,-0.5545080515160179,-0.5545039739334077,-0.26111285521763306,-0.26104027125196677,-0.5545238307451523,-0.5549095628891325,-0.5626252432983665,-0.5545212375155963,-0.5545376609798209,-0.554503610805255,-0.5545076347238345,-0.5548557518647751,-0.554679607094197,-0.5545128545825673,-0.26107972610481756,-0.3455143876201976,-0.5545096556418426,-0.5545041047110557,-0.5545056152861828,-0.5545376177372304,-0.5545039186197556,-0.5548296604948997,-0.3692716674837205,0.15514935071233193,-0.27041295290881706,-0.2713882577642803,-0.7376501036364943,-0.7435670767673198,-0.7374395941591171,-0.7368895106446608,-0.43869858706293163,-0.4387107852312112,-0.14521672247790743,-0.1482771472975178,-0.06167157455962078,-0.14555311057516054,-0.43868518650941823,-0.4387152814745337,-0.14523498491183653,-0.43928406146942933,-0.44366556825983344,-0.1452151555204293,-0.15000007223122103,-0.43868718438597354,-0.14522816911151862,-0.4386854658102468,-0.43875882418277623,-0.43869789895592326,-0.4387213668813176,-0.4386858461019326,-0.43868552059010674,-0.43868814243690957,-0.43868493093710387,-0.2051702571004774,-0.20520839378406777,-0.49868862479217657,-0.4986434868520885,-0.4986504285215264,-0.2051910372214262,-0.4986584193227944,-0.20516968612082728,-0.20518156986736208,-0.4986391854478341,-0.2051723580092575,-0.20516777577753456,-0.332446058020193,-0.7564768136089817,-0.142794558891984,-0.14280343888050956,-0.1427980590186606,-0.14281045209861232,-0.14278798717413796,-0.14280232457863407,-0.1427932237427907,-0.1427932237427907,-0.14278804345408652,-0.1428116203566249,-0.14279147307894788,-0.14283015307339,-0.14282420223746897,-0.14292300927659338,-0.1427895334155878,-0.12980652041294757,-0.14279143104816774,-0.1021020699138245,-0.10212886945082453,-0.10210763599199024,-0.06946178810327587,-0.24934475041326834,-0.5422262706827448,-0.06871214871345654,-0.34262199943398125,-0.3426190021790379,-0.3426938539814143,-0.5340696632867944,-0.5312869846737052,-0.5312817820371197,-0.5313050448153459,-0.5315114457216615,-0.23781459341327535,-0.5410516250773382,-0.5313088226621038,-0.038783538727599556,-0.3322532193570088,-0.43140865513716364,-0.5188682011341033,-0.5188817446718512,0.023617641873192086,0.036708135748869296,0.03676590550675862,-0.04717958854520751,0.036737692056511936,0.037005243144725225,0.03693709609327905,0.03701073101263964,-0.29416976508924086,-0.397808721982883,-0.7489859332127176,-0.40464094895752406,-0.6691306192043631],\"type\":\"scatter3d\"},{\"customdata\":[[\"XEVAN\",14746153.0962884,\"210000000\"],[\"X16R\",9753753.61515394,\"100000000\"],[\"X16R\",8125865.02097646,\"22075700\"],[\"X13\",1170292.5,\"2100000\"],[\"X11GOST\",17263355.0,\"24000000\"],[\"X11\",4229040.50393462,\"19800000\"],[\"X11\",1207310.0,\"0\"],[\"X11\",80316207.0,\"550000000\"],[\"X11\",175215859.0,\"350000000\"],[\"X11\",2702855668.85288,\"1800000000\"],[\"X11\",15863837.5,\"21000000\"],[\"X11\",15867695.0,\"16000000\"],[\"X11\",536982074.0,\"100000000000\"],[\"X11\",30385540.0,\"1000000000\"],[\"X11\",45110324.0,\"84000000\"],[\"X11\",32221574.820996,\"33000000\"],[\"X11\",122475638.389743,\"1100000000\"],[\"X11\",2622886.0,\"18900000\"],[\"X11\",26042364.3735553,\"60000000\"],[\"X11\",35138975.0,\"100000000\"],[\"X11\",13654082.4987998,\"25000000\"],[\"X11\",5015881.37315389,\"25000000\"],[\"X11\",4993030.69736615,\"21000000\"],[\"X11\",824000000.0,\"500000000\"],[\"X11\",11149733.9976203,\"20000000\"],[\"X11\",4996986.20575291,\"18000000\"],[\"X11\",1377917.0,\"25000000\"],[\"X11\",211297638.500483,\"500000000\"],[\"X11\",61364813.0,\"228000000\"],[\"X11\",8478104.33969947,\"23000000\"],[\"X11\",31801461.1867843,\"100000000\"],[\"VeChainThor Authority\",55454734800.0,\"86712634466\"],[\"Tribus\",795447.0,\"18000000\"],[\"Time Travel\",17801865.1605478,\"21000000\"],[\"Stanford Folding\",719416990.0,\"1000000000\"],[\"SkunkHash\",4818338.98949984,\"16600000\"],[\"Shabal256\",1813033920.0,\"2158812800\"],[\"Scrypt\",196297971.0,\"10000000000\"],[\"Scrypt\",894026.0,\"2714286\"],[\"Scrypt\",163055097500.0,\"200000000000\"],[\"Scrypt\",1416663.06600024,\"22105263\"],[\"Scrypt\",10000000000.0,\"10000000000\"],[\"Scrypt\",12446100.00278,\"40000000\"],[\"Scrypt\",14491014421.0,\"18406979840\"],[\"Scrypt\",4070212.1493016,\"21000000\"],[\"Scrypt\",29583989322.9213,\"50000000000\"],[\"Scrypt\",5052555.91981545,\"5000000\"],[\"Scrypt\",69684455.4387001,\"182000000\"],[\"Scrypt\",780210700.0,\"1000000000\"],[\"Scrypt\",35284717.173946,\"120000000\"],[\"Scrypt\",55565076.3863525,\"98100000000\"],[\"Scrypt\",20276099.146524,\"35520400\"],[\"Scrypt\",13673406.4325268,\"72000000\"],[\"Scrypt\",18133195.0,\"19276800\"],[\"Scrypt\",99843408.3158479,\"100000000 \"],[\"Scrypt\",3115258.0,\"3360000\"],[\"Scrypt\",64096052.0,\"4000000000\"],[\"Scrypt\",5167775.0,\" 75000000\"],[\"Scrypt\",3964201248.87125,\"4999999999\"],[\"Scrypt\",99990001.493466,\"100000000\"],[\"Scrypt\",45483049.3398182,\"64000000\"],[\"Scrypt\",17453749.4042601,\"84000000\"],[\"Scrypt\",485214.0,\"10500000000\"],[\"Scrypt\",143006669741.687,\"0\"],[\"Scrypt\",9704042.0,\"20000000\"],[\"Scrypt\",32646731.063036,\"100000000\"],[\"Scrypt\",33716526.0,\"100000000\"],[\"Scrypt\",38151999.9930997,\"42000000\"],[\"Scrypt\",90595753018.6314,\"90600000000\"],[\"Scrypt\",151447649.8,\"265420800\"],[\"Scrypt\",19326319.14375,\"20000000\"],[\"Scrypt\",1104344.22938102,\"1350000\"],[\"Scrypt\",69836100.0,\"84000000\"],[\"Scrypt\",210000000.0,\"210000000\"],[\"Scrypt\",5804204.88794916,\"10000000\"],[\"Scrypt\",2366066305.76482,\"15000000000\"],[\"Scrypt\",334709223.483138,\"337000000\"],[\"Scrypt\",75614500.0,\"250000000\"],[\"Scrypt\",20910478.8062499,\"21000000 \"],[\"Scrypt\",218871896.499999,\"299792458\"],[\"Scrypt\",19496786.31025,\"32000000\"],[\"Scrypt\",6570807.65677618,\"20000000\"],[\"Scrypt\",2147483647.0,\"2147483647\"],[\"Scrypt\",884125802.0,\"1420609614\"],[\"Scrypt\",65672720.4708748,\"70000000\"],[\"Scrypt\",41658647.9999715,\"72245700\"],[\"Scrypt\",636462.55983338,\"168351300\"],[\"Scrypt\",23150892.1679687,\"23000000\"],[\"Scrypt\",619478.0,\"619478\"],[\"Scrypt\",119606941.0,\"265420800\"],[\"Scrypt\",4610340640.89,\"10000000000\"],[\"Scrypt\",10140044.4430293,\"3371337\"],[\"Scrypt\",68194674.8711679,\"105120000\"],[\"Scrypt\",792537250.0,\"1000000000\"],[\"Scrypt\",152270664.860648,\"160000000\"],[\"Scrypt\",181919.2435974,\"2628000\"],[\"Scrypt\",137517654.41397,\"166386000\"],[\"Scrypt\",32565300.0,\"210240000\"],[\"Scrypt\",1104157.42169891,\"21000000\"],[\"Scrypt\",24215181.725,\"250000000\"],[\"Scrypt\",25593737.1355044,\"51200000\"],[\"Scrypt\",88213.0,\"92000000000\"],[\"Scrypt\",12539015186.822,\"13500000000\"],[\"Scrypt\",1142732.14912776,\"11235813\"],[\"Scrypt\",415032420.0,\"1680000000\"],[\"Scrypt\",616448.0,\"616448\"],[\"Scrypt\",88.0,\"384000000000\"],[\"Scrypt\",128940951.183046,\"250000000\"],[\"Scrypt\",7357794.7925,\"100000000\"],[\"Scrypt\",33442988.3440364,\"48166000\"],[\"Scrypt\",11119200.0,\"30000000\"],[\"Scrypt\",5768310.0,\"21000000\"],[\"Scrypt\",116845228.0,\"200000000\"],[\"Scrypt\",12205795.4449549,\"64000000\"],[\"Scrypt\",63039243.3000049,\"84000000\"],[\"Scrypt\",7219956.64626131,\"21000000 \"],[\"Scrypt\",4703879.51824446,\"13140000\"],[\"Scrypt\",39999997299.8568,\"40000000000\"],[\"SHA-512\",1000000000.0,\"1000000000\"],[\"SHA-256\",200911.79151896,\"250000\"],[\"SHA-256\",17927175.0,\"21000000\"],[\"SHA-256\",39195739.362088,\"45000000\"],[\"SHA-256\",18773857500.0,\"21000000000\"],[\"SHA-256\",2278150.0,\"80000000\"],[\"SHA-256\",84613099.9999955,\"168000000\"],[\"SHA-256\",21089348.999,\"21000000\"],[\"SHA-256\",52293836.6277958,\"64000000\"],[\"SHA-256\",17992514.6469233,\"21000000\"],[\"SHA-256\",2100000000.0,\"2100000000\"],[\"SHA-256\",14736400.0,\"21000000\"],[\"SHA-256\",20166000.0,\"20166000\"],[\"SHA-256\",22935396.0,\"42000000\"],[\"SHA-256\",43536800.0,\"47011968\"],[\"SHA-256\",563336541.299966,\"888000000\"],[\"SHA-256\",170204389.754849,\"169795588\"],[\"SHA-256\",22986929.0854247,\"42000000\"],[\"SHA-256\",1317747500.0,\"2500000000\"],[\"SHA-256\",12462620.0,\"21000000\"],[\"SHA-256\",14747200.0002,\"53760000\"],[\"SHA-256\",21739971929.0,\"21626280000 \"],[\"SHA-256\",9106714.0,\"10638298\"],[\"SHA-256\",20997476.8650231,\"21000000\"],[\"SHA-256\",17995589.6469082,\"21000000\"],[\"SHA-256\",6243840.0,\"9736000\"],[\"Quark\",259557164.91477,\"247000000\"],[\"QuBit\",6365285.0,\"0\"],[\"QuBit\",12925790.4226959,\"100000000\"],[\"NeoScrypt\",5832306.875,\"31800000\"],[\"NeoScrypt\",208669093.00773,\"336000000\"],[\"NeoScrypt\",7847417.33355824,\"21000000\"],[\"NeoScrypt\",299797953.0,\"500000000\"],[\"NeoScrypt\",4165967.57499639,\"27000000\"],[\"NeoScrypt\",6375259.04,\"45000000\"],[\"NeoScrypt\",3824685012.0,\"4000000000\"],[\"NIST5\",10123200.0,\"48252000\"],[\"NIST5\",21069346.2522598,\"21000000\"],[\"Multiple\",80260463.7331396,\"100000000\"],[\"Multiple\",1688254250.0,\"2000000000\"],[\"Multiple\",15929530669.1206,\"16555000000\"],[\"Multiple\",3332922.5,\"2800000\"],[\"Multiple\",11406219141.0,\"21000000000\"],[\"Multiple\",65113302.0,\"0\"],[\"Multiple\",100000000.0,\"0\"],[\"Multiple\",481730566.566176,\"660000000\"],[\"Multiple\",1000000000.0,\"1200000000\"],[\"M7 POW\",708506520.0,\"1840000000\"],[\"Lyra2Z\",7568281.24956067,\"21400000\"],[\"Lyra2Z\",13634850.0,\"84000000\"],[\"Lyra2Z\",27340501.6514783,\"300000000\"],[\"Lyra2Z\",6986399.70430446,\"10500000\"],[\"Lyra2REv2\",51173723.8166347,\"84000000\"],[\"Lyra2REv2\",643795911.540095,\"1100000000\"],[\"Lyra2RE\",18545757.5,\"21000000\"],[\"Lyra2RE\",1876146.443596,\"9999999\"],[\"Lyra2RE\",13742738.0,\"65789100\"],[\"Lyra2RE\",5097689.71077377,\"26280000\"],[\"Keccak\",2241009149.22257,\"5000000000\"],[\"Jump Consistent Hash\",135862416.039898,\"168000000\"],[\"IMesh\",25000000.0,\"25000000\"],[\"HybridScryptHash256\",40431856.9,\"200000000\"],[\"HMQ1725\",8645406.16776286,\"21000000\"],[\"Groestl\",49548585.1412917,\"84000000\"],[\"Groestl\",73298203.8873662,\"105000000\"],[\"Exosis\",406091.925,\"21000000\"],[\"Ethash\",24487944.0958204,\"24487944\"],[\"Ethash\",12756367.0,\"280000000\"],[\"Ethash\",113359703.0,\"210000000\"],[\"Ethash\",247612453.0,\"6500000000\"],[\"Ethash\",26205539.0,\"26205539\"],[\"Ethash\",10495278.0,\"16906397\"],[\"Ethash\",107684222.6865,\"0\"],[\"Ethash\",520891780.0,\"10000000000\"],[\"Ethash\",1618033.0,\"1618033\"],[\"Equihash+Scrypt\",100000000.0,\"2100000000\"],[\"Equihash\",17202361.088994,\"21000000\"],[\"Equihash\",25150787.5,\"30886000\"],[\"Equihash\",4235111504.0,\"7600000000\"],[\"Equihash\",71355477.0,\"70000000\"],[\"Equihash\",5613550.0,\"21000000\"],[\"Equihash\",6921653.89980891,\"17000000\"],[\"Equihash\",115898131.0,\"200000000\"],[\"Equihash\",5211553258.01514,\"21000000000\"],[\"Equihash\",13475920.0,\"105000000\"],[\"Equihash\",7296537.5,\"21000000\"],[\"Equihash\",7383056.25,\"21000000\"],[\"Equihash\",35687520.0,\"262800000\"],[\"Dagger-Hashimoto\",2232901.0,\"2232901\"],[\"Dagger\",107325266.027783,\"100000000\"],[\"Dagger\",33986980.0,\"156306732.71\"],[\"Dagger\",5702048.0,\"30000000\"],[\"Cryptonight-GPU\",4890897.0,\"88188888\"],[\"CryptoNight-V7\",17201143.1449131,\"0\"],[\"CryptoNight-V7\",10969318.522954,\"185000000\"],[\"CryptoNight-V7\",69036016.8340164,\"105000000\"],[\"CryptoNight-V7\",15580199.3087496,\"1750000000\"],[\"CryptoNight-V7\",441250233.377,\"999481516\"],[\"CryptoNight Heavy\",19153632.0,\"150000000\"],[\"CryptoNight Heavy\",99553110528.8022,\"184470000000\"],[\"CryptoNight\",7822432.72439746,\"10000000\"],[\"CryptoNight\",133932467.774108,\"336000000\"],[\"CryptoNight\",53139835213.77,\"1000000000000\"],[\"CryptoNight\",1809467143.0,\"2000000000\"],[\"CryptoNight\",4500000.0,\"12500000\"],[\"CryptoNight\",19281821413.4924,\"85000000000\"],[\"CryptoNight\",14161803.0,\"54000000\"],[\"CryptoNight\",184066828814.0,\"184467440735\"],[\"CryptoNight\",6906587610.38292,\"10000000000\"],[\"CryptoNight\",980222595.0,\"1400222610\"],[\"CryptoNight\",8946653.0,\"88888888\"],[\"CryptoNight\",16016864.0,\"18400000\"],[\"CryptoNight\",80049082.9057215,\"1000000000\"],[\"CryptoNight\",9357088.0,\"25000000\"],[\"CryptoNight\",560085952.404637,\"1000000000\"],[\"CryptoNight\",1867054873.28397,\"8080000000\"],[\"CryptoNight\",41294520017.0,\"184000000000\"],[\"CryptoNight\",84300.0,\"600000518\"],[\"CryptoNight\",978145.0,\"21000000\"],[\"Cloverhash\",18407259.0885883,\"30000000\"],[\"C11\",11916588.09471,\"23000000\"],[\"Blake2b\",133248297.0,\"340282367\"],[\"Blake2b\",33098296530.0,\"0\"],[\"Blake\",15846721.2482747,\"25228800\"],[\"Blake\",23356790.1494191,\"7000000000\"],[\"Blake\",1578281.31341127,\"105120001.44\"],[\"BLAKE256\",30089671530.5228,\" 90000000000\"],[\"Argon2d\",19784224.6512734,\"0\"],[\"1GB AES Pattern Search\",11448949.0,\"81962100\"]],\"hovertemplate\":\"<b>%{hovertext}</b><br><br>Class=%{marker.color}<br>PC 1=%{x}<br>PC 2=%{y}<br>PC 3=%{z}<br>Algorithm=%{customdata[0]}<br>TotalCoinsMined=%{customdata[1]}<br>TotalCoinSupply=%{customdata[2]}<extra></extra>\",\"hovertext\":[\"Urals Coin\",\"Xchange\",\"Motion\",\"Bitcoin Rhodium\",\"SibCoin\",\"Sucre\",\"UroCoin\",\"AC3\",\"Pura\",\"Elements\",\"BowsCoin\",\"MindCoin\",\"PacCoin\",\"VaultCoin\",\"Adzcoin\",\"MarsCoin \",\"Onix\",\"DAS\",\"ArcticCoin\",\"DigitalPrice\",\"BolivarCoin\",\"Azart\",\"Axe\",\"ArtexCoin\",\"Spreadcoin\",\"CryptCoin\",\"PizzaCoin\",\"Crypto Improvement Fund\",\"Kurrent\",\"Pioneer Coin\",\"FuturoCoin\",\"Vechain\",\"KEYCO\",\"Bitcore\",\"Folding Coin\",\"MUNcoin\",\"BurstCoin\",\"KiloCoin\",\"OsmiumCoin\",\"gCn Coin\",\"HexCoin\",\"ShareChain\",\"BitFlip\",\"LottoCoin\",\"Poseidon\",\"SmileyCoin\",\"Bata\",\"Pakcoin\",\"Crypto Escudo\",\"Block-Logic\",\"SolarCoin\",\"BenjiRolls\",\"EquiTrader\",\"Unify\",\"Canada eCoin\",\"BeaverCoin\",\"EB3coin\",\"SocialCoin\",\"PopularCoin\",\"eBoost\",\"IrishCoin\",\"Kronecoin\",\"Sojourn Coin\",\"NewYorkCoin\",\"FrazCoin\",\"AdCoin\",\"Linx\",\"MegaCoin\",\"Infinite Coin\",\"KrugerCoin\",\"LuckyCoin\",\"Litebar \",\"Gamecredits\",\"Revolution VR\",\"MinCoin\",\"NobleCoin\",\"NyanCoin\",\"BitZeny\",\"E-Gulden\",\"Einsteinium\",\"Emerald\",\"Francs\",\"SafeExchangeCoin\",\"GrandCoin\",\"GlobalCoin\",\"GoldCoin\",\"YoCoin\",\"ViaCoin\",\"MasterCoin\",\"WorldCoin\",\"GreenCoin\",\"OmniCron\",\"MonaCoin\",\"ArtByte\",\"Flo\",\"Wild Beast Coin\",\"PesetaCoin\",\"Song Coin\",\"RonPaulCoin\",\"StableCoin\",\"SmartCoin\",\"1Credit\",\"EarthCoin\",\"Franko\",\"Gulden\",\"Omni\",\"MoonCoin\",\"SexCoin\",\"Quatloo\",\"Digitalcoin \",\"Shilling\",\"ProsperCoin\",\"DopeCoin\",\"Argentum\",\"Litecoin\",\"Catcoin\",\"CannaCoin\",\"CasinoCoin\",\"Kcash\",\"Unobtanium\",\"Bitcoin\",\"JouleCoin\",\"DevCoin\",\"UnbreakableCoin\",\"GlobalToken\",\"IXcoin\",\"BLAST\",\"Bitcoin SV\",\"Project Pai\",\"Namecoin\",\"UnitedBitcoin\",\"TerraCoin\",\"TigerCoin\",\"SysCoin\",\"ZetaCoin\",\"Crown Coin\",\"ILCoin\",\"SoonCoin\",\"Anarchists Prime\",\"CarpeDiemCoin\",\"DollarCoin\",\"I0coin\",\"Bitcoin Cash\",\"ZayedCoin\",\"QuarkCoin\",\"CypherPunkCoin\",\"SLICE\",\"GoByte\",\"FeatherCoin\",\"SparksPay\",\"GunCoin\",\"VIVO Coin\",\"Innova\",\"UFO Coin\",\"Coinonat\",\"Jumpcoin\",\"TeslaCoin\",\"MyriadCoin\",\"Verge\",\"JoinCoin\",\"DigiByte\",\"Unitus\",\"Crypti\",\"SHIELD\",\"Circuits of Value\",\"Cryptonite\",\"ZCoin\",\"Actinium\",\"Alpenschillling\",\"GINcoin\",\"Vertcoin\",\"KREDS\",\"Zoin\",\"HexxCoin\",\"Crypto\",\"Infinex\",\"SmartCash\",\"MassGrid\",\"Aidos Kuneen\",\"MediterraneanCoin\",\"PlusOneCoin\",\"Riecoin\",\"Groestlcoin\",\"Exosis\",\"Reality Clash\",\"Ellaism\",\"Ethereum Classic\",\"Callisto Network\",\"Elementrem\",\"Expanse\",\"Ethereum\",\"DaxxCoin\",\"1717 Masonic Commemorative Token\",\"Vollar\",\"Bitcoin Gold\",\"Bithereum\",\"CrypticCoin\",\"Bitrolium\",\"ZClassic\",\"Zero\",\"Komodo\",\"BitcoinZ\",\"PirateCash\",\"Horizen\",\"ZCash\",\"Beam\",\"DubaiCoin\",\"Travelflex\",\"Pirl\",\"SoilCoin\",\"Ryo\",\"Monero\",\"Citadel\",\"Quantum Resistant Ledger\",\"Webchain\",\"Lethean\",\"Loki\",\"Qwertycoin\",\"Karbo\",\"Niobio Cash\",\"TurtleCoin\",\"Dinastycoin\",\"BitCoal\",\"UltraNote\",\"LeviarCoin\",\"ByteCoin\",\"DigitalNote \",\"Beldex\",\"Sumokoin\",\"Monero Classic\",\"BitTube\",\"Bikercoins\",\"PluraCoin\",\"FREDEnergy\",\"Newton Coin\",\"PlatinCoin\",\"Cannabis Industry Coin\",\"ChanCoin\",\"Interzone\",\"Nano\",\"Siacoin\",\"Lithium\",\"BlakeCoin\",\"Universal Molecule\",\"Photon\",\"Dynamic\",\"HOdlcoin\"],\"legendgroup\":\"1\",\"marker\":{\"color\":[1,1,1,1,1,1,1,1,1,1,1,1,1,1,1,1,1,1,1,1,1,1,1,1,1,1,1,1,1,1,1,1,1,1,1,1,1,1,1,1,1,1,1,1,1,1,1,1,1,1,1,1,1,1,1,1,1,1,1,1,1,1,1,1,1,1,1,1,1,1,1,1,1,1,1,1,1,1,1,1,1,1,1,1,1,1,1,1,1,1,1,1,1,1,1,1,1,1,1,1,1,1,1,1,1,1,1,1,1,1,1,1,1,1,1,1,1,1,1,1,1,1,1,1,1,1,1,1,1,1,1,1,1,1,1,1,1,1,1,1,1,1,1,1,1,1,1,1,1,1,1,1,1,1,1,1,1,1,1,1,1,1,1,1,1,1,1,1,1,1,1,1,1,1,1,1,1,1,1,1,1,1,1,1,1,1,1,1,1,1,1,1,1,1,1,1,1,1,1,1,1,1,1,1,1,1,1,1,1,1,1,1,1,1,1,1,1,1,1,1,1,1,1,1,1,1,1,1,1,1,1,1,1,1,1,1,1,1,1,1,1,1,1,1,1,1,1],\"coloraxis\":\"coloraxis\",\"symbol\":\"diamond\"},\"mode\":\"markers\",\"name\":\"1\",\"scene\":\"scene\",\"showlegend\":true,\"x\":[-0.1680286277294329,-0.17791302629017794,-0.17848486504340988,-0.10190644052509007,-0.13651711681578935,-0.21332817321964267,-0.2135053203570238,-0.2086435212508226,-0.20890137544640716,-0.1677659787631882,-0.21317760256206617,-0.21321297193715535,0.501366510717593,-0.2060657338282942,-0.21237423062040686,-0.21289286121883055,-0.20423290634211444,-0.21335416068945662,-0.2127770656163539,-0.212382656486556,-0.21317625235514048,-0.21328173209018636,-0.2133103442989856,-0.19991667850784622,-0.21324224904494432,-0.21333154588594003,-0.21332615470927158,-0.20739829207679883,-0.21115575499602837,-0.21325362201354717,-0.21242341035042298,4.201649766535671,-0.1283795245807541,-0.12258899786603127,-0.09605570032993313,-0.14169101135259476,-0.2120212538193847,-0.0873841601857963,-0.16058393822827727,3.2470855782631567,-0.16044020436436454,0.03232732574127845,-0.16017877190609248,0.14671553076268598,-0.1604156311924401,0.5547962112846654,-0.16051696867587525,-0.15847401523243027,-0.14400375351973818,-0.1593332294369632,0.5349357220779248,-0.16011489133152773,-0.1599371199955962,-0.16025611622370112,-0.1586865791795586,-0.1605522413254208,-0.13149823143625064,-0.16001973105561315,-0.07679135570603915,-0.1586847891529882,-0.15960536374194753,-0.159805959265295,-0.0862335515686649,1.5856181974117491,-0.16035392066504747,-0.15950710739017743,-0.15949404429001768,-0.15985071455429078,1.5873832059046717,-0.15688472334651438,-0.16023642453027379,-0.16059103370611372,-0.15916632650130239,-0.1565623115871741,-0.16047237392840538,-0.025472976934835415,-0.15413992803687254,-0.15791994027087103,-0.1602099973064909,-0.15581795170385948,-0.16014934343390852,-0.16039218010396913,-0.15046156035910627,-0.13975556005198325,-0.15931633102300571,-0.15959365618270818,-0.15941382734902215,-0.16016847337481993,-0.16060212883581787,-0.1572735253064418,-0.0334849693092307,-0.16046638244366598,-0.15903677048427184,-0.1438532359282723,-0.15762140033489722,-0.1605932448427564,-0.15775631313253943,-0.15872723921597953,-0.16045184922698794,-0.1585475693795626,-0.1599388952352461,0.49105019902090397,0.08812238154325326,-0.16052054082061246,-0.14364624782947635,-0.1606021872970641,2.55937146288762,-0.15726877924094002,-0.1598159066712556,-0.15986453996446037,-0.1602658074332078,-0.1603948959827861,-0.15777064302615926,-0.16001170713136748,-0.1592493218649704,-0.16037717015059022,-0.16046356828249697,0.57987018255214,-0.5529222496684948,-0.1368121951515994,-0.13644876411362797,-0.1360190578743422,0.2411774541335368,-0.13622193748694333,-0.13459322815394448,-0.13641015129705525,-0.1357245364207924,-0.1364479662613269,-0.09629872383498198,-0.1364877261725909,-0.13642733363716633,-0.13623886029387883,-0.13595179849149383,-0.1236476375201333,-0.13353536750044956,-0.13623823103136026,-0.10301736959142033,-0.1365154909477408,-0.13625554552882993,0.28183234410725966,-0.13662986439481312,-0.13641127313344328,-0.1364479287129787,-0.1366712137490186,-0.22751105809566277,-0.16523179094899068,-0.1644433520656608,-0.1601774169645541,-0.15554586986097532,-0.160229310356477,-0.15327144898405348,-0.1602317641947548,-0.1600772875567847,-0.08543806455856268,-0.1711116043812867,-0.17117097666002623,-0.2749809639796041,-0.08544215232560108,0.1915532353579754,-0.12016322363874066,0.16780502870867334,-0.11942866622838619,-0.27544825713030274,-0.10966644223345608,-0.09951295484248254,-0.12207962705112142,-0.13773102097063136,-0.13721352873005715,-0.13551617927417603,-0.13781533415895417,-0.17340834703194563,-0.15897530093688872,-0.12733287409968488,-0.12761434039616254,-0.1270742685875895,-0.1274596865698271,-0.1177330137031411,-0.1390803182577971,-0.12825573747577595,-0.12511324247488886,-0.14180934512556778,-0.1865322005807535,-0.1860934484579963,-0.11918334834016082,-0.13643852532608453,-0.13477191035197,-0.13403928930726955,-0.08784601992876978,-0.13640538580768075,-0.13666308994210144,-0.13559608381149033,-0.05971751352774785,-0.2933253675714386,-0.09640970266466814,-0.11305129430992261,-0.11288421184586446,-0.007862761536365104,-0.11204295751657672,-0.11319280348589385,-0.11320516361466525,-0.1445007548464867,0.09897657955157872,-0.268947387430797,-0.1131722527863902,-0.11317119631934415,-0.11111283400304042,-0.12729895842455752,-0.13658684963546255,-0.1370835348420716,-0.13832358569739042,-0.13499801349719634,-0.1279954917165729,-0.1267611778594356,-0.12661879806133097,-0.11561951736219897,-0.11573787089301484,0.5911666962943635,3.112153477062772,0.3155730597332111,0.3194221242176954,8.04758468426945,0.35166842245266405,0.31555019826139413,1.1529341741132533,0.3159621338111893,3.869655651952551,0.47057493591709476,0.3372942452094471,0.31614558073269045,0.31573262034715327,0.3234674708915311,0.31569804860618506,0.3293291267004804,0.3954380550644978,2.122974097638415,0.3196577187170551,0.31556740144918816,-0.1299633869711838,-0.1893813039305572,-0.015610951072838438,0.38450982277937046,-0.12563720764338882,-0.07614113661298978,-0.12524554434945182,1.1011742732335807,-0.13482723732071308,-0.14829381876108969],\"y\":[-0.8936479497614783,-1.20149760618781,-1.2014628772484373,-0.28363561384339747,-2.0704127861256003,-0.825849963260766,-0.82584235473321,-0.826055953470612,-0.825920630238472,-0.8254026435221872,-0.8258450858383125,-0.8258428069692059,-0.8711340030825776,-0.8262841665642037,-0.8258601427788954,-0.8258429251445246,-0.8262867773409669,-0.8258503021464768,-0.8258581019564435,-0.825872077857363,-0.8258479376404086,-0.8258519646042742,-0.8258501536001703,-0.8256864916264036,-0.8258468280488851,-0.8258487855136998,-0.8258536605535653,-0.8259721217285783,-0.8259181448869856,-0.8258494397539344,-0.8258736337423593,-3.3368905968749067,-2.0747506882512967,-2.047579867194591,-1.9961547189425333,-2.064275394586015,-1.0223614827182415,-1.0253815622172717,-1.020919750289031,-1.0359886010173265,-1.0209283375712002,-1.0208112641603457,-1.0209313453756825,-1.022546296966023,-1.020926597185033,-1.0298981500591633,-1.020918852608583,-1.0209693307621241,-1.021010625825038,-1.0209571315829453,-1.06556915693863,-1.0209256551068127,-1.0209453464821485,-1.0209192565221752,-1.0209179272747586,-1.0209190088605298,-1.022710707242288,-1.0209506778870512,-1.021347967083908,-1.0209178589358274,-1.020926874122763,-1.0209490491286357,-1.0257005534544084,-0.954251961371811,-1.0209235153873328,-1.0209492530782733,-1.0209487543603704,-1.0209202726059312,-1.0199454497572313,-1.020969205341204,-1.020919029666081,-1.0209190309275353,-1.0209246294803809,-1.0209166699401115,-1.0209207792750494,-1.0266471286041383,-1.0209163704881006,-1.020997534452033,-1.02091874657536,-1.0209534267890248,-1.0209244151675074,-1.0209249760411536,-0.19489998080444726,-1.0211537341706163,-1.0209201945698723,-1.0209324121939582,-1.0209953038022308,-1.0209186129659005,-1.020918924272817,-1.020984048869611,-1.0233238200931523,-1.0209157392027084,-1.020935013028446,-1.0210048794235922,-1.020920811541978,-1.020920042963691,-1.020930597387639,-1.0209994958971813,-1.0209279799029203,-1.021021495829454,-1.02093031683777,-1.0628169927964142,-1.0212215734949879,-1.0209235151710738,-1.0214905465734285,-1.02091892430544,-1.1957979694145737,-1.0209726746821721,-1.0209610422958526,-1.0209252759406702,-1.0209274098094137,-1.0209258055643489,-1.020955542768439,-1.0209423873409702,-1.0209277980447533,-1.0209251288344945,-1.0209227222261266,-0.1944924361998452,-0.4742877729174531,-1.2762716616033618,-1.276272847802949,-1.2762738627456347,-1.2770833261513126,-1.2763070125141898,-1.2763087059842795,-1.2762713736580147,-1.2762764095327288,-1.2762728173428577,-1.276249031386789,-1.2762743352811223,-1.276271424290216,-1.2762800767636904,-1.276272755305058,-1.2764134324850134,-1.276269622701044,-1.276280052739953,-1.2767958681802418,-1.276275395273795,-1.276289249614342,-1.2759857972141346,-1.2762722408670348,-1.2762714164870437,-1.2762728159093517,-1.2762731645647554,-0.487798804992423,-1.4404920806231587,-1.4405345636575024,-1.507873728298581,-1.5079177066633551,-1.5078678704197348,-1.5079499120574615,-1.5078723191260557,-1.5078794866516325,-1.5079006268136,-0.5144952916387018,-0.5144777778082716,-0.21770309458455916,-1.824766814446668,-1.8247563573679688,-1.8246427393222306,-1.8288893544939353,-1.8246126633333009,-0.21764835097466143,-1.8247190176939692,-1.8247233340615283,-2.2198855662754906,-2.0786871989079208,-2.07871287971639,-2.07880485986334,-2.078682506155575,-1.189559517410612,-1.189745949090135,-2.0718605274528175,-2.0718632889498734,-2.0718831641189657,-2.0718692012711495,-1.124200489933189,-2.0859679551032264,-2.1067676094993595,-2.0663494531303113,-2.1391496640356116,-1.1243160873594098,-1.1243145794395877,-2.0770623544355784,-1.9261830047620823,-1.9263048376076264,-1.9262260592684457,-1.9290280282925194,-1.9261829862693345,-1.926186075131051,-1.9261330680944446,-1.9304945802758071,-0.319235202146674,-2.1138994983574753,-1.8884808489361116,-1.8884816457564157,-1.889966124444369,-1.8884779190849694,-1.8884862514178111,-1.8884838199481844,-1.0794342583966259,-1.8956134757877272,-0.2815727920728013,-1.888485466841283,-1.888485426507899,-1.8885823506537482,-1.9547155545248855,-2.0905411381038537,-2.0906009698912493,-2.0905566339097055,-1.9972630691074034,-2.1046655784904265,-2.1047527352677857,-2.1046892325525093,-2.105463308928277,-2.1049230729667485,-2.0677182153827367,-2.1052593301334492,-2.1944836678341826,-2.194573342769054,-2.625124150083973,-2.1945500497719004,-2.1944863552240714,-2.224204148475533,-2.1945007507643792,-2.192683416386776,-2.1958171831680238,-2.194663480574763,-2.194519070861112,-2.194483673226287,-2.1949008571748245,-2.194489783619738,-2.194677073183284,-2.1972921215851544,-2.2590282522442204,-2.194755969795358,-2.1944918680657812,-2.0725191298252392,-1.1178055950803412,-2.137207169652036,-2.1216845263334436,-2.0479498625921173,-2.051122771128612,-2.0479928978500648,-1.1412298853730738,-2.043877081832733,-2.1078822938985815],\"z\":[0.13882953012126723,0.20199905101594323,0.2020044472024078,-0.07376380952763263,0.2534508559850863,0.05669857088485121,0.05670066457171536,0.056643844184441176,0.05663024518463147,0.05583796083939984,0.056695271390687516,0.056695587629376334,0.05020608420877695,0.056629119467473496,0.05668317077996909,0.056689978054482046,0.05659726039218372,0.056699072974225474,0.05668997650232045,0.05668491788992319,0.056695629742188274,0.05669802289632833,0.05669828307285687,0.05644098478434786,0.056696640862078616,0.05669847236144022,0.05669903076930727,0.05661072975459548,0.05666952913309676,0.05669719063424915,0.05668584252514341,2.739677932564361,0.4413857091881041,0.3147280309463767,0.5130941446522418,0.2145606612395539,0.1732546638093502,-0.01555037609163799,-0.014861798261418237,-0.0727269656144581,-0.014863173634450612,-0.018266424231483485,-0.014867364890438559,-0.02004414820603269,-0.014863838640330022,-0.026230492681597422,-0.014863095408282791,-0.014892233912343187,-0.01514099180359646,-0.0148787690901846,-0.021102343095310234,-0.01486924985575448,-0.014869735674483178,-0.014867625336076266,-0.014895385401490227,-0.014862454616412587,-0.015132981601076106,-0.014867569632293198,-0.016276940366619162,-0.014895426014120541,-0.014878040625200269,-0.014871544530190859,-0.01552785825392705,-0.054480391447714605,-0.014865335992619686,-0.014876769024766623,-0.014877065404087439,-0.014874613455975906,-0.04570991764020057,-0.01492017984947004,-0.014868001778244364,-0.014861769949031572,-0.01488605669972398,-0.0149328842891085,-0.014863620954836305,-0.016468802850674903,-0.01497549372825987,-0.014898192170759902,-0.014868504120246926,-0.014941040548909561,-0.014868810542717433,-0.014864467951620042,-0.15804509990034407,-0.015196473274207633,-0.01488401480342232,-0.014877504385440594,-0.014872238474718705,-0.014869251734294759,-0.014861589260176684,-0.014911358600348833,-0.016773256218684907,-0.014864401504587428,-0.014886942260579102,-0.015144406789394601,-0.0149137177004995,-0.014861595501307943,-0.014910035745532055,-0.014883742458025113,-0.014863016915291731,-0.01488395234356224,-0.01487171812131027,-0.020699858605431568,-0.019191956073479018,-0.014862407952430172,-0.015082975479748928,-0.014861588228447799,-0.03923058534028542,-0.014912965896859693,-0.014869762899109854,-0.01487370016018853,-0.014866362667164313,-0.014864309086646653,-0.014906441786214631,-0.014868821391152533,-0.014884173677377628,-0.01486471125535408,-0.01486351538630576,-0.1709340547377966,-0.48045770285770667,0.10095868413990264,0.10095245637510365,0.10094504099036343,0.0944248967136754,0.1009530476026066,0.10092465266172364,0.10095158031657173,0.10094020648465389,0.10095243827320442,0.10024369602615404,0.100953340357346,0.1009518890509252,0.10094973619095444,0.10094371064694578,0.1007463333656444,0.10090082623360425,0.10094972191406798,0.100435029104153,0.10095397029243808,0.10095125836730894,0.09356341048195496,0.10095555759199537,0.10095160576911373,0.10095243742129686,0.10095640799268696,0.04091738683924268,0.20720774486270827,0.2071995811722021,0.1970206843979712,0.19694518488192347,0.19702081150944123,0.19690953057661428,0.19702145066088747,0.19701969628532237,0.1957108697210448,0.008356330477378448,0.008355027375091867,0.07035538522546916,0.3159606864650606,0.3110915571060957,0.31655422757759166,0.3120626231546869,0.31653728944099885,0.07035626267052467,0.3163799839221192,0.3162021317470058,0.28966459042868203,0.3051388622398731,0.305133208850343,0.30511570411499656,0.3051397151762425,0.20737648694175978,0.2071478281852235,0.39513231038819724,0.3951376266654606,0.3951307986492575,0.39513570100618006,0.10731989166800228,0.17479514798686557,0.39807957696371826,0.28614241992025735,0.4741724699969069,0.020756123407476058,0.020748211048132636,0.3126912955893304,0.37892145434657476,0.37890848932687937,0.3788850601687426,0.37844869368137785,0.3789208694976189,0.37892581205453146,0.3788999594315558,0.37815086835772077,0.13275788000526478,0.4129226210719009,0.49632588512133685,0.4963230556843749,0.49467636790669817,0.49630777276111643,0.4963290957216498,0.4963289871663784,1.0278029579121433,0.4935554676568085,0.25015022509113205,0.4963286294615519,0.49632860549212804,0.49630541895032093,0.3990997234524485,0.3452990689471222,0.34531581350586943,0.34533166526326714,0.385757301563032,0.4310761841626339,0.43106617027357386,0.43105516021277146,0.4309655756500195,0.43089527570936526,0.4288280377327008,0.3895556209994841,0.3841484429745775,0.38409281661639627,0.30596774277133276,0.38352302137522487,0.38414920477799464,0.37341512338472294,0.3841438943907273,0.3214502211205492,0.3816032074356774,0.3837908206259193,0.3841431251117767,0.3841456396874157,0.384065606216717,0.3841470658867531,0.38393261530750705,0.3831212213137382,0.36103397063648707,0.38411314446693406,0.3841496410611209,0.4143370684118679,0.14183305043710365,0.3692518398878524,0.36014069509029834,0.4313842173752076,0.4309395074834611,0.43138310033463473,0.12095777505984592,0.41023842861890936,0.3667592737107428],\"type\":\"scatter3d\"},{\"customdata\":[[\"TRC10\",989988713439.649,\"990000000000\"]],\"hovertemplate\":\"<b>%{hovertext}</b><br><br>Class=%{marker.color}<br>PC 1=%{x}<br>PC 2=%{y}<br>PC 3=%{z}<br>Algorithm=%{customdata[0]}<br>TotalCoinsMined=%{customdata[1]}<br>TotalCoinSupply=%{customdata[2]}<extra></extra>\",\"hovertext\":[\"BitTorrent\"],\"legendgroup\":\"2\",\"marker\":{\"color\":[2],\"coloraxis\":\"coloraxis\",\"symbol\":\"square\"},\"mode\":\"markers\",\"name\":\"2\",\"scene\":\"scene\",\"showlegend\":true,\"x\":[34.055665466270106],\"y\":[2.1457610876375974],\"z\":[-0.6395833050551469],\"type\":\"scatter3d\"},{\"customdata\":[[\"SHA-256 + Hive\",638382332.208514,\"840000000\"],[\"Proof-of-BibleHash\",1772091549.88818,\"5200000000\"],[\"Proof-of-Authority\",204479039.0,\"252460800\"],[\"Leased POS\",100000000.0,\"100000000\"],[\"ECC 256K1\",1000000000.0,\"1000000000\"]],\"hovertemplate\":\"<b>%{hovertext}</b><br><br>Class=%{marker.color}<br>PC 1=%{x}<br>PC 2=%{y}<br>PC 3=%{z}<br>Algorithm=%{customdata[0]}<br>TotalCoinsMined=%{customdata[1]}<br>TotalCoinSupply=%{customdata[2]}<extra></extra>\",\"hovertext\":[\"LitecoinCash\",\"BiblePay\",\"Poa Network\",\"Waves\",\"Acute Angle Cloud\"],\"legendgroup\":\"3\",\"marker\":{\"color\":[3,3,3,3,3],\"coloraxis\":\"coloraxis\",\"symbol\":\"x\"},\"mode\":\"markers\",\"name\":\"3\",\"scene\":\"scene\",\"showlegend\":true,\"x\":[-0.4636897678627381,-0.28211029318749153,-0.35228385703558324,-0.4597050762090011,-0.14720237001386108],\"y\":[0.31547002950204084,0.5018131058490659,5.080555117659302,2.17190918819707,9.942415204853909],\"z\":[16.322074669945163,15.960395720785128,12.25841614114061,13.366339337287606,11.859543775682473],\"type\":\"scatter3d\"}],                        {\"template\":{\"data\":{\"bar\":[{\"error_x\":{\"color\":\"#2a3f5f\"},\"error_y\":{\"color\":\"#2a3f5f\"},\"marker\":{\"line\":{\"color\":\"#E5ECF6\",\"width\":0.5},\"pattern\":{\"fillmode\":\"overlay\",\"size\":10,\"solidity\":0.2}},\"type\":\"bar\"}],\"barpolar\":[{\"marker\":{\"line\":{\"color\":\"#E5ECF6\",\"width\":0.5},\"pattern\":{\"fillmode\":\"overlay\",\"size\":10,\"solidity\":0.2}},\"type\":\"barpolar\"}],\"carpet\":[{\"aaxis\":{\"endlinecolor\":\"#2a3f5f\",\"gridcolor\":\"white\",\"linecolor\":\"white\",\"minorgridcolor\":\"white\",\"startlinecolor\":\"#2a3f5f\"},\"baxis\":{\"endlinecolor\":\"#2a3f5f\",\"gridcolor\":\"white\",\"linecolor\":\"white\",\"minorgridcolor\":\"white\",\"startlinecolor\":\"#2a3f5f\"},\"type\":\"carpet\"}],\"choropleth\":[{\"colorbar\":{\"outlinewidth\":0,\"ticks\":\"\"},\"type\":\"choropleth\"}],\"contour\":[{\"colorbar\":{\"outlinewidth\":0,\"ticks\":\"\"},\"colorscale\":[[0.0,\"#0d0887\"],[0.1111111111111111,\"#46039f\"],[0.2222222222222222,\"#7201a8\"],[0.3333333333333333,\"#9c179e\"],[0.4444444444444444,\"#bd3786\"],[0.5555555555555556,\"#d8576b\"],[0.6666666666666666,\"#ed7953\"],[0.7777777777777778,\"#fb9f3a\"],[0.8888888888888888,\"#fdca26\"],[1.0,\"#f0f921\"]],\"type\":\"contour\"}],\"contourcarpet\":[{\"colorbar\":{\"outlinewidth\":0,\"ticks\":\"\"},\"type\":\"contourcarpet\"}],\"heatmap\":[{\"colorbar\":{\"outlinewidth\":0,\"ticks\":\"\"},\"colorscale\":[[0.0,\"#0d0887\"],[0.1111111111111111,\"#46039f\"],[0.2222222222222222,\"#7201a8\"],[0.3333333333333333,\"#9c179e\"],[0.4444444444444444,\"#bd3786\"],[0.5555555555555556,\"#d8576b\"],[0.6666666666666666,\"#ed7953\"],[0.7777777777777778,\"#fb9f3a\"],[0.8888888888888888,\"#fdca26\"],[1.0,\"#f0f921\"]],\"type\":\"heatmap\"}],\"heatmapgl\":[{\"colorbar\":{\"outlinewidth\":0,\"ticks\":\"\"},\"colorscale\":[[0.0,\"#0d0887\"],[0.1111111111111111,\"#46039f\"],[0.2222222222222222,\"#7201a8\"],[0.3333333333333333,\"#9c179e\"],[0.4444444444444444,\"#bd3786\"],[0.5555555555555556,\"#d8576b\"],[0.6666666666666666,\"#ed7953\"],[0.7777777777777778,\"#fb9f3a\"],[0.8888888888888888,\"#fdca26\"],[1.0,\"#f0f921\"]],\"type\":\"heatmapgl\"}],\"histogram\":[{\"marker\":{\"pattern\":{\"fillmode\":\"overlay\",\"size\":10,\"solidity\":0.2}},\"type\":\"histogram\"}],\"histogram2d\":[{\"colorbar\":{\"outlinewidth\":0,\"ticks\":\"\"},\"colorscale\":[[0.0,\"#0d0887\"],[0.1111111111111111,\"#46039f\"],[0.2222222222222222,\"#7201a8\"],[0.3333333333333333,\"#9c179e\"],[0.4444444444444444,\"#bd3786\"],[0.5555555555555556,\"#d8576b\"],[0.6666666666666666,\"#ed7953\"],[0.7777777777777778,\"#fb9f3a\"],[0.8888888888888888,\"#fdca26\"],[1.0,\"#f0f921\"]],\"type\":\"histogram2d\"}],\"histogram2dcontour\":[{\"colorbar\":{\"outlinewidth\":0,\"ticks\":\"\"},\"colorscale\":[[0.0,\"#0d0887\"],[0.1111111111111111,\"#46039f\"],[0.2222222222222222,\"#7201a8\"],[0.3333333333333333,\"#9c179e\"],[0.4444444444444444,\"#bd3786\"],[0.5555555555555556,\"#d8576b\"],[0.6666666666666666,\"#ed7953\"],[0.7777777777777778,\"#fb9f3a\"],[0.8888888888888888,\"#fdca26\"],[1.0,\"#f0f921\"]],\"type\":\"histogram2dcontour\"}],\"mesh3d\":[{\"colorbar\":{\"outlinewidth\":0,\"ticks\":\"\"},\"type\":\"mesh3d\"}],\"parcoords\":[{\"line\":{\"colorbar\":{\"outlinewidth\":0,\"ticks\":\"\"}},\"type\":\"parcoords\"}],\"pie\":[{\"automargin\":true,\"type\":\"pie\"}],\"scatter\":[{\"marker\":{\"colorbar\":{\"outlinewidth\":0,\"ticks\":\"\"}},\"type\":\"scatter\"}],\"scatter3d\":[{\"line\":{\"colorbar\":{\"outlinewidth\":0,\"ticks\":\"\"}},\"marker\":{\"colorbar\":{\"outlinewidth\":0,\"ticks\":\"\"}},\"type\":\"scatter3d\"}],\"scattercarpet\":[{\"marker\":{\"colorbar\":{\"outlinewidth\":0,\"ticks\":\"\"}},\"type\":\"scattercarpet\"}],\"scattergeo\":[{\"marker\":{\"colorbar\":{\"outlinewidth\":0,\"ticks\":\"\"}},\"type\":\"scattergeo\"}],\"scattergl\":[{\"marker\":{\"colorbar\":{\"outlinewidth\":0,\"ticks\":\"\"}},\"type\":\"scattergl\"}],\"scattermapbox\":[{\"marker\":{\"colorbar\":{\"outlinewidth\":0,\"ticks\":\"\"}},\"type\":\"scattermapbox\"}],\"scatterpolar\":[{\"marker\":{\"colorbar\":{\"outlinewidth\":0,\"ticks\":\"\"}},\"type\":\"scatterpolar\"}],\"scatterpolargl\":[{\"marker\":{\"colorbar\":{\"outlinewidth\":0,\"ticks\":\"\"}},\"type\":\"scatterpolargl\"}],\"scatterternary\":[{\"marker\":{\"colorbar\":{\"outlinewidth\":0,\"ticks\":\"\"}},\"type\":\"scatterternary\"}],\"surface\":[{\"colorbar\":{\"outlinewidth\":0,\"ticks\":\"\"},\"colorscale\":[[0.0,\"#0d0887\"],[0.1111111111111111,\"#46039f\"],[0.2222222222222222,\"#7201a8\"],[0.3333333333333333,\"#9c179e\"],[0.4444444444444444,\"#bd3786\"],[0.5555555555555556,\"#d8576b\"],[0.6666666666666666,\"#ed7953\"],[0.7777777777777778,\"#fb9f3a\"],[0.8888888888888888,\"#fdca26\"],[1.0,\"#f0f921\"]],\"type\":\"surface\"}],\"table\":[{\"cells\":{\"fill\":{\"color\":\"#EBF0F8\"},\"line\":{\"color\":\"white\"}},\"header\":{\"fill\":{\"color\":\"#C8D4E3\"},\"line\":{\"color\":\"white\"}},\"type\":\"table\"}]},\"layout\":{\"annotationdefaults\":{\"arrowcolor\":\"#2a3f5f\",\"arrowhead\":0,\"arrowwidth\":1},\"autotypenumbers\":\"strict\",\"coloraxis\":{\"colorbar\":{\"outlinewidth\":0,\"ticks\":\"\"}},\"colorscale\":{\"diverging\":[[0,\"#8e0152\"],[0.1,\"#c51b7d\"],[0.2,\"#de77ae\"],[0.3,\"#f1b6da\"],[0.4,\"#fde0ef\"],[0.5,\"#f7f7f7\"],[0.6,\"#e6f5d0\"],[0.7,\"#b8e186\"],[0.8,\"#7fbc41\"],[0.9,\"#4d9221\"],[1,\"#276419\"]],\"sequential\":[[0.0,\"#0d0887\"],[0.1111111111111111,\"#46039f\"],[0.2222222222222222,\"#7201a8\"],[0.3333333333333333,\"#9c179e\"],[0.4444444444444444,\"#bd3786\"],[0.5555555555555556,\"#d8576b\"],[0.6666666666666666,\"#ed7953\"],[0.7777777777777778,\"#fb9f3a\"],[0.8888888888888888,\"#fdca26\"],[1.0,\"#f0f921\"]],\"sequentialminus\":[[0.0,\"#0d0887\"],[0.1111111111111111,\"#46039f\"],[0.2222222222222222,\"#7201a8\"],[0.3333333333333333,\"#9c179e\"],[0.4444444444444444,\"#bd3786\"],[0.5555555555555556,\"#d8576b\"],[0.6666666666666666,\"#ed7953\"],[0.7777777777777778,\"#fb9f3a\"],[0.8888888888888888,\"#fdca26\"],[1.0,\"#f0f921\"]]},\"colorway\":[\"#636efa\",\"#EF553B\",\"#00cc96\",\"#ab63fa\",\"#FFA15A\",\"#19d3f3\",\"#FF6692\",\"#B6E880\",\"#FF97FF\",\"#FECB52\"],\"font\":{\"color\":\"#2a3f5f\"},\"geo\":{\"bgcolor\":\"white\",\"lakecolor\":\"white\",\"landcolor\":\"#E5ECF6\",\"showlakes\":true,\"showland\":true,\"subunitcolor\":\"white\"},\"hoverlabel\":{\"align\":\"left\"},\"hovermode\":\"closest\",\"mapbox\":{\"style\":\"light\"},\"paper_bgcolor\":\"white\",\"plot_bgcolor\":\"#E5ECF6\",\"polar\":{\"angularaxis\":{\"gridcolor\":\"white\",\"linecolor\":\"white\",\"ticks\":\"\"},\"bgcolor\":\"#E5ECF6\",\"radialaxis\":{\"gridcolor\":\"white\",\"linecolor\":\"white\",\"ticks\":\"\"}},\"scene\":{\"xaxis\":{\"backgroundcolor\":\"#E5ECF6\",\"gridcolor\":\"white\",\"gridwidth\":2,\"linecolor\":\"white\",\"showbackground\":true,\"ticks\":\"\",\"zerolinecolor\":\"white\"},\"yaxis\":{\"backgroundcolor\":\"#E5ECF6\",\"gridcolor\":\"white\",\"gridwidth\":2,\"linecolor\":\"white\",\"showbackground\":true,\"ticks\":\"\",\"zerolinecolor\":\"white\"},\"zaxis\":{\"backgroundcolor\":\"#E5ECF6\",\"gridcolor\":\"white\",\"gridwidth\":2,\"linecolor\":\"white\",\"showbackground\":true,\"ticks\":\"\",\"zerolinecolor\":\"white\"}},\"shapedefaults\":{\"line\":{\"color\":\"#2a3f5f\"}},\"ternary\":{\"aaxis\":{\"gridcolor\":\"white\",\"linecolor\":\"white\",\"ticks\":\"\"},\"baxis\":{\"gridcolor\":\"white\",\"linecolor\":\"white\",\"ticks\":\"\"},\"bgcolor\":\"#E5ECF6\",\"caxis\":{\"gridcolor\":\"white\",\"linecolor\":\"white\",\"ticks\":\"\"}},\"title\":{\"x\":0.05},\"xaxis\":{\"automargin\":true,\"gridcolor\":\"white\",\"linecolor\":\"white\",\"ticks\":\"\",\"title\":{\"standoff\":15},\"zerolinecolor\":\"white\",\"zerolinewidth\":2},\"yaxis\":{\"automargin\":true,\"gridcolor\":\"white\",\"linecolor\":\"white\",\"ticks\":\"\",\"title\":{\"standoff\":15},\"zerolinecolor\":\"white\",\"zerolinewidth\":2}}},\"scene\":{\"domain\":{\"x\":[0.0,1.0],\"y\":[0.0,1.0]},\"xaxis\":{\"title\":{\"text\":\"PC 1\"}},\"yaxis\":{\"title\":{\"text\":\"PC 2\"}},\"zaxis\":{\"title\":{\"text\":\"PC 3\"}}},\"coloraxis\":{\"colorbar\":{\"title\":{\"text\":\"Class\"}},\"colorscale\":[[0.0,\"#0d0887\"],[0.1111111111111111,\"#46039f\"],[0.2222222222222222,\"#7201a8\"],[0.3333333333333333,\"#9c179e\"],[0.4444444444444444,\"#bd3786\"],[0.5555555555555556,\"#d8576b\"],[0.6666666666666666,\"#ed7953\"],[0.7777777777777778,\"#fb9f3a\"],[0.8888888888888888,\"#fdca26\"],[1.0,\"#f0f921\"]]},\"legend\":{\"title\":{\"text\":\"Class\"},\"tracegroupgap\":0,\"x\":0,\"y\":1},\"margin\":{\"t\":60}},                        {\"responsive\": true}                    ).then(function(){\n",
       "                            \n",
       "var gd = document.getElementById('4bc97c0b-96c0-41f7-a693-3faae283fc24');\n",
       "var x = new MutationObserver(function (mutations, observer) {{\n",
       "        var display = window.getComputedStyle(gd).display;\n",
       "        if (!display || display === 'none') {{\n",
       "            console.log([gd, 'removed!']);\n",
       "            Plotly.purge(gd);\n",
       "            observer.disconnect();\n",
       "        }}\n",
       "}});\n",
       "\n",
       "// Listen for the removal of the full notebook cells\n",
       "var notebookContainer = gd.closest('#notebook-container');\n",
       "if (notebookContainer) {{\n",
       "    x.observe(notebookContainer, {childList: true});\n",
       "}}\n",
       "\n",
       "// Listen for the clearing of the current output cell\n",
       "var outputEl = gd.closest('.output');\n",
       "if (outputEl) {{\n",
       "    x.observe(outputEl, {childList: true});\n",
       "}}\n",
       "\n",
       "                        })                };                });            </script>        </div>"
      ]
     },
     "metadata": {},
     "output_type": "display_data"
    }
   ],
   "source": [
    "# Creating a 3D-Scatter with the PCA data and the clusters\n",
    "fig = px.scatter_3d(\n",
    "    clustered_df, \n",
    "    x=\"PC 1\", \n",
    "    y=\"PC 2\", \n",
    "    z=\"PC 3\", \n",
    "    color=\"Class\", \n",
    "    symbol=\"Class\", \n",
    "    hover_name=\"CoinName\", \n",
    "    hover_data=[\"Algorithm\", \"TotalCoinsMined\", \"TotalCoinSupply\"])\n",
    "fig.update_layout(legend=dict(x=0, y=1))\n",
    "fig.show()\n"
   ]
  },
  {
   "cell_type": "code",
   "execution_count": 102,
   "metadata": {},
   "outputs": [
    {
     "data": {},
     "metadata": {},
     "output_type": "display_data"
    },
    {
     "data": {
      "application/vnd.holoviews_exec.v0+json": "",
      "text/html": [
       "<div id='1356'>\n",
       "\n",
       "\n",
       "\n",
       "\n",
       "\n",
       "  <div class=\"bk-root\" id=\"77dee843-a705-4430-aa2c-d61f6c9c48c2\" data-root-id=\"1356\"></div>\n",
       "</div>\n",
       "<script type=\"application/javascript\">(function(root) {\n",
       "  function embed_document(root) {\n",
       "    var docs_json = {\"4d5119f0-9b0e-44d0-bd94-f9b6eb0d0fcf\":{\"defs\":[{\"extends\":null,\"module\":null,\"name\":\"ReactiveHTML1\",\"overrides\":[],\"properties\":[]},{\"extends\":null,\"module\":null,\"name\":\"FlexBox1\",\"overrides\":[],\"properties\":[{\"default\":\"flex-start\",\"kind\":null,\"name\":\"align_content\"},{\"default\":\"flex-start\",\"kind\":null,\"name\":\"align_items\"},{\"default\":\"row\",\"kind\":null,\"name\":\"flex_direction\"},{\"default\":\"wrap\",\"kind\":null,\"name\":\"flex_wrap\"},{\"default\":\"flex-start\",\"kind\":null,\"name\":\"justify_content\"}]},{\"extends\":null,\"module\":null,\"name\":\"TemplateActions1\",\"overrides\":[],\"properties\":[{\"default\":0,\"kind\":null,\"name\":\"open_modal\"},{\"default\":0,\"kind\":null,\"name\":\"close_modal\"}]},{\"extends\":null,\"module\":null,\"name\":\"MaterialTemplateActions1\",\"overrides\":[],\"properties\":[{\"default\":0,\"kind\":null,\"name\":\"open_modal\"},{\"default\":0,\"kind\":null,\"name\":\"close_modal\"}]}],\"roots\":{\"references\":[{\"attributes\":{\"data\":{\"Algorithm\":[\"XEVAN\",\"XEVAN\",\"XEVAN\",\"XEVAN\",\"XEVAN\",\"XEVAN\",\"X16R\",\"X16R\",\"X16R\",\"X16R\",\"X15\",\"X15\",\"X15\",\"X15\",\"X14\",\"X13\",\"X13\",\"X13\",\"X13\",\"X13\",\"X13\",\"X13\",\"X13\",\"X13\",\"X13\",\"X13\",\"X13\",\"X13\",\"X13\",\"X13\",\"X13\",\"X13\",\"X11GOST\",\"X11\",\"X11\",\"X11\",\"X11\",\"X11\",\"X11\",\"X11\",\"X11\",\"X11\",\"X11\",\"X11\",\"X11\",\"X11\",\"X11\",\"X11\",\"X11\",\"X11\",\"X11\",\"X11\",\"X11\",\"X11\",\"X11\",\"X11\",\"X11\",\"X11\",\"X11\",\"X11\",\"X11\",\"X11\",\"X11\",\"X11\",\"X11\",\"X11\",\"X11\",\"X11\",\"X11\",\"X11\",\"X11\",\"X11\",\"X11\",\"X11\",\"X11\",\"X11\",\"X11\",\"X11\",\"X11\",\"X11\",\"X11\",\"X11\",\"X11\",\"X11\",\"X11\",\"X11\",\"X11\",\"X11\",\"X11\",\"X11\",\"X11\",\"X11\",\"X11\",\"X11\",\"X11\",\"X11\",\"X11\",\"X11\",\"X11\",\"X11\",\"X11\",\"X11\",\"X11\",\"X11\",\"X11\",\"X11\",\"VeChainThor Authority\",\"VBFT\",\"Tribus\",\"Time Travel\",\"TRC10\",\"Stanford Folding\",\"SkunkHash v2 Raptor\",\"SkunkHash\",\"Skein\",\"Skein\",\"Shabal256\",\"Semux BFT consensus\",\"Scrypt\",\"Scrypt\",\"Scrypt\",\"Scrypt\",\"Scrypt\",\"Scrypt\",\"Scrypt\",\"Scrypt\",\"Scrypt\",\"Scrypt\",\"Scrypt\",\"Scrypt\",\"Scrypt\",\"Scrypt\",\"Scrypt\",\"Scrypt\",\"Scrypt\",\"Scrypt\",\"Scrypt\",\"Scrypt\",\"Scrypt\",\"Scrypt\",\"Scrypt\",\"Scrypt\",\"Scrypt\",\"Scrypt\",\"Scrypt\",\"Scrypt\",\"Scrypt\",\"Scrypt\",\"Scrypt\",\"Scrypt\",\"Scrypt\",\"Scrypt\",\"Scrypt\",\"Scrypt\",\"Scrypt\",\"Scrypt\",\"Scrypt\",\"Scrypt\",\"Scrypt\",\"Scrypt\",\"Scrypt\",\"Scrypt\",\"Scrypt\",\"Scrypt\",\"Scrypt\",\"Scrypt\",\"Scrypt\",\"Scrypt\",\"Scrypt\",\"Scrypt\",\"Scrypt\",\"Scrypt\",\"Scrypt\",\"Scrypt\",\"Scrypt\",\"Scrypt\",\"Scrypt\",\"Scrypt\",\"Scrypt\",\"Scrypt\",\"Scrypt\",\"Scrypt\",\"Scrypt\",\"Scrypt\",\"Scrypt\",\"Scrypt\",\"Scrypt\",\"Scrypt\",\"Scrypt\",\"Scrypt\",\"Scrypt\",\"Scrypt\",\"Scrypt\",\"Scrypt\",\"Scrypt\",\"Scrypt\",\"Scrypt\",\"Scrypt\",\"Scrypt\",\"Scrypt\",\"Scrypt\",\"Scrypt\",\"Scrypt\",\"Scrypt\",\"Scrypt\",\"Scrypt\",\"Scrypt\",\"Scrypt\",\"Scrypt\",\"Scrypt\",\"Scrypt\",\"Scrypt\",\"Scrypt\",\"Scrypt\",\"Scrypt\",\"Scrypt\",\"Scrypt\",\"Scrypt\",\"Scrypt\",\"Scrypt\",\"Scrypt\",\"Scrypt\",\"Scrypt\",\"Scrypt\",\"Scrypt\",\"Scrypt\",\"Scrypt\",\"Scrypt\",\"Scrypt\",\"Scrypt\",\"Scrypt\",\"Scrypt\",\"Scrypt\",\"Scrypt\",\"Scrypt\",\"Scrypt\",\"Scrypt\",\"Scrypt\",\"Scrypt\",\"Scrypt\",\"Scrypt\",\"Scrypt\",\"Scrypt\",\"Scrypt\",\"Scrypt\",\"Scrypt\",\"Scrypt\",\"Scrypt\",\"Scrypt\",\"Scrypt\",\"Scrypt\",\"Scrypt\",\"Scrypt\",\"Scrypt\",\"Scrypt\",\"Scrypt\",\"Scrypt\",\"Scrypt\",\"Scrypt\",\"Scrypt\",\"Scrypt\",\"Scrypt\",\"Scrypt\",\"Scrypt\",\"Scrypt\",\"Scrypt\",\"Scrypt\",\"Scrypt\",\"Scrypt\",\"Scrypt\",\"Scrypt\",\"Scrypt\",\"Scrypt\",\"Scrypt\",\"Scrypt\",\"Scrypt\",\"Scrypt\",\"Scrypt\",\"Scrypt\",\"Scrypt\",\"Scrypt\",\"Scrypt\",\"Scrypt\",\"Scrypt\",\"Scrypt\",\"Scrypt\",\"Scrypt\",\"Scrypt\",\"Scrypt\",\"Scrypt\",\"Scrypt\",\"Scrypt\",\"Scrypt\",\"Scrypt\",\"Scrypt\",\"Scrypt\",\"Scrypt\",\"Scrypt\",\"Scrypt\",\"Scrypt\",\"SHA3\",\"SHA3\",\"SHA-512\",\"SHA-512\",\"SHA-512\",\"SHA-256D\",\"SHA-256D\",\"SHA-256D\",\"SHA-256D\",\"SHA-256 + Hive\",\"SHA-256\",\"SHA-256\",\"SHA-256\",\"SHA-256\",\"SHA-256\",\"SHA-256\",\"SHA-256\",\"SHA-256\",\"SHA-256\",\"SHA-256\",\"SHA-256\",\"SHA-256\",\"SHA-256\",\"SHA-256\",\"SHA-256\",\"SHA-256\",\"SHA-256\",\"SHA-256\",\"SHA-256\",\"SHA-256\",\"SHA-256\",\"SHA-256\",\"SHA-256\",\"SHA-256\",\"SHA-256\",\"SHA-256\",\"SHA-256\",\"SHA-256\",\"SHA-256\",\"SHA-256\",\"SHA-256\",\"SHA-256\",\"SHA-256\",\"SHA-256\",\"SHA-256\",\"SHA-256\",\"SHA-256\",\"SHA-256\",\"SHA-256\",\"SHA-256\",\"SHA-256\",\"SHA-256\",\"SHA-256\",\"SHA-256\",\"SHA-256\",\"SHA-256\",\"SHA-256\",\"SHA-256\",\"Quark\",\"Quark\",\"Quark\",\"Quark\",\"Quark\",\"Quark\",\"Quark\",\"Quark\",\"Quark\",\"Quark\",\"Quark\",\"Quark\",\"Quark\",\"QuBit\",\"QuBit\",\"QuBit\",\"QUAIT\",\"Proof-of-BibleHash\",\"Proof-of-Authority\",\"PoS\",\"PoS\",\"PoS\",\"PoS\",\"PoS\",\"PoS\",\"PoS\",\"PoS\",\"PoS\",\"PoS\",\"PoS\",\"PoS\",\"PoS\",\"PoS\",\"PoS\",\"PoS\",\"PoS\",\"POS 3.0\",\"POS 3.0\",\"POS 3.0\",\"POS 2.0\",\"PHI1612\",\"PHI1612\",\"Ouroboros\",\"NeoScrypt\",\"NeoScrypt\",\"NeoScrypt\",\"NeoScrypt\",\"NeoScrypt\",\"NeoScrypt\",\"NeoScrypt\",\"NeoScrypt\",\"NeoScrypt\",\"NeoScrypt\",\"NIST5\",\"NIST5\",\"NIST5\",\"NIST5\",\"NIST5\",\"NIST5\",\"NIST5\",\"NIST5\",\"NIST5\",\"NIST5\",\"Multiple\",\"Multiple\",\"Multiple\",\"Multiple\",\"Multiple\",\"Multiple\",\"Multiple\",\"Multiple\",\"Multiple\",\"M7 POW\",\"Lyra2Z\",\"Lyra2Z\",\"Lyra2Z\",\"Lyra2Z\",\"Lyra2REv2\",\"Lyra2REv2\",\"Lyra2REv2\",\"Lyra2REv2\",\"Lyra2RE\",\"Lyra2RE\",\"Lyra2RE\",\"Lyra2RE\",\"Leased POS\",\"Keccak\",\"Keccak\",\"Jump Consistent Hash\",\"IMesh\",\"HybridScryptHash256\",\"HMQ1725\",\"Groestl\",\"Groestl\",\"Groestl\",\"Groestl\",\"Green Protocol\",\"Exosis\",\"Ethash\",\"Ethash\",\"Ethash\",\"Ethash\",\"Ethash\",\"Ethash\",\"Ethash\",\"Ethash\",\"Ethash\",\"Equihash+Scrypt\",\"Equihash\",\"Equihash\",\"Equihash\",\"Equihash\",\"Equihash\",\"Equihash\",\"Equihash\",\"Equihash\",\"Equihash\",\"Equihash\",\"Equihash\",\"Equihash\",\"ECC 256K1\",\"Dagger-Hashimoto\",\"Dagger\",\"Dagger\",\"Dagger\",\"DPoS\",\"DPoS\",\"DPoS\",\"DPoS\",\"DPoS\",\"DPoS\",\"DPoS\",\"Cryptonight-GPU\",\"CryptoNight-V7\",\"CryptoNight-V7\",\"CryptoNight-V7\",\"CryptoNight-V7\",\"CryptoNight-V7\",\"CryptoNight Heavy\",\"CryptoNight Heavy\",\"CryptoNight\",\"CryptoNight\",\"CryptoNight\",\"CryptoNight\",\"CryptoNight\",\"CryptoNight\",\"CryptoNight\",\"CryptoNight\",\"CryptoNight\",\"CryptoNight\",\"CryptoNight\",\"CryptoNight\",\"CryptoNight\",\"CryptoNight\",\"CryptoNight\",\"CryptoNight\",\"CryptoNight\",\"CryptoNight\",\"CryptoNight\",\"Counterparty\",\"Cloverhash\",\"C11\",\"C11\",\"Blake2b\",\"Blake2b\",\"Blake2S\",\"Blake\",\"Blake\",\"Blake\",\"BLAKE256\",\"BLAKE256\",\"Argon2d\",\"536\",\"1GB AES Pattern Search\"],\"Class\":{\"__ndarray__\":\"AAAAAAEAAAAAAAAAAAAAAAAAAAAAAAAAAQAAAAAAAAAAAAAAAQAAAAAAAAAAAAAAAAAAAAAAAAAAAAAAAAAAAAEAAAAAAAAAAAAAAAAAAAAAAAAAAAAAAAAAAAAAAAAAAAAAAAAAAAAAAAAAAAAAAAAAAAAAAAAAAAAAAAAAAAABAAAAAQAAAAEAAAAAAAAAAAAAAAAAAAAAAAAAAQAAAAAAAAABAAAAAQAAAAAAAAAAAAAAAAAAAAEAAAAAAAAAAAAAAAAAAAAAAAAAAAAAAAAAAAABAAAAAAAAAAEAAAAAAAAAAQAAAAEAAAABAAAAAAAAAAAAAAABAAAAAAAAAAEAAAABAAAAAAAAAAEAAAABAAAAAAAAAAAAAAAAAAAAAAAAAAEAAAAAAAAAAAAAAAAAAAAAAAAAAAAAAAEAAAABAAAAAAAAAAEAAAAAAAAAAAAAAAAAAAAAAAAAAAAAAAAAAAABAAAAAAAAAAAAAAAAAAAAAAAAAAAAAAABAAAAAAAAAAEAAAABAAAAAAAAAAAAAAABAAAAAAAAAAAAAAABAAAAAAAAAAEAAAAAAAAAAQAAAAEAAAACAAAAAQAAAAAAAAABAAAAAAAAAAAAAAABAAAAAAAAAAAAAAAAAAAAAAAAAAAAAAAAAAAAAAAAAAAAAAAAAAAAAAAAAAAAAAAAAAAAAQAAAAAAAAABAAAAAAAAAAEAAAAAAAAAAAAAAAAAAAAAAAAAAAAAAAAAAAABAAAAAAAAAAAAAAAAAAAAAQAAAAEAAAABAAAAAAAAAAEAAAAAAAAAAAAAAAAAAAAAAAAAAAAAAAAAAAAAAAAAAQAAAAAAAAAAAAAAAQAAAAEAAAAAAAAAAAAAAAAAAAAAAAAAAQAAAAEAAAAAAAAAAAAAAAAAAAAAAAAAAAAAAAEAAAAAAAAAAAAAAAAAAAAAAAAAAAAAAAAAAAAAAAAAAQAAAAAAAAAAAAAAAQAAAAEAAAABAAAAAAAAAAEAAAAAAAAAAAAAAAEAAAABAAAAAAAAAAAAAAAAAAAAAQAAAAEAAAABAAAAAAAAAAAAAAAAAAAAAAAAAAAAAAABAAAAAAAAAAEAAAABAAAAAQAAAAEAAAABAAAAAAAAAAAAAAAAAAAAAAAAAAAAAAABAAAAAAAAAAEAAAABAAAAAQAAAAEAAAABAAAAAAAAAAAAAAABAAAAAQAAAAAAAAABAAAAAAAAAAEAAAABAAAAAAAAAAEAAAABAAAAAQAAAAEAAAABAAAAAAAAAAAAAAABAAAAAQAAAAEAAAABAAAAAAAAAAAAAAAAAAAAAQAAAAAAAAABAAAAAQAAAAEAAAAAAAAAAQAAAAEAAAABAAAAAAAAAAEAAAAAAAAAAQAAAAEAAAAAAAAAAAAAAAAAAAABAAAAAAAAAAEAAAABAAAAAQAAAAEAAAABAAAAAQAAAAEAAAABAAAAAQAAAAAAAAABAAAAAQAAAAAAAAABAAAAAAAAAAAAAAAAAAAAAAAAAAAAAAABAAAAAQAAAAAAAAAAAAAAAAAAAAEAAAABAAAAAAAAAAAAAAABAAAAAAAAAAEAAAAAAAAAAQAAAAAAAAABAAAAAAAAAAAAAAAAAAAAAQAAAAAAAAAAAAAAAAAAAAAAAAAAAAAAAwAAAAAAAAAAAAAAAQAAAAEAAAAAAAAAAAAAAAEAAAAAAAAAAAAAAAAAAAAAAAAAAQAAAAEAAAABAAAAAQAAAAEAAAAAAAAAAQAAAAEAAAAAAAAAAQAAAAEAAAABAAAAAQAAAAEAAAABAAAAAQAAAAAAAAAAAAAAAAAAAAEAAAAAAAAAAAAAAAEAAAAAAAAAAAAAAAAAAAAAAAAAAQAAAAAAAAAAAAAAAQAAAAEAAAABAAAAAAAAAAEAAAABAAAAAAAAAAAAAAAAAAAAAAAAAAAAAAAAAAAAAAAAAAAAAAAAAAAAAAAAAAEAAAAAAAAAAAAAAAAAAAAAAAAAAQAAAAEAAAAAAAAAAwAAAAMAAAAAAAAAAAAAAAAAAAAAAAAAAAAAAAAAAAAAAAAAAAAAAAAAAAAAAAAAAAAAAAAAAAAAAAAAAAAAAAAAAAAAAAAAAAAAAAAAAAAAAAAAAAAAAAAAAAAAAAAAAAAAAAAAAAABAAAAAAAAAAEAAAABAAAAAQAAAAEAAAABAAAAAAAAAAAAAAABAAAAAQAAAAAAAAAAAAAAAAAAAAAAAAAAAAAAAAAAAAAAAAAAAAAAAQAAAAEAAAABAAAAAQAAAAEAAAABAAAAAQAAAAEAAAABAAAAAQAAAAEAAAABAAAAAQAAAAEAAAABAAAAAAAAAAEAAAAAAAAAAQAAAAEAAAABAAAAAQAAAAEAAAADAAAAAAAAAAEAAAABAAAAAQAAAAEAAAABAAAAAAAAAAEAAAABAAAAAAAAAAAAAAABAAAAAQAAAAEAAAABAAAAAQAAAAEAAAABAAAAAQAAAAEAAAABAAAAAQAAAAEAAAABAAAAAQAAAAEAAAABAAAAAQAAAAEAAAABAAAAAQAAAAEAAAABAAAAAQAAAAMAAAABAAAAAQAAAAEAAAABAAAAAAAAAAAAAAAAAAAAAAAAAAAAAAAAAAAAAAAAAAEAAAABAAAAAQAAAAEAAAABAAAAAQAAAAEAAAABAAAAAQAAAAEAAAABAAAAAQAAAAEAAAABAAAAAQAAAAEAAAABAAAAAQAAAAEAAAABAAAAAQAAAAEAAAABAAAAAQAAAAEAAAABAAAAAQAAAAAAAAABAAAAAAAAAAEAAAABAAAAAQAAAAAAAAABAAAAAQAAAAEAAAABAAAAAAAAAAEAAAAAAAAAAQAAAA==\",\"dtype\":\"int32\",\"order\":\"little\",\"shape\":[532]},\"CoinName\":[\"Bitcoin Incognito\",\"Urals Coin\",\"BitMoney\",\"Beetle Coin\",\"Bettex coin\",\"Ellerium\",\"Xchange\",\"Trivechain\",\"Proton\",\"Motion\",\"HTML5 Coin\",\"KoboCoin\",\"EverGreenCoin\",\"Dekado\",\"GanjaCoin V2\",\"OpalCoin\",\"Bitcoin Rhodium\",\"MudraCoin\",\"StealthCoin\",\"NavCoin\",\"BritCoin\",\"Kore\",\"DeepOnion\",\"EmberCoin\",\"Bitcoin Diamond\",\"Sativa Coin\",\"Paycon\",\"RoyalCoin\",\"Triangles Coin\",\"Tokyo Coin\",\"FindCoin\",\"EliteCoin\",\"SibCoin\",\"Sucre\",\"UroCoin\",\"Enigma\",\"X11 Coin\",\"PhantomX\",\"BitSend\",\"AC3\",\"Magnet\",\"Pura\",\"Elements\",\"Regalcoin\",\"SuperCoin\",\"GoldReserve\",\"BowsCoin\",\"KushCoin\",\"Squall Coin\",\"Condensate\",\"HappyCoin\",\"Impact\",\"VirtacoinPlus\",\"MindCoin\",\"EuropeCoin\",\"PacCoin\",\"Hitcoin\",\"VaultCoin\",\"Adzcoin\",\"MarsCoin \",\"Ratecoin\",\"Monoeci\",\"Onix\",\"Ucoin\",\"DAS\",\"ArcticCoin\",\"TorCoin\",\"DigitalPrice\",\"BolivarCoin\",\"IslaCoin\",\"PAXEX\",\"Halloween Coin\",\"InsaneCoin\",\"Azart\",\"EUNO\",\"ARENON\",\"Creditbit \",\"IOCoin\",\"MustangCoin\",\"Axe\",\"ArtexCoin\",\"HyperStake\",\"Spreadcoin\",\"TruckCoin\",\"Piggy Coin\",\"Insane Coin\",\"Award\",\"Dash Platinum\",\"Junson Ming Chan Coin\",\"CryptCoin\",\"CapriCoin\",\"PinkCoin\",\"Dash\",\"SyncCoin\",\"Lutetium Coin\",\"PizzaCoin\",\"Pushi\",\"Crypto Improvement Fund\",\"Kurrent\",\"Eternity\",\"Stakenet\",\"Pioneer Coin\",\"GoldBlocks\",\"XenixCoin\",\"FuturoCoin\",\"Monkey Project\",\"Vechain\",\"Ontology\",\"KEYCO\",\"Bitcore\",\"BitTorrent\",\"Folding Coin\",\"Signatum\",\"MUNcoin\",\"Bitcoin Planet\",\"Cream\",\"BurstCoin\",\"Semux\",\"Impeach\",\"Printerium\",\"PLNCoin\",\"GAKHcoin\",\"GameUnits\",\"PandaCoin\",\"AquariusCoin\",\"Russiacoin\",\"BitcoinFast\",\"BitConnect Coin\",\"Klingon Empire Darsek\",\"KiloCoin\",\"MoneyCoin\",\"OsmiumCoin\",\"42 Coin\",\"gCn Coin\",\"HollyWoodCoin\",\"Swisscoin\",\"Xt3ch\",\"EmaratCoin\",\"Lynx\",\"Peony Coin\",\"HexCoin\",\"TPCash\",\"MMOCoin\",\"iDealCash\",\"ShareChain\",\"BitFlip\",\"LottoCoin\",\"Velox\",\"Poseidon\",\"Briacoin\",\"Ignition\",\"MedicCoin\",\"Abjcoin\",\"ThunderStake\",\"My Big Coin\",\"HiCoin\",\"SmileyCoin\",\"XiaoMiCoin\",\" ClubCoin\",\"Bata\",\"Pakcoin\",\"WhiteCoin\",\"AudioCoin\",\"Gapcoin\",\"Genstake\",\"Crypto Escudo\",\"Block-Logic\",\"Oduwa\",\"HyperCoin\",\"Credit\",\"Nasdacoin\",\"LiteDoge\",\"SolarCoin\",\"OrangeCoin\",\"BitstarCoin\",\"Unified Society USDEX\",\"Zilbercoin\",\"Independent Money System\",\"ArgusCoin\",\"LomoCoin\",\"BenjiRolls\",\"GrowthCoin\",\"Degas Coin\",\"EquiTrader\",\"Unify\",\"Canada eCoin\",\"FirstCoin\",\"BeaverCoin\",\"OpenChat\",\"RenosCoin\",\"EB3coin\",\"SocialCoin\",\"LiteCoin Ultra\",\"Cash & Back Coin\",\"GermanCoin\",\"PopularCoin\",\"eBoost\",\"IrishCoin\",\"Trollcoin\",\"Litecoin Plus\",\"BlackholeCoin\",\"Xios\",\"Linda\",\"Kronecoin\",\"Draftcoin\",\"Sojourn Coin\",\"NewYorkCoin\",\"FrazCoin\",\"AdCoin\",\"Linx\",\"CoinonatX\",\"Ethereum Dark\",\"TerraNovaCoin\",\"WomenCoin\",\"BitcoinPlus\",\"MegaCoin\",\"BillaryCoin\",\"Infinite Coin\",\"KrugerCoin\",\"LuckyCoin\",\"Litebar \",\"Gamecredits\",\"MintCoin\",\"PotCoin\",\"Revolution VR\",\"MinCoin\",\"Nautilus Coin\",\"NobleCoin\",\"Diggits\",\"NyanCoin\",\"BitZeny\",\"HoboNickels\",\"E-Gulden\",\"Einsteinium\",\"Emerald\",\"Francs\",\"SafeExchangeCoin\",\"FlutterCoin\",\"ZeitCoin\",\"GrandCoin\",\"GlobalCoin\",\"GoldCoin\",\"YoCoin\",\"GPU Coin\",\"PhoenixCoin\",\"ZCC Coin\",\"ViaCoin\",\"VeriCoin\",\"MasterCoin\",\"WorldCoin\",\"GreenCoin\",\"Vtorrent\",\"OmniCron\",\"MonaCoin\",\"ArtByte\",\"8BIT Coin\",\"Flo\",\"Dnotes\",\"Wild Beast Coin\",\"PesetaCoin\",\"RubyCoin\",\"UltraCoin\",\"UnitaryStatus Dollar\",\"Song Coin\",\"Reddcoin\",\"RonPaulCoin\",\"StableCoin\",\"SmartCoin\",\"1Credit\",\"EarthCoin\",\"Franko\",\"Gulden\",\"Omni\",\"MoonCoin\",\"CarterCoin\",\"SexCoin\",\"Quatloo\",\"EnergyCoin\",\"Digitalcoin \",\"BitBar\",\"iBankCoin\",\"PutinCoin\",\"BlueCoin\",\"PesoBit\",\"Shilling\",\"ProsperCoin\",\"BitCurrency\",\"Swiscoin\",\"Aurora Coin\",\"DopeCoin\",\"Argentum\",\"RootCoin\",\"ZoneCoin\",\"Litecoin\",\"Frankywillcoin\",\"Catcoin\",\"CryptoBullion\",\"CannaCoin\",\"404Coin\",\"CasinoCoin\",\"MaxCoin\",\"Nexus\",\"Obsidian\",\"Kcash\",\"Bitshares\",\"LanaCoin\",\"BuzzCoin\",\"Titan Coin\",\"TheVig\",\"LitecoinCash\",\"Neutron\",\"OKCash\",\"Unobtanium\",\"Bitcoin\",\"PayCoin\",\"Infinity Economics\",\"JouleCoin\",\"ZEPHYR\",\"TigerCash\",\"BitcoinDark\",\"Theresa May Coin\",\"DevCoin\",\"UnbreakableCoin\",\"GlobalToken\",\"IXcoin\",\"BLAST\",\"BitcoinWSpectrum\",\"Bitcoin SV\",\"Project Pai\",\"MazaCoin\",\"Namecoin\",\"UnitedBitcoin\",\"TerraCoin\",\"TigerCoin\",\"SysCoin\",\"ZetaCoin\",\"Crown Coin\",\"IncaKoin\",\"NeosCoin\",\"ProCurrency\",\"ILCoin\",\"SwingCoin\",\"Ultimate Secure Cash\",\"SoonCoin\",\"Internet of People\",\"Emercoin\",\"Revenu\",\"Clockcoin\",\"Anarchists Prime\",\"EDRCoin\",\"DubaiCoin\",\"CarpeDiemCoin\",\"DollarCoin\",\"I0coin\",\"Eurocoin\",\"Bitcoin Cash\",\"ZayedCoin\",\"BitTokens\",\"Allsafe\",\"Poseidon Quark\",\"Carebit\",\"Galilel\",\"HerbCoin\",\"Vitae\",\"Bitcloud 2.0\",\"Dystem\",\"Digiwage\",\"QuarkCoin\",\"Giant\",\"Kalkulus\",\"Crypto Sports\",\"LiteCreed\",\"CypherPunkCoin\",\"SLICE\",\"Droidz\",\"BiblePay\",\"Poa Network\",\"Zealium\",\"FreeCoin\",\"Deviant Coin\",\"TeamUP\",\"Exclusive Coin\",\"Ketan\",\"Creatio\",\"Nebuchadnezzar\",\"Radium\",\"Opair\",\"Phreak\",\"CoffeeCoin\",\"Atmos\",\"MacronCoin\",\"Particl\",\"Nxt\",\"Stakecoin\",\"TokenPay\",\"QTUM\",\"Let it Ride\",\"KekCoin\",\"TittieCoin\",\"LUXCoin\",\"Cardano\",\"GoByte\",\"FriendshipCoin\",\"FeatherCoin\",\"SparksPay\",\"GunCoin\",\"VIVO Coin\",\"Innova\",\"Orbitcoin\",\"TrezarCoin\",\"UFO Coin\",\"Coinonat\",\"PWR Coin\",\"Bitspace\",\"Denarius\",\"Virta Unique Coin\",\"NamoCoin\",\"Bulwark\",\"Electra\",\"VIP Tokens\",\"Jumpcoin\",\"TeslaCoin\",\"MyriadCoin\",\"Verge\",\"JoinCoin\",\"DigiByte\",\"Unitus\",\"Crypti\",\"SHIELD\",\"Circuits of Value\",\"Cryptonite\",\"ZCoin\",\"Actinium\",\"Alpenschillling\",\"GINcoin\",\"Rupee\",\"Vertcoin\",\"Absolute Coin\",\"KREDS\",\"Zoin\",\"HexxCoin\",\"Crypto\",\"Infinex\",\"Waves\",\"XDNA\",\"SmartCash\",\"MassGrid\",\"Aidos Kuneen\",\"MediterraneanCoin\",\"PlusOneCoin\",\"Diamond\",\"Riecoin\",\"Groestlcoin\",\"FairCoin\",\"Bitcoin Green\",\"Exosis\",\"Reality Clash\",\"Ellaism\",\"Ethereum Classic\",\"Callisto Network\",\"Elementrem\",\"Expanse\",\"Ethereum\",\"DaxxCoin\",\"1717 Masonic Commemorative Token\",\"Vollar\",\"Bitcoin Gold\",\"Bithereum\",\"CrypticCoin\",\"Bitrolium\",\"ZClassic\",\"Zero\",\"Komodo\",\"BitcoinZ\",\"PirateCash\",\"Horizen\",\"ZCash\",\"Beam\",\"Acute Angle Cloud\",\"DubaiCoin\",\"Travelflex\",\"Pirl\",\"SoilCoin\",\"ALAX\",\"EOS\",\"Muse\",\"Oxycoin\",\"Lisk\",\"Lamden Tau\",\"ARK\",\"Ryo\",\"Monero\",\"Citadel\",\"Quantum Resistant Ledger\",\"Webchain\",\"Lethean\",\"Loki\",\"Qwertycoin\",\"Karbo\",\"Niobio Cash\",\"TurtleCoin\",\"Dinastycoin\",\"BitCoal\",\"UltraNote\",\"LeviarCoin\",\"ByteCoin\",\"DigitalNote \",\"Beldex\",\"Sumokoin\",\"Monero Classic\",\"BitTube\",\"Bikercoins\",\"PluraCoin\",\"FREDEnergy\",\"Newton Coin\",\"PlatinCoin\",\"Cannabis Industry Coin\",\"StorjCoin\",\"ChanCoin\",\"Stipend\",\"Interzone\",\"Nano\",\"Siacoin\",\"TajCoin\",\"Lithium\",\"BlakeCoin\",\"Universal Molecule\",\"Photon\",\"Decred\",\"Dynamic\",\"Espers\",\"HOdlcoin\"],\"ProofType\":[\"PoS/PoW\",\"PoW\",\"Pos\",\"PoW/PoS\",\"PoS\",\"PoW/PoS\",\"PoW\",\"PoW/PoS\",\"PoS\",\"PoW\",\"PoW/PoS\",\"PoW/PoS\",\"PoW/PoS\",\"PoS\",\"PoW/PoS\",\"PoW/PoS\",\"PoW\",\"PoS\",\"PoW/PoS\",\"PoW/PoS\",\"PoW/PoS\",\"PoW/PoS\",\"PoW/PoS\",\"PoW/PoS\",\"PoW/PoS\",\"PoW/PoS\",\"PoW/PoS\",\"PoS\",\"PoW/PoS\",\"PoS\",\"PoS\",\"PoW/PoS\",\"PoW\",\"PoW\",\"PoW\",\"PoW/PoS\",\"PoW/PoS\",\"PoW/PoS\",\"PoW/PoS\",\"PoW\",\"PoW/PoS\",\"PoW\",\"PoW\",\"PoW/PoS\",\"PoS\",\"PoW/PoS\",\"PoW\",\"PoW/PoS\",\"PoS/PoW\",\"PoW/PoS\",\"PoW/PoS\",\"PoW/PoS\",\"PoW/PoS\",\"PoW\",\"PoW/PoS\",\"PoW\",\"PoW/PoS\",\"PoW\",\"PoW\",\"PoW\",\"PoW/PoS\",\"PoW/PoS\",\"PoW\",\"PoS\",\"PoW\",\"PoW\",\"PoW/PoS\",\"PoW\",\"PoW\",\"PoW/PoS\",\"PoS\",\"PoW/PoS\",\"PoW/PoS\",\"PoW\",\"PoW/PoS\",\"PoS\",\"Proof of Trust\",\"PoW/PoS\",\"PoW/PoS\",\"PoW\",\"PoW\",\"PoS\",\"PoW\",\"PoW/PoS\",\"PoW/PoS\",\"PoW/PoS\",\"PoW/PoS\",\"PoS\",\"PoS\",\"PoW\",\"PoW/PoS\",\"PoW/PoS\",\"PoW/PoS\",\"PoW/PoS\",\"PoS\",\"PoW\",\"PoW/PoS\",\"PoW\",\"PoW\",\"PoW/PoS\",\"TPoS\",\"PoW\",\"PoW/PoS\",\"PoW/PoS\",\"PoW\",\"PoS\",\"Proof of Authority\",\"PoS\",\"PoW\",\"PoW\",\"DPoS\",\"PoW\",\"PoS\",\"PoW\",\"PoW/PoS\",\"PoW/PoS\",\"PoC\",\"DPoS\",\"PoW/PoS\",\"PoW/PoS\",\"PoW/PoS\",\"PoW/PoS\",\"PoW/PoS\",\"PoS\",\"PoW/PoS\",\"PoW/PoS\",\"PoW/PoS\",\"PoW/PoS\",\"PoW/PoS\",\"PoW\",\"PoW/PoS\",\"PoW\",\"PoW/PoS\",\"PoW\",\"PoS\",\"PoW/PoS\",\"PoS\",\"PoW/PoS\",\"HPoW\",\"PoS\",\"PoW\",\"PoW/PoS\",\"PoS\",\"PoW/PoS\",\"PoW\",\"PoW\",\"PoW\",\"PoS\",\"PoW\",\"PoW/PoS\",\"PoW/PoS\",\"PoS\",\"PoW/PoS\",\"PoW/PoS\",\"PoW and PoS\",\"PoS\",\"PoW\",\"PoW/PoS\",\"PoW/PoS\",\"PoW\",\"PoW\",\"PoW/PoS\",\"PoW/PoS\",\"PoW/PoS\",\"PoW/PoS\",\"PoW\",\"PoW\",\"PoW/PoS\",\"PoW/PoS\",\"PoW/PoS\",\"PoW/PoS\",\"PoW/PoS\",\"PoW\",\"PoW/PoS\",\"PoW/PoS\",\"PoW/PoS\",\"PoS\",\"PoW/PoS\",\"PoW/PoS\",\"PoW/PoS\",\"PoW\",\"PoS\",\"PoW/PoS\",\"PoW\",\"PoW\",\"PoW\",\"PoW/PoS \",\"PoW\",\"PoW/PoS\",\"PoS\",\"PoW\",\"PoW\",\"PoW/PoS\",\"PoW/PoS\",\"PoW/PoS\",\"PoW\",\"PoW\",\"PoW\",\"PoW/PoS\",\"PoW/PoS\",\"PoW/PoS\",\"PoW/PoS\",\"PoW/PoS\",\"PoW\",\"PoS\",\"PoW\",\"PoW\",\"PoW\",\"PoW\",\"PoW\",\"PoW/PoS\",\"PoW/PoS\",\"PoW/PoS\",\"PoW/PoS\",\"PoS\",\"PoW\",\"PoW/PoS\",\"PoW\",\"PoW\",\"PoW\",\"PoW\",\"PoW\",\"PoS\",\"PoW/PoS\",\"PoW\",\"PoW\",\"PoS\",\"PoW\",\"PoS\",\"PoW\",\"PoW\",\"PoW/PoS\",\"PoW\",\"PoW\",\"PoW\",\"PoW\",\"PoC\",\"PoS/PoW/PoT\",\"PoS\",\"PoW\",\"PoW\",\"PoW\",\"PoW\",\"PoS\",\"PoW/PoS\",\"PoW/PoS\",\"PoW\",\"PoST\",\"PoW\",\"PoW\",\"PoW\",\"PoW/PoS\",\"PoW\",\"PoW\",\"PoW\",\"PoW/PoS\",\"PoW\",\"PoS\",\"PoW\",\"PoW\",\"PoS\",\"PoW/PoS\",\"PoW/PoS\",\"PoW\",\"PoW/PoS\",\"PoW\",\"PoW\",\"PoW\",\"PoW\",\"PoW\",\"PoW\",\"PoW\",\"PoW\",\"PoW\",\"PoW/PoS\",\"PoW\",\"PoW\",\"PoW/PoS\",\"PoW\",\"PoW/PoS\",\"PoW/PoS\",\"PoW/PoS\",\"PoW/PoS\",\"PoW/PoS\",\"PoW\",\"PoW\",\"PoS\",\"PoW/PoW\",\"PoW/PoS\",\"PoW\",\"PoW\",\"PoW/PoS\",\"PoW/PoS\",\"PoW\",\"PoW/PoS\",\"PoW\",\"PoW/PoS\",\"PoW\",\"PoW/PoS\",\"PoC\",\"PoW/PoS\",\"PoW/nPoS\",\"PoS\",\"Zero-Knowledge Proof\",\"PoS\",\"PoW/PoS\",\"PoW/PoS\",\"PoW/PoS\",\"PoW/PoS\",\"PoW + Hive\",\"PoW/PoS\",\"PoW/PoS\",\"PoW\",\"PoW\",\"PoS\",\"PoS\",\"PoW\",\"DPoS\",\"PoS\",\"PoW/PoS\",\"PoW/PoS\",\"PoW\",\"PoW\",\"PoW\",\"PoW\",\"PoW\",\"PoS\",\"PoW\",\"PoW\",\"PoW/PoS\",\"PoW\",\"PoW\",\"PoW\",\"PoW\",\"PoW\",\"PoW\",\"PoW\",\"PoW/PoS\",\"PoS\",\"PoS\",\"PoW\",\"PoW/PoS\",\"PoS\",\"PoW\",\"PoW/PoS\",\"PoW/PoS\",\"PoW/PoS\",\"PoW/PoS\",\"PoW\",\"PoW/PoS\",\"PoW/PoS\",\"PoW\",\"PoW\",\"PoW\",\"PoW/PoS\",\"PoW\",\"PoW\",\"PoW/PoS\",\"PoS\",\"PoS\",\"PoW/PoS\",\"PoW/PoS\",\"PoW/PoS\",\"PoS\",\"PoW/PoS\",\"PoS\",\"PoS\",\"PoW\",\"PoW/PoS\",\"PoS\",\"PoS\",\"PoW/PoS\",\"PoW\",\"PoW\",\"PoW/PoS\",\"POBh\",\"PoA\",\"PoS\",\"PoS\",\"PoS\",\"PoS\",\"PoS\",\"PoS\",\"PoS\",\"PoS\",\"PoS\",\"PoS\",\"PoS\",\"PoS\",\"PoS\",\"PoS\",\"PoS\",\"PoS/LPoS\",\"PoS\",\"PoS\",\"PoS\",\"PoS\",\"PoS\",\"PoS\",\"PoW/PoS\",\"PoS\",\"PoW\",\"PoW/PoS\",\"PoW\",\"PoW\",\"PoW\",\"PoW\",\"PoW\",\"PoW/PoS\",\"PoW/PoS\",\"PoW\",\"PoW\",\"PoW/PoS\",\"PoW/PoS\",\"PoW/PoS\",\"PoW/PoS\",\"PoW/PoS\",\"PoS\",\"PoW/PoS\",\"PoW/PoS\",\"PoW\",\"PoS\",\"PoW\",\"PoW\",\"PoW\",\"PoW\",\"PoW\",\"PoS\",\"PoW\",\"PoW\",\"PoW\",\"PoW\",\"PoW\",\"PoW\",\"PoW\",\"PoS\",\"PoW\",\"PoW/PoS\",\"PoW\",\"PoW\",\"PoW\",\"PoW\",\"PoW\",\"LPoS\",\"PoW/PoS\",\"PoW\",\"PoW\",\"PoW\",\"PoW\",\"PoW\",\"PoW/PoS\",\"PoW\",\"PoW\",\"PoW/PoS\",\"PoS\",\"PoW\",\"PoW\",\"PoW\",\"PoW\",\"PoW\",\"PoW\",\"PoW\",\"PoW\",\"PoW\",\"PoS\",\"PoW\",\"PoW\",\"PoW\",\"PoW\",\"PoW\",\"PoW\",\"PoW\",\"dPoW/PoW\",\"PoW\",\"PoS\",\"PoW\",\"PoW\",\"PoW\",\"DPOS\",\"PoW\",\"PoW\",\"PoW\",\"PoW\",\"DPoS\",\"DPoS\",\"PoS\",\"DPoS\",\"DPoS\",\"DPoS\",\"DPoS\",\"PoW\",\"PoW\",\"PoW\",\"PoW\",\"PoW\",\"PoW\",\"PoW\",\"PoW\",\"PoW\",\"PoW\",\"PoW\",\"PoW\",\"PoW\",\"PoW\",\"PoW\",\"PoW\",\"PoW\",\"PoW\",\"PoW\",\"PoW\",\"PoW\",\"PoW\",\"PoW\",\"PoW\",\"PoW\",\"PoW\",\"PoW\",\"PoS\",\"PoW\",\"PoW/PoS\",\"PoW\",\"PoW\",\"PoW\",\"PoW/PoS\",\"PoW\",\"PoW\",\"PoW\",\"PoW\",\"PoW/PoS\",\"PoW\",\"PoW/PoS\",\"PoW\"],\"TotalCoinSupply\":[\"21000000\",\"210000000\",\"70000000000\",\"500000000\",\"50000000\",\"60000000\",\"100000000\",\"82546564\",\"45000000\",\"22075700\",\"90000000000\",\"350000000\",\"26298000\",\"90000000\",\"100000000\",\"0\",\"2100000\",\"200000000\",\"0\",\"0\",\"30000000\",\"12000000\",\"18898187.6216583\",\"850000000\",\"210000000\",\"10000000\",\"50000000\",\"2500124\",\"120000\",\"800000000\",\"14524851.4827\",\"314159265359\",\"24000000\",\"19800000\",\"0\",\"5000000\",\"5500000\",\"50000000\",\"139000000\",\"550000000\",\"144000000\",\"350000000\",\"1800000000\",\"27000000\",\"0\",\"40000000\",\"21000000\",\"9354000\",\"0\",\"500000000\",\"100000000\",\"110000000\",\"100000000\",\"16000000\",\"384000000\",\"100000000000\",\"26550000000\",\"1000000000\",\"84000000\",\"33000000\",\"75000000\",\"9507271\",\"1100000000\",\"20000000\",\"18900000\",\"60000000\",\"10000000\",\"100000000\",\"25000000\",\"0\",\"100000000\",\"1500000000\",\"30000000\",\"25000000\",\"50000000\",\"55000000\",\"16504333\",\"22000000\",\"3000000\",\"21000000\",\"500000000\",\"0\",\"20000000\",\"0\",\"1000000000\",\"30000000\",\"420000000\",\"19700000\",\"0\",\"18000000\",\"208000000\",\"500000000\",\"22000000\",\"1000\",\"657000000\",\"25000000\",\"25000000\",\"500000000\",\"228000000\",\"60000000\",\"76500000\",\"23000000\",\"50000000\",\"3853326.77707314\",\"100000000\",\"21000000\",\"86712634466\",\"1000000000\",\"18000000\",\"21000000\",\"990000000000\",\"1000000000\",\"137500000\",\"16600000\",\"100000000\",\"100000000\",\"2158812800\",\"100000000\",\"21933333\",\"20000000\",\"38540000 \",\"3315789\",\"13000000\",\"32514916898\",\"42000000\",\"144000000\",\"33000000\",\"28000000\",\"500000000\",\"10000000000\",\"650659833\",\"2714286\",\"42\",\"200000000000\",\"26000000\",\"10200000000\",\"44000000\",\"84000000\",\"92000000000\",\"16880000000\",\"22105263\",\"1000000000\",\"260000000\",\"5121951220\",\"10000000000\",\"40000000\",\"18406979840\",\"124000000\",\"21000000\",\"3000000\",\"5000000\",\"500000000\",\"30000000\",\"18000000000\",\"30000000\",\"10008835635\",\"50000000000\",\"400000000\",\"160000000\",\"5000000\",\"182000000\",\"300000000\",\"10500000000\",\"250000000\",\"15000000\",\"1000000000\",\"120000000\",\"21000000\",\"0\",\"74800000000\",\"84000000\",\"35000000000\",\"98100000000\",\"200000000\",\"54256119\",\"232000000\",\"55000000\",\"21212121\",\"28600000\",\"1000000000\",\"35520400\",\"2000000000\",\"105000000\",\"72000000\",\"19276800\",\"100000000 \",\"110000000\",\"3360000\",\"1000000000\",\"34426423\",\"4000000000\",\" 75000000\",\"150000000\",\"210000000\",\"50000000000\",\"4999999999\",\"100000000\",\"64000000\",\"900000000\",\"4000000\",\"14788275.991\",\"21000000\",\"50000000000\",\"84000000\",\"17405891.19707116\",\"10500000000\",\"0\",\"20000000\",\"100000000\",\"100000000\",\"48252000\",\"4200000\",\"15733333\",\"25000000000\",\"1000000\",\"42000000\",\"42000000\",\"90600000000\",\"265420800\",\"20000000\",\"1350000\",\"84000000\",\"0\",\"420000000\",\"210000000\",\"10000000\",\"16180000\",\"15000000000\",\"100000000\",\"337000000\",\"250000000\",\"120000000\",\"21000000 \",\"299792458\",\"32000000\",\"20000000\",\"2147483647\",\"0\",\" 99000000000\",\"1420609614\",\"70000000\",\"72245700\",\"168351300\",\"221052632\",\"98000000\",\"1000000000\",\"23000000\",\"0\",\"619478\",\"265420800\",\"10000000000\",\"20000000\",\"3371337\",\"105120000\",\"1000000000\",\"0\",\"160000000\",\"500000000\",\"2628000\",\"166386000\",\"0\",\"100000000\",\"1600000000\",\"210240000\",\"0\",\"21000000\",\"250000000\",\"51200000\",\"92000000000\",\"13500000000\",\"11235813\",\"1680000000\",\"616448\",\"384000000000\",\"90000000\",\"250000000\",\"100000000\",\"0\",\"48166000\",\"500000\",\"44333333\",\"2000000000\",\"0\",\"0\",\"30000000\",\"21000000\",\"0\",\"3100000000\",\"16768584\",\"200000000\",\"64000000\",\"0\",\"21000000\",\"84000000\",\"100000000\",\"21000000 \",\"1000000\",\"13140000\",\"532000000\",\"40000000000\",\"100000000\",\"78000000\",\"91388946\",\"1000000000\",\"3600570502\",\"7506000000\",\"20000000000\",\"5000000000\",\"100000000\",\"840000000\",\"68000000\",\"105000000\",\"250000\",\"21000000\",\"12500000\",\"9000000000\",\"45000000\",\"2000000000\",\"1000000000\",\"22000000\",\"100000000\",\"21000000000\",\"80000000\",\"168000000\",\"21000000\",\"64000000\",\"100262205\",\"21000000\",\"2100000000\",\"2419200000\",\"21000000\",\"20166000\",\"42000000\",\"47011968\",\"888000000\",\"169795588\",\"42000000\",\"190000000\",\"21000000\",\"75000000000\",\"2500000000\",\"40000000\",\"200084200\",\"21000000\",\"21000000\",\"1000000000\",\"222725000\",\"525000000\",\"53760000\",\"22000000\",\"10500000\",\"21626280000 \",\"10638298\",\"21000000\",\"20000000\",\"21000000\",\"9736000\",\"21000000\",\"15000000\",\"650000000 \",\"200000000\",\"19035999\",\"54000000\",\"100000000\",\"200000000\",\"21000000\",\"120000000\",\"247000000\",\"5151000\",\"20000000\",\"13370000\",\"78835200\",\"0\",\"100000000\",\"5060000\",\"5200000000\",\"252460800\",\"80000000\",\"50000000\",\"88000000\",\"301000000\",\"0\",\"210000000\",\"20000000\",\"20000000\",\"9000000\",\"74000000\",\"30000000\",\"39999898\",\"110290030\",\"400000000\",\"8634140\",\"1000000000\",\"61599965\",\"25000000\",\"100000000\",\"33500000\",\"21000000\",\"2300000000\",\"60000000\",\"45000000000\",\"31800000\",\"60168145\",\"336000000\",\"21000000\",\"500000000\",\"27000000\",\"45000000\",\"3770000\",\"400000000\",\"4000000000\",\"48252000\",\"0\",\"50000000\",\"10000000\",\"120000000\",\"1200000000\",\"27716121\",\"30000000000\",\"90000000\",\"21000000\",\"100000000\",\"2000000000\",\"16555000000\",\"2800000\",\"21000000000\",\"0\",\"0\",\"660000000\",\"1200000000\",\"1840000000\",\"21400000\",\"84000000\",\"300000000\",\"10500000\",\"24000000\",\"84000000\",\"52500000\",\"1100000000\",\"21000000\",\"9999999\",\"65789100\",\"26280000\",\"100000000\",\"366000000\",\"5000000000\",\"168000000\",\"25000000\",\"200000000\",\"21000000\",\"4380000\",\"84000000\",\"105000000\",\"0\",\"21000000\",\"21000000\",\"24487944\",\"280000000\",\"210000000\",\"6500000000\",\"26205539\",\"16906397\",\"0\",\"10000000000\",\"1618033\",\"2100000000\",\"21000000\",\"30886000\",\"7600000000\",\"70000000\",\"21000000\",\"17000000\",\"200000000\",\"21000000000\",\"105000000\",\"21000000\",\"21000000\",\"262800000\",\"1000000000\",\"2232901\",\"100000000\",\"156306732.71\",\"30000000\",\"1000000000\",\"0\",\"18081806 \",\"0\",\"159918400\",\"500000000\",\"125000000\",\"88188888\",\"0\",\"185000000\",\"105000000\",\"1750000000\",\"999481516\",\"150000000\",\"184470000000\",\"10000000\",\"336000000\",\"1000000000000\",\"2000000000\",\"12500000\",\"85000000000\",\"54000000\",\"184467440735\",\"10000000000\",\"1400222610\",\"88888888\",\"18400000\",\"1000000000\",\"25000000\",\"1000000000\",\"8080000000\",\"184000000000\",\"600000518\",\"21000000\",\"500000000\",\"30000000\",\"19340594\",\"23000000\",\"340282367\",\"0\",\"36900000\",\"25228800\",\"7000000000\",\"105120001.44\",\" 90000000000\",\"21000000\",\"0\",\"50000000000\",\"81962100\"],\"TotalCoinsMined\":{\"__ndarray__\":\"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\",\"dtype\":\"float64\",\"order\":\"little\",\"shape\":[532]}},\"selected\":{\"id\":\"1359\"},\"selection_policy\":{\"id\":\"1393\"}},\"id\":\"1358\",\"type\":\"ColumnDataSource\"},{\"attributes\":{},\"id\":\"1385\",\"type\":\"NumberFormatter\"},{\"attributes\":{},\"id\":\"1365\",\"type\":\"StringFormatter\"},{\"attributes\":{},\"id\":\"1376\",\"type\":\"NumberEditor\"},{\"attributes\":{},\"id\":\"1371\",\"type\":\"StringEditor\"},{\"attributes\":{},\"id\":\"1360\",\"type\":\"StringFormatter\"},{\"attributes\":{\"format\":\"0,0.0[00000]\"},\"id\":\"1375\",\"type\":\"NumberFormatter\"},{\"attributes\":{\"margin\":[5,5,5,5],\"name\":\"HSpacer02157\",\"sizing_mode\":\"stretch_width\"},\"id\":\"1397\",\"type\":\"Spacer\"},{\"attributes\":{},\"id\":\"1386\",\"type\":\"IntEditor\"},{\"attributes\":{\"editor\":{\"id\":\"1376\"},\"field\":\"TotalCoinsMined\",\"formatter\":{\"id\":\"1375\"},\"title\":\"TotalCoinsMined\"},\"id\":\"1377\",\"type\":\"TableColumn\"},{\"attributes\":{\"margin\":[5,5,5,5],\"name\":\"HSpacer02156\",\"sizing_mode\":\"stretch_width\"},\"id\":\"1357\",\"type\":\"Spacer\"},{\"attributes\":{\"editor\":{\"id\":\"1386\"},\"field\":\"Class\",\"formatter\":{\"id\":\"1385\"},\"title\":\"Class\"},\"id\":\"1387\",\"type\":\"TableColumn\"},{\"attributes\":{\"editor\":{\"id\":\"1371\"},\"field\":\"ProofType\",\"formatter\":{\"id\":\"1370\"},\"title\":\"ProofType\"},\"id\":\"1372\",\"type\":\"TableColumn\"},{\"attributes\":{\"editor\":{\"id\":\"1381\"},\"field\":\"TotalCoinSupply\",\"formatter\":{\"id\":\"1380\"},\"title\":\"TotalCoinSupply\"},\"id\":\"1382\",\"type\":\"TableColumn\"},{\"attributes\":{\"source\":{\"id\":\"1358\"}},\"id\":\"1392\",\"type\":\"CDSView\"},{\"attributes\":{},\"id\":\"1366\",\"type\":\"StringEditor\"},{\"attributes\":{\"editor\":{\"id\":\"1366\"},\"field\":\"Algorithm\",\"formatter\":{\"id\":\"1365\"},\"title\":\"Algorithm\"},\"id\":\"1367\",\"type\":\"TableColumn\"},{\"attributes\":{},\"id\":\"1381\",\"type\":\"StringEditor\"},{\"attributes\":{\"editor\":{\"id\":\"1361\"},\"field\":\"CoinName\",\"formatter\":{\"id\":\"1360\"},\"title\":\"CoinName\"},\"id\":\"1362\",\"type\":\"TableColumn\"},{\"attributes\":{\"children\":[{\"id\":\"1357\"},{\"id\":\"1390\"},{\"id\":\"1397\"}],\"margin\":[0,0,0,0],\"name\":\"Row02152\",\"tags\":[\"embedded\"]},\"id\":\"1356\",\"type\":\"Row\"},{\"attributes\":{},\"id\":\"1380\",\"type\":\"StringFormatter\"},{\"attributes\":{},\"id\":\"1393\",\"type\":\"UnionRenderers\"},{\"attributes\":{},\"id\":\"1359\",\"type\":\"Selection\"},{\"attributes\":{},\"id\":\"1370\",\"type\":\"StringFormatter\"},{\"attributes\":{},\"id\":\"1361\",\"type\":\"StringEditor\"},{\"attributes\":{\"columns\":[{\"id\":\"1362\"},{\"id\":\"1367\"},{\"id\":\"1372\"},{\"id\":\"1377\"},{\"id\":\"1382\"},{\"id\":\"1387\"}],\"height\":300,\"reorderable\":false,\"source\":{\"id\":\"1358\"},\"view\":{\"id\":\"1392\"},\"width\":700},\"id\":\"1390\",\"type\":\"DataTable\"}],\"root_ids\":[\"1356\"]},\"title\":\"Bokeh Application\",\"version\":\"2.4.2\"}};\n",
       "    var render_items = [{\"docid\":\"4d5119f0-9b0e-44d0-bd94-f9b6eb0d0fcf\",\"root_ids\":[\"1356\"],\"roots\":{\"1356\":\"77dee843-a705-4430-aa2c-d61f6c9c48c2\"}}];\n",
       "    root.Bokeh.embed.embed_items_notebook(docs_json, render_items);\n",
       "  }\n",
       "  if (root.Bokeh !== undefined && root.Bokeh.Panel !== undefined) {\n",
       "    embed_document(root);\n",
       "  } else {\n",
       "    var attempts = 0;\n",
       "    var timer = setInterval(function(root) {\n",
       "      if (root.Bokeh !== undefined && root.Bokeh.Panel !== undefined) {\n",
       "        clearInterval(timer);\n",
       "        embed_document(root);\n",
       "      } else if (document.readyState == \"complete\") {\n",
       "        attempts++;\n",
       "        if (attempts > 200) {\n",
       "          clearInterval(timer);\n",
       "          console.log(\"Bokeh: ERROR: Unable to run BokehJS code because BokehJS library is missing\");\n",
       "        }\n",
       "      }\n",
       "    }, 25, root)\n",
       "  }\n",
       "})(window);</script>"
      ],
      "text/plain": [
       ":Table   [CoinName,Algorithm,ProofType,TotalCoinsMined,TotalCoinSupply,Class]"
      ]
     },
     "execution_count": 102,
     "metadata": {
      "application/vnd.holoviews_exec.v0+json": {
       "id": "1356"
      }
     },
     "output_type": "execute_result"
    }
   ],
   "source": [
    "# Create a table with tradable cryptocurrencies. (refernce hint in challenge fpr hpplot.table)\n",
    "clustered_df.hvplot.table(columns=['CoinName', 'Algorithm', 'ProofType', 'TotalCoinsMined', 'TotalCoinSupply', 'Class'], sortable=True, selectable=True)"
   ]
  },
  {
   "cell_type": "code",
   "execution_count": 104,
   "metadata": {},
   "outputs": [
    {
     "name": "stdout",
     "output_type": "stream",
     "text": [
      "There are 532 Tradable Cryptocurrencies\n"
     ]
    }
   ],
   "source": [
    "# Print the total number of tradable cryptocurrencies.\n",
    "#clustered_df['CoinName'].count()\n",
    "\n",
    "tradable_count = clustered_df['CoinName'].count()\n",
    "print(f'There are {tradable_count} Tradable Cryptocurrencies')"
   ]
  },
  {
   "cell_type": "code",
   "execution_count": 108,
   "metadata": {},
   "outputs": [
    {
     "data": {
      "text/plain": [
       "array([[2.10000000e-05, 1.10151974e-05],\n",
       "       [2.10000000e-04, 1.48952315e-05],\n",
       "       [7.00000000e-02, 2.10624444e-04],\n",
       "       ...,\n",
       "       [0.00000000e+00, 1.99842507e-05],\n",
       "       [5.00000000e-02, 2.30324675e-02],\n",
       "       [8.19621000e-05, 1.15646844e-05]])"
      ]
     },
     "execution_count": 108,
     "metadata": {},
     "output_type": "execute_result"
    }
   ],
   "source": [
    "# Scaling data to create the scatter plot with tradable cryptocurrencies.\n",
    "cluster_df = clustered_df[['TotalCoinSupply', 'TotalCoinsMined']]\n",
    "X_scaled = MinMaxScaler().fit_transform(cluster_df)\n",
    "X_scaled"
   ]
  },
  {
   "cell_type": "code",
   "execution_count": 128,
   "metadata": {},
   "outputs": [
    {
     "data": {
      "text/html": [
       "<div>\n",
       "<style scoped>\n",
       "    .dataframe tbody tr th:only-of-type {\n",
       "        vertical-align: middle;\n",
       "    }\n",
       "\n",
       "    .dataframe tbody tr th {\n",
       "        vertical-align: top;\n",
       "    }\n",
       "\n",
       "    .dataframe thead th {\n",
       "        text-align: right;\n",
       "    }\n",
       "</style>\n",
       "<table border=\"1\" class=\"dataframe\">\n",
       "  <thead>\n",
       "    <tr style=\"text-align: right;\">\n",
       "      <th></th>\n",
       "      <th>TotalCoinSupply_Scaled</th>\n",
       "      <th>TotalCoinsMined_Scaled</th>\n",
       "      <th>CoinName</th>\n",
       "      <th>Class</th>\n",
       "    </tr>\n",
       "  </thead>\n",
       "  <tbody>\n",
       "    <tr>\n",
       "      <th>992</th>\n",
       "      <td>0.000021</td>\n",
       "      <td>1.101520e-05</td>\n",
       "      <td>Bitcoin Incognito</td>\n",
       "      <td>0</td>\n",
       "    </tr>\n",
       "    <tr>\n",
       "      <th>1051</th>\n",
       "      <td>0.000210</td>\n",
       "      <td>1.489523e-05</td>\n",
       "      <td>Urals Coin</td>\n",
       "      <td>1</td>\n",
       "    </tr>\n",
       "    <tr>\n",
       "      <th>1101</th>\n",
       "      <td>0.070000</td>\n",
       "      <td>2.106244e-04</td>\n",
       "      <td>BitMoney</td>\n",
       "      <td>0</td>\n",
       "    </tr>\n",
       "    <tr>\n",
       "      <th>1140</th>\n",
       "      <td>0.000500</td>\n",
       "      <td>2.009499e-04</td>\n",
       "      <td>Beetle Coin</td>\n",
       "      <td>0</td>\n",
       "    </tr>\n",
       "    <tr>\n",
       "      <th>1087</th>\n",
       "      <td>0.000050</td>\n",
       "      <td>6.856001e-06</td>\n",
       "      <td>Bettex coin</td>\n",
       "      <td>0</td>\n",
       "    </tr>\n",
       "    <tr>\n",
       "      <th>940</th>\n",
       "      <td>0.000060</td>\n",
       "      <td>4.234729e-07</td>\n",
       "      <td>Ellerium</td>\n",
       "      <td>0</td>\n",
       "    </tr>\n",
       "    <tr>\n",
       "      <th>1075</th>\n",
       "      <td>0.000100</td>\n",
       "      <td>9.852346e-06</td>\n",
       "      <td>Xchange</td>\n",
       "      <td>1</td>\n",
       "    </tr>\n",
       "    <tr>\n",
       "      <th>1034</th>\n",
       "      <td>0.000083</td>\n",
       "      <td>3.729646e-05</td>\n",
       "      <td>Trivechain</td>\n",
       "      <td>0</td>\n",
       "    </tr>\n",
       "    <tr>\n",
       "      <th>987</th>\n",
       "      <td>0.000045</td>\n",
       "      <td>4.448291e-06</td>\n",
       "      <td>Proton</td>\n",
       "      <td>0</td>\n",
       "    </tr>\n",
       "    <tr>\n",
       "      <th>1030</th>\n",
       "      <td>0.000022</td>\n",
       "      <td>8.207996e-06</td>\n",
       "      <td>Motion</td>\n",
       "      <td>1</td>\n",
       "    </tr>\n",
       "  </tbody>\n",
       "</table>\n",
       "</div>"
      ],
      "text/plain": [
       "      TotalCoinSupply_Scaled  TotalCoinsMined_Scaled           CoinName  Class\n",
       "992                 0.000021            1.101520e-05  Bitcoin Incognito      0\n",
       "1051                0.000210            1.489523e-05         Urals Coin      1\n",
       "1101                0.070000            2.106244e-04           BitMoney      0\n",
       "1140                0.000500            2.009499e-04        Beetle Coin      0\n",
       "1087                0.000050            6.856001e-06        Bettex coin      0\n",
       "940                 0.000060            4.234729e-07           Ellerium      0\n",
       "1075                0.000100            9.852346e-06            Xchange      1\n",
       "1034                0.000083            3.729646e-05         Trivechain      0\n",
       "987                 0.000045            4.448291e-06             Proton      0\n",
       "1030                0.000022            8.207996e-06             Motion      1"
      ]
     },
     "execution_count": 128,
     "metadata": {},
     "output_type": "execute_result"
    }
   ],
   "source": [
    "# Create a new DataFrame that has the scaled data with the clustered_df DataFrame index.\n",
    "index = (clustered_df.index.tolist())\n",
    "crypto_scaled_df = pd.DataFrame(data=X_minmax, columns=[\"TotalCoinSupply_Scaled\",\"TotalCoinsMined_Scaled\"], index = index)\n",
    "#print(crypto_scaled_df.head())\n",
    "\n",
    "# Add the \"CoinName\" column from the clustered_df DataFrame to the new DataFrame.\n",
    "crypto_scaled_df1 = crypto_scaled_df.join(cryptocurrency_names_df, how='inner')\n",
    "crypto_scaled_df1.head()\n",
    "# Add the \"Class\" column from the clustered_df DataFrame to the new DataFrame. \n",
    "class_df = clustered_df[\"Class\"]\n",
    "#print(class_df)\n",
    "crypto_scaled_df2 = crypto_scaled_df1.join(class_df, how='inner')\n",
    "crypto_scaled_df2.head() \n",
    "\n",
    "\n",
    "# Change name to Plot_df to match starter code\n",
    "plot_df= crypto_scaled_df2\n",
    "plot_df.head(10)"
   ]
  },
  {
   "cell_type": "code",
   "execution_count": 130,
   "metadata": {},
   "outputs": [
    {
     "data": {},
     "metadata": {},
     "output_type": "display_data"
    },
    {
     "data": {
      "application/vnd.holoviews_exec.v0+json": "",
      "text/html": [
       "<div id='1409'>\n",
       "\n",
       "\n",
       "\n",
       "\n",
       "\n",
       "  <div class=\"bk-root\" id=\"c7403976-7dea-49ce-9b7b-d4fee1f904c0\" data-root-id=\"1409\"></div>\n",
       "</div>\n",
       "<script type=\"application/javascript\">(function(root) {\n",
       "  function embed_document(root) {\n",
       "    var docs_json = {\"ce9e030a-69b4-41c8-853a-f14367bf46fd\":{\"defs\":[{\"extends\":null,\"module\":null,\"name\":\"ReactiveHTML1\",\"overrides\":[],\"properties\":[]},{\"extends\":null,\"module\":null,\"name\":\"FlexBox1\",\"overrides\":[],\"properties\":[{\"default\":\"flex-start\",\"kind\":null,\"name\":\"align_content\"},{\"default\":\"flex-start\",\"kind\":null,\"name\":\"align_items\"},{\"default\":\"row\",\"kind\":null,\"name\":\"flex_direction\"},{\"default\":\"wrap\",\"kind\":null,\"name\":\"flex_wrap\"},{\"default\":\"flex-start\",\"kind\":null,\"name\":\"justify_content\"}]},{\"extends\":null,\"module\":null,\"name\":\"TemplateActions1\",\"overrides\":[],\"properties\":[{\"default\":0,\"kind\":null,\"name\":\"open_modal\"},{\"default\":0,\"kind\":null,\"name\":\"close_modal\"}]},{\"extends\":null,\"module\":null,\"name\":\"MaterialTemplateActions1\",\"overrides\":[],\"properties\":[{\"default\":0,\"kind\":null,\"name\":\"open_modal\"},{\"default\":0,\"kind\":null,\"name\":\"close_modal\"}]}],\"roots\":{\"references\":[{\"attributes\":{},\"id\":\"1438\",\"type\":\"ResetTool\"},{\"attributes\":{\"angle\":{\"value\":0.0},\"fill_alpha\":{\"value\":1.0},\"fill_color\":{\"value\":\"#30a2da\"},\"hatch_alpha\":{\"value\":1.0},\"hatch_color\":{\"value\":\"#30a2da\"},\"hatch_scale\":{\"value\":12.0},\"hatch_weight\":{\"value\":1.0},\"line_alpha\":{\"value\":1.0},\"line_cap\":{\"value\":\"butt\"},\"line_color\":{\"value\":\"#30a2da\"},\"line_dash\":{\"value\":[]},\"line_dash_offset\":{\"value\":0},\"line_join\":{\"value\":\"bevel\"},\"line_width\":{\"value\":1},\"marker\":{\"value\":\"circle\"},\"size\":{\"value\":5.477225575051661},\"x\":{\"field\":\"TotalCoinsMined_Scaled\"},\"y\":{\"field\":\"TotalCoinSupply_Scaled\"}},\"id\":\"1473\",\"type\":\"Scatter\"},{\"attributes\":{\"fill_alpha\":{\"value\":0.1},\"fill_color\":{\"value\":\"#e5ae38\"},\"hatch_alpha\":{\"value\":0.1},\"hatch_color\":{\"value\":\"#e5ae38\"},\"line_alpha\":{\"value\":0.1},\"line_color\":{\"value\":\"#e5ae38\"},\"size\":{\"value\":5.477225575051661},\"x\":{\"field\":\"TotalCoinsMined_Scaled\"},\"y\":{\"field\":\"TotalCoinSupply_Scaled\"}},\"id\":\"1500\",\"type\":\"Scatter\"},{\"attributes\":{},\"id\":\"1468\",\"type\":\"UnionRenderers\"},{\"attributes\":{\"end\":1.042857142857143,\"reset_end\":1.042857142857143,\"reset_start\":-0.04285714285714286,\"start\":-0.04285714285714286,\"tags\":[[[\"TotalCoinsMined_Scaled\",\"TotalCoinsMined_Scaled\",null]]]},\"id\":\"1411\",\"type\":\"Range1d\"},{\"attributes\":{\"tools\":[{\"id\":\"1413\"},{\"id\":\"1434\"},{\"id\":\"1435\"},{\"id\":\"1436\"},{\"id\":\"1437\"},{\"id\":\"1438\"}]},\"id\":\"1440\",\"type\":\"Toolbar\"},{\"attributes\":{\"coordinates\":null,\"data_source\":{\"id\":\"1520\"},\"glyph\":{\"id\":\"1523\"},\"group\":null,\"hover_glyph\":null,\"muted_glyph\":{\"id\":\"1525\"},\"nonselection_glyph\":{\"id\":\"1524\"},\"selection_glyph\":{\"id\":\"1545\"},\"view\":{\"id\":\"1527\"}},\"id\":\"1526\",\"type\":\"GlyphRenderer\"},{\"attributes\":{\"click_policy\":\"mute\",\"coordinates\":null,\"group\":null,\"items\":[{\"id\":\"1472\"},{\"id\":\"1494\"},{\"id\":\"1518\"},{\"id\":\"1544\"}],\"location\":[0,0],\"title\":\"Class\"},\"id\":\"1471\",\"type\":\"Legend\"},{\"attributes\":{},\"id\":\"1448\",\"type\":\"BasicTickFormatter\"},{\"attributes\":{\"bottom_units\":\"screen\",\"coordinates\":null,\"fill_alpha\":0.5,\"fill_color\":\"lightgrey\",\"group\":null,\"left_units\":\"screen\",\"level\":\"overlay\",\"line_alpha\":1.0,\"line_color\":\"black\",\"line_dash\":[4,4],\"line_width\":2,\"right_units\":\"screen\",\"syncable\":false,\"top_units\":\"screen\"},\"id\":\"1439\",\"type\":\"BoxAnnotation\"},{\"attributes\":{\"label\":{\"value\":\"0\"},\"renderers\":[{\"id\":\"1459\"}]},\"id\":\"1472\",\"type\":\"LegendItem\"},{\"attributes\":{\"coordinates\":null,\"data_source\":{\"id\":\"1496\"},\"glyph\":{\"id\":\"1499\"},\"group\":null,\"hover_glyph\":null,\"muted_glyph\":{\"id\":\"1501\"},\"nonselection_glyph\":{\"id\":\"1500\"},\"selection_glyph\":{\"id\":\"1519\"},\"view\":{\"id\":\"1503\"}},\"id\":\"1502\",\"type\":\"GlyphRenderer\"},{\"attributes\":{\"fill_color\":{\"value\":\"#6d904f\"},\"hatch_color\":{\"value\":\"#6d904f\"},\"line_color\":{\"value\":\"#6d904f\"},\"size\":{\"value\":5.477225575051661},\"x\":{\"field\":\"TotalCoinsMined_Scaled\"},\"y\":{\"field\":\"TotalCoinSupply_Scaled\"}},\"id\":\"1523\",\"type\":\"Scatter\"},{\"attributes\":{\"fill_alpha\":{\"value\":0.2},\"fill_color\":{\"value\":\"#fc4f30\"},\"hatch_alpha\":{\"value\":0.2},\"hatch_color\":{\"value\":\"#fc4f30\"},\"line_alpha\":{\"value\":0.2},\"line_color\":{\"value\":\"#fc4f30\"},\"size\":{\"value\":5.477225575051661},\"x\":{\"field\":\"TotalCoinsMined_Scaled\"},\"y\":{\"field\":\"TotalCoinSupply_Scaled\"}},\"id\":\"1479\",\"type\":\"Scatter\"},{\"attributes\":{\"fill_color\":{\"value\":\"#e5ae38\"},\"hatch_color\":{\"value\":\"#e5ae38\"},\"line_color\":{\"value\":\"#e5ae38\"},\"size\":{\"value\":5.477225575051661},\"x\":{\"field\":\"TotalCoinsMined_Scaled\"},\"y\":{\"field\":\"TotalCoinSupply_Scaled\"}},\"id\":\"1499\",\"type\":\"Scatter\"},{\"attributes\":{\"fill_alpha\":{\"value\":0.1},\"fill_color\":{\"value\":\"#fc4f30\"},\"hatch_alpha\":{\"value\":0.1},\"hatch_color\":{\"value\":\"#fc4f30\"},\"line_alpha\":{\"value\":0.1},\"line_color\":{\"value\":\"#fc4f30\"},\"size\":{\"value\":5.477225575051661},\"x\":{\"field\":\"TotalCoinsMined_Scaled\"},\"y\":{\"field\":\"TotalCoinSupply_Scaled\"}},\"id\":\"1478\",\"type\":\"Scatter\"},{\"attributes\":{\"source\":{\"id\":\"1520\"}},\"id\":\"1527\",\"type\":\"CDSView\"},{\"attributes\":{\"source\":{\"id\":\"1453\"}},\"id\":\"1460\",\"type\":\"CDSView\"},{\"attributes\":{\"data\":{\"Class\":[3,3,3,3,3],\"TotalCoinSupply_Scaled\":{\"__ndarray__\":\"vHmqQ26GSz+U9gZfmEx1P4RaKOGWizA/LEMc6+I2Gj/8qfHSTWJQPw==\",\"dtype\":\"float64\",\"order\":\"little\",\"shape\":[5]},\"TotalCoinsMined_Scaled\":{\"__ndarray__\":\"kKTF8kohRT+PWA2R2lNdP5wZJXiPEis/+0V+YL96Gj96Q0MFuIxQPw==\",\"dtype\":\"float64\",\"order\":\"little\",\"shape\":[5]}},\"selected\":{\"id\":\"1521\"},\"selection_policy\":{\"id\":\"1541\"}},\"id\":\"1520\",\"type\":\"ColumnDataSource\"},{\"attributes\":{\"callback\":null,\"renderers\":[{\"id\":\"1459\"},{\"id\":\"1480\"},{\"id\":\"1502\"},{\"id\":\"1526\"}],\"tags\":[\"hv_created\"],\"tooltips\":[[\"Class\",\"@{Class}\"],[\"TotalCoinsMined_Scaled\",\"@{TotalCoinsMined_Scaled}\"],[\"TotalCoinSupply_Scaled\",\"@{TotalCoinSupply_Scaled}\"]]},\"id\":\"1413\",\"type\":\"HoverTool\"},{\"attributes\":{\"margin\":[5,5,5,5],\"name\":\"HSpacer02386\",\"sizing_mode\":\"stretch_width\"},\"id\":\"1410\",\"type\":\"Spacer\"},{\"attributes\":{\"source\":{\"id\":\"1474\"}},\"id\":\"1481\",\"type\":\"CDSView\"},{\"attributes\":{},\"id\":\"1521\",\"type\":\"Selection\"},{\"attributes\":{\"data\":{\"Class\":[2],\"TotalCoinSupply_Scaled\":{\"__ndarray__\":\"rkfhehSu7z8=\",\"dtype\":\"float64\",\"order\":\"little\",\"shape\":[1]},\"TotalCoinsMined_Scaled\":{\"__ndarray__\":\"AAAAAAAA8D8=\",\"dtype\":\"float64\",\"order\":\"little\",\"shape\":[1]}},\"selected\":{\"id\":\"1497\"},\"selection_policy\":{\"id\":\"1515\"}},\"id\":\"1496\",\"type\":\"ColumnDataSource\"},{\"attributes\":{},\"id\":\"1454\",\"type\":\"Selection\"},{\"attributes\":{\"fill_alpha\":{\"value\":0.2},\"fill_color\":{\"value\":\"#6d904f\"},\"hatch_alpha\":{\"value\":0.2},\"hatch_color\":{\"value\":\"#6d904f\"},\"line_alpha\":{\"value\":0.2},\"line_color\":{\"value\":\"#6d904f\"},\"size\":{\"value\":5.477225575051661},\"x\":{\"field\":\"TotalCoinsMined_Scaled\"},\"y\":{\"field\":\"TotalCoinSupply_Scaled\"}},\"id\":\"1525\",\"type\":\"Scatter\"},{\"attributes\":{\"label\":{\"value\":\"1\"},\"renderers\":[{\"id\":\"1480\"}]},\"id\":\"1494\",\"type\":\"LegendItem\"},{\"attributes\":{},\"id\":\"1452\",\"type\":\"AllLabels\"},{\"attributes\":{},\"id\":\"1431\",\"type\":\"BasicTicker\"},{\"attributes\":{\"data\":{\"Class\":[1,1,1,1,1,1,1,1,1,1,1,1,1,1,1,1,1,1,1,1,1,1,1,1,1,1,1,1,1,1,1,1,1,1,1,1,1,1,1,1,1,1,1,1,1,1,1,1,1,1,1,1,1,1,1,1,1,1,1,1,1,1,1,1,1,1,1,1,1,1,1,1,1,1,1,1,1,1,1,1,1,1,1,1,1,1,1,1,1,1,1,1,1,1,1,1,1,1,1,1,1,1,1,1,1,1,1,1,1,1,1,1,1,1,1,1,1,1,1,1,1,1,1,1,1,1,1,1,1,1,1,1,1,1,1,1,1,1,1,1,1,1,1,1,1,1,1,1,1,1,1,1,1,1,1,1,1,1,1,1,1,1,1,1,1,1,1,1,1,1,1,1,1,1,1,1,1,1,1,1,1,1,1,1,1,1,1,1,1,1,1,1,1,1,1,1,1,1,1,1,1,1,1,1,1,1,1,1,1,1,1,1,1,1,1,1,1,1,1,1,1,1,1,1,1,1,1,1,1,1,1,1,1,1,1,1,1,1,1,1,1,1,1,1,1,1,1],\"TotalCoinSupply_Scaled\":{\"__ndarray__\":\"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\",\"dtype\":\"float64\",\"order\":\"little\",\"shape\":[247]},\"TotalCoinsMined_Scaled\":{\"__ndarray__\":\"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\",\"dtype\":\"float64\",\"order\":\"little\",\"shape\":[247]}},\"selected\":{\"id\":\"1475\"},\"selection_policy\":{\"id\":\"1491\"}},\"id\":\"1474\",\"type\":\"ColumnDataSource\"},{\"attributes\":{},\"id\":\"1491\",\"type\":\"UnionRenderers\"},{\"attributes\":{\"coordinates\":null,\"data_source\":{\"id\":\"1453\"},\"glyph\":{\"id\":\"1456\"},\"group\":null,\"hover_glyph\":null,\"muted_glyph\":{\"id\":\"1458\"},\"nonselection_glyph\":{\"id\":\"1457\"},\"selection_glyph\":{\"id\":\"1473\"},\"view\":{\"id\":\"1460\"}},\"id\":\"1459\",\"type\":\"GlyphRenderer\"},{\"attributes\":{},\"id\":\"1422\",\"type\":\"LinearScale\"},{\"attributes\":{\"coordinates\":null,\"group\":null,\"text_color\":\"black\",\"text_font_size\":\"12pt\"},\"id\":\"1418\",\"type\":\"Title\"},{\"attributes\":{\"angle\":{\"value\":0.0},\"fill_alpha\":{\"value\":1.0},\"fill_color\":{\"value\":\"#fc4f30\"},\"hatch_alpha\":{\"value\":1.0},\"hatch_color\":{\"value\":\"#fc4f30\"},\"hatch_scale\":{\"value\":12.0},\"hatch_weight\":{\"value\":1.0},\"line_alpha\":{\"value\":1.0},\"line_cap\":{\"value\":\"butt\"},\"line_color\":{\"value\":\"#fc4f30\"},\"line_dash\":{\"value\":[]},\"line_dash_offset\":{\"value\":0},\"line_join\":{\"value\":\"bevel\"},\"line_width\":{\"value\":1},\"marker\":{\"value\":\"circle\"},\"size\":{\"value\":5.477225575051661},\"x\":{\"field\":\"TotalCoinsMined_Scaled\"},\"y\":{\"field\":\"TotalCoinSupply_Scaled\"}},\"id\":\"1495\",\"type\":\"Scatter\"},{\"attributes\":{\"source\":{\"id\":\"1496\"}},\"id\":\"1503\",\"type\":\"CDSView\"},{\"attributes\":{\"axis\":{\"id\":\"1426\"},\"coordinates\":null,\"grid_line_color\":null,\"group\":null,\"ticker\":null},\"id\":\"1429\",\"type\":\"Grid\"},{\"attributes\":{},\"id\":\"1427\",\"type\":\"BasicTicker\"},{\"attributes\":{},\"id\":\"1451\",\"type\":\"BasicTickFormatter\"},{\"attributes\":{},\"id\":\"1424\",\"type\":\"LinearScale\"},{\"attributes\":{\"axis_label\":\"Total Cryptocurrency Coin Supply\",\"coordinates\":null,\"formatter\":{\"id\":\"1451\"},\"group\":null,\"major_label_policy\":{\"id\":\"1452\"},\"ticker\":{\"id\":\"1431\"}},\"id\":\"1430\",\"type\":\"LinearAxis\"},{\"attributes\":{\"axis_label\":\"Total Cryptocurrency Coins Mined\",\"coordinates\":null,\"formatter\":{\"id\":\"1448\"},\"group\":null,\"major_label_policy\":{\"id\":\"1449\"},\"ticker\":{\"id\":\"1427\"}},\"id\":\"1426\",\"type\":\"LinearAxis\"},{\"attributes\":{\"fill_color\":{\"value\":\"#fc4f30\"},\"hatch_color\":{\"value\":\"#fc4f30\"},\"line_color\":{\"value\":\"#fc4f30\"},\"size\":{\"value\":5.477225575051661},\"x\":{\"field\":\"TotalCoinsMined_Scaled\"},\"y\":{\"field\":\"TotalCoinSupply_Scaled\"}},\"id\":\"1477\",\"type\":\"Scatter\"},{\"attributes\":{\"fill_alpha\":{\"value\":0.2},\"fill_color\":{\"value\":\"#30a2da\"},\"hatch_alpha\":{\"value\":0.2},\"hatch_color\":{\"value\":\"#30a2da\"},\"line_alpha\":{\"value\":0.2},\"line_color\":{\"value\":\"#30a2da\"},\"size\":{\"value\":5.477225575051661},\"x\":{\"field\":\"TotalCoinsMined_Scaled\"},\"y\":{\"field\":\"TotalCoinSupply_Scaled\"}},\"id\":\"1458\",\"type\":\"Scatter\"},{\"attributes\":{\"axis\":{\"id\":\"1430\"},\"coordinates\":null,\"dimension\":1,\"grid_line_color\":null,\"group\":null,\"ticker\":null},\"id\":\"1433\",\"type\":\"Grid\"},{\"attributes\":{\"data\":{\"Class\":[0,0,0,0,0,0,0,0,0,0,0,0,0,0,0,0,0,0,0,0,0,0,0,0,0,0,0,0,0,0,0,0,0,0,0,0,0,0,0,0,0,0,0,0,0,0,0,0,0,0,0,0,0,0,0,0,0,0,0,0,0,0,0,0,0,0,0,0,0,0,0,0,0,0,0,0,0,0,0,0,0,0,0,0,0,0,0,0,0,0,0,0,0,0,0,0,0,0,0,0,0,0,0,0,0,0,0,0,0,0,0,0,0,0,0,0,0,0,0,0,0,0,0,0,0,0,0,0,0,0,0,0,0,0,0,0,0,0,0,0,0,0,0,0,0,0,0,0,0,0,0,0,0,0,0,0,0,0,0,0,0,0,0,0,0,0,0,0,0,0,0,0,0,0,0,0,0,0,0,0,0,0,0,0,0,0,0,0,0,0,0,0,0,0,0,0,0,0,0,0,0,0,0,0,0,0,0,0,0,0,0,0,0,0,0,0,0,0,0,0,0,0,0,0,0,0,0,0,0,0,0,0,0,0,0,0,0,0,0,0,0,0,0,0,0,0,0,0,0,0,0,0,0,0,0,0,0,0,0,0,0,0,0,0,0,0,0,0,0,0,0,0,0,0,0,0,0,0,0],\"TotalCoinSupply_Scaled\":{\"__ndarray__\":\"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\",\"dtype\":\"float64\",\"order\":\"little\",\"shape\":[279]},\"TotalCoinsMined_Scaled\":{\"__ndarray__\":\"khOeM70Z5z7l66IyYpsrP6JsVzvCVio/j6T3FZPB3D69xrZ1NWucPoY/nsDYjQM/w3Op81Co0j4SJeC9JgelP9bSmfnYDfs+1efNMZmp7D5yMj9ExgkAP/tFfmC/eho/clC9FaMN8D7CsEps9C7VPkVqsCithgE/j6uxX+B/ET/41RgF1Yb2PqXMCj0KI8E+cEzD1ck29z5pi0xWDNe3P2K6gsKnTCg/ES3DWi4R3j6usZO2/Wf4Plrd2J4tL8U+q0k3U4sUgz7u50V4sX0uP6CFXv7NxO4+SAVfHQtJnj9bwhuTX5yrPhuOVInTct0+fhwrH33sBz/Seo5zuNT5Pn4izOTEOgQ/wuYrlcHE3j7xOIGbr9oKP4T+AFYCMPI+EsKnts/51z721dyvE1CWPr1/oX2yGyA/E8yG1H7L9j42kgPjWksdP2KI3PAi4us+PBSCCNcL5j64w1Tpib+GP++PJgWS0CE/A/IJ6Umg6j5K5K5BpsrGPpUFDLPCQ7g+P3KSIt+muT6LmxGrrxXTPuanRel4hTE/2bdahaRt8z6Kjxo7yksAP1ZtDKPqaPQ+w+lGFrPm8T77kyPDCLLyPvRYj6HQSaY+Ypyz9GrHWz/MI0ph3w4wP4nBtdPqW0A/C5KNNNcu+T4owWx6L1XwPuLWzRFFQag+qyDjxRnNkT9jAAG9/agqPyMYZ3/U4jw/fb2YAaYh4z5doxA1Q7ITPlS9UGUMv0U/u+X6Flxewj4WN5ZE6rbZPi346mAUBBQ/pqRxDiJ88D46BVneRVPQPuGmB20PrNI+GJsR1eyKRT9MptGTM5ccPy0rqEb309w+v1E1+gARCT+aEdS4Bt20PjTIpVxJ45Q+ZajWlOYK6T4Kl7V81RnyPrZMGtKEGMw+XkgoC4FtzT6qCNVPxnyhP3Ww/lSIwcQ+/nKUS0y/4T6YlsPsJ3H1Pus1WKcNeec+/uCpGjNi+T7gl7DQ3R7nPgAAAAAAAAAAoSQJmqt/BD8u8B4U0RmFP/TH2vq5KeA+vKQ4Yabg9j58JpgkCCO0P0aEeyF8qLE+fSgBQ+vk1j6b+oRxCokcP0Y1wU0FPVc/0BICUEwV+z7w5ZzyEKmsPnSoVAx5CLQ+uGecINyxMT+Q31yKLO7kPuttXDi6ilE/RIhXsT3p4z7xsMY/B7CEPzi4r4Xmwzo/GCSU+ENwGz9bofnStK4wP5zTLIUWO1A/OcIUhBWh7z4fxlKrfsYPPyJpWr7XTe8+ZGM0MPpm5D6KKu/wfeKfP0BWWhkuw/U+YPWlPLqwjz+tHcn0sfjNPmOsZctQy/U+EmC21tEXLz/5z9m7pMPIPmoiHcIZv9Y+3NuJ+bR1sz4KXMIsCfKgPjKmZJqfiTM/QCN49mqf9j62fjNjnyAdP3pDQwW4jFA/wOPA2IUXAz+HGerC0dXhPuG6MXbZYh0/cKEqXilSdD93OzGI/o9DPwhHMQikOMU+ELOcZbFU8T6jQtQrAzfCPjQa6ZQatoI/OtFFwIrE8z6EUc3xJbL0PqB8WFRGy9E+MA/ITshUsz6untpX6Q+pP0IO5c1pZIE+AkyV+P4P4z7T/2cOhgaWP3L5DYJdey0/vHgiJTIj8T77RX5gv3oaP1ecpQYuoxc/+g4bzZKSPj/svR7o5R6jP+M/h2urbwU/i8x7BIOVEz8x8CVp8ZcjP+PlvJ9B9QA/XTih5TeV6D7NWTdK5t+4PmPUGyFpHyc/O+kaShDL/D59MjEropoKP1cDUAL0L1I/BrK0IJ1Snj/oqXRGKNwGP5NqdAMPSyA/fm6SX20RZz52AnWsNC3TPodD0Oqv6Uo/Y2BMhDkIRT9q4x6W3sABP0/+H/9UdCY/cMvi9YcERj+BQAw/UjXzPsR5KJfqb8A+QgF987fgxT77RX5gv3oaP+0vVvfrm7E+1UOnkYV2UT+TvP5BQUUQPyF6f0Up2xA/B3K8ML16+j6ruJV6oa9mP+ib2J7R6FE/gjD1VBlAlD8jMEysQqtNPyopGOdCmgE/xmRDFeu3BD+YkizpGcYTP1uz5TcMaek+SDE8EU+egj8HHHEKuIxgP3pDQwW4jFA/h/FpwmrXtT5CUqMh5F8YPzZJd6O4nQ4//Iv4sV61Wj+cQ8suWY6SP39hyEvMm9I+B3WXBL6fGj9rTh5jVovSPgDbBzkM6eU+ycQ2iXpnxT40JiyL080GP3lc7dd7QrQ+QPXFzhym8T7mgzl2NBjPPgjXjiTiutU+PPnzkHlN6j6eD3jiDS6kPoFhuAbER+Y+K8r/+wcExz5VKY49TIAiP+P3bPWLWPM+yLfFtXGzAj+HoWrpn30RPx9wp4i2QwA/NenvfYQB3j5y9oQbTOr8PqwxxcI7FNk+x4lPZ4v18T4H2XD9qWTAPtvAySsfAgA/cka5uWwm4j6ib5N/FnbnPqlU6KW+ego/51LeU9Mr9z7QJpJKht/yPsnvirEpENg+xGg1vBTC4z6RAFIr/S71PpEAUiv9LvU+S/YcU3ow0D5BXEdrkJoTP1eTWKvlIOg+/jSGyJGwIz9HFGw/nm0dP/WgsIfWkjo/s0VJGDmq4z56Q0MFuIxQP5jvW85a8tA+u9zKYeKn9T77RX5gv3oaPzmwzdTObwQ/xDTgUPke6j50v41fV9laPzHGVg8zmOE+e/z7ZVvRmj+k9GATf/yyPvxfgvURSss+Bh/umUwuKD+LFkmhrdSEP9oXMpkhNe0+5CrkUjys0T781THurqoQP74vR7jljUI/a6WLOuwP7D65S1yC81+dPz413kXkGBY/vMFAyZZr+T45rbWhQT7sPu6Jv2XDy9M+bxgeEAEAzD6JtguWvysMP9oOofWExOQ+ekNDBbiMUD9Fb5ScwuNQP8CrILqLRfM+EcJq2jeTUj8y4x8SUscfP7qKEQM8EjM/jJ8MEr+mHD+Tp6kxyxkLP+c6R5mU1ec+v8ZXknfP6T5+56xI8fTlPjwE+7nSlZc/\",\"dtype\":\"float64\",\"order\":\"little\",\"shape\":[279]}},\"selected\":{\"id\":\"1454\"},\"selection_policy\":{\"id\":\"1468\"}},\"id\":\"1453\",\"type\":\"ColumnDataSource\"},{\"attributes\":{\"angle\":{\"value\":0.0},\"fill_alpha\":{\"value\":1.0},\"fill_color\":{\"value\":\"#6d904f\"},\"hatch_alpha\":{\"value\":1.0},\"hatch_color\":{\"value\":\"#6d904f\"},\"hatch_scale\":{\"value\":12.0},\"hatch_weight\":{\"value\":1.0},\"line_alpha\":{\"value\":1.0},\"line_cap\":{\"value\":\"butt\"},\"line_color\":{\"value\":\"#6d904f\"},\"line_dash\":{\"value\":[]},\"line_dash_offset\":{\"value\":0},\"line_join\":{\"value\":\"bevel\"},\"line_width\":{\"value\":1},\"marker\":{\"value\":\"circle\"},\"size\":{\"value\":5.477225575051661},\"x\":{\"field\":\"TotalCoinsMined_Scaled\"},\"y\":{\"field\":\"TotalCoinSupply_Scaled\"}},\"id\":\"1545\",\"type\":\"Scatter\"},{\"attributes\":{\"children\":[{\"id\":\"1410\"},{\"id\":\"1417\"},{\"id\":\"1690\"}],\"margin\":[0,0,0,0],\"name\":\"Row02382\",\"tags\":[\"embedded\"]},\"id\":\"1409\",\"type\":\"Row\"},{\"attributes\":{\"coordinates\":null,\"data_source\":{\"id\":\"1474\"},\"glyph\":{\"id\":\"1477\"},\"group\":null,\"hover_glyph\":null,\"muted_glyph\":{\"id\":\"1479\"},\"nonselection_glyph\":{\"id\":\"1478\"},\"selection_glyph\":{\"id\":\"1495\"},\"view\":{\"id\":\"1481\"}},\"id\":\"1480\",\"type\":\"GlyphRenderer\"},{\"attributes\":{},\"id\":\"1497\",\"type\":\"Selection\"},{\"attributes\":{\"fill_alpha\":{\"value\":0.1},\"fill_color\":{\"value\":\"#6d904f\"},\"hatch_alpha\":{\"value\":0.1},\"hatch_color\":{\"value\":\"#6d904f\"},\"line_alpha\":{\"value\":0.1},\"line_color\":{\"value\":\"#6d904f\"},\"size\":{\"value\":5.477225575051661},\"x\":{\"field\":\"TotalCoinsMined_Scaled\"},\"y\":{\"field\":\"TotalCoinSupply_Scaled\"}},\"id\":\"1524\",\"type\":\"Scatter\"},{\"attributes\":{},\"id\":\"1475\",\"type\":\"Selection\"},{\"attributes\":{},\"id\":\"1434\",\"type\":\"SaveTool\"},{\"attributes\":{},\"id\":\"1435\",\"type\":\"PanTool\"},{\"attributes\":{\"overlay\":{\"id\":\"1439\"}},\"id\":\"1437\",\"type\":\"BoxZoomTool\"},{\"attributes\":{\"label\":{\"value\":\"2\"},\"renderers\":[{\"id\":\"1502\"}]},\"id\":\"1518\",\"type\":\"LegendItem\"},{\"attributes\":{\"below\":[{\"id\":\"1426\"}],\"center\":[{\"id\":\"1429\"},{\"id\":\"1433\"}],\"height\":300,\"left\":[{\"id\":\"1430\"}],\"margin\":[5,5,5,5],\"min_border_bottom\":10,\"min_border_left\":10,\"min_border_right\":10,\"min_border_top\":10,\"renderers\":[{\"id\":\"1459\"},{\"id\":\"1480\"},{\"id\":\"1502\"},{\"id\":\"1526\"}],\"right\":[{\"id\":\"1471\"}],\"sizing_mode\":\"fixed\",\"title\":{\"id\":\"1418\"},\"toolbar\":{\"id\":\"1440\"},\"width\":700,\"x_range\":{\"id\":\"1411\"},\"x_scale\":{\"id\":\"1422\"},\"y_range\":{\"id\":\"1412\"},\"y_scale\":{\"id\":\"1424\"}},\"id\":\"1417\",\"subtype\":\"Figure\",\"type\":\"Plot\"},{\"attributes\":{\"label\":{\"value\":\"3\"},\"renderers\":[{\"id\":\"1526\"}]},\"id\":\"1544\",\"type\":\"LegendItem\"},{\"attributes\":{},\"id\":\"1515\",\"type\":\"UnionRenderers\"},{\"attributes\":{},\"id\":\"1436\",\"type\":\"WheelZoomTool\"},{\"attributes\":{},\"id\":\"1449\",\"type\":\"AllLabels\"},{\"attributes\":{},\"id\":\"1541\",\"type\":\"UnionRenderers\"},{\"attributes\":{\"fill_color\":{\"value\":\"#30a2da\"},\"hatch_color\":{\"value\":\"#30a2da\"},\"line_color\":{\"value\":\"#30a2da\"},\"size\":{\"value\":5.477225575051661},\"x\":{\"field\":\"TotalCoinsMined_Scaled\"},\"y\":{\"field\":\"TotalCoinSupply_Scaled\"}},\"id\":\"1456\",\"type\":\"Scatter\"},{\"attributes\":{\"margin\":[5,5,5,5],\"name\":\"HSpacer02387\",\"sizing_mode\":\"stretch_width\"},\"id\":\"1690\",\"type\":\"Spacer\"},{\"attributes\":{\"fill_alpha\":{\"value\":0.1},\"fill_color\":{\"value\":\"#30a2da\"},\"hatch_alpha\":{\"value\":0.1},\"hatch_color\":{\"value\":\"#30a2da\"},\"line_alpha\":{\"value\":0.1},\"line_color\":{\"value\":\"#30a2da\"},\"size\":{\"value\":5.477225575051661},\"x\":{\"field\":\"TotalCoinsMined_Scaled\"},\"y\":{\"field\":\"TotalCoinSupply_Scaled\"}},\"id\":\"1457\",\"type\":\"Scatter\"},{\"attributes\":{\"angle\":{\"value\":0.0},\"fill_alpha\":{\"value\":1.0},\"fill_color\":{\"value\":\"#e5ae38\"},\"hatch_alpha\":{\"value\":1.0},\"hatch_color\":{\"value\":\"#e5ae38\"},\"hatch_scale\":{\"value\":12.0},\"hatch_weight\":{\"value\":1.0},\"line_alpha\":{\"value\":1.0},\"line_cap\":{\"value\":\"butt\"},\"line_color\":{\"value\":\"#e5ae38\"},\"line_dash\":{\"value\":[]},\"line_dash_offset\":{\"value\":0},\"line_join\":{\"value\":\"bevel\"},\"line_width\":{\"value\":1},\"marker\":{\"value\":\"circle\"},\"size\":{\"value\":5.477225575051661},\"x\":{\"field\":\"TotalCoinsMined_Scaled\"},\"y\":{\"field\":\"TotalCoinSupply_Scaled\"}},\"id\":\"1519\",\"type\":\"Scatter\"},{\"attributes\":{\"fill_alpha\":{\"value\":0.2},\"fill_color\":{\"value\":\"#e5ae38\"},\"hatch_alpha\":{\"value\":0.2},\"hatch_color\":{\"value\":\"#e5ae38\"},\"line_alpha\":{\"value\":0.2},\"line_color\":{\"value\":\"#e5ae38\"},\"size\":{\"value\":5.477225575051661},\"x\":{\"field\":\"TotalCoinsMined_Scaled\"},\"y\":{\"field\":\"TotalCoinSupply_Scaled\"}},\"id\":\"1501\",\"type\":\"Scatter\"},{\"attributes\":{\"end\":1.1,\"reset_end\":1.1,\"reset_start\":-0.1,\"start\":-0.1,\"tags\":[[[\"TotalCoinSupply_Scaled\",\"TotalCoinSupply_Scaled\",null]]]},\"id\":\"1412\",\"type\":\"Range1d\"}],\"root_ids\":[\"1409\"]},\"title\":\"Bokeh Application\",\"version\":\"2.4.2\"}};\n",
       "    var render_items = [{\"docid\":\"ce9e030a-69b4-41c8-853a-f14367bf46fd\",\"root_ids\":[\"1409\"],\"roots\":{\"1409\":\"c7403976-7dea-49ce-9b7b-d4fee1f904c0\"}}];\n",
       "    root.Bokeh.embed.embed_items_notebook(docs_json, render_items);\n",
       "  }\n",
       "  if (root.Bokeh !== undefined && root.Bokeh.Panel !== undefined) {\n",
       "    embed_document(root);\n",
       "  } else {\n",
       "    var attempts = 0;\n",
       "    var timer = setInterval(function(root) {\n",
       "      if (root.Bokeh !== undefined && root.Bokeh.Panel !== undefined) {\n",
       "        clearInterval(timer);\n",
       "        embed_document(root);\n",
       "      } else if (document.readyState == \"complete\") {\n",
       "        attempts++;\n",
       "        if (attempts > 200) {\n",
       "          clearInterval(timer);\n",
       "          console.log(\"Bokeh: ERROR: Unable to run BokehJS code because BokehJS library is missing\");\n",
       "        }\n",
       "      }\n",
       "    }, 25, root)\n",
       "  }\n",
       "})(window);</script>"
      ],
      "text/plain": [
       ":NdOverlay   [Class]\n",
       "   :Scatter   [TotalCoinsMined_Scaled]   (TotalCoinSupply_Scaled)"
      ]
     },
     "execution_count": 130,
     "metadata": {
      "application/vnd.holoviews_exec.v0+json": {
       "id": "1409"
      }
     },
     "output_type": "execute_result"
    }
   ],
   "source": [
    "# Create a hvplot.scatter plot using x=\"TotalCoinsMined\" and y=\"TotalCoinSupply\".\n",
    "plot_df.hvplot.scatter(x=\"TotalCoinsMined_Scaled\", y=\"TotalCoinSupply_Scaled\", by=\"Class\",\n",
    "                          xlabel=\"Total Cryptocurrency Coins Mined\",\n",
    "                          ylabel=\"Total Cryptocurrency Coin Supply\",\n",
    "                          )\n"
   ]
  },
  {
   "cell_type": "code",
   "execution_count": null,
   "metadata": {},
   "outputs": [],
   "source": []
  }
 ],
 "metadata": {
  "file_extension": ".py",
  "kernelspec": {
   "display_name": "PythonData",
   "language": "python",
   "name": "pythondata"
  },
  "language_info": {
   "codemirror_mode": {
    "name": "ipython",
    "version": 3
   },
   "file_extension": ".py",
   "mimetype": "text/x-python",
   "name": "python",
   "nbconvert_exporter": "python",
   "pygments_lexer": "ipython3",
   "version": "3.7.11"
  },
  "latex_envs": {
   "LaTeX_envs_menu_present": true,
   "autoclose": false,
   "autocomplete": true,
   "bibliofile": "biblio.bib",
   "cite_by": "apalike",
   "current_citInitial": 1,
   "eqLabelWithNumbers": true,
   "eqNumInitial": 1,
   "hotkeys": {
    "equation": "Ctrl-E",
    "itemize": "Ctrl-I"
   },
   "labels_anchors": false,
   "latex_user_defs": false,
   "report_style_numbering": false,
   "user_envs_cfg": false
  },
  "mimetype": "text/x-python",
  "name": "python",
  "npconvert_exporter": "python",
  "pygments_lexer": "ipython3",
  "version": 3
 },
 "nbformat": 4,
 "nbformat_minor": 2
}
